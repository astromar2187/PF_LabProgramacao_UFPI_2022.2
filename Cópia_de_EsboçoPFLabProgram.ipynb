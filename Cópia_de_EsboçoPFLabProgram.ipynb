{
  "nbformat": 4,
  "nbformat_minor": 0,
  "metadata": {
    "colab": {
      "provenance": [],
      "include_colab_link": true
    },
    "kernelspec": {
      "name": "python3",
      "display_name": "Python 3"
    },
    "language_info": {
      "name": "python"
    }
  },
  "cells": [
    {
      "cell_type": "markdown",
      "metadata": {
        "id": "view-in-github",
        "colab_type": "text"
      },
      "source": [
        "<a href=\"https://colab.research.google.com/github/astromar2187/PF_LabProgramacao_UFPI_2022.2/blob/main/C%C3%B3pia_de_Esbo%C3%A7oPFLabProgram.ipynb\" target=\"_parent\"><img src=\"https://colab.research.google.com/assets/colab-badge.svg\" alt=\"Open In Colab\"/></a>"
      ]
    },
    {
      "cell_type": "markdown",
      "source": [
        "Importando as bibliotecas:"
      ],
      "metadata": {
        "id": "O-ROtrzdOZG3"
      }
    },
    {
      "cell_type": "code",
      "execution_count": 2,
      "metadata": {
        "id": "VX377ac6FAIi"
      },
      "outputs": [],
      "source": [
        "import pandas as pd\n",
        "import matplotlib.pyplot as plt\n",
        "import numpy as np\n",
        "import seaborn as sns\n",
        "from tabulate import tabulate\n"
      ]
    },
    {
      "cell_type": "markdown",
      "source": [
        "Lendo o arquivo csv:"
      ],
      "metadata": {
        "id": "roxVosevOgvL"
      }
    },
    {
      "cell_type": "code",
      "source": [
        "tabela_redwine = pd.read_csv('/content/winequality-red.csv', sep=';')"
      ],
      "metadata": {
        "id": "F6E5f26O9qRz"
      },
      "execution_count": 3,
      "outputs": []
    },
    {
      "cell_type": "markdown",
      "source": [
        "Garantindo que todas as colunas serão mostradas:"
      ],
      "metadata": {
        "id": "gKK3-4zpOleZ"
      }
    },
    {
      "cell_type": "code",
      "source": [
        "pd.options.display.max_columns = None"
      ],
      "metadata": {
        "id": "sf1nyAhr9-4H"
      },
      "execution_count": 4,
      "outputs": []
    },
    {
      "cell_type": "markdown",
      "source": [
        "Imprimindo as primeiras 10 linhas:"
      ],
      "metadata": {
        "id": "YmDeyoE5Os9l"
      }
    },
    {
      "cell_type": "code",
      "source": [
        "tabela_redwine.head(10)\n"
      ],
      "metadata": {
        "colab": {
          "base_uri": "https://localhost:8080/",
          "height": 363
        },
        "id": "qqiKLFQH-KO6",
        "outputId": "7e045de8-d149-4875-8d4f-e68ee490e988"
      },
      "execution_count": 5,
      "outputs": [
        {
          "output_type": "execute_result",
          "data": {
            "text/plain": [
              "   fixed acidity  volatile acidity  citric acid  residual sugar  chlorides  \\\n",
              "0            7.4              0.70         0.00             1.9      0.076   \n",
              "1            7.8              0.88         0.00             2.6      0.098   \n",
              "2            7.8              0.76         0.04             2.3      0.092   \n",
              "3           11.2              0.28         0.56             1.9      0.075   \n",
              "4            7.4              0.70         0.00             1.9      0.076   \n",
              "5            7.4              0.66         0.00             1.8      0.075   \n",
              "6            7.9              0.60         0.06             1.6      0.069   \n",
              "7            7.3              0.65         0.00             1.2      0.065   \n",
              "8            7.8              0.58         0.02             2.0      0.073   \n",
              "9            7.5              0.50         0.36             6.1      0.071   \n",
              "\n",
              "   free sulfur dioxide  total sulfur dioxide  density    pH  sulphates  \\\n",
              "0                 11.0                  34.0   0.9978  3.51       0.56   \n",
              "1                 25.0                  67.0   0.9968  3.20       0.68   \n",
              "2                 15.0                  54.0   0.9970  3.26       0.65   \n",
              "3                 17.0                  60.0   0.9980  3.16       0.58   \n",
              "4                 11.0                  34.0   0.9978  3.51       0.56   \n",
              "5                 13.0                  40.0   0.9978  3.51       0.56   \n",
              "6                 15.0                  59.0   0.9964  3.30       0.46   \n",
              "7                 15.0                  21.0   0.9946  3.39       0.47   \n",
              "8                  9.0                  18.0   0.9968  3.36       0.57   \n",
              "9                 17.0                 102.0   0.9978  3.35       0.80   \n",
              "\n",
              "   alcohol  quality  \n",
              "0      9.4        5  \n",
              "1      9.8        5  \n",
              "2      9.8        5  \n",
              "3      9.8        6  \n",
              "4      9.4        5  \n",
              "5      9.4        5  \n",
              "6      9.4        5  \n",
              "7     10.0        7  \n",
              "8      9.5        7  \n",
              "9     10.5        5  "
            ],
            "text/html": [
              "\n",
              "  <div id=\"df-0ec472ff-e37f-4c13-b9e5-7350c96767da\">\n",
              "    <div class=\"colab-df-container\">\n",
              "      <div>\n",
              "<style scoped>\n",
              "    .dataframe tbody tr th:only-of-type {\n",
              "        vertical-align: middle;\n",
              "    }\n",
              "\n",
              "    .dataframe tbody tr th {\n",
              "        vertical-align: top;\n",
              "    }\n",
              "\n",
              "    .dataframe thead th {\n",
              "        text-align: right;\n",
              "    }\n",
              "</style>\n",
              "<table border=\"1\" class=\"dataframe\">\n",
              "  <thead>\n",
              "    <tr style=\"text-align: right;\">\n",
              "      <th></th>\n",
              "      <th>fixed acidity</th>\n",
              "      <th>volatile acidity</th>\n",
              "      <th>citric acid</th>\n",
              "      <th>residual sugar</th>\n",
              "      <th>chlorides</th>\n",
              "      <th>free sulfur dioxide</th>\n",
              "      <th>total sulfur dioxide</th>\n",
              "      <th>density</th>\n",
              "      <th>pH</th>\n",
              "      <th>sulphates</th>\n",
              "      <th>alcohol</th>\n",
              "      <th>quality</th>\n",
              "    </tr>\n",
              "  </thead>\n",
              "  <tbody>\n",
              "    <tr>\n",
              "      <th>0</th>\n",
              "      <td>7.4</td>\n",
              "      <td>0.70</td>\n",
              "      <td>0.00</td>\n",
              "      <td>1.9</td>\n",
              "      <td>0.076</td>\n",
              "      <td>11.0</td>\n",
              "      <td>34.0</td>\n",
              "      <td>0.9978</td>\n",
              "      <td>3.51</td>\n",
              "      <td>0.56</td>\n",
              "      <td>9.4</td>\n",
              "      <td>5</td>\n",
              "    </tr>\n",
              "    <tr>\n",
              "      <th>1</th>\n",
              "      <td>7.8</td>\n",
              "      <td>0.88</td>\n",
              "      <td>0.00</td>\n",
              "      <td>2.6</td>\n",
              "      <td>0.098</td>\n",
              "      <td>25.0</td>\n",
              "      <td>67.0</td>\n",
              "      <td>0.9968</td>\n",
              "      <td>3.20</td>\n",
              "      <td>0.68</td>\n",
              "      <td>9.8</td>\n",
              "      <td>5</td>\n",
              "    </tr>\n",
              "    <tr>\n",
              "      <th>2</th>\n",
              "      <td>7.8</td>\n",
              "      <td>0.76</td>\n",
              "      <td>0.04</td>\n",
              "      <td>2.3</td>\n",
              "      <td>0.092</td>\n",
              "      <td>15.0</td>\n",
              "      <td>54.0</td>\n",
              "      <td>0.9970</td>\n",
              "      <td>3.26</td>\n",
              "      <td>0.65</td>\n",
              "      <td>9.8</td>\n",
              "      <td>5</td>\n",
              "    </tr>\n",
              "    <tr>\n",
              "      <th>3</th>\n",
              "      <td>11.2</td>\n",
              "      <td>0.28</td>\n",
              "      <td>0.56</td>\n",
              "      <td>1.9</td>\n",
              "      <td>0.075</td>\n",
              "      <td>17.0</td>\n",
              "      <td>60.0</td>\n",
              "      <td>0.9980</td>\n",
              "      <td>3.16</td>\n",
              "      <td>0.58</td>\n",
              "      <td>9.8</td>\n",
              "      <td>6</td>\n",
              "    </tr>\n",
              "    <tr>\n",
              "      <th>4</th>\n",
              "      <td>7.4</td>\n",
              "      <td>0.70</td>\n",
              "      <td>0.00</td>\n",
              "      <td>1.9</td>\n",
              "      <td>0.076</td>\n",
              "      <td>11.0</td>\n",
              "      <td>34.0</td>\n",
              "      <td>0.9978</td>\n",
              "      <td>3.51</td>\n",
              "      <td>0.56</td>\n",
              "      <td>9.4</td>\n",
              "      <td>5</td>\n",
              "    </tr>\n",
              "    <tr>\n",
              "      <th>5</th>\n",
              "      <td>7.4</td>\n",
              "      <td>0.66</td>\n",
              "      <td>0.00</td>\n",
              "      <td>1.8</td>\n",
              "      <td>0.075</td>\n",
              "      <td>13.0</td>\n",
              "      <td>40.0</td>\n",
              "      <td>0.9978</td>\n",
              "      <td>3.51</td>\n",
              "      <td>0.56</td>\n",
              "      <td>9.4</td>\n",
              "      <td>5</td>\n",
              "    </tr>\n",
              "    <tr>\n",
              "      <th>6</th>\n",
              "      <td>7.9</td>\n",
              "      <td>0.60</td>\n",
              "      <td>0.06</td>\n",
              "      <td>1.6</td>\n",
              "      <td>0.069</td>\n",
              "      <td>15.0</td>\n",
              "      <td>59.0</td>\n",
              "      <td>0.9964</td>\n",
              "      <td>3.30</td>\n",
              "      <td>0.46</td>\n",
              "      <td>9.4</td>\n",
              "      <td>5</td>\n",
              "    </tr>\n",
              "    <tr>\n",
              "      <th>7</th>\n",
              "      <td>7.3</td>\n",
              "      <td>0.65</td>\n",
              "      <td>0.00</td>\n",
              "      <td>1.2</td>\n",
              "      <td>0.065</td>\n",
              "      <td>15.0</td>\n",
              "      <td>21.0</td>\n",
              "      <td>0.9946</td>\n",
              "      <td>3.39</td>\n",
              "      <td>0.47</td>\n",
              "      <td>10.0</td>\n",
              "      <td>7</td>\n",
              "    </tr>\n",
              "    <tr>\n",
              "      <th>8</th>\n",
              "      <td>7.8</td>\n",
              "      <td>0.58</td>\n",
              "      <td>0.02</td>\n",
              "      <td>2.0</td>\n",
              "      <td>0.073</td>\n",
              "      <td>9.0</td>\n",
              "      <td>18.0</td>\n",
              "      <td>0.9968</td>\n",
              "      <td>3.36</td>\n",
              "      <td>0.57</td>\n",
              "      <td>9.5</td>\n",
              "      <td>7</td>\n",
              "    </tr>\n",
              "    <tr>\n",
              "      <th>9</th>\n",
              "      <td>7.5</td>\n",
              "      <td>0.50</td>\n",
              "      <td>0.36</td>\n",
              "      <td>6.1</td>\n",
              "      <td>0.071</td>\n",
              "      <td>17.0</td>\n",
              "      <td>102.0</td>\n",
              "      <td>0.9978</td>\n",
              "      <td>3.35</td>\n",
              "      <td>0.80</td>\n",
              "      <td>10.5</td>\n",
              "      <td>5</td>\n",
              "    </tr>\n",
              "  </tbody>\n",
              "</table>\n",
              "</div>\n",
              "      <button class=\"colab-df-convert\" onclick=\"convertToInteractive('df-0ec472ff-e37f-4c13-b9e5-7350c96767da')\"\n",
              "              title=\"Convert this dataframe to an interactive table.\"\n",
              "              style=\"display:none;\">\n",
              "        \n",
              "  <svg xmlns=\"http://www.w3.org/2000/svg\" height=\"24px\"viewBox=\"0 0 24 24\"\n",
              "       width=\"24px\">\n",
              "    <path d=\"M0 0h24v24H0V0z\" fill=\"none\"/>\n",
              "    <path d=\"M18.56 5.44l.94 2.06.94-2.06 2.06-.94-2.06-.94-.94-2.06-.94 2.06-2.06.94zm-11 1L8.5 8.5l.94-2.06 2.06-.94-2.06-.94L8.5 2.5l-.94 2.06-2.06.94zm10 10l.94 2.06.94-2.06 2.06-.94-2.06-.94-.94-2.06-.94 2.06-2.06.94z\"/><path d=\"M17.41 7.96l-1.37-1.37c-.4-.4-.92-.59-1.43-.59-.52 0-1.04.2-1.43.59L10.3 9.45l-7.72 7.72c-.78.78-.78 2.05 0 2.83L4 21.41c.39.39.9.59 1.41.59.51 0 1.02-.2 1.41-.59l7.78-7.78 2.81-2.81c.8-.78.8-2.07 0-2.86zM5.41 20L4 18.59l7.72-7.72 1.47 1.35L5.41 20z\"/>\n",
              "  </svg>\n",
              "      </button>\n",
              "      \n",
              "  <style>\n",
              "    .colab-df-container {\n",
              "      display:flex;\n",
              "      flex-wrap:wrap;\n",
              "      gap: 12px;\n",
              "    }\n",
              "\n",
              "    .colab-df-convert {\n",
              "      background-color: #E8F0FE;\n",
              "      border: none;\n",
              "      border-radius: 50%;\n",
              "      cursor: pointer;\n",
              "      display: none;\n",
              "      fill: #1967D2;\n",
              "      height: 32px;\n",
              "      padding: 0 0 0 0;\n",
              "      width: 32px;\n",
              "    }\n",
              "\n",
              "    .colab-df-convert:hover {\n",
              "      background-color: #E2EBFA;\n",
              "      box-shadow: 0px 1px 2px rgba(60, 64, 67, 0.3), 0px 1px 3px 1px rgba(60, 64, 67, 0.15);\n",
              "      fill: #174EA6;\n",
              "    }\n",
              "\n",
              "    [theme=dark] .colab-df-convert {\n",
              "      background-color: #3B4455;\n",
              "      fill: #D2E3FC;\n",
              "    }\n",
              "\n",
              "    [theme=dark] .colab-df-convert:hover {\n",
              "      background-color: #434B5C;\n",
              "      box-shadow: 0px 1px 3px 1px rgba(0, 0, 0, 0.15);\n",
              "      filter: drop-shadow(0px 1px 2px rgba(0, 0, 0, 0.3));\n",
              "      fill: #FFFFFF;\n",
              "    }\n",
              "  </style>\n",
              "\n",
              "      <script>\n",
              "        const buttonEl =\n",
              "          document.querySelector('#df-0ec472ff-e37f-4c13-b9e5-7350c96767da button.colab-df-convert');\n",
              "        buttonEl.style.display =\n",
              "          google.colab.kernel.accessAllowed ? 'block' : 'none';\n",
              "\n",
              "        async function convertToInteractive(key) {\n",
              "          const element = document.querySelector('#df-0ec472ff-e37f-4c13-b9e5-7350c96767da');\n",
              "          const dataTable =\n",
              "            await google.colab.kernel.invokeFunction('convertToInteractive',\n",
              "                                                     [key], {});\n",
              "          if (!dataTable) return;\n",
              "\n",
              "          const docLinkHtml = 'Like what you see? Visit the ' +\n",
              "            '<a target=\"_blank\" href=https://colab.research.google.com/notebooks/data_table.ipynb>data table notebook</a>'\n",
              "            + ' to learn more about interactive tables.';\n",
              "          element.innerHTML = '';\n",
              "          dataTable['output_type'] = 'display_data';\n",
              "          await google.colab.output.renderOutput(dataTable, element);\n",
              "          const docLink = document.createElement('div');\n",
              "          docLink.innerHTML = docLinkHtml;\n",
              "          element.appendChild(docLink);\n",
              "        }\n",
              "      </script>\n",
              "    </div>\n",
              "  </div>\n",
              "  "
            ]
          },
          "metadata": {},
          "execution_count": 5
        }
      ]
    },
    {
      "cell_type": "markdown",
      "source": [
        "Dimensões da tabela: (linhas, colunas)"
      ],
      "metadata": {
        "id": "M2G3hAfQOy8h"
      }
    },
    {
      "cell_type": "code",
      "source": [
        "tabela_redwine.shape"
      ],
      "metadata": {
        "colab": {
          "base_uri": "https://localhost:8080/"
        },
        "id": "36yNotUWAqOR",
        "outputId": "d5b91f5d-5731-4658-9c47-249df728c932"
      },
      "execution_count": 6,
      "outputs": [
        {
          "output_type": "execute_result",
          "data": {
            "text/plain": [
              "(1599, 12)"
            ]
          },
          "metadata": {},
          "execution_count": 6
        }
      ]
    },
    {
      "cell_type": "markdown",
      "source": [
        "Informações básicas sobre a tabela: contem o indice, o nome, a quantidade de dados não nulos e o tipo de dado de cada coluna. Como nenhuma coluna possui numero de dados não-nulos menor que a quantidade total de linhas da coluna, conclui-se que não existem dados nulos em nenhuma coluna. Essa, porém, é uma informação antecipada ao fazer o dowload do dataset."
      ],
      "metadata": {
        "id": "onyJ27mWO4UT"
      }
    },
    {
      "cell_type": "code",
      "source": [
        "tabela_redwine.info()"
      ],
      "metadata": {
        "colab": {
          "base_uri": "https://localhost:8080/"
        },
        "id": "_7QVOLHcd-R3",
        "outputId": "61325782-7fca-4461-92ed-04d4e173115a"
      },
      "execution_count": 7,
      "outputs": [
        {
          "output_type": "stream",
          "name": "stdout",
          "text": [
            "<class 'pandas.core.frame.DataFrame'>\n",
            "RangeIndex: 1599 entries, 0 to 1598\n",
            "Data columns (total 12 columns):\n",
            " #   Column                Non-Null Count  Dtype  \n",
            "---  ------                --------------  -----  \n",
            " 0   fixed acidity         1599 non-null   float64\n",
            " 1   volatile acidity      1599 non-null   float64\n",
            " 2   citric acid           1599 non-null   float64\n",
            " 3   residual sugar        1599 non-null   float64\n",
            " 4   chlorides             1599 non-null   float64\n",
            " 5   free sulfur dioxide   1599 non-null   float64\n",
            " 6   total sulfur dioxide  1599 non-null   float64\n",
            " 7   density               1599 non-null   float64\n",
            " 8   pH                    1599 non-null   float64\n",
            " 9   sulphates             1599 non-null   float64\n",
            " 10  alcohol               1599 non-null   float64\n",
            " 11  quality               1599 non-null   int64  \n",
            "dtypes: float64(11), int64(1)\n",
            "memory usage: 150.0 KB\n"
          ]
        }
      ]
    },
    {
      "cell_type": "markdown",
      "source": [
        "Já o método describe faz um resumo ainda simples, mas mais detalhado que o anterior. Aqui, obtemos de cada coluna, respectivamente: contagem total de linhas, média dos valores da coluna, o desvio padrão, o valor minimo, os quartis da distribuição e o valor máximo:"
      ],
      "metadata": {
        "id": "TSClzXTJRyOo"
      }
    },
    {
      "cell_type": "code",
      "source": [
        "tabela_redwine.describe()"
      ],
      "metadata": {
        "colab": {
          "base_uri": "https://localhost:8080/",
          "height": 361
        },
        "id": "t1UFXRh_r8mx",
        "outputId": "0afaec9d-54f8-4cb4-dff8-2769904518cf"
      },
      "execution_count": 8,
      "outputs": [
        {
          "output_type": "execute_result",
          "data": {
            "text/plain": [
              "       fixed acidity  volatile acidity  citric acid  residual sugar  \\\n",
              "count    1599.000000       1599.000000  1599.000000     1599.000000   \n",
              "mean        8.319637          0.527821     0.270976        2.538806   \n",
              "std         1.741096          0.179060     0.194801        1.409928   \n",
              "min         4.600000          0.120000     0.000000        0.900000   \n",
              "25%         7.100000          0.390000     0.090000        1.900000   \n",
              "50%         7.900000          0.520000     0.260000        2.200000   \n",
              "75%         9.200000          0.640000     0.420000        2.600000   \n",
              "max        15.900000          1.580000     1.000000       15.500000   \n",
              "\n",
              "         chlorides  free sulfur dioxide  total sulfur dioxide      density  \\\n",
              "count  1599.000000          1599.000000           1599.000000  1599.000000   \n",
              "mean      0.087467            15.874922             46.467792     0.996747   \n",
              "std       0.047065            10.460157             32.895324     0.001887   \n",
              "min       0.012000             1.000000              6.000000     0.990070   \n",
              "25%       0.070000             7.000000             22.000000     0.995600   \n",
              "50%       0.079000            14.000000             38.000000     0.996750   \n",
              "75%       0.090000            21.000000             62.000000     0.997835   \n",
              "max       0.611000            72.000000            289.000000     1.003690   \n",
              "\n",
              "                pH    sulphates      alcohol      quality  \n",
              "count  1599.000000  1599.000000  1599.000000  1599.000000  \n",
              "mean      3.311113     0.658149    10.422983     5.636023  \n",
              "std       0.154386     0.169507     1.065668     0.807569  \n",
              "min       2.740000     0.330000     8.400000     3.000000  \n",
              "25%       3.210000     0.550000     9.500000     5.000000  \n",
              "50%       3.310000     0.620000    10.200000     6.000000  \n",
              "75%       3.400000     0.730000    11.100000     6.000000  \n",
              "max       4.010000     2.000000    14.900000     8.000000  "
            ],
            "text/html": [
              "\n",
              "  <div id=\"df-8a168842-817a-40f0-988e-1e5cbb362d35\">\n",
              "    <div class=\"colab-df-container\">\n",
              "      <div>\n",
              "<style scoped>\n",
              "    .dataframe tbody tr th:only-of-type {\n",
              "        vertical-align: middle;\n",
              "    }\n",
              "\n",
              "    .dataframe tbody tr th {\n",
              "        vertical-align: top;\n",
              "    }\n",
              "\n",
              "    .dataframe thead th {\n",
              "        text-align: right;\n",
              "    }\n",
              "</style>\n",
              "<table border=\"1\" class=\"dataframe\">\n",
              "  <thead>\n",
              "    <tr style=\"text-align: right;\">\n",
              "      <th></th>\n",
              "      <th>fixed acidity</th>\n",
              "      <th>volatile acidity</th>\n",
              "      <th>citric acid</th>\n",
              "      <th>residual sugar</th>\n",
              "      <th>chlorides</th>\n",
              "      <th>free sulfur dioxide</th>\n",
              "      <th>total sulfur dioxide</th>\n",
              "      <th>density</th>\n",
              "      <th>pH</th>\n",
              "      <th>sulphates</th>\n",
              "      <th>alcohol</th>\n",
              "      <th>quality</th>\n",
              "    </tr>\n",
              "  </thead>\n",
              "  <tbody>\n",
              "    <tr>\n",
              "      <th>count</th>\n",
              "      <td>1599.000000</td>\n",
              "      <td>1599.000000</td>\n",
              "      <td>1599.000000</td>\n",
              "      <td>1599.000000</td>\n",
              "      <td>1599.000000</td>\n",
              "      <td>1599.000000</td>\n",
              "      <td>1599.000000</td>\n",
              "      <td>1599.000000</td>\n",
              "      <td>1599.000000</td>\n",
              "      <td>1599.000000</td>\n",
              "      <td>1599.000000</td>\n",
              "      <td>1599.000000</td>\n",
              "    </tr>\n",
              "    <tr>\n",
              "      <th>mean</th>\n",
              "      <td>8.319637</td>\n",
              "      <td>0.527821</td>\n",
              "      <td>0.270976</td>\n",
              "      <td>2.538806</td>\n",
              "      <td>0.087467</td>\n",
              "      <td>15.874922</td>\n",
              "      <td>46.467792</td>\n",
              "      <td>0.996747</td>\n",
              "      <td>3.311113</td>\n",
              "      <td>0.658149</td>\n",
              "      <td>10.422983</td>\n",
              "      <td>5.636023</td>\n",
              "    </tr>\n",
              "    <tr>\n",
              "      <th>std</th>\n",
              "      <td>1.741096</td>\n",
              "      <td>0.179060</td>\n",
              "      <td>0.194801</td>\n",
              "      <td>1.409928</td>\n",
              "      <td>0.047065</td>\n",
              "      <td>10.460157</td>\n",
              "      <td>32.895324</td>\n",
              "      <td>0.001887</td>\n",
              "      <td>0.154386</td>\n",
              "      <td>0.169507</td>\n",
              "      <td>1.065668</td>\n",
              "      <td>0.807569</td>\n",
              "    </tr>\n",
              "    <tr>\n",
              "      <th>min</th>\n",
              "      <td>4.600000</td>\n",
              "      <td>0.120000</td>\n",
              "      <td>0.000000</td>\n",
              "      <td>0.900000</td>\n",
              "      <td>0.012000</td>\n",
              "      <td>1.000000</td>\n",
              "      <td>6.000000</td>\n",
              "      <td>0.990070</td>\n",
              "      <td>2.740000</td>\n",
              "      <td>0.330000</td>\n",
              "      <td>8.400000</td>\n",
              "      <td>3.000000</td>\n",
              "    </tr>\n",
              "    <tr>\n",
              "      <th>25%</th>\n",
              "      <td>7.100000</td>\n",
              "      <td>0.390000</td>\n",
              "      <td>0.090000</td>\n",
              "      <td>1.900000</td>\n",
              "      <td>0.070000</td>\n",
              "      <td>7.000000</td>\n",
              "      <td>22.000000</td>\n",
              "      <td>0.995600</td>\n",
              "      <td>3.210000</td>\n",
              "      <td>0.550000</td>\n",
              "      <td>9.500000</td>\n",
              "      <td>5.000000</td>\n",
              "    </tr>\n",
              "    <tr>\n",
              "      <th>50%</th>\n",
              "      <td>7.900000</td>\n",
              "      <td>0.520000</td>\n",
              "      <td>0.260000</td>\n",
              "      <td>2.200000</td>\n",
              "      <td>0.079000</td>\n",
              "      <td>14.000000</td>\n",
              "      <td>38.000000</td>\n",
              "      <td>0.996750</td>\n",
              "      <td>3.310000</td>\n",
              "      <td>0.620000</td>\n",
              "      <td>10.200000</td>\n",
              "      <td>6.000000</td>\n",
              "    </tr>\n",
              "    <tr>\n",
              "      <th>75%</th>\n",
              "      <td>9.200000</td>\n",
              "      <td>0.640000</td>\n",
              "      <td>0.420000</td>\n",
              "      <td>2.600000</td>\n",
              "      <td>0.090000</td>\n",
              "      <td>21.000000</td>\n",
              "      <td>62.000000</td>\n",
              "      <td>0.997835</td>\n",
              "      <td>3.400000</td>\n",
              "      <td>0.730000</td>\n",
              "      <td>11.100000</td>\n",
              "      <td>6.000000</td>\n",
              "    </tr>\n",
              "    <tr>\n",
              "      <th>max</th>\n",
              "      <td>15.900000</td>\n",
              "      <td>1.580000</td>\n",
              "      <td>1.000000</td>\n",
              "      <td>15.500000</td>\n",
              "      <td>0.611000</td>\n",
              "      <td>72.000000</td>\n",
              "      <td>289.000000</td>\n",
              "      <td>1.003690</td>\n",
              "      <td>4.010000</td>\n",
              "      <td>2.000000</td>\n",
              "      <td>14.900000</td>\n",
              "      <td>8.000000</td>\n",
              "    </tr>\n",
              "  </tbody>\n",
              "</table>\n",
              "</div>\n",
              "      <button class=\"colab-df-convert\" onclick=\"convertToInteractive('df-8a168842-817a-40f0-988e-1e5cbb362d35')\"\n",
              "              title=\"Convert this dataframe to an interactive table.\"\n",
              "              style=\"display:none;\">\n",
              "        \n",
              "  <svg xmlns=\"http://www.w3.org/2000/svg\" height=\"24px\"viewBox=\"0 0 24 24\"\n",
              "       width=\"24px\">\n",
              "    <path d=\"M0 0h24v24H0V0z\" fill=\"none\"/>\n",
              "    <path d=\"M18.56 5.44l.94 2.06.94-2.06 2.06-.94-2.06-.94-.94-2.06-.94 2.06-2.06.94zm-11 1L8.5 8.5l.94-2.06 2.06-.94-2.06-.94L8.5 2.5l-.94 2.06-2.06.94zm10 10l.94 2.06.94-2.06 2.06-.94-2.06-.94-.94-2.06-.94 2.06-2.06.94z\"/><path d=\"M17.41 7.96l-1.37-1.37c-.4-.4-.92-.59-1.43-.59-.52 0-1.04.2-1.43.59L10.3 9.45l-7.72 7.72c-.78.78-.78 2.05 0 2.83L4 21.41c.39.39.9.59 1.41.59.51 0 1.02-.2 1.41-.59l7.78-7.78 2.81-2.81c.8-.78.8-2.07 0-2.86zM5.41 20L4 18.59l7.72-7.72 1.47 1.35L5.41 20z\"/>\n",
              "  </svg>\n",
              "      </button>\n",
              "      \n",
              "  <style>\n",
              "    .colab-df-container {\n",
              "      display:flex;\n",
              "      flex-wrap:wrap;\n",
              "      gap: 12px;\n",
              "    }\n",
              "\n",
              "    .colab-df-convert {\n",
              "      background-color: #E8F0FE;\n",
              "      border: none;\n",
              "      border-radius: 50%;\n",
              "      cursor: pointer;\n",
              "      display: none;\n",
              "      fill: #1967D2;\n",
              "      height: 32px;\n",
              "      padding: 0 0 0 0;\n",
              "      width: 32px;\n",
              "    }\n",
              "\n",
              "    .colab-df-convert:hover {\n",
              "      background-color: #E2EBFA;\n",
              "      box-shadow: 0px 1px 2px rgba(60, 64, 67, 0.3), 0px 1px 3px 1px rgba(60, 64, 67, 0.15);\n",
              "      fill: #174EA6;\n",
              "    }\n",
              "\n",
              "    [theme=dark] .colab-df-convert {\n",
              "      background-color: #3B4455;\n",
              "      fill: #D2E3FC;\n",
              "    }\n",
              "\n",
              "    [theme=dark] .colab-df-convert:hover {\n",
              "      background-color: #434B5C;\n",
              "      box-shadow: 0px 1px 3px 1px rgba(0, 0, 0, 0.15);\n",
              "      filter: drop-shadow(0px 1px 2px rgba(0, 0, 0, 0.3));\n",
              "      fill: #FFFFFF;\n",
              "    }\n",
              "  </style>\n",
              "\n",
              "      <script>\n",
              "        const buttonEl =\n",
              "          document.querySelector('#df-8a168842-817a-40f0-988e-1e5cbb362d35 button.colab-df-convert');\n",
              "        buttonEl.style.display =\n",
              "          google.colab.kernel.accessAllowed ? 'block' : 'none';\n",
              "\n",
              "        async function convertToInteractive(key) {\n",
              "          const element = document.querySelector('#df-8a168842-817a-40f0-988e-1e5cbb362d35');\n",
              "          const dataTable =\n",
              "            await google.colab.kernel.invokeFunction('convertToInteractive',\n",
              "                                                     [key], {});\n",
              "          if (!dataTable) return;\n",
              "\n",
              "          const docLinkHtml = 'Like what you see? Visit the ' +\n",
              "            '<a target=\"_blank\" href=https://colab.research.google.com/notebooks/data_table.ipynb>data table notebook</a>'\n",
              "            + ' to learn more about interactive tables.';\n",
              "          element.innerHTML = '';\n",
              "          dataTable['output_type'] = 'display_data';\n",
              "          await google.colab.output.renderOutput(dataTable, element);\n",
              "          const docLink = document.createElement('div');\n",
              "          docLink.innerHTML = docLinkHtml;\n",
              "          element.appendChild(docLink);\n",
              "        }\n",
              "      </script>\n",
              "    </div>\n",
              "  </div>\n",
              "  "
            ]
          },
          "metadata": {},
          "execution_count": 8
        }
      ]
    },
    {
      "cell_type": "markdown",
      "source": [
        "Descobrindo quais são as notas, entre as possiveis (1-10) que realmente os vinhos ganharam, ou seja, quais são os valores que aparecem na coluna 'quality' pelo menos uma vez."
      ],
      "metadata": {
        "id": "icvfDcHDPjp3"
      }
    },
    {
      "cell_type": "code",
      "source": [
        "tabela_redwine['quality'].unique()"
      ],
      "metadata": {
        "colab": {
          "base_uri": "https://localhost:8080/"
        },
        "id": "HahqcEmekijr",
        "outputId": "8267af83-d755-42e5-9438-5e9debdf6781"
      },
      "execution_count": 9,
      "outputs": [
        {
          "output_type": "execute_result",
          "data": {
            "text/plain": [
              "array([5, 6, 7, 4, 8, 3])"
            ]
          },
          "metadata": {},
          "execution_count": 9
        }
      ]
    },
    {
      "cell_type": "markdown",
      "source": [
        "Testando o mesmo recurso, mas para outra coluna, agora, temos:\n"
      ],
      "metadata": {
        "id": "phzLHm-TQHWj"
      }
    },
    {
      "cell_type": "code",
      "source": [
        "cloridos = tabela_redwine['chlorides'].unique()\n",
        "print(cloridos)\n",
        "len(cloridos)"
      ],
      "metadata": {
        "colab": {
          "base_uri": "https://localhost:8080/"
        },
        "outputId": "50416497-19ba-45ba-da71-0fbdc3f7e9a8",
        "id": "mPUWM7XdQIJl"
      },
      "execution_count": 10,
      "outputs": [
        {
          "output_type": "stream",
          "name": "stdout",
          "text": [
            "[0.076 0.098 0.092 0.075 0.069 0.065 0.073 0.071 0.097 0.089 0.114 0.176\n",
            " 0.17  0.368 0.086 0.341 0.077 0.082 0.106 0.084 0.085 0.08  0.105 0.083\n",
            " 0.103 0.066 0.172 0.074 0.088 0.332 0.05  0.054 0.113 0.068 0.081 0.11\n",
            " 0.07  0.111 0.079 0.115 0.094 0.093 0.104 0.464 0.401 0.062 0.107 0.045\n",
            " 0.058 0.102 0.467 0.091 0.122 0.09  0.119 0.178 0.146 0.072 0.118 0.049\n",
            " 0.06  0.117 0.087 0.236 0.61  0.095 0.1   0.36  0.067 0.27  0.099 0.046\n",
            " 0.061 0.056 0.039 0.059 0.101 0.057 0.337 0.078 0.263 0.063 0.611 0.064\n",
            " 0.096 0.358 0.343 0.186 0.112 0.213 0.214 0.121 0.128 0.052 0.12  0.116\n",
            " 0.109 0.159 0.124 0.174 0.047 0.127 0.413 0.152 0.053 0.055 0.051 0.125\n",
            " 0.2   0.171 0.226 0.25  0.108 0.148 0.143 0.222 0.157 0.422 0.034 0.387\n",
            " 0.415 0.243 0.241 0.19  0.132 0.126 0.038 0.044 0.041 0.165 0.048 0.145\n",
            " 0.147 0.012 0.194 0.161 0.123 0.414 0.216 0.043 0.042 0.369 0.166 0.136\n",
            " 0.403 0.137 0.168 0.153 0.267 0.169 0.205 0.235 0.23 ]\n"
          ]
        },
        {
          "output_type": "execute_result",
          "data": {
            "text/plain": [
              "153"
            ]
          },
          "metadata": {},
          "execution_count": 10
        }
      ]
    },
    {
      "cell_type": "markdown",
      "source": [
        "Agora, vejamos se existem linhas duplicadas nesse dataset: (a função retorna true se a linha é duplicada e false se não é)"
      ],
      "metadata": {
        "id": "7uzRcpvYXGky"
      }
    },
    {
      "cell_type": "code",
      "source": [
        "tabela_redwine.duplicated()"
      ],
      "metadata": {
        "colab": {
          "base_uri": "https://localhost:8080/"
        },
        "id": "SCojoUldXGJO",
        "outputId": "8a8e3e86-9ffc-4e00-f3cd-3a0470be7915"
      },
      "execution_count": 11,
      "outputs": [
        {
          "output_type": "execute_result",
          "data": {
            "text/plain": [
              "0       False\n",
              "1       False\n",
              "2       False\n",
              "3       False\n",
              "4        True\n",
              "        ...  \n",
              "1594    False\n",
              "1595    False\n",
              "1596     True\n",
              "1597    False\n",
              "1598    False\n",
              "Length: 1599, dtype: bool"
            ]
          },
          "metadata": {},
          "execution_count": 11
        }
      ]
    },
    {
      "cell_type": "markdown",
      "source": [
        "Excluindo as linhas duplicadas do dataset:"
      ],
      "metadata": {
        "id": "pA_yee_2X0GC"
      }
    },
    {
      "cell_type": "code",
      "source": [
        "tabela_redwine = tabela_redwine.drop_duplicates()\n",
        "tabela_redwine.head(10)"
      ],
      "metadata": {
        "colab": {
          "base_uri": "https://localhost:8080/",
          "height": 363
        },
        "id": "GE5ep5nUX_fq",
        "outputId": "01184d3f-85ad-4b54-e61b-f1d994765b0d"
      },
      "execution_count": 12,
      "outputs": [
        {
          "output_type": "execute_result",
          "data": {
            "text/plain": [
              "    fixed acidity  volatile acidity  citric acid  residual sugar  chlorides  \\\n",
              "0             7.4              0.70         0.00             1.9      0.076   \n",
              "1             7.8              0.88         0.00             2.6      0.098   \n",
              "2             7.8              0.76         0.04             2.3      0.092   \n",
              "3            11.2              0.28         0.56             1.9      0.075   \n",
              "5             7.4              0.66         0.00             1.8      0.075   \n",
              "6             7.9              0.60         0.06             1.6      0.069   \n",
              "7             7.3              0.65         0.00             1.2      0.065   \n",
              "8             7.8              0.58         0.02             2.0      0.073   \n",
              "9             7.5              0.50         0.36             6.1      0.071   \n",
              "10            6.7              0.58         0.08             1.8      0.097   \n",
              "\n",
              "    free sulfur dioxide  total sulfur dioxide  density    pH  sulphates  \\\n",
              "0                  11.0                  34.0   0.9978  3.51       0.56   \n",
              "1                  25.0                  67.0   0.9968  3.20       0.68   \n",
              "2                  15.0                  54.0   0.9970  3.26       0.65   \n",
              "3                  17.0                  60.0   0.9980  3.16       0.58   \n",
              "5                  13.0                  40.0   0.9978  3.51       0.56   \n",
              "6                  15.0                  59.0   0.9964  3.30       0.46   \n",
              "7                  15.0                  21.0   0.9946  3.39       0.47   \n",
              "8                   9.0                  18.0   0.9968  3.36       0.57   \n",
              "9                  17.0                 102.0   0.9978  3.35       0.80   \n",
              "10                 15.0                  65.0   0.9959  3.28       0.54   \n",
              "\n",
              "    alcohol  quality  \n",
              "0       9.4        5  \n",
              "1       9.8        5  \n",
              "2       9.8        5  \n",
              "3       9.8        6  \n",
              "5       9.4        5  \n",
              "6       9.4        5  \n",
              "7      10.0        7  \n",
              "8       9.5        7  \n",
              "9      10.5        5  \n",
              "10      9.2        5  "
            ],
            "text/html": [
              "\n",
              "  <div id=\"df-419a11de-d1ab-4a33-8e2c-6df4532a8bcd\">\n",
              "    <div class=\"colab-df-container\">\n",
              "      <div>\n",
              "<style scoped>\n",
              "    .dataframe tbody tr th:only-of-type {\n",
              "        vertical-align: middle;\n",
              "    }\n",
              "\n",
              "    .dataframe tbody tr th {\n",
              "        vertical-align: top;\n",
              "    }\n",
              "\n",
              "    .dataframe thead th {\n",
              "        text-align: right;\n",
              "    }\n",
              "</style>\n",
              "<table border=\"1\" class=\"dataframe\">\n",
              "  <thead>\n",
              "    <tr style=\"text-align: right;\">\n",
              "      <th></th>\n",
              "      <th>fixed acidity</th>\n",
              "      <th>volatile acidity</th>\n",
              "      <th>citric acid</th>\n",
              "      <th>residual sugar</th>\n",
              "      <th>chlorides</th>\n",
              "      <th>free sulfur dioxide</th>\n",
              "      <th>total sulfur dioxide</th>\n",
              "      <th>density</th>\n",
              "      <th>pH</th>\n",
              "      <th>sulphates</th>\n",
              "      <th>alcohol</th>\n",
              "      <th>quality</th>\n",
              "    </tr>\n",
              "  </thead>\n",
              "  <tbody>\n",
              "    <tr>\n",
              "      <th>0</th>\n",
              "      <td>7.4</td>\n",
              "      <td>0.70</td>\n",
              "      <td>0.00</td>\n",
              "      <td>1.9</td>\n",
              "      <td>0.076</td>\n",
              "      <td>11.0</td>\n",
              "      <td>34.0</td>\n",
              "      <td>0.9978</td>\n",
              "      <td>3.51</td>\n",
              "      <td>0.56</td>\n",
              "      <td>9.4</td>\n",
              "      <td>5</td>\n",
              "    </tr>\n",
              "    <tr>\n",
              "      <th>1</th>\n",
              "      <td>7.8</td>\n",
              "      <td>0.88</td>\n",
              "      <td>0.00</td>\n",
              "      <td>2.6</td>\n",
              "      <td>0.098</td>\n",
              "      <td>25.0</td>\n",
              "      <td>67.0</td>\n",
              "      <td>0.9968</td>\n",
              "      <td>3.20</td>\n",
              "      <td>0.68</td>\n",
              "      <td>9.8</td>\n",
              "      <td>5</td>\n",
              "    </tr>\n",
              "    <tr>\n",
              "      <th>2</th>\n",
              "      <td>7.8</td>\n",
              "      <td>0.76</td>\n",
              "      <td>0.04</td>\n",
              "      <td>2.3</td>\n",
              "      <td>0.092</td>\n",
              "      <td>15.0</td>\n",
              "      <td>54.0</td>\n",
              "      <td>0.9970</td>\n",
              "      <td>3.26</td>\n",
              "      <td>0.65</td>\n",
              "      <td>9.8</td>\n",
              "      <td>5</td>\n",
              "    </tr>\n",
              "    <tr>\n",
              "      <th>3</th>\n",
              "      <td>11.2</td>\n",
              "      <td>0.28</td>\n",
              "      <td>0.56</td>\n",
              "      <td>1.9</td>\n",
              "      <td>0.075</td>\n",
              "      <td>17.0</td>\n",
              "      <td>60.0</td>\n",
              "      <td>0.9980</td>\n",
              "      <td>3.16</td>\n",
              "      <td>0.58</td>\n",
              "      <td>9.8</td>\n",
              "      <td>6</td>\n",
              "    </tr>\n",
              "    <tr>\n",
              "      <th>5</th>\n",
              "      <td>7.4</td>\n",
              "      <td>0.66</td>\n",
              "      <td>0.00</td>\n",
              "      <td>1.8</td>\n",
              "      <td>0.075</td>\n",
              "      <td>13.0</td>\n",
              "      <td>40.0</td>\n",
              "      <td>0.9978</td>\n",
              "      <td>3.51</td>\n",
              "      <td>0.56</td>\n",
              "      <td>9.4</td>\n",
              "      <td>5</td>\n",
              "    </tr>\n",
              "    <tr>\n",
              "      <th>6</th>\n",
              "      <td>7.9</td>\n",
              "      <td>0.60</td>\n",
              "      <td>0.06</td>\n",
              "      <td>1.6</td>\n",
              "      <td>0.069</td>\n",
              "      <td>15.0</td>\n",
              "      <td>59.0</td>\n",
              "      <td>0.9964</td>\n",
              "      <td>3.30</td>\n",
              "      <td>0.46</td>\n",
              "      <td>9.4</td>\n",
              "      <td>5</td>\n",
              "    </tr>\n",
              "    <tr>\n",
              "      <th>7</th>\n",
              "      <td>7.3</td>\n",
              "      <td>0.65</td>\n",
              "      <td>0.00</td>\n",
              "      <td>1.2</td>\n",
              "      <td>0.065</td>\n",
              "      <td>15.0</td>\n",
              "      <td>21.0</td>\n",
              "      <td>0.9946</td>\n",
              "      <td>3.39</td>\n",
              "      <td>0.47</td>\n",
              "      <td>10.0</td>\n",
              "      <td>7</td>\n",
              "    </tr>\n",
              "    <tr>\n",
              "      <th>8</th>\n",
              "      <td>7.8</td>\n",
              "      <td>0.58</td>\n",
              "      <td>0.02</td>\n",
              "      <td>2.0</td>\n",
              "      <td>0.073</td>\n",
              "      <td>9.0</td>\n",
              "      <td>18.0</td>\n",
              "      <td>0.9968</td>\n",
              "      <td>3.36</td>\n",
              "      <td>0.57</td>\n",
              "      <td>9.5</td>\n",
              "      <td>7</td>\n",
              "    </tr>\n",
              "    <tr>\n",
              "      <th>9</th>\n",
              "      <td>7.5</td>\n",
              "      <td>0.50</td>\n",
              "      <td>0.36</td>\n",
              "      <td>6.1</td>\n",
              "      <td>0.071</td>\n",
              "      <td>17.0</td>\n",
              "      <td>102.0</td>\n",
              "      <td>0.9978</td>\n",
              "      <td>3.35</td>\n",
              "      <td>0.80</td>\n",
              "      <td>10.5</td>\n",
              "      <td>5</td>\n",
              "    </tr>\n",
              "    <tr>\n",
              "      <th>10</th>\n",
              "      <td>6.7</td>\n",
              "      <td>0.58</td>\n",
              "      <td>0.08</td>\n",
              "      <td>1.8</td>\n",
              "      <td>0.097</td>\n",
              "      <td>15.0</td>\n",
              "      <td>65.0</td>\n",
              "      <td>0.9959</td>\n",
              "      <td>3.28</td>\n",
              "      <td>0.54</td>\n",
              "      <td>9.2</td>\n",
              "      <td>5</td>\n",
              "    </tr>\n",
              "  </tbody>\n",
              "</table>\n",
              "</div>\n",
              "      <button class=\"colab-df-convert\" onclick=\"convertToInteractive('df-419a11de-d1ab-4a33-8e2c-6df4532a8bcd')\"\n",
              "              title=\"Convert this dataframe to an interactive table.\"\n",
              "              style=\"display:none;\">\n",
              "        \n",
              "  <svg xmlns=\"http://www.w3.org/2000/svg\" height=\"24px\"viewBox=\"0 0 24 24\"\n",
              "       width=\"24px\">\n",
              "    <path d=\"M0 0h24v24H0V0z\" fill=\"none\"/>\n",
              "    <path d=\"M18.56 5.44l.94 2.06.94-2.06 2.06-.94-2.06-.94-.94-2.06-.94 2.06-2.06.94zm-11 1L8.5 8.5l.94-2.06 2.06-.94-2.06-.94L8.5 2.5l-.94 2.06-2.06.94zm10 10l.94 2.06.94-2.06 2.06-.94-2.06-.94-.94-2.06-.94 2.06-2.06.94z\"/><path d=\"M17.41 7.96l-1.37-1.37c-.4-.4-.92-.59-1.43-.59-.52 0-1.04.2-1.43.59L10.3 9.45l-7.72 7.72c-.78.78-.78 2.05 0 2.83L4 21.41c.39.39.9.59 1.41.59.51 0 1.02-.2 1.41-.59l7.78-7.78 2.81-2.81c.8-.78.8-2.07 0-2.86zM5.41 20L4 18.59l7.72-7.72 1.47 1.35L5.41 20z\"/>\n",
              "  </svg>\n",
              "      </button>\n",
              "      \n",
              "  <style>\n",
              "    .colab-df-container {\n",
              "      display:flex;\n",
              "      flex-wrap:wrap;\n",
              "      gap: 12px;\n",
              "    }\n",
              "\n",
              "    .colab-df-convert {\n",
              "      background-color: #E8F0FE;\n",
              "      border: none;\n",
              "      border-radius: 50%;\n",
              "      cursor: pointer;\n",
              "      display: none;\n",
              "      fill: #1967D2;\n",
              "      height: 32px;\n",
              "      padding: 0 0 0 0;\n",
              "      width: 32px;\n",
              "    }\n",
              "\n",
              "    .colab-df-convert:hover {\n",
              "      background-color: #E2EBFA;\n",
              "      box-shadow: 0px 1px 2px rgba(60, 64, 67, 0.3), 0px 1px 3px 1px rgba(60, 64, 67, 0.15);\n",
              "      fill: #174EA6;\n",
              "    }\n",
              "\n",
              "    [theme=dark] .colab-df-convert {\n",
              "      background-color: #3B4455;\n",
              "      fill: #D2E3FC;\n",
              "    }\n",
              "\n",
              "    [theme=dark] .colab-df-convert:hover {\n",
              "      background-color: #434B5C;\n",
              "      box-shadow: 0px 1px 3px 1px rgba(0, 0, 0, 0.15);\n",
              "      filter: drop-shadow(0px 1px 2px rgba(0, 0, 0, 0.3));\n",
              "      fill: #FFFFFF;\n",
              "    }\n",
              "  </style>\n",
              "\n",
              "      <script>\n",
              "        const buttonEl =\n",
              "          document.querySelector('#df-419a11de-d1ab-4a33-8e2c-6df4532a8bcd button.colab-df-convert');\n",
              "        buttonEl.style.display =\n",
              "          google.colab.kernel.accessAllowed ? 'block' : 'none';\n",
              "\n",
              "        async function convertToInteractive(key) {\n",
              "          const element = document.querySelector('#df-419a11de-d1ab-4a33-8e2c-6df4532a8bcd');\n",
              "          const dataTable =\n",
              "            await google.colab.kernel.invokeFunction('convertToInteractive',\n",
              "                                                     [key], {});\n",
              "          if (!dataTable) return;\n",
              "\n",
              "          const docLinkHtml = 'Like what you see? Visit the ' +\n",
              "            '<a target=\"_blank\" href=https://colab.research.google.com/notebooks/data_table.ipynb>data table notebook</a>'\n",
              "            + ' to learn more about interactive tables.';\n",
              "          element.innerHTML = '';\n",
              "          dataTable['output_type'] = 'display_data';\n",
              "          await google.colab.output.renderOutput(dataTable, element);\n",
              "          const docLink = document.createElement('div');\n",
              "          docLink.innerHTML = docLinkHtml;\n",
              "          element.appendChild(docLink);\n",
              "        }\n",
              "      </script>\n",
              "    </div>\n",
              "  </div>\n",
              "  "
            ]
          },
          "metadata": {},
          "execution_count": 12
        }
      ]
    },
    {
      "cell_type": "code",
      "source": [
        "#from google.colab import drive\n",
        "#drive.mount('/content/drive')"
      ],
      "metadata": {
        "id": "y2NnVCCbOao5"
      },
      "execution_count": null,
      "outputs": []
    },
    {
      "cell_type": "markdown",
      "source": [
        "A criação de uma variável chamada targert para guardar a coluna \"quality\", que será a variável alvo."
      ],
      "metadata": {
        "id": "3ZIhavwtKwXG"
      }
    },
    {
      "cell_type": "code",
      "source": [
        "target = tabela_redwine['quality']"
      ],
      "metadata": {
        "id": "g_N_X3F_iNTR"
      },
      "execution_count": 13,
      "outputs": []
    },
    {
      "cell_type": "markdown",
      "source": [
        "A função hist do matplotlib plota um histograma da variável target, onde ocorre a distribuição dos dados para facilitar a visualização:"
      ],
      "metadata": {
        "id": "bDHxtbgXMpAM"
      }
    },
    {
      "cell_type": "code",
      "source": [
        "plt.hist(target, color='#4682B4', edgecolor='black')\n",
        "plt.title(r'Distribuição de notas')\n",
        "plt.xlabel('Nota')\n",
        "plt.ylabel('Quantidade')\n",
        "plt.show()"
      ],
      "metadata": {
        "id": "rKIi_EVFpK1c",
        "outputId": "45a390b7-8a50-420d-e59c-3990a5eb3486",
        "colab": {
          "base_uri": "https://localhost:8080/",
          "height": 295
        }
      },
      "execution_count": 14,
      "outputs": [
        {
          "output_type": "display_data",
          "data": {
            "text/plain": [
              "<Figure size 432x288 with 1 Axes>"
            ],
            "image/png": "[encoded data removed]"
          },
          "metadata": {
            "needs_background": "light"
          }
        }
      ]
    },
    {
      "cell_type": "markdown",
      "source": [
        "Novamente o método describe, mas dessa vez para obter informações sobre o target:"
      ],
      "metadata": {
        "id": "ViscMifsXls6"
      }
    },
    {
      "cell_type": "code",
      "source": [
        "print(target.describe())"
      ],
      "metadata": {
        "id": "0FVlwQISVGSg",
        "outputId": "cbd121fd-c2ed-4918-d9fd-490e669634d2",
        "colab": {
          "base_uri": "https://localhost:8080/"
        }
      },
      "execution_count": 15,
      "outputs": [
        {
          "output_type": "stream",
          "name": "stdout",
          "text": [
            "count    1359.000000\n",
            "mean        5.623252\n",
            "std         0.823578\n",
            "min         3.000000\n",
            "25%         5.000000\n",
            "50%         6.000000\n",
            "75%         6.000000\n",
            "max         8.000000\n",
            "Name: quality, dtype: float64\n"
          ]
        }
      ]
    },
    {
      "cell_type": "markdown",
      "source": [
        "O método isnull que identifica valores vazios na coluna, e o sum que soma todos eles:"
      ],
      "metadata": {
        "id": "L16lX4-HX2XV"
      }
    },
    {
      "cell_type": "code",
      "source": [
        "print('Quantidade de valores ausentes na variável target:', target.isnull().sum())"
      ],
      "metadata": {
        "id": "sleGkJyqStsz",
        "outputId": "17a643c6-dc13-417b-bd1d-32238641bf83",
        "colab": {
          "base_uri": "https://localhost:8080/"
        }
      },
      "execution_count": 16,
      "outputs": [
        {
          "output_type": "stream",
          "name": "stdout",
          "text": [
            "Quantidade de valores ausentes na variável target: 0\n"
          ]
        }
      ]
    },
    {
      "cell_type": "markdown",
      "source": [
        "Os métodos median, min e max que calculam a mediana, o valor mínimo e máximo do target:"
      ],
      "metadata": {
        "id": "VP8v5aSNa1lw"
      }
    },
    {
      "cell_type": "code",
      "source": [
        "print(target.median())\n",
        "print(target.min())\n",
        "print(target.max())"
      ],
      "metadata": {
        "id": "0NjGzDT-VXk5",
        "outputId": "b3a5dd65-4534-4e3d-89c8-03905d9e1ac7",
        "colab": {
          "base_uri": "https://localhost:8080/"
        }
      },
      "execution_count": 17,
      "outputs": [
        {
          "output_type": "stream",
          "name": "stdout",
          "text": [
            "6.0\n",
            "3\n",
            "8\n"
          ]
        }
      ]
    },
    {
      "cell_type": "markdown",
      "source": [
        "Agora, será criada uma variável que possui o nome de todas as colunas do dataset para buscar corelações entre elas e as notas de qualidade. "
      ],
      "metadata": {
        "id": "VwHuUdvKnP7F"
      }
    },
    {
      "cell_type": "code",
      "source": [
        "lista_corr = [\"fixed acidity\",\t\"volatile acidity\",\t\"citric acid\",\t\"residual sugar\",\t\"chlorides\",\t\"free sulfur dioxide\", \"total sulfur dioxide\",\t\"density\",\t\"pH\",\t\"sulphates\",\t\"alcohol\", \"quality\"]"
      ],
      "metadata": {
        "id": "wqaBEoe4nrPy"
      },
      "execution_count": 18,
      "outputs": []
    },
    {
      "cell_type": "markdown",
      "source": [
        "Com o método corr, é possível visualizar as relações das colunas entre si. Ela varia entre -1 a 1, onde quanto mais próximo do -1 menor a correlação dos dados e, quanto mais próximo do 1, maior a correlação dos dados."
      ],
      "metadata": {
        "id": "PndlzwpGrMFJ"
      }
    },
    {
      "cell_type": "code",
      "source": [
        "correlacao = tabela_redwine[lista_corr].corr()\n",
        "display(correlacao)"
      ],
      "metadata": {
        "colab": {
          "base_uri": "https://localhost:8080/",
          "height": 504
        },
        "id": "Y0VZNlLpp6dz",
        "outputId": "69c6831b-0bf5-4aca-9c2a-c564b43a177b"
      },
      "execution_count": 19,
      "outputs": [
        {
          "output_type": "display_data",
          "data": {
            "text/plain": [
              "                      fixed acidity  volatile acidity  citric acid  \\\n",
              "fixed acidity              1.000000         -0.255124     0.667437   \n",
              "volatile acidity          -0.255124          1.000000    -0.551248   \n",
              "citric acid                0.667437         -0.551248     1.000000   \n",
              "residual sugar             0.111025         -0.002449     0.143892   \n",
              "chlorides                  0.085886          0.055154     0.210195   \n",
              "free sulfur dioxide       -0.140580         -0.020945    -0.048004   \n",
              "total sulfur dioxide      -0.103777          0.071701     0.047358   \n",
              "density                    0.670195          0.023943     0.357962   \n",
              "pH                        -0.686685          0.247111    -0.550310   \n",
              "sulphates                  0.190269         -0.256948     0.326062   \n",
              "alcohol                   -0.061596         -0.197812     0.105108   \n",
              "quality                    0.119024         -0.395214     0.228057   \n",
              "\n",
              "                      residual sugar  chlorides  free sulfur dioxide  \\\n",
              "fixed acidity               0.111025   0.085886            -0.140580   \n",
              "volatile acidity           -0.002449   0.055154            -0.020945   \n",
              "citric acid                 0.143892   0.210195            -0.048004   \n",
              "residual sugar              1.000000   0.026656             0.160527   \n",
              "chlorides                   0.026656   1.000000             0.000749   \n",
              "free sulfur dioxide         0.160527   0.000749             1.000000   \n",
              "total sulfur dioxide        0.201038   0.045773             0.667246   \n",
              "density                     0.324522   0.193592            -0.018071   \n",
              "pH                         -0.083143  -0.270893             0.056631   \n",
              "sulphates                  -0.011837   0.394557             0.054126   \n",
              "alcohol                     0.063281  -0.223824            -0.080125   \n",
              "quality                     0.013640  -0.130988            -0.050463   \n",
              "\n",
              "                      total sulfur dioxide   density        pH  sulphates  \\\n",
              "fixed acidity                    -0.103777  0.670195 -0.686685   0.190269   \n",
              "volatile acidity                  0.071701  0.023943  0.247111  -0.256948   \n",
              "citric acid                       0.047358  0.357962 -0.550310   0.326062   \n",
              "residual sugar                    0.201038  0.324522 -0.083143  -0.011837   \n",
              "chlorides                         0.045773  0.193592 -0.270893   0.394557   \n",
              "free sulfur dioxide               0.667246 -0.018071  0.056631   0.054126   \n",
              "total sulfur dioxide              1.000000  0.078141 -0.079257   0.035291   \n",
              "density                           0.078141  1.000000 -0.355617   0.146036   \n",
              "pH                               -0.079257 -0.355617  1.000000  -0.214134   \n",
              "sulphates                         0.035291  0.146036 -0.214134   1.000000   \n",
              "alcohol                          -0.217829 -0.504995  0.213418   0.091621   \n",
              "quality                          -0.177855 -0.184252 -0.055245   0.248835   \n",
              "\n",
              "                       alcohol   quality  \n",
              "fixed acidity        -0.061596  0.119024  \n",
              "volatile acidity     -0.197812 -0.395214  \n",
              "citric acid           0.105108  0.228057  \n",
              "residual sugar        0.063281  0.013640  \n",
              "chlorides            -0.223824 -0.130988  \n",
              "free sulfur dioxide  -0.080125 -0.050463  \n",
              "total sulfur dioxide -0.217829 -0.177855  \n",
              "density              -0.504995 -0.184252  \n",
              "pH                    0.213418 -0.055245  \n",
              "sulphates             0.091621  0.248835  \n",
              "alcohol               1.000000  0.480343  \n",
              "quality               0.480343  1.000000  "
            ],
            "text/html": [
              "\n",
              "  <div id=\"df-8398fa62-f77a-443d-8da3-684e6d01effc\">\n",
              "    <div class=\"colab-df-container\">\n",
              "      <div>\n",
              "<style scoped>\n",
              "    .dataframe tbody tr th:only-of-type {\n",
              "        vertical-align: middle;\n",
              "    }\n",
              "\n",
              "    .dataframe tbody tr th {\n",
              "        vertical-align: top;\n",
              "    }\n",
              "\n",
              "    .dataframe thead th {\n",
              "        text-align: right;\n",
              "    }\n",
              "</style>\n",
              "<table border=\"1\" class=\"dataframe\">\n",
              "  <thead>\n",
              "    <tr style=\"text-align: right;\">\n",
              "      <th></th>\n",
              "      <th>fixed acidity</th>\n",
              "      <th>volatile acidity</th>\n",
              "      <th>citric acid</th>\n",
              "      <th>residual sugar</th>\n",
              "      <th>chlorides</th>\n",
              "      <th>free sulfur dioxide</th>\n",
              "      <th>total sulfur dioxide</th>\n",
              "      <th>density</th>\n",
              "      <th>pH</th>\n",
              "      <th>sulphates</th>\n",
              "      <th>alcohol</th>\n",
              "      <th>quality</th>\n",
              "    </tr>\n",
              "  </thead>\n",
              "  <tbody>\n",
              "    <tr>\n",
              "      <th>fixed acidity</th>\n",
              "      <td>1.000000</td>\n",
              "      <td>-0.255124</td>\n",
              "      <td>0.667437</td>\n",
              "      <td>0.111025</td>\n",
              "      <td>0.085886</td>\n",
              "      <td>-0.140580</td>\n",
              "      <td>-0.103777</td>\n",
              "      <td>0.670195</td>\n",
              "      <td>-0.686685</td>\n",
              "      <td>0.190269</td>\n",
              "      <td>-0.061596</td>\n",
              "      <td>0.119024</td>\n",
              "    </tr>\n",
              "    <tr>\n",
              "      <th>volatile acidity</th>\n",
              "      <td>-0.255124</td>\n",
              "      <td>1.000000</td>\n",
              "      <td>-0.551248</td>\n",
              "      <td>-0.002449</td>\n",
              "      <td>0.055154</td>\n",
              "      <td>-0.020945</td>\n",
              "      <td>0.071701</td>\n",
              "      <td>0.023943</td>\n",
              "      <td>0.247111</td>\n",
              "      <td>-0.256948</td>\n",
              "      <td>-0.197812</td>\n",
              "      <td>-0.395214</td>\n",
              "    </tr>\n",
              "    <tr>\n",
              "      <th>citric acid</th>\n",
              "      <td>0.667437</td>\n",
              "      <td>-0.551248</td>\n",
              "      <td>1.000000</td>\n",
              "      <td>0.143892</td>\n",
              "      <td>0.210195</td>\n",
              "      <td>-0.048004</td>\n",
              "      <td>0.047358</td>\n",
              "      <td>0.357962</td>\n",
              "      <td>-0.550310</td>\n",
              "      <td>0.326062</td>\n",
              "      <td>0.105108</td>\n",
              "      <td>0.228057</td>\n",
              "    </tr>\n",
              "    <tr>\n",
              "      <th>residual sugar</th>\n",
              "      <td>0.111025</td>\n",
              "      <td>-0.002449</td>\n",
              "      <td>0.143892</td>\n",
              "      <td>1.000000</td>\n",
              "      <td>0.026656</td>\n",
              "      <td>0.160527</td>\n",
              "      <td>0.201038</td>\n",
              "      <td>0.324522</td>\n",
              "      <td>-0.083143</td>\n",
              "      <td>-0.011837</td>\n",
              "      <td>0.063281</td>\n",
              "      <td>0.013640</td>\n",
              "    </tr>\n",
              "    <tr>\n",
              "      <th>chlorides</th>\n",
              "      <td>0.085886</td>\n",
              "      <td>0.055154</td>\n",
              "      <td>0.210195</td>\n",
              "      <td>0.026656</td>\n",
              "      <td>1.000000</td>\n",
              "      <td>0.000749</td>\n",
              "      <td>0.045773</td>\n",
              "      <td>0.193592</td>\n",
              "      <td>-0.270893</td>\n",
              "      <td>0.394557</td>\n",
              "      <td>-0.223824</td>\n",
              "      <td>-0.130988</td>\n",
              "    </tr>\n",
              "    <tr>\n",
              "      <th>free sulfur dioxide</th>\n",
              "      <td>-0.140580</td>\n",
              "      <td>-0.020945</td>\n",
              "      <td>-0.048004</td>\n",
              "      <td>0.160527</td>\n",
              "      <td>0.000749</td>\n",
              "      <td>1.000000</td>\n",
              "      <td>0.667246</td>\n",
              "      <td>-0.018071</td>\n",
              "      <td>0.056631</td>\n",
              "      <td>0.054126</td>\n",
              "      <td>-0.080125</td>\n",
              "      <td>-0.050463</td>\n",
              "    </tr>\n",
              "    <tr>\n",
              "      <th>total sulfur dioxide</th>\n",
              "      <td>-0.103777</td>\n",
              "      <td>0.071701</td>\n",
              "      <td>0.047358</td>\n",
              "      <td>0.201038</td>\n",
              "      <td>0.045773</td>\n",
              "      <td>0.667246</td>\n",
              "      <td>1.000000</td>\n",
              "      <td>0.078141</td>\n",
              "      <td>-0.079257</td>\n",
              "      <td>0.035291</td>\n",
              "      <td>-0.217829</td>\n",
              "      <td>-0.177855</td>\n",
              "    </tr>\n",
              "    <tr>\n",
              "      <th>density</th>\n",
              "      <td>0.670195</td>\n",
              "      <td>0.023943</td>\n",
              "      <td>0.357962</td>\n",
              "      <td>0.324522</td>\n",
              "      <td>0.193592</td>\n",
              "      <td>-0.018071</td>\n",
              "      <td>0.078141</td>\n",
              "      <td>1.000000</td>\n",
              "      <td>-0.355617</td>\n",
              "      <td>0.146036</td>\n",
              "      <td>-0.504995</td>\n",
              "      <td>-0.184252</td>\n",
              "    </tr>\n",
              "    <tr>\n",
              "      <th>pH</th>\n",
              "      <td>-0.686685</td>\n",
              "      <td>0.247111</td>\n",
              "      <td>-0.550310</td>\n",
              "      <td>-0.083143</td>\n",
              "      <td>-0.270893</td>\n",
              "      <td>0.056631</td>\n",
              "      <td>-0.079257</td>\n",
              "      <td>-0.355617</td>\n",
              "      <td>1.000000</td>\n",
              "      <td>-0.214134</td>\n",
              "      <td>0.213418</td>\n",
              "      <td>-0.055245</td>\n",
              "    </tr>\n",
              "    <tr>\n",
              "      <th>sulphates</th>\n",
              "      <td>0.190269</td>\n",
              "      <td>-0.256948</td>\n",
              "      <td>0.326062</td>\n",
              "      <td>-0.011837</td>\n",
              "      <td>0.394557</td>\n",
              "      <td>0.054126</td>\n",
              "      <td>0.035291</td>\n",
              "      <td>0.146036</td>\n",
              "      <td>-0.214134</td>\n",
              "      <td>1.000000</td>\n",
              "      <td>0.091621</td>\n",
              "      <td>0.248835</td>\n",
              "    </tr>\n",
              "    <tr>\n",
              "      <th>alcohol</th>\n",
              "      <td>-0.061596</td>\n",
              "      <td>-0.197812</td>\n",
              "      <td>0.105108</td>\n",
              "      <td>0.063281</td>\n",
              "      <td>-0.223824</td>\n",
              "      <td>-0.080125</td>\n",
              "      <td>-0.217829</td>\n",
              "      <td>-0.504995</td>\n",
              "      <td>0.213418</td>\n",
              "      <td>0.091621</td>\n",
              "      <td>1.000000</td>\n",
              "      <td>0.480343</td>\n",
              "    </tr>\n",
              "    <tr>\n",
              "      <th>quality</th>\n",
              "      <td>0.119024</td>\n",
              "      <td>-0.395214</td>\n",
              "      <td>0.228057</td>\n",
              "      <td>0.013640</td>\n",
              "      <td>-0.130988</td>\n",
              "      <td>-0.050463</td>\n",
              "      <td>-0.177855</td>\n",
              "      <td>-0.184252</td>\n",
              "      <td>-0.055245</td>\n",
              "      <td>0.248835</td>\n",
              "      <td>0.480343</td>\n",
              "      <td>1.000000</td>\n",
              "    </tr>\n",
              "  </tbody>\n",
              "</table>\n",
              "</div>\n",
              "      <button class=\"colab-df-convert\" onclick=\"convertToInteractive('df-8398fa62-f77a-443d-8da3-684e6d01effc')\"\n",
              "              title=\"Convert this dataframe to an interactive table.\"\n",
              "              style=\"display:none;\">\n",
              "        \n",
              "  <svg xmlns=\"http://www.w3.org/2000/svg\" height=\"24px\"viewBox=\"0 0 24 24\"\n",
              "       width=\"24px\">\n",
              "    <path d=\"M0 0h24v24H0V0z\" fill=\"none\"/>\n",
              "    <path d=\"M18.56 5.44l.94 2.06.94-2.06 2.06-.94-2.06-.94-.94-2.06-.94 2.06-2.06.94zm-11 1L8.5 8.5l.94-2.06 2.06-.94-2.06-.94L8.5 2.5l-.94 2.06-2.06.94zm10 10l.94 2.06.94-2.06 2.06-.94-2.06-.94-.94-2.06-.94 2.06-2.06.94z\"/><path d=\"M17.41 7.96l-1.37-1.37c-.4-.4-.92-.59-1.43-.59-.52 0-1.04.2-1.43.59L10.3 9.45l-7.72 7.72c-.78.78-.78 2.05 0 2.83L4 21.41c.39.39.9.59 1.41.59.51 0 1.02-.2 1.41-.59l7.78-7.78 2.81-2.81c.8-.78.8-2.07 0-2.86zM5.41 20L4 18.59l7.72-7.72 1.47 1.35L5.41 20z\"/>\n",
              "  </svg>\n",
              "      </button>\n",
              "      \n",
              "  <style>\n",
              "    .colab-df-container {\n",
              "      display:flex;\n",
              "      flex-wrap:wrap;\n",
              "      gap: 12px;\n",
              "    }\n",
              "\n",
              "    .colab-df-convert {\n",
              "      background-color: #E8F0FE;\n",
              "      border: none;\n",
              "      border-radius: 50%;\n",
              "      cursor: pointer;\n",
              "      display: none;\n",
              "      fill: #1967D2;\n",
              "      height: 32px;\n",
              "      padding: 0 0 0 0;\n",
              "      width: 32px;\n",
              "    }\n",
              "\n",
              "    .colab-df-convert:hover {\n",
              "      background-color: #E2EBFA;\n",
              "      box-shadow: 0px 1px 2px rgba(60, 64, 67, 0.3), 0px 1px 3px 1px rgba(60, 64, 67, 0.15);\n",
              "      fill: #174EA6;\n",
              "    }\n",
              "\n",
              "    [theme=dark] .colab-df-convert {\n",
              "      background-color: #3B4455;\n",
              "      fill: #D2E3FC;\n",
              "    }\n",
              "\n",
              "    [theme=dark] .colab-df-convert:hover {\n",
              "      background-color: #434B5C;\n",
              "      box-shadow: 0px 1px 3px 1px rgba(0, 0, 0, 0.15);\n",
              "      filter: drop-shadow(0px 1px 2px rgba(0, 0, 0, 0.3));\n",
              "      fill: #FFFFFF;\n",
              "    }\n",
              "  </style>\n",
              "\n",
              "      <script>\n",
              "        const buttonEl =\n",
              "          document.querySelector('#df-8398fa62-f77a-443d-8da3-684e6d01effc button.colab-df-convert');\n",
              "        buttonEl.style.display =\n",
              "          google.colab.kernel.accessAllowed ? 'block' : 'none';\n",
              "\n",
              "        async function convertToInteractive(key) {\n",
              "          const element = document.querySelector('#df-8398fa62-f77a-443d-8da3-684e6d01effc');\n",
              "          const dataTable =\n",
              "            await google.colab.kernel.invokeFunction('convertToInteractive',\n",
              "                                                     [key], {});\n",
              "          if (!dataTable) return;\n",
              "\n",
              "          const docLinkHtml = 'Like what you see? Visit the ' +\n",
              "            '<a target=\"_blank\" href=https://colab.research.google.com/notebooks/data_table.ipynb>data table notebook</a>'\n",
              "            + ' to learn more about interactive tables.';\n",
              "          element.innerHTML = '';\n",
              "          dataTable['output_type'] = 'display_data';\n",
              "          await google.colab.output.renderOutput(dataTable, element);\n",
              "          const docLink = document.createElement('div');\n",
              "          docLink.innerHTML = docLinkHtml;\n",
              "          element.appendChild(docLink);\n",
              "        }\n",
              "      </script>\n",
              "    </div>\n",
              "  </div>\n",
              "  "
            ]
          },
          "metadata": {}
        }
      ]
    },
    {
      "cell_type": "markdown",
      "source": [
        "Gerando os gráficos de relação entre a coluna quality e cada uma das colunas da lista list_corr:"
      ],
      "metadata": {
        "id": "_zmLlArvE9fF"
      }
    },
    {
      "cell_type": "code",
      "source": [
        "import plotly.express as px\n",
        "for i in range(6, 11):\n",
        "  fig  = px.scatter(tabela_redwine, x = 'quality', y = lista_corr[i], width = 500)\n",
        "  fig.update_traces(marker = dict(size = 12, line=dict(width = 2)), selector = dict(mode = 'markers'))\n",
        "  fig.update_layout(title = 'Correlação')\n",
        "  fig.update_xaxes(title = 'Qualidade do vinho')\n",
        "  fig.update_yaxes(title = lista_corr[i])\n",
        "  fig.show()"
      ],
      "metadata": {
        "id": "b5oEG4DyFKiD",
        "outputId": "168d5570-bf79-4e3c-e550-52b11ff3389a",
        "colab": {
          "base_uri": "https://localhost:8080/",
          "height": 1000
        }
      },
      "execution_count": 23,
      "outputs": [
        {
          "output_type": "display_data",
          "data": {
            "text/html": [
              "<html>\n",
              "<head><meta charset=\"utf-8\" /></head>\n",
              "<body>\n",
              "    <div>            <script src=\"https://cdnjs.cloudflare.com/ajax/libs/mathjax/2.7.5/MathJax.js?config=TeX-AMS-MML_SVG\"></script><script type=\"text/javascript\">if (window.MathJax && window.MathJax.Hub && window.MathJax.Hub.Config) {window.MathJax.Hub.Config({SVG: {font: \"STIX-Web\"}});}</script>                <script type=\"text/javascript\">window.PlotlyConfig = {MathJaxConfig: 'local'};</script>\n",
              "        <script src=\"https://cdn.plot.ly/plotly-2.18.2.min.js\"></script>                <div id=\"6ca1c7a7-f039-4051-919b-a4a13ab2aa5d\" class=\"plotly-graph-div\" style=\"height:525px; width:500px;\"></div>            <script type=\"text/javascript\">                                    window.PLOTLYENV=window.PLOTLYENV || {};                                    if (document.getElementById(\"6ca1c7a7-f039-4051-919b-a4a13ab2aa5d\")) {                    Plotly.newPlot(                        \"6ca1c7a7-f039-4051-919b-a4a13ab2aa5d\",                        [{\"hovertemplate\":\"quality=%{x}<br>total sulfur dioxide=%{y}<extra></extra>\",\"legendgroup\":\"\",\"marker\":{\"color\":\"#636efa\",\"symbol\":\"circle\",\"line\":{\"width\":2},\"size\":12},\"mode\":\"markers\",\"name\":\"\",\"showlegend\":false,\"x\":[5,5,5,6,5,5,7,7,5,5,5,5,5,5,7,5,4,6,6,5,5,5,6,5,5,5,6,5,6,5,6,5,6,6,7,4,5,4,6,5,5,4,5,5,5,5,5,6,6,5,6,5,5,5,5,6,5,5,7,5,5,5,5,5,6,6,5,5,4,5,5,6,5,4,5,5,5,5,6,5,6,5,5,5,5,5,4,6,5,5,5,6,6,6,5,5,5,5,6,5,5,5,5,6,6,6,6,6,6,5,5,5,5,5,5,5,7,5,5,5,6,6,5,5,5,5,5,6,5,5,5,5,6,6,6,4,5,5,5,5,6,5,4,6,5,5,5,5,4,6,5,4,6,6,5,5,6,5,5,5,5,5,6,5,5,5,5,5,5,6,5,5,5,5,6,7,4,7,5,5,5,6,7,5,5,7,6,6,6,5,6,5,5,5,5,5,6,5,5,6,4,6,6,5,5,7,6,6,6,6,6,5,6,6,7,6,5,5,6,6,6,5,5,5,5,5,5,7,5,4,5,5,5,7,4,8,6,6,6,5,5,5,8,7,6,7,5,5,6,6,7,5,5,6,6,6,5,5,5,5,5,6,6,5,5,5,6,5,6,6,6,6,6,5,5,6,5,6,7,5,5,6,6,7,5,6,5,6,6,5,7,7,6,5,6,7,6,6,6,6,5,7,6,6,6,6,6,5,5,6,6,5,7,7,6,5,6,5,5,7,6,5,5,7,5,6,6,5,6,7,6,6,6,6,6,5,6,6,6,6,7,8,5,5,5,7,5,6,5,6,6,6,5,6,6,7,6,4,6,5,5,7,5,5,6,5,6,5,7,7,5,7,6,6,5,6,5,6,5,6,6,6,5,8,6,7,7,7,6,5,5,6,6,6,6,7,5,8,5,5,3,6,5,5,5,6,5,6,6,6,5,5,6,6,5,6,5,5,6,6,5,8,5,5,6,5,6,7,6,6,7,7,6,6,8,6,5,7,7,7,7,7,6,6,7,5,6,7,5,6,3,6,5,6,5,5,5,5,5,6,6,5,6,5,6,6,6,7,5,5,6,5,6,6,5,6,6,6,6,6,6,6,5,5,6,5,6,5,5,5,6,6,6,6,6,5,4,6,6,4,5,5,6,5,5,7,7,6,7,5,8,7,5,6,5,5,5,6,6,6,6,4,6,5,6,6,7,6,6,6,5,5,6,5,6,5,6,5,5,5,5,5,6,5,5,6,5,5,6,4,5,5,5,5,7,6,5,5,7,5,4,7,6,5,5,5,6,5,5,7,6,4,5,6,6,5,5,6,6,5,5,5,5,6,5,5,5,5,5,6,5,5,5,5,5,5,5,3,5,5,5,5,6,6,5,6,6,6,4,4,5,5,5,6,6,5,5,5,5,5,6,5,5,5,5,5,5,4,5,6,5,6,5,5,5,5,5,5,6,5,5,6,5,5,5,5,6,6,5,6,5,5,6,6,6,5,5,5,5,6,6,6,5,5,6,5,5,5,6,6,5,6,6,5,5,6,5,5,5,5,6,5,6,5,6,5,6,5,5,7,6,5,5,7,6,6,7,7,5,6,5,6,5,4,6,6,6,5,5,5,7,5,5,5,7,8,6,4,3,4,5,5,7,7,5,7,5,6,5,6,5,6,5,5,5,6,7,7,7,6,5,6,5,5,5,6,6,6,6,5,4,7,7,7,4,6,5,5,6,6,5,6,7,6,5,5,5,6,6,6,7,3,5,7,7,5,5,6,6,6,6,6,6,7,6,5,6,6,6,5,5,7,6,4,7,5,5,6,6,4,7,5,7,7,7,7,7,7,7,7,7,7,7,6,5,6,6,7,5,6,5,5,6,6,7,5,6,5,6,7,5,7,5,5,7,5,6,5,6,6,7,5,5,6,5,6,5,6,7,6,6,7,7,7,7,5,7,7,5,7,6,5,6,6,6,7,6,5,6,5,6,7,6,6,5,6,7,7,5,6,6,7,7,5,7,6,5,6,7,6,6,6,5,6,6,5,5,7,6,7,5,7,6,8,6,6,6,6,7,7,5,7,5,6,6,7,6,5,7,6,7,6,6,5,7,6,7,8,6,6,7,6,5,5,7,6,6,6,6,5,6,7,5,6,6,7,6,6,6,6,6,5,8,6,6,6,4,7,6,6,5,6,6,5,7,7,7,6,6,5,6,6,6,6,6,5,6,6,7,6,6,7,6,5,6,6,7,7,6,5,7,6,7,5,5,5,7,6,6,6,6,6,6,6,4,7,5,6,5,6,5,5,6,5,4,6,5,7,5,6,6,6,6,6,7,8,5,7,5,7,6,5,6,6,6,6,6,6,6,6,6,6,6,5,5,5,7,5,6,5,4,6,4,6,4,4,5,5,6,5,6,5,5,6,6,5,5,5,5,5,5,6,6,5,4,5,4,6,6,6,6,8,6,6,5,5,6,6,4,6,7,6,6,6,5,5,6,5,5,5,6,6,4,5,6,6,3,6,6,6,5,5,5,5,4,5,6,5,6,6,6,6,6,6,5,6,5,7,6,5,6,5,6,5,5,6,5,6,6,5,6,5,5,5,5,6,5,5,5,5,6,5,6,5,5,4,6,5,5,6,6,4,5,6,5,3,5,5,6,6,6,5,5,5,5,5,5,5,6,5,5,5,5,6,5,5,7,6,5,6,8,6,7,6,6,7,6,6,5,5,5,7,5,5,5,6,4,6,6,5,5,5,5,6,6,7,6,5,5,5,6,7,6,5,5,6,6,5,5,8,7,7,5,6,6,6,5,7,6,4,6,6,5,7,4,3,5,5,6,5,5,7,7,3,5,4,4,5,4,5,5,5,5,6,6,5,5,7,6,6,6,5,5,5,6,6,3,6,6,5,6,5,6,6,6,6,5,6,5,5,4,5,6,5,6,6,6,6,6,5,6,5,7,6,6,6,5,5,6,7,6,6,7,6,5,5,5,8,5,5,6,5,6,7,5,5,5,5,6,6,5,6,6,6,5,6,6,6,6,6,6,5,6,5,5,7,6,6,6,6,5,6,6,6,6,5,6,5,6],\"xaxis\":\"x\",\"y\":[34.0,67.0,54.0,60.0,40.0,59.0,21.0,18.0,102.0,65.0,59.0,29.0,145.0,148.0,103.0,56.0,29.0,56.0,60.0,71.0,37.0,67.0,40.0,23.0,11.0,35.0,16.0,82.0,37.0,113.0,83.0,50.0,18.0,15.0,30.0,19.0,87.0,46.0,14.0,23.0,11.0,65.0,114.0,37.0,12.0,96.0,23.0,15.0,14.0,119.0,73.0,45.0,10.0,110.0,54.0,46.0,52.0,112.0,35.0,54.0,11.0,39.0,15.0,65.0,19.0,27.0,96.0,94.0,43.0,83.0,42.0,30.0,80.0,119.0,15.0,67.0,73.0,51.0,61.0,40.0,136.0,31.0,125.0,24.0,140.0,133.0,85.0,106.0,23.0,22.0,10.0,35.0,50.0,22.0,65.0,36.0,69.0,64.0,80.0,153.0,47.0,108.0,111.0,46.0,62.0,40.0,28.0,56.0,89.0,89.0,13.0,34.0,102.0,90.0,12.0,12.0,16.0,19.0,134.0,99.0,26.0,29.0,63.0,52.0,45.0,105.0,108.0,63.0,20.0,141.0,94.0,88.0,30.0,43.0,11.0,69.0,99.0,129.0,128.0,22.0,86.0,20.0,20.0,31.0,121.0,121.0,96.0,101.0,42.0,44.0,63.0,8.0,18.0,42.0,35.0,49.0,38.0,20.0,42.0,110.0,42.0,65.0,62.0,85.0,67.0,26.0,143.0,144.0,127.0,49.0,126.0,28.0,120.0,55.0,27.0,93.0,31.0,24.0,145.0,49.0,39.0,37.0,28.0,120.0,95.0,19.0,19.0,62.0,15.0,65.0,41.0,121.0,49.0,41.0,44.0,144.0,58.0,72.0,10.0,28.0,55.0,63.0,81.0,23.0,37.0,106.0,49.0,58.0,37.0,38.0,39.0,62.0,24.0,109.0,24.0,23.0,51.0,73.0,39.0,37.0,34.0,21.0,86.0,119.0,13.0,56.0,45.0,33.0,45.0,67.0,35.0,49.0,27.0,10.0,61.0,37.0,27.0,23.0,61.0,65.0,38.0,94.0,13.0,47.0,19.0,10.0,53.0,71.0,49.0,53.0,49.0,98.0,18.0,48.0,16.0,53.0,27.0,70.0,29.0,31.0,33.0,44.0,15.0,28.0,21.0,90.0,25.0,54.0,14.0,12.0,30.0,105.0,98.0,135.0,72.0,53.0,92.0,74.0,59.0,87.0,18.0,73.0,50.0,14.0,13.0,21.0,15.0,41.0,114.0,44.0,38.0,21.0,16.0,58.0,99.0,29.0,21.0,18.0,14.0,32.0,63.0,34.0,15.0,46.0,28.0,34.0,26.0,19.0,77.0,165.0,32.0,55.0,29.0,23.0,41.0,81.0,50.0,37.0,15.0,42.0,21.0,24.0,75.0,18.0,63.0,25.0,46.0,72.0,47.0,15.0,47.0,24.0,60.0,27.0,43.0,54.0,37.0,48.0,42.0,53.0,49.0,88.0,26.0,95.0,25.0,38.0,124.0,49.0,42.0,38.0,64.0,41.0,27.0,25.0,28.0,30.0,16.0,49.0,86.0,78.0,77.0,19.0,122.0,134.0,20.0,124.0,20.0,52.0,67.0,48.0,60.0,24.0,48.0,32.0,30.0,35.0,66.0,24.0,18.0,54.0,62.0,22.0,50.0,29.0,27.0,43.0,19.0,27.0,31.0,72.0,16.0,27.0,35.0,26.0,35.0,22.0,67.0,19.0,22.0,65.0,47.0,23.0,19.0,25.0,129.0,15.0,26.0,51.0,18.0,21.0,48.0,47.0,52.0,68.0,14.0,24.0,28.0,16.0,20.0,31.0,23.0,17.0,18.0,18.0,24.0,17.0,14.0,67.0,26.0,56.0,25.0,27.0,81.0,91.0,16.0,38.0,113.0,76.0,24.0,22.0,26.0,21.0,13.0,62.0,43.0,43.0,49.0,15.0,151.0,14.0,16.0,32.0,106.0,33.0,43.0,133.0,142.0,116.0,53.0,85.0,55.0,33.0,28.0,42.0,33.0,32.0,13.0,35.0,17.0,47.0,17.0,20.0,53.0,15.0,106.0,28.0,21.0,69.0,25.0,25.0,45.0,44.0,96.0,23.0,17.0,23.0,47.0,19.0,121.0,110.0,60.0,15.0,20.0,42.0,37.0,28.0,47.0,78.0,46.0,14.0,111.0,110.0,40.0,14.0,15.0,21.0,80.0,38.0,47.0,102.0,50.0,13.0,75.0,149.0,43.0,38.0,109.0,24.0,18.0,30.0,22.0,23.0,35.0,14.0,63.0,24.0,20.0,52.0,65.0,39.0,57.0,16.0,29.0,29.0,103.0,71.0,28.0,17.0,16.0,112.0,104.0,32.0,45.0,58.0,15.0,31.0,84.0,19.0,43.0,86.0,102.0,33.0,147.0,145.0,23.0,57.0,40.0,68.0,11.0,20.0,14.0,28.0,148.0,32.0,155.0,71.0,30.0,29.0,53.0,42.0,20.0,13.0,42.0,27.0,13.0,54.0,48.0,16.0,15.0,31.0,45.0,13.0,151.0,17.0,31.0,31.0,87.0,49.0,40.0,29.0,58.0,15.0,152.0,40.0,38.0,9.0,17.0,14.0,93.0,62.0,122.0,125.0,44.0,25.0,72.0,19.0,88.0,23.0,84.0,14.0,54.0,19.0,37.0,35.0,33.0,84.0,112.0,33.0,48.0,77.0,34.0,49.0,22.0,45.0,106.0,48.0,127.0,12.0,13.0,49.0,11.0,58.0,37.0,14.0,19.0,72.0,39.0,22.0,58.0,104.0,38.0,16.0,139.0,18.0,101.0,101.0,28.0,57.0,68.0,31.0,40.0,66.0,32.0,47.0,33.0,31.0,88.0,104.0,35.0,19.0,44.0,48.0,74.0,98.0,94.0,32.0,143.0,144.0,44.0,45.0,16.0,48.0,18.0,34.0,92.0,45.0,37.0,96.0,85.0,61.0,58.0,119.0,82.0,130.0,87.0,13.0,26.0,60.0,64.0,42.0,14.0,108.0,17.0,86.0,46.0,18.0,10.0,10.0,12.0,15.0,14.0,24.0,38.0,7.0,41.0,30.0,27.0,47.0,59.0,22.0,42.0,36.0,16.0,37.0,8.0,45.0,24.0,9.0,48.0,51.0,23.0,55.0,100.0,28.0,26.0,34.0,31.0,68.0,92.0,42.0,31.0,39.0,32.0,22.0,122.0,55.0,14.0,47.0,32.0,24.0,85.0,88.0,25.0,84.0,86.0,24.0,22.0,43.0,43.0,46.0,48.0,10.0,10.0,16.0,14.0,69.0,88.0,21.0,35.0,26.0,30.0,28.0,56.0,64.0,99.0,52.0,86.0,18.0,88.0,43.0,43.0,11.0,39.0,33.0,18.0,115.0,78.0,9.0,61.0,11.0,11.0,9.0,8.0,10.0,6.0,62.0,45.0,79.0,46.0,23.0,28.0,77.0,73.0,75.0,19.0,25.0,38.0,66.0,72.0,26.0,42.0,11.0,25.0,17.0,52.0,45.0,24.0,20.0,24.0,12.0,21.0,10.0,9.0,11.0,23.0,10.0,51.0,36.0,32.0,38.0,18.0,16.0,27.0,48.0,10.0,113.0,46.0,22.0,10.0,13.0,12.0,13.0,72.0,119.0,29.0,6.0,17.0,28.0,70.0,11.0,7.0,70.0,27.0,21.0,68.0,47.0,88.0,41.0,11.0,10.0,12.0,12.0,47.0,27.0,8.0,45.0,25.0,24.0,55.0,12.0,19.0,32.0,31.0,7.0,27.0,28.0,109.0,23.0,8.0,9.0,9.0,18.0,43.0,36.0,52.0,68.0,14.0,15.0,14.0,27.0,48.0,17.0,35.0,56.0,42.0,39.0,32.0,26.0,39.0,53.0,38.0,45.0,51.0,14.0,17.0,45.0,25.0,20.0,77.0,10.0,90.0,52.0,8.0,16.0,15.0,17.0,10.0,20.0,26.0,10.0,52.0,37.0,92.0,75.0,37.0,67.0,8.0,8.0,278.0,8.0,289.0,70.0,59.0,64.0,9.0,30.0,41.0,74.0,19.0,16.0,31.0,17.0,20.0,18.0,16.0,36.0,25.0,30.0,25.0,49.0,17.0,24.0,13.0,66.0,14.0,55.0,35.0,10.0,80.0,21.0,24.0,15.0,17.0,28.0,33.0,29.0,13.0,27.0,11.0,52.0,89.0,70.0,10.0,135.0,38.0,18.0,15.0,50.0,13.0,94.0,86.0,79.0,71.0,12.0,20.0,70.0,51.0,21.0,14.0,21.0,11.0,12.0,70.0,38.0,38.0,63.0,88.0,101.0,54.0,37.0,20.0,21.0,19.0,21.0,38.0,60.0,48.0,44.0,14.0,12.0,44.0,16.0,65.0,59.0,47.0,11.0,78.0,47.0,11.0,54.0,61.0,119.0,39.0,12.0,19.0,20.0,12.0,41.0,12.0,64.0,56.0,94.0,9.0,77.0,10.0,12.0,76.0,44.0,52.0,24.0,15.0,53.0,13.0,9.0,29.0,79.0,74.0,24.0,50.0,44.0,89.0,23.0,20.0,77.0,46.0,21.0,88.0,66.0,58.0,90.0,36.0,18.0,113.0,17.0,24.0,20.0,60.0,65.0,40.0,86.0,160.0,34.0,48.0,36.0,37.0,60.0,14.0,13.0,35.0,46.0,60.0,69.0,33.0,56.0,24.0,66.0,26.0,51.0,36.0,19.0,51.0,87.0,60.0,64.0,44.0,44.0,36.0,81.0,10.0,10.0,9.0,54.0,22.0,69.0,36.0,47.0,31.0,7.0,110.0,12.0,60.0,28.0,12.0,77.5,29.0,18.0,9.0,28.0,57.0,15.0,68.0,68.0,88.0,91.0,29.0,63.0,27.0,41.0,65.0,69.0,91.0,46.0,41.0,64.0,88.0,46.0,18.0,55.0,34.0,38.0,91.0,67.0,25.0,48.0,11.0,40.0,26.0,31.0,31.0,20.0,28.0,13.0,12.0,41.0,73.0,46.0,57.0,28.0,32.0,28.0,67.0,98.0,28.0,38.0,54.0,63.0,31.0,42.0,45.0,105.0,74.0,8.0,66.0,14.0,89.0,29.0,100.0,31.0,74.0,28.0,35.0,25.0,105.0,84.0,85.0,23.0,49.0,111.0,33.0,33.0,12.0,59.0,73.0,12.0,11.0,104.0,28.0,24.0,141.0,24.0,13.0,46.0,34.0,22.0,54.0,53.0,16.0,19.0,89.0,15.0,18.0,37.0,19.0,133.0,58.0,55.0,31.0,23.0,60.0,23.0,55.0,67.0,47.0,74.0,11.0,25.0,95.0,90.0,39.0,8.0,92.0,28.0,98.0,30.0,22.0,92.0,98.0,39.0,54.0,29.0,17.0,53.0,85.0,23.0,17.0,89.0,20.0,15.0,64.0,13.0,31.0,39.0,53.0,54.0,32.0,49.0,24.0,16.0,44.0,45.0,82.0,89.0,89.0,14.0,22.0,13.0,9.0,12.0,11.0,25.0,23.0,17.0,13.0,11.0,18.0,18.0,147.0,28.0,28.0,16.0,13.0,15.0,64.0,60.0,14.0,12.0,12.0,14.0,25.0,20.0,48.0,27.0,17.0,65.0,65.0,65.0,58.0,44.0,20.0,27.0,23.0,61.0,47.0,34.0,38.0,24.0,59.0,52.0,18.0,28.0,22.0,84.0,29.0,35.0,45.0,31.0,26.0,60.0,32.0,49.0,38.0,19.0,19.0,28.0,26.0,26.0,50.0,24.0,26.0,27.0,54.0,28.0,23.0,24.0,20.0,115.0,131.0,20.0,42.0,52.0,42.0,34.0,35.0,25.0,104.0,50.0,92.0,20.0,29.0,27.0,20.0,32.0,26.0,27.0,98.0,34.0,48.0,60.0,28.0,102.0,79.0,35.0,26.0,40.0,38.0,44.0,51.0,44.0,42.0],\"yaxis\":\"y\",\"type\":\"scattergl\"}],                        {\"template\":{\"data\":{\"histogram2dcontour\":[{\"type\":\"histogram2dcontour\",\"colorbar\":{\"outlinewidth\":0,\"ticks\":\"\"},\"colorscale\":[[0.0,\"#0d0887\"],[0.1111111111111111,\"#46039f\"],[0.2222222222222222,\"#7201a8\"],[0.3333333333333333,\"#9c179e\"],[0.4444444444444444,\"#bd3786\"],[0.5555555555555556,\"#d8576b\"],[0.6666666666666666,\"#ed7953\"],[0.7777777777777778,\"#fb9f3a\"],[0.8888888888888888,\"#fdca26\"],[1.0,\"#f0f921\"]]}],\"choropleth\":[{\"type\":\"choropleth\",\"colorbar\":{\"outlinewidth\":0,\"ticks\":\"\"}}],\"histogram2d\":[{\"type\":\"histogram2d\",\"colorbar\":{\"outlinewidth\":0,\"ticks\":\"\"},\"colorscale\":[[0.0,\"#0d0887\"],[0.1111111111111111,\"#46039f\"],[0.2222222222222222,\"#7201a8\"],[0.3333333333333333,\"#9c179e\"],[0.4444444444444444,\"#bd3786\"],[0.5555555555555556,\"#d8576b\"],[0.6666666666666666,\"#ed7953\"],[0.7777777777777778,\"#fb9f3a\"],[0.8888888888888888,\"#fdca26\"],[1.0,\"#f0f921\"]]}],\"heatmap\":[{\"type\":\"heatmap\",\"colorbar\":{\"outlinewidth\":0,\"ticks\":\"\"},\"colorscale\":[[0.0,\"#0d0887\"],[0.1111111111111111,\"#46039f\"],[0.2222222222222222,\"#7201a8\"],[0.3333333333333333,\"#9c179e\"],[0.4444444444444444,\"#bd3786\"],[0.5555555555555556,\"#d8576b\"],[0.6666666666666666,\"#ed7953\"],[0.7777777777777778,\"#fb9f3a\"],[0.8888888888888888,\"#fdca26\"],[1.0,\"#f0f921\"]]}],\"heatmapgl\":[{\"type\":\"heatmapgl\",\"colorbar\":{\"outlinewidth\":0,\"ticks\":\"\"},\"colorscale\":[[0.0,\"#0d0887\"],[0.1111111111111111,\"#46039f\"],[0.2222222222222222,\"#7201a8\"],[0.3333333333333333,\"#9c179e\"],[0.4444444444444444,\"#bd3786\"],[0.5555555555555556,\"#d8576b\"],[0.6666666666666666,\"#ed7953\"],[0.7777777777777778,\"#fb9f3a\"],[0.8888888888888888,\"#fdca26\"],[1.0,\"#f0f921\"]]}],\"contourcarpet\":[{\"type\":\"contourcarpet\",\"colorbar\":{\"outlinewidth\":0,\"ticks\":\"\"}}],\"contour\":[{\"type\":\"contour\",\"colorbar\":{\"outlinewidth\":0,\"ticks\":\"\"},\"colorscale\":[[0.0,\"#0d0887\"],[0.1111111111111111,\"#46039f\"],[0.2222222222222222,\"#7201a8\"],[0.3333333333333333,\"#9c179e\"],[0.4444444444444444,\"#bd3786\"],[0.5555555555555556,\"#d8576b\"],[0.6666666666666666,\"#ed7953\"],[0.7777777777777778,\"#fb9f3a\"],[0.8888888888888888,\"#fdca26\"],[1.0,\"#f0f921\"]]}],\"surface\":[{\"type\":\"surface\",\"colorbar\":{\"outlinewidth\":0,\"ticks\":\"\"},\"colorscale\":[[0.0,\"#0d0887\"],[0.1111111111111111,\"#46039f\"],[0.2222222222222222,\"#7201a8\"],[0.3333333333333333,\"#9c179e\"],[0.4444444444444444,\"#bd3786\"],[0.5555555555555556,\"#d8576b\"],[0.6666666666666666,\"#ed7953\"],[0.7777777777777778,\"#fb9f3a\"],[0.8888888888888888,\"#fdca26\"],[1.0,\"#f0f921\"]]}],\"mesh3d\":[{\"type\":\"mesh3d\",\"colorbar\":{\"outlinewidth\":0,\"ticks\":\"\"}}],\"scatter\":[{\"fillpattern\":{\"fillmode\":\"overlay\",\"size\":10,\"solidity\":0.2},\"type\":\"scatter\"}],\"parcoords\":[{\"type\":\"parcoords\",\"line\":{\"colorbar\":{\"outlinewidth\":0,\"ticks\":\"\"}}}],\"scatterpolargl\":[{\"type\":\"scatterpolargl\",\"marker\":{\"colorbar\":{\"outlinewidth\":0,\"ticks\":\"\"}}}],\"bar\":[{\"error_x\":{\"color\":\"#2a3f5f\"},\"error_y\":{\"color\":\"#2a3f5f\"},\"marker\":{\"line\":{\"color\":\"#E5ECF6\",\"width\":0.5},\"pattern\":{\"fillmode\":\"overlay\",\"size\":10,\"solidity\":0.2}},\"type\":\"bar\"}],\"scattergeo\":[{\"type\":\"scattergeo\",\"marker\":{\"colorbar\":{\"outlinewidth\":0,\"ticks\":\"\"}}}],\"scatterpolar\":[{\"type\":\"scatterpolar\",\"marker\":{\"colorbar\":{\"outlinewidth\":0,\"ticks\":\"\"}}}],\"histogram\":[{\"marker\":{\"pattern\":{\"fillmode\":\"overlay\",\"size\":10,\"solidity\":0.2}},\"type\":\"histogram\"}],\"scattergl\":[{\"type\":\"scattergl\",\"marker\":{\"colorbar\":{\"outlinewidth\":0,\"ticks\":\"\"}}}],\"scatter3d\":[{\"type\":\"scatter3d\",\"line\":{\"colorbar\":{\"outlinewidth\":0,\"ticks\":\"\"}},\"marker\":{\"colorbar\":{\"outlinewidth\":0,\"ticks\":\"\"}}}],\"scattermapbox\":[{\"type\":\"scattermapbox\",\"marker\":{\"colorbar\":{\"outlinewidth\":0,\"ticks\":\"\"}}}],\"scatterternary\":[{\"type\":\"scatterternary\",\"marker\":{\"colorbar\":{\"outlinewidth\":0,\"ticks\":\"\"}}}],\"scattercarpet\":[{\"type\":\"scattercarpet\",\"marker\":{\"colorbar\":{\"outlinewidth\":0,\"ticks\":\"\"}}}],\"carpet\":[{\"aaxis\":{\"endlinecolor\":\"#2a3f5f\",\"gridcolor\":\"white\",\"linecolor\":\"white\",\"minorgridcolor\":\"white\",\"startlinecolor\":\"#2a3f5f\"},\"baxis\":{\"endlinecolor\":\"#2a3f5f\",\"gridcolor\":\"white\",\"linecolor\":\"white\",\"minorgridcolor\":\"white\",\"startlinecolor\":\"#2a3f5f\"},\"type\":\"carpet\"}],\"table\":[{\"cells\":{\"fill\":{\"color\":\"#EBF0F8\"},\"line\":{\"color\":\"white\"}},\"header\":{\"fill\":{\"color\":\"#C8D4E3\"},\"line\":{\"color\":\"white\"}},\"type\":\"table\"}],\"barpolar\":[{\"marker\":{\"line\":{\"color\":\"#E5ECF6\",\"width\":0.5},\"pattern\":{\"fillmode\":\"overlay\",\"size\":10,\"solidity\":0.2}},\"type\":\"barpolar\"}],\"pie\":[{\"automargin\":true,\"type\":\"pie\"}]},\"layout\":{\"autotypenumbers\":\"strict\",\"colorway\":[\"#636efa\",\"#EF553B\",\"#00cc96\",\"#ab63fa\",\"#FFA15A\",\"#19d3f3\",\"#FF6692\",\"#B6E880\",\"#FF97FF\",\"#FECB52\"],\"font\":{\"color\":\"#2a3f5f\"},\"hovermode\":\"closest\",\"hoverlabel\":{\"align\":\"left\"},\"paper_bgcolor\":\"white\",\"plot_bgcolor\":\"#E5ECF6\",\"polar\":{\"bgcolor\":\"#E5ECF6\",\"angularaxis\":{\"gridcolor\":\"white\",\"linecolor\":\"white\",\"ticks\":\"\"},\"radialaxis\":{\"gridcolor\":\"white\",\"linecolor\":\"white\",\"ticks\":\"\"}},\"ternary\":{\"bgcolor\":\"#E5ECF6\",\"aaxis\":{\"gridcolor\":\"white\",\"linecolor\":\"white\",\"ticks\":\"\"},\"baxis\":{\"gridcolor\":\"white\",\"linecolor\":\"white\",\"ticks\":\"\"},\"caxis\":{\"gridcolor\":\"white\",\"linecolor\":\"white\",\"ticks\":\"\"}},\"coloraxis\":{\"colorbar\":{\"outlinewidth\":0,\"ticks\":\"\"}},\"colorscale\":{\"sequential\":[[0.0,\"#0d0887\"],[0.1111111111111111,\"#46039f\"],[0.2222222222222222,\"#7201a8\"],[0.3333333333333333,\"#9c179e\"],[0.4444444444444444,\"#bd3786\"],[0.5555555555555556,\"#d8576b\"],[0.6666666666666666,\"#ed7953\"],[0.7777777777777778,\"#fb9f3a\"],[0.8888888888888888,\"#fdca26\"],[1.0,\"#f0f921\"]],\"sequentialminus\":[[0.0,\"#0d0887\"],[0.1111111111111111,\"#46039f\"],[0.2222222222222222,\"#7201a8\"],[0.3333333333333333,\"#9c179e\"],[0.4444444444444444,\"#bd3786\"],[0.5555555555555556,\"#d8576b\"],[0.6666666666666666,\"#ed7953\"],[0.7777777777777778,\"#fb9f3a\"],[0.8888888888888888,\"#fdca26\"],[1.0,\"#f0f921\"]],\"diverging\":[[0,\"#8e0152\"],[0.1,\"#c51b7d\"],[0.2,\"#de77ae\"],[0.3,\"#f1b6da\"],[0.4,\"#fde0ef\"],[0.5,\"#f7f7f7\"],[0.6,\"#e6f5d0\"],[0.7,\"#b8e186\"],[0.8,\"#7fbc41\"],[0.9,\"#4d9221\"],[1,\"#276419\"]]},\"xaxis\":{\"gridcolor\":\"white\",\"linecolor\":\"white\",\"ticks\":\"\",\"title\":{\"standoff\":15},\"zerolinecolor\":\"white\",\"automargin\":true,\"zerolinewidth\":2},\"yaxis\":{\"gridcolor\":\"white\",\"linecolor\":\"white\",\"ticks\":\"\",\"title\":{\"standoff\":15},\"zerolinecolor\":\"white\",\"automargin\":true,\"zerolinewidth\":2},\"scene\":{\"xaxis\":{\"backgroundcolor\":\"#E5ECF6\",\"gridcolor\":\"white\",\"linecolor\":\"white\",\"showbackground\":true,\"ticks\":\"\",\"zerolinecolor\":\"white\",\"gridwidth\":2},\"yaxis\":{\"backgroundcolor\":\"#E5ECF6\",\"gridcolor\":\"white\",\"linecolor\":\"white\",\"showbackground\":true,\"ticks\":\"\",\"zerolinecolor\":\"white\",\"gridwidth\":2},\"zaxis\":{\"backgroundcolor\":\"#E5ECF6\",\"gridcolor\":\"white\",\"linecolor\":\"white\",\"showbackground\":true,\"ticks\":\"\",\"zerolinecolor\":\"white\",\"gridwidth\":2}},\"shapedefaults\":{\"line\":{\"color\":\"#2a3f5f\"}},\"annotationdefaults\":{\"arrowcolor\":\"#2a3f5f\",\"arrowhead\":0,\"arrowwidth\":1},\"geo\":{\"bgcolor\":\"white\",\"landcolor\":\"#E5ECF6\",\"subunitcolor\":\"white\",\"showland\":true,\"showlakes\":true,\"lakecolor\":\"white\"},\"title\":{\"x\":0.05},\"mapbox\":{\"style\":\"light\"}}},\"xaxis\":{\"anchor\":\"y\",\"domain\":[0.0,1.0],\"title\":{\"text\":\"Qualidade do vinho\"}},\"yaxis\":{\"anchor\":\"x\",\"domain\":[0.0,1.0],\"title\":{\"text\":\"total sulfur dioxide\"}},\"legend\":{\"tracegroupgap\":0},\"margin\":{\"t\":60},\"width\":500,\"title\":{\"text\":\"Correla\\u00e7\\u00e3o\"}},                        {\"responsive\": true}                    ).then(function(){\n",
              "                            \n",
              "var gd = document.getElementById('6ca1c7a7-f039-4051-919b-a4a13ab2aa5d');\n",
              "var x = new MutationObserver(function (mutations, observer) {{\n",
              "        var display = window.getComputedStyle(gd).display;\n",
              "        if (!display || display === 'none') {{\n",
              "            console.log([gd, 'removed!']);\n",
              "            Plotly.purge(gd);\n",
              "            observer.disconnect();\n",
              "        }}\n",
              "}});\n",
              "\n",
              "// Listen for the removal of the full notebook cells\n",
              "var notebookContainer = gd.closest('#notebook-container');\n",
              "if (notebookContainer) {{\n",
              "    x.observe(notebookContainer, {childList: true});\n",
              "}}\n",
              "\n",
              "// Listen for the clearing of the current output cell\n",
              "var outputEl = gd.closest('.output');\n",
              "if (outputEl) {{\n",
              "    x.observe(outputEl, {childList: true});\n",
              "}}\n",
              "\n",
              "                        })                };                            </script>        </div>\n",
              "</body>\n",
              "</html>"
            ]
          },
          "metadata": {}
        },
        {
          "output_type": "display_data",
          "data": {
            "text/html": [
              "<html>\n",
              "<head><meta charset=\"utf-8\" /></head>\n",
              "<body>\n",
              "    <div>            <script src=\"https://cdnjs.cloudflare.com/ajax/libs/mathjax/2.7.5/MathJax.js?config=TeX-AMS-MML_SVG\"></script><script type=\"text/javascript\">if (window.MathJax && window.MathJax.Hub && window.MathJax.Hub.Config) {window.MathJax.Hub.Config({SVG: {font: \"STIX-Web\"}});}</script>                <script type=\"text/javascript\">window.PlotlyConfig = {MathJaxConfig: 'local'};</script>\n",
              "        <script src=\"https://cdn.plot.ly/plotly-2.18.2.min.js\"></script>                <div id=\"52c02c03-3552-4974-aeae-c5012ab0f41f\" class=\"plotly-graph-div\" style=\"height:525px; width:500px;\"></div>            <script type=\"text/javascript\">                                    window.PLOTLYENV=window.PLOTLYENV || {};                                    if (document.getElementById(\"52c02c03-3552-4974-aeae-c5012ab0f41f\")) {                    Plotly.newPlot(                        \"52c02c03-3552-4974-aeae-c5012ab0f41f\",                        [{\"hovertemplate\":\"quality=%{x}<br>density=%{y}<extra></extra>\",\"legendgroup\":\"\",\"marker\":{\"color\":\"#636efa\",\"symbol\":\"circle\",\"line\":{\"width\":2},\"size\":12},\"mode\":\"markers\",\"name\":\"\",\"showlegend\":false,\"x\":[5,5,5,6,5,5,7,7,5,5,5,5,5,5,7,5,4,6,6,5,5,5,6,5,5,5,6,5,6,5,6,5,6,6,7,4,5,4,6,5,5,4,5,5,5,5,5,6,6,5,6,5,5,5,5,6,5,5,7,5,5,5,5,5,6,6,5,5,4,5,5,6,5,4,5,5,5,5,6,5,6,5,5,5,5,5,4,6,5,5,5,6,6,6,5,5,5,5,6,5,5,5,5,6,6,6,6,6,6,5,5,5,5,5,5,5,7,5,5,5,6,6,5,5,5,5,5,6,5,5,5,5,6,6,6,4,5,5,5,5,6,5,4,6,5,5,5,5,4,6,5,4,6,6,5,5,6,5,5,5,5,5,6,5,5,5,5,5,5,6,5,5,5,5,6,7,4,7,5,5,5,6,7,5,5,7,6,6,6,5,6,5,5,5,5,5,6,5,5,6,4,6,6,5,5,7,6,6,6,6,6,5,6,6,7,6,5,5,6,6,6,5,5,5,5,5,5,7,5,4,5,5,5,7,4,8,6,6,6,5,5,5,8,7,6,7,5,5,6,6,7,5,5,6,6,6,5,5,5,5,5,6,6,5,5,5,6,5,6,6,6,6,6,5,5,6,5,6,7,5,5,6,6,7,5,6,5,6,6,5,7,7,6,5,6,7,6,6,6,6,5,7,6,6,6,6,6,5,5,6,6,5,7,7,6,5,6,5,5,7,6,5,5,7,5,6,6,5,6,7,6,6,6,6,6,5,6,6,6,6,7,8,5,5,5,7,5,6,5,6,6,6,5,6,6,7,6,4,6,5,5,7,5,5,6,5,6,5,7,7,5,7,6,6,5,6,5,6,5,6,6,6,5,8,6,7,7,7,6,5,5,6,6,6,6,7,5,8,5,5,3,6,5,5,5,6,5,6,6,6,5,5,6,6,5,6,5,5,6,6,5,8,5,5,6,5,6,7,6,6,7,7,6,6,8,6,5,7,7,7,7,7,6,6,7,5,6,7,5,6,3,6,5,6,5,5,5,5,5,6,6,5,6,5,6,6,6,7,5,5,6,5,6,6,5,6,6,6,6,6,6,6,5,5,6,5,6,5,5,5,6,6,6,6,6,5,4,6,6,4,5,5,6,5,5,7,7,6,7,5,8,7,5,6,5,5,5,6,6,6,6,4,6,5,6,6,7,6,6,6,5,5,6,5,6,5,6,5,5,5,5,5,6,5,5,6,5,5,6,4,5,5,5,5,7,6,5,5,7,5,4,7,6,5,5,5,6,5,5,7,6,4,5,6,6,5,5,6,6,5,5,5,5,6,5,5,5,5,5,6,5,5,5,5,5,5,5,3,5,5,5,5,6,6,5,6,6,6,4,4,5,5,5,6,6,5,5,5,5,5,6,5,5,5,5,5,5,4,5,6,5,6,5,5,5,5,5,5,6,5,5,6,5,5,5,5,6,6,5,6,5,5,6,6,6,5,5,5,5,6,6,6,5,5,6,5,5,5,6,6,5,6,6,5,5,6,5,5,5,5,6,5,6,5,6,5,6,5,5,7,6,5,5,7,6,6,7,7,5,6,5,6,5,4,6,6,6,5,5,5,7,5,5,5,7,8,6,4,3,4,5,5,7,7,5,7,5,6,5,6,5,6,5,5,5,6,7,7,7,6,5,6,5,5,5,6,6,6,6,5,4,7,7,7,4,6,5,5,6,6,5,6,7,6,5,5,5,6,6,6,7,3,5,7,7,5,5,6,6,6,6,6,6,7,6,5,6,6,6,5,5,7,6,4,7,5,5,6,6,4,7,5,7,7,7,7,7,7,7,7,7,7,7,6,5,6,6,7,5,6,5,5,6,6,7,5,6,5,6,7,5,7,5,5,7,5,6,5,6,6,7,5,5,6,5,6,5,6,7,6,6,7,7,7,7,5,7,7,5,7,6,5,6,6,6,7,6,5,6,5,6,7,6,6,5,6,7,7,5,6,6,7,7,5,7,6,5,6,7,6,6,6,5,6,6,5,5,7,6,7,5,7,6,8,6,6,6,6,7,7,5,7,5,6,6,7,6,5,7,6,7,6,6,5,7,6,7,8,6,6,7,6,5,5,7,6,6,6,6,5,6,7,5,6,6,7,6,6,6,6,6,5,8,6,6,6,4,7,6,6,5,6,6,5,7,7,7,6,6,5,6,6,6,6,6,5,6,6,7,6,6,7,6,5,6,6,7,7,6,5,7,6,7,5,5,5,7,6,6,6,6,6,6,6,4,7,5,6,5,6,5,5,6,5,4,6,5,7,5,6,6,6,6,6,7,8,5,7,5,7,6,5,6,6,6,6,6,6,6,6,6,6,6,5,5,5,7,5,6,5,4,6,4,6,4,4,5,5,6,5,6,5,5,6,6,5,5,5,5,5,5,6,6,5,4,5,4,6,6,6,6,8,6,6,5,5,6,6,4,6,7,6,6,6,5,5,6,5,5,5,6,6,4,5,6,6,3,6,6,6,5,5,5,5,4,5,6,5,6,6,6,6,6,6,5,6,5,7,6,5,6,5,6,5,5,6,5,6,6,5,6,5,5,5,5,6,5,5,5,5,6,5,6,5,5,4,6,5,5,6,6,4,5,6,5,3,5,5,6,6,6,5,5,5,5,5,5,5,6,5,5,5,5,6,5,5,7,6,5,6,8,6,7,6,6,7,6,6,5,5,5,7,5,5,5,6,4,6,6,5,5,5,5,6,6,7,6,5,5,5,6,7,6,5,5,6,6,5,5,8,7,7,5,6,6,6,5,7,6,4,6,6,5,7,4,3,5,5,6,5,5,7,7,3,5,4,4,5,4,5,5,5,5,6,6,5,5,7,6,6,6,5,5,5,6,6,3,6,6,5,6,5,6,6,6,6,5,6,5,5,4,5,6,5,6,6,6,6,6,5,6,5,7,6,6,6,5,5,6,7,6,6,7,6,5,5,5,8,5,5,6,5,6,7,5,5,5,5,6,6,5,6,6,6,5,6,6,6,6,6,6,5,6,5,5,7,6,6,6,6,5,6,6,6,6,5,6,5,6],\"xaxis\":\"x\",\"y\":[0.9978,0.9968,0.997,0.998,0.9978,0.9964,0.9946,0.9968,0.9978,0.9959,0.9943,0.9974,0.9986,0.9986,0.9969,0.9968,0.9974,0.9969,0.9968,0.9982,0.9966,0.9968,0.9968,0.9955,0.9962,0.9972,0.9964,0.9958,0.9966,0.9966,0.9993,0.9957,0.9986,0.9975,0.9968,0.994,0.9978,0.9976,0.9968,0.9968,0.9962,0.9934,0.997,0.9969,0.9958,0.9954,0.9971,0.9956,0.9955,0.997,0.9955,0.9978,0.9971,0.9983,0.9975,0.9962,0.998,0.9968,0.9968,0.9966,0.9962,0.9968,0.9962,0.9969,0.9962,0.9967,0.9962,0.9961,0.9976,0.9984,0.9986,0.9966,0.9958,0.9972,0.9958,0.9974,0.997,0.9969,0.9959,0.9961,0.9972,0.9966,0.9978,0.9978,0.9964,0.9972,0.9938,0.9932,0.9965,0.9963,0.9967,0.9972,0.9972,0.9959,0.9967,0.996,0.9973,0.9969,0.9976,0.9969,0.9964,0.9964,0.9964,0.9988,0.9966,0.9978,0.997,0.9962,0.9959,0.9962,0.998,0.9976,0.996,0.9984,0.9964,0.9964,0.9962,0.9955,0.9968,0.9937,0.9952,0.9959,0.9965,0.9968,0.9972,0.9962,0.9962,0.9916,0.9954,0.9968,0.9944,0.9968,0.9959,0.9975,0.9958,0.9996,0.995,0.9973,0.9973,0.9969,0.9968,0.9959,0.9965,0.9964,0.9982,0.9981,0.9961,0.9956,0.9956,0.9953,0.9964,0.9972,0.9972,0.9961,0.9961,0.9958,0.9972,0.9969,0.9969,0.9972,0.9972,0.9971,0.997,0.9971,0.9972,0.9976,0.9968,0.9968,0.9976,0.9974,0.9969,0.9964,0.9968,0.9968,0.9981,0.9924,0.9948,0.99695,0.9975,0.99545,0.9961,0.99615,0.9994,0.99625,0.9966,0.998,0.99585,0.99685,0.998,0.9959,0.9974,0.9974,0.9962,0.9967,0.9957,0.99655,0.9964,0.9957,0.99525,0.99815,0.99745,0.99615,0.9964,0.9984,0.99685,0.9927,0.99625,0.998,0.99685,0.99675,0.99675,0.9971,0.99925,0.99565,1.00005,0.9983,0.99685,0.9963,0.99615,0.9985,0.9972,0.9986,0.9959,0.99675,0.998,0.9968,0.9968,0.99965,0.99625,0.99565,0.99575,0.9963,0.9999,0.9968,1.00025,0.9973,0.9987,0.9996,0.9965,0.99935,0.99735,0.99915,0.9976,0.9991,0.9986,0.9972,0.9971,1.00015,0.9997,0.9967,0.9976,1.001,0.9979,0.9994,0.9964,1.0014,1.0001,0.9981,0.99855,0.9993,0.99845,0.9965,0.9973,0.9994,0.996,0.9973,0.9998,0.9966,0.9994,0.9994,0.9968,0.996,0.99815,0.9976,0.99645,0.9962,0.9996,0.99865,0.9989,0.99975,0.99735,0.999,1.0015,0.9978,0.998,1.0002,0.9981,0.998,0.9973,0.9958,0.9963,0.9992,0.9948,0.9974,1.0008,0.9997,1.0,0.9972,0.9982,1.0006,0.9979,0.9955,0.9986,0.9979,0.9994,1.0004,0.9994,0.9974,1.0018,0.9912,0.9955,1.0001,0.997,1.0,1.001,0.9973,0.9982,0.9992,0.9988,1.0022,0.9979,1.0,0.9998,0.9962,0.9975,0.9967,0.9967,0.9959,1.0014,0.9984,1.0003,0.9988,0.9979,0.9974,1.0014,0.998,0.9979,0.9981,0.9972,0.9981,0.9982,0.9924,0.998,0.997,0.9997,1.0004,0.9994,0.9988,0.9963,0.9949,1.0,0.9994,0.9974,0.9966,0.9981,0.9996,0.997,0.9981,0.9987,0.9987,0.9966,0.9986,0.9982,1.0014,0.997,0.9956,0.9996,0.9976,0.9972,0.9952,0.9955,0.9978,0.9949,0.9988,0.9978,0.9997,0.9974,0.9958,1.0004,0.9996,0.9958,0.9986,0.9951,0.9987,0.9988,1.0032,0.9963,0.9934,0.9986,0.9996,0.9968,0.9967,0.9994,0.9979,0.9968,0.9998,0.9952,0.9988,0.9986,0.9988,1.0008,0.9976,0.9982,0.997,0.9972,0.9987,1.0006,0.9982,0.9947,1.0,0.9952,0.9996,0.997,0.9995,0.9971,0.9982,0.9988,0.998,0.9977,0.9984,1.0026,0.9964,0.9986,0.9986,0.997,0.9976,0.9982,1.0002,0.9984,0.9984,0.9952,0.995,1.0002,0.9952,0.9972,0.9984,0.9966,0.999,0.9976,0.9976,0.9968,0.9976,1.0,0.9994,0.9986,0.9978,0.998,0.9973,1.001,1.001,0.9994,0.9972,0.9966,0.9982,0.998,0.9979,0.9978,0.9976,0.9998,0.9962,0.9988,0.9974,0.999,1.0004,0.9956,1.0,0.9972,1.0014,0.9996,0.9988,0.9988,0.9966,0.9993,1.0008,0.9982,0.9983,0.9987,0.9994,0.9975,0.9958,0.998,0.998,0.9934,1.00315,1.0002,1.00315,1.0021,0.9994,0.9978,0.9982,0.9971,0.9991,0.999,0.9946,1.0003,0.9978,0.9991,0.9992,0.9993,0.9978,0.9982,0.9982,0.9976,1.0002,1.0,0.9976,1.0002,0.998,0.9986,0.9967,0.9917,0.9976,0.9987,0.9922,1.0004,0.9978,0.9998,0.9994,0.998,0.9967,1.0,0.9962,1.0006,0.9975,0.9984,0.9984,0.9973,0.9982,1.0026,0.9956,0.9983,1.0006,0.9965,0.9962,0.9969,0.9997,0.9982,1.0006,0.9988,0.9976,0.9976,0.9974,0.9974,0.9997,0.9988,0.9976,0.9964,0.9988,0.9964,1.001,0.9964,0.9954,0.9979,0.9978,0.9964,0.997,0.9991,0.9992,0.9984,0.9972,0.9967,0.9964,0.9948,0.9986,1.001,0.9976,0.9976,0.9979,1.0004,0.998,0.9973,0.997,0.9978,0.9972,0.9974,1.0,0.9981,0.998,0.9988,0.9966,0.9959,0.9968,0.998,0.9984,0.9984,0.9979,0.9983,0.9972,1.0004,0.9962,0.998,0.997,0.998,0.997,0.9998,0.9962,0.9976,0.9966,0.9998,0.9979,0.9984,0.9984,0.9921,0.9972,1.0001,0.9986,0.9984,0.997,0.9972,0.998,0.999,0.9956,0.9966,0.996,0.9983,0.9985,0.9998,0.9992,0.9976,0.998,0.9967,0.9968,0.9976,0.9976,0.9982,0.9968,0.9965,0.9958,0.9976,0.9994,0.997,0.995,0.9982,0.9994,0.9966,0.998,0.9987,0.9963,1.0002,0.9983,0.999,0.9965,0.99788,0.9972,1.00024,1.0001,0.99768,0.9978,0.99782,0.99761,0.99803,0.99785,0.99656,0.99525,0.99488,0.99656,0.99823,0.99779,0.99738,0.99701,0.99888,0.99888,0.99738,0.99938,0.99744,0.99668,0.9978,0.99782,0.9973,0.99727,0.99586,0.99612,0.9961,0.99788,0.99745,0.99676,0.99732,0.99814,0.99746,0.9982,0.9991,0.998,0.99708,0.99818,0.99745,0.99639,0.99531,0.99786,0.99746,0.99526,0.9987,0.99641,0.99735,0.99264,0.9971,0.99682,0.99356,0.99386,0.99702,0.99693,0.99562,1.00012,0.99818,0.99462,0.99939,0.9984,0.99545,0.99632,0.99976,0.99606,0.99154,0.9973,0.99682,0.99624,0.9951,0.99417,0.99376,0.99632,0.99832,0.99836,0.99694,0.99655,0.99064,0.99672,0.99647,0.99736,0.99629,0.99708,0.9963,0.9959,0.99689,0.9977,0.99689,0.99708,0.99801,0.99652,0.99538,0.99594,0.99686,0.99438,0.99746,0.99357,0.99628,0.99746,0.99748,0.99438,0.99438,0.99578,0.99371,0.99522,0.99576,0.99552,0.99664,0.99614,0.99517,0.99787,0.99745,0.99576,0.99533,0.99536,0.99824,0.99836,0.99577,0.99491,1.00289,0.99576,0.99743,0.99774,0.99745,0.9955,0.99444,0.99892,0.99562,0.99736,0.9962,0.998,0.9964,0.9948,0.99528,0.99331,0.99577,0.99901,0.99674,0.99639,0.99512,0.99395,0.99824,0.9964,0.99504,0.99786,0.99516,0.99604,0.99786,0.99736,0.99468,0.99746,0.99748,0.9971,0.99543,0.99791,0.99356,0.99425,0.99509,0.99484,0.99834,0.99864,0.99498,0.99566,0.99745,0.99408,0.99552,0.99536,0.99458,0.99538,0.99648,0.99568,0.99613,0.99519,0.99735,0.99518,0.99592,0.99654,0.99546,0.99554,0.99604,0.99733,0.9943,0.99669,0.99724,0.99643,0.99605,0.99658,0.997,0.99801,0.99416,0.9969,0.99774,0.99712,0.99418,0.99562,0.9947,0.99693,0.99596,0.99556,0.99694,0.99554,0.99918,0.99697,0.99378,0.99554,0.99162,0.99495,0.99676,0.99516,0.9928,0.99603,0.99516,0.99549,0.99722,0.99354,0.9957,0.99604,0.99635,0.99454,0.99598,0.99486,0.99007,0.99636,0.99642,0.99584,0.99506,0.99568,0.99822,0.99364,0.99378,0.99586,0.99488,0.99514,0.99854,0.99592,0.99739,0.99683,0.99356,0.99672,0.9953,0.99692,0.99756,0.99547,0.99859,0.99294,0.99438,0.99612,0.99634,0.99702,0.99704,0.99702,0.99258,0.99426,0.99747,0.99586,0.99784,0.9971,0.9981,0.99462,0.9956,0.99565,0.99418,0.9963,0.99358,0.99572,0.997,0.99498,0.99892,0.9968,0.9972,0.99769,0.99534,0.99817,0.99316,0.99471,0.99316,0.99685,0.99617,0.99529,0.99738,0.994,0.99735,0.99451,0.99546,0.99479,0.99615,0.99655,0.99772,0.99666,0.99358,0.99392,0.99388,0.99402,0.9936,0.99374,0.99376,0.99523,0.99855,0.9982,0.99593,0.99471,0.99396,0.99698,0.9902,0.99572,0.99252,0.99256,0.99235,0.99352,0.9922,0.99674,0.99557,0.99394,0.9915,0.99379,0.9984,0.99798,0.9977,0.99341,0.9933,0.99684,0.99524,0.9946,0.99774,0.99786,0.99764,0.9969,0.99624,0.99354,0.99672,0.99588,0.99672,0.996,0.99702,0.99526,0.99585,0.99473,0.99352,0.99616,0.99622,0.99544,0.99524,0.9924,0.99572,0.99728,0.99676,0.99551,0.99434,0.99692,0.99634,0.99709,0.99528,0.99384,0.99502,0.99667,0.99522,0.99649,0.99716,0.99541,0.99572,0.99318,0.99346,0.99599,0.99478,0.99754,0.99572,0.99538,0.99346,0.9963,0.99616,0.99652,0.99551,0.99439,0.99551,0.99588,0.99633,0.99686,0.99458,0.9951,0.99419,0.99516,0.99878,0.99534,0.99752,0.99428,0.99498,0.9957,0.99659,0.99628,0.99488,0.99677,0.99408,0.996,0.99478,0.99734,0.99678,0.99638,0.9992,0.99922,0.99592,0.99769,0.99157,0.99718,0.9947,0.99621,0.99614,0.99242,0.99572,0.99659,0.99798,0.99488,0.99494,0.99729,0.99414,0.9983,0.99721,0.99655,0.99502,0.9949,0.99514,0.9963,0.99627,0.99569,0.99628,0.99358,0.99499,0.99633,0.99538,0.99632,0.99437,0.99726,0.9978,0.99456,0.99564,0.996,0.99668,0.9908,0.99084,0.9935,0.99385,0.99494,0.9944,0.99688,0.99566,0.99636,0.9948,0.9956,0.99619,0.99734,0.99476,0.99734,0.99328,0.99286,0.99914,0.99521,0.99638,0.99362,0.99672,0.99558,0.99323,0.99191,0.99476,0.99444,0.99598,0.99576,0.99501,0.9955,0.99612,0.9979,0.99524,0.996,0.9929,0.99532,0.99558,0.99556,0.99616,0.99258,0.99638,0.99652,0.99796,0.99258,0.99392,0.99495,0.9948,0.9955,0.99616,0.99668,0.99581,0.9976,0.99608,0.99387,0.99448,0.99538,0.99589,0.99852,0.99613,0.99472,0.99587,0.99518,0.99654,0.99332,0.9969,0.99568,0.99464,0.99464,0.99648,0.99736,0.99704,0.99699,0.99724,0.99652,0.995,0.9971,0.99576,0.99725,0.99656,0.99396,0.99623,0.99476,0.99664,0.99471,0.99586,0.9946,0.9953,0.99609,0.99557,0.99534,0.99613,0.99593,0.99668,0.9961,0.99718,0.99524,0.99292,0.99612,0.9942,0.99612,0.99669,0.99745,0.99745,0.99584,0.9966,0.9956,0.9962,0.9963,0.996,0.9985,0.9952,0.9974,0.995,0.995,0.9936,0.9963,0.9963,0.9994,0.9966,0.9952,0.995,0.9956,0.9965,0.9956,0.9968,0.9974,0.9971,0.9957,0.9962,0.996,0.9956,0.9958,0.9944,0.9955,1.00369,0.99914,0.99577,0.996,0.99566,0.9947,0.99713,0.99712,0.99322,0.99566,0.99713,0.99701,0.99683,0.99472,0.99732,0.99374,0.99706,0.99974,0.99467,0.99236,0.99603,0.99458,0.99724,0.99664,0.99545,0.99522,0.9958,0.99728,0.99648,0.99705,0.99578,0.99334,0.99656,0.99336,1.00242,0.99182,0.99182,0.99808,0.99828,0.99498,0.99719,0.99542,0.99592,0.99606,0.99546,0.99496,0.9942,0.99448,0.99344,0.99348,0.99636,0.99459,0.99492,0.99508,0.99582,0.99508,0.99642,0.99638,0.99555,0.99605,0.996,0.99562,0.99814,0.9941,0.99661,0.99712,0.99588,0.99294,0.99842,0.99842,0.99633,0.99489,0.99647,0.99665,0.99585,0.9953,0.99522,0.99552,0.99553,0.9951,0.99714,0.99608,0.99444,0.99631,0.99573,0.99717,0.99397,0.9959,0.99528,0.99484,0.99538,0.99714,0.99646,0.99666,0.99472,0.99758,0.9955,0.99531,0.99575,0.99306,0.99783,0.99419,0.99783,0.99768,0.99586,0.99765,0.99627,0.99514,0.99636,0.99787,0.99622,0.99546,0.99489,0.99494,0.99629,0.99396,0.9934,0.99514,0.99632,0.99467,0.99677,0.99474,0.99588,0.99622,0.9954,0.99402,0.9947,0.99362,0.99578,0.99484,0.99494,0.99492,0.99483,0.99414,0.9977,0.99314,0.99402,0.99574,0.99651,0.9949,0.99512,0.99547,0.99549],\"yaxis\":\"y\",\"type\":\"scattergl\"}],                        {\"template\":{\"data\":{\"histogram2dcontour\":[{\"type\":\"histogram2dcontour\",\"colorbar\":{\"outlinewidth\":0,\"ticks\":\"\"},\"colorscale\":[[0.0,\"#0d0887\"],[0.1111111111111111,\"#46039f\"],[0.2222222222222222,\"#7201a8\"],[0.3333333333333333,\"#9c179e\"],[0.4444444444444444,\"#bd3786\"],[0.5555555555555556,\"#d8576b\"],[0.6666666666666666,\"#ed7953\"],[0.7777777777777778,\"#fb9f3a\"],[0.8888888888888888,\"#fdca26\"],[1.0,\"#f0f921\"]]}],\"choropleth\":[{\"type\":\"choropleth\",\"colorbar\":{\"outlinewidth\":0,\"ticks\":\"\"}}],\"histogram2d\":[{\"type\":\"histogram2d\",\"colorbar\":{\"outlinewidth\":0,\"ticks\":\"\"},\"colorscale\":[[0.0,\"#0d0887\"],[0.1111111111111111,\"#46039f\"],[0.2222222222222222,\"#7201a8\"],[0.3333333333333333,\"#9c179e\"],[0.4444444444444444,\"#bd3786\"],[0.5555555555555556,\"#d8576b\"],[0.6666666666666666,\"#ed7953\"],[0.7777777777777778,\"#fb9f3a\"],[0.8888888888888888,\"#fdca26\"],[1.0,\"#f0f921\"]]}],\"heatmap\":[{\"type\":\"heatmap\",\"colorbar\":{\"outlinewidth\":0,\"ticks\":\"\"},\"colorscale\":[[0.0,\"#0d0887\"],[0.1111111111111111,\"#46039f\"],[0.2222222222222222,\"#7201a8\"],[0.3333333333333333,\"#9c179e\"],[0.4444444444444444,\"#bd3786\"],[0.5555555555555556,\"#d8576b\"],[0.6666666666666666,\"#ed7953\"],[0.7777777777777778,\"#fb9f3a\"],[0.8888888888888888,\"#fdca26\"],[1.0,\"#f0f921\"]]}],\"heatmapgl\":[{\"type\":\"heatmapgl\",\"colorbar\":{\"outlinewidth\":0,\"ticks\":\"\"},\"colorscale\":[[0.0,\"#0d0887\"],[0.1111111111111111,\"#46039f\"],[0.2222222222222222,\"#7201a8\"],[0.3333333333333333,\"#9c179e\"],[0.4444444444444444,\"#bd3786\"],[0.5555555555555556,\"#d8576b\"],[0.6666666666666666,\"#ed7953\"],[0.7777777777777778,\"#fb9f3a\"],[0.8888888888888888,\"#fdca26\"],[1.0,\"#f0f921\"]]}],\"contourcarpet\":[{\"type\":\"contourcarpet\",\"colorbar\":{\"outlinewidth\":0,\"ticks\":\"\"}}],\"contour\":[{\"type\":\"contour\",\"colorbar\":{\"outlinewidth\":0,\"ticks\":\"\"},\"colorscale\":[[0.0,\"#0d0887\"],[0.1111111111111111,\"#46039f\"],[0.2222222222222222,\"#7201a8\"],[0.3333333333333333,\"#9c179e\"],[0.4444444444444444,\"#bd3786\"],[0.5555555555555556,\"#d8576b\"],[0.6666666666666666,\"#ed7953\"],[0.7777777777777778,\"#fb9f3a\"],[0.8888888888888888,\"#fdca26\"],[1.0,\"#f0f921\"]]}],\"surface\":[{\"type\":\"surface\",\"colorbar\":{\"outlinewidth\":0,\"ticks\":\"\"},\"colorscale\":[[0.0,\"#0d0887\"],[0.1111111111111111,\"#46039f\"],[0.2222222222222222,\"#7201a8\"],[0.3333333333333333,\"#9c179e\"],[0.4444444444444444,\"#bd3786\"],[0.5555555555555556,\"#d8576b\"],[0.6666666666666666,\"#ed7953\"],[0.7777777777777778,\"#fb9f3a\"],[0.8888888888888888,\"#fdca26\"],[1.0,\"#f0f921\"]]}],\"mesh3d\":[{\"type\":\"mesh3d\",\"colorbar\":{\"outlinewidth\":0,\"ticks\":\"\"}}],\"scatter\":[{\"fillpattern\":{\"fillmode\":\"overlay\",\"size\":10,\"solidity\":0.2},\"type\":\"scatter\"}],\"parcoords\":[{\"type\":\"parcoords\",\"line\":{\"colorbar\":{\"outlinewidth\":0,\"ticks\":\"\"}}}],\"scatterpolargl\":[{\"type\":\"scatterpolargl\",\"marker\":{\"colorbar\":{\"outlinewidth\":0,\"ticks\":\"\"}}}],\"bar\":[{\"error_x\":{\"color\":\"#2a3f5f\"},\"error_y\":{\"color\":\"#2a3f5f\"},\"marker\":{\"line\":{\"color\":\"#E5ECF6\",\"width\":0.5},\"pattern\":{\"fillmode\":\"overlay\",\"size\":10,\"solidity\":0.2}},\"type\":\"bar\"}],\"scattergeo\":[{\"type\":\"scattergeo\",\"marker\":{\"colorbar\":{\"outlinewidth\":0,\"ticks\":\"\"}}}],\"scatterpolar\":[{\"type\":\"scatterpolar\",\"marker\":{\"colorbar\":{\"outlinewidth\":0,\"ticks\":\"\"}}}],\"histogram\":[{\"marker\":{\"pattern\":{\"fillmode\":\"overlay\",\"size\":10,\"solidity\":0.2}},\"type\":\"histogram\"}],\"scattergl\":[{\"type\":\"scattergl\",\"marker\":{\"colorbar\":{\"outlinewidth\":0,\"ticks\":\"\"}}}],\"scatter3d\":[{\"type\":\"scatter3d\",\"line\":{\"colorbar\":{\"outlinewidth\":0,\"ticks\":\"\"}},\"marker\":{\"colorbar\":{\"outlinewidth\":0,\"ticks\":\"\"}}}],\"scattermapbox\":[{\"type\":\"scattermapbox\",\"marker\":{\"colorbar\":{\"outlinewidth\":0,\"ticks\":\"\"}}}],\"scatterternary\":[{\"type\":\"scatterternary\",\"marker\":{\"colorbar\":{\"outlinewidth\":0,\"ticks\":\"\"}}}],\"scattercarpet\":[{\"type\":\"scattercarpet\",\"marker\":{\"colorbar\":{\"outlinewidth\":0,\"ticks\":\"\"}}}],\"carpet\":[{\"aaxis\":{\"endlinecolor\":\"#2a3f5f\",\"gridcolor\":\"white\",\"linecolor\":\"white\",\"minorgridcolor\":\"white\",\"startlinecolor\":\"#2a3f5f\"},\"baxis\":{\"endlinecolor\":\"#2a3f5f\",\"gridcolor\":\"white\",\"linecolor\":\"white\",\"minorgridcolor\":\"white\",\"startlinecolor\":\"#2a3f5f\"},\"type\":\"carpet\"}],\"table\":[{\"cells\":{\"fill\":{\"color\":\"#EBF0F8\"},\"line\":{\"color\":\"white\"}},\"header\":{\"fill\":{\"color\":\"#C8D4E3\"},\"line\":{\"color\":\"white\"}},\"type\":\"table\"}],\"barpolar\":[{\"marker\":{\"line\":{\"color\":\"#E5ECF6\",\"width\":0.5},\"pattern\":{\"fillmode\":\"overlay\",\"size\":10,\"solidity\":0.2}},\"type\":\"barpolar\"}],\"pie\":[{\"automargin\":true,\"type\":\"pie\"}]},\"layout\":{\"autotypenumbers\":\"strict\",\"colorway\":[\"#636efa\",\"#EF553B\",\"#00cc96\",\"#ab63fa\",\"#FFA15A\",\"#19d3f3\",\"#FF6692\",\"#B6E880\",\"#FF97FF\",\"#FECB52\"],\"font\":{\"color\":\"#2a3f5f\"},\"hovermode\":\"closest\",\"hoverlabel\":{\"align\":\"left\"},\"paper_bgcolor\":\"white\",\"plot_bgcolor\":\"#E5ECF6\",\"polar\":{\"bgcolor\":\"#E5ECF6\",\"angularaxis\":{\"gridcolor\":\"white\",\"linecolor\":\"white\",\"ticks\":\"\"},\"radialaxis\":{\"gridcolor\":\"white\",\"linecolor\":\"white\",\"ticks\":\"\"}},\"ternary\":{\"bgcolor\":\"#E5ECF6\",\"aaxis\":{\"gridcolor\":\"white\",\"linecolor\":\"white\",\"ticks\":\"\"},\"baxis\":{\"gridcolor\":\"white\",\"linecolor\":\"white\",\"ticks\":\"\"},\"caxis\":{\"gridcolor\":\"white\",\"linecolor\":\"white\",\"ticks\":\"\"}},\"coloraxis\":{\"colorbar\":{\"outlinewidth\":0,\"ticks\":\"\"}},\"colorscale\":{\"sequential\":[[0.0,\"#0d0887\"],[0.1111111111111111,\"#46039f\"],[0.2222222222222222,\"#7201a8\"],[0.3333333333333333,\"#9c179e\"],[0.4444444444444444,\"#bd3786\"],[0.5555555555555556,\"#d8576b\"],[0.6666666666666666,\"#ed7953\"],[0.7777777777777778,\"#fb9f3a\"],[0.8888888888888888,\"#fdca26\"],[1.0,\"#f0f921\"]],\"sequentialminus\":[[0.0,\"#0d0887\"],[0.1111111111111111,\"#46039f\"],[0.2222222222222222,\"#7201a8\"],[0.3333333333333333,\"#9c179e\"],[0.4444444444444444,\"#bd3786\"],[0.5555555555555556,\"#d8576b\"],[0.6666666666666666,\"#ed7953\"],[0.7777777777777778,\"#fb9f3a\"],[0.8888888888888888,\"#fdca26\"],[1.0,\"#f0f921\"]],\"diverging\":[[0,\"#8e0152\"],[0.1,\"#c51b7d\"],[0.2,\"#de77ae\"],[0.3,\"#f1b6da\"],[0.4,\"#fde0ef\"],[0.5,\"#f7f7f7\"],[0.6,\"#e6f5d0\"],[0.7,\"#b8e186\"],[0.8,\"#7fbc41\"],[0.9,\"#4d9221\"],[1,\"#276419\"]]},\"xaxis\":{\"gridcolor\":\"white\",\"linecolor\":\"white\",\"ticks\":\"\",\"title\":{\"standoff\":15},\"zerolinecolor\":\"white\",\"automargin\":true,\"zerolinewidth\":2},\"yaxis\":{\"gridcolor\":\"white\",\"linecolor\":\"white\",\"ticks\":\"\",\"title\":{\"standoff\":15},\"zerolinecolor\":\"white\",\"automargin\":true,\"zerolinewidth\":2},\"scene\":{\"xaxis\":{\"backgroundcolor\":\"#E5ECF6\",\"gridcolor\":\"white\",\"linecolor\":\"white\",\"showbackground\":true,\"ticks\":\"\",\"zerolinecolor\":\"white\",\"gridwidth\":2},\"yaxis\":{\"backgroundcolor\":\"#E5ECF6\",\"gridcolor\":\"white\",\"linecolor\":\"white\",\"showbackground\":true,\"ticks\":\"\",\"zerolinecolor\":\"white\",\"gridwidth\":2},\"zaxis\":{\"backgroundcolor\":\"#E5ECF6\",\"gridcolor\":\"white\",\"linecolor\":\"white\",\"showbackground\":true,\"ticks\":\"\",\"zerolinecolor\":\"white\",\"gridwidth\":2}},\"shapedefaults\":{\"line\":{\"color\":\"#2a3f5f\"}},\"annotationdefaults\":{\"arrowcolor\":\"#2a3f5f\",\"arrowhead\":0,\"arrowwidth\":1},\"geo\":{\"bgcolor\":\"white\",\"landcolor\":\"#E5ECF6\",\"subunitcolor\":\"white\",\"showland\":true,\"showlakes\":true,\"lakecolor\":\"white\"},\"title\":{\"x\":0.05},\"mapbox\":{\"style\":\"light\"}}},\"xaxis\":{\"anchor\":\"y\",\"domain\":[0.0,1.0],\"title\":{\"text\":\"Qualidade do vinho\"}},\"yaxis\":{\"anchor\":\"x\",\"domain\":[0.0,1.0],\"title\":{\"text\":\"density\"}},\"legend\":{\"tracegroupgap\":0},\"margin\":{\"t\":60},\"width\":500,\"title\":{\"text\":\"Correla\\u00e7\\u00e3o\"}},                        {\"responsive\": true}                    ).then(function(){\n",
              "                            \n",
              "var gd = document.getElementById('52c02c03-3552-4974-aeae-c5012ab0f41f');\n",
              "var x = new MutationObserver(function (mutations, observer) {{\n",
              "        var display = window.getComputedStyle(gd).display;\n",
              "        if (!display || display === 'none') {{\n",
              "            console.log([gd, 'removed!']);\n",
              "            Plotly.purge(gd);\n",
              "            observer.disconnect();\n",
              "        }}\n",
              "}});\n",
              "\n",
              "// Listen for the removal of the full notebook cells\n",
              "var notebookContainer = gd.closest('#notebook-container');\n",
              "if (notebookContainer) {{\n",
              "    x.observe(notebookContainer, {childList: true});\n",
              "}}\n",
              "\n",
              "// Listen for the clearing of the current output cell\n",
              "var outputEl = gd.closest('.output');\n",
              "if (outputEl) {{\n",
              "    x.observe(outputEl, {childList: true});\n",
              "}}\n",
              "\n",
              "                        })                };                            </script>        </div>\n",
              "</body>\n",
              "</html>"
            ]
          },
          "metadata": {}
        },
        {
          "output_type": "display_data",
          "data": {
            "text/html": [
              "<html>\n",
              "<head><meta charset=\"utf-8\" /></head>\n",
              "<body>\n",
              "    <div>            <script src=\"https://cdnjs.cloudflare.com/ajax/libs/mathjax/2.7.5/MathJax.js?config=TeX-AMS-MML_SVG\"></script><script type=\"text/javascript\">if (window.MathJax && window.MathJax.Hub && window.MathJax.Hub.Config) {window.MathJax.Hub.Config({SVG: {font: \"STIX-Web\"}});}</script>                <script type=\"text/javascript\">window.PlotlyConfig = {MathJaxConfig: 'local'};</script>\n",
              "        <script src=\"https://cdn.plot.ly/plotly-2.18.2.min.js\"></script>                <div id=\"4d37fcd0-0a16-4ea1-90e7-d26235e193a0\" class=\"plotly-graph-div\" style=\"height:525px; width:500px;\"></div>            <script type=\"text/javascript\">                                    window.PLOTLYENV=window.PLOTLYENV || {};                                    if (document.getElementById(\"4d37fcd0-0a16-4ea1-90e7-d26235e193a0\")) {                    Plotly.newPlot(                        \"4d37fcd0-0a16-4ea1-90e7-d26235e193a0\",                        [{\"hovertemplate\":\"quality=%{x}<br>pH=%{y}<extra></extra>\",\"legendgroup\":\"\",\"marker\":{\"color\":\"#636efa\",\"symbol\":\"circle\",\"line\":{\"width\":2},\"size\":12},\"mode\":\"markers\",\"name\":\"\",\"showlegend\":false,\"x\":[5,5,5,6,5,5,7,7,5,5,5,5,5,5,7,5,4,6,6,5,5,5,6,5,5,5,6,5,6,5,6,5,6,6,7,4,5,4,6,5,5,4,5,5,5,5,5,6,6,5,6,5,5,5,5,6,5,5,7,5,5,5,5,5,6,6,5,5,4,5,5,6,5,4,5,5,5,5,6,5,6,5,5,5,5,5,4,6,5,5,5,6,6,6,5,5,5,5,6,5,5,5,5,6,6,6,6,6,6,5,5,5,5,5,5,5,7,5,5,5,6,6,5,5,5,5,5,6,5,5,5,5,6,6,6,4,5,5,5,5,6,5,4,6,5,5,5,5,4,6,5,4,6,6,5,5,6,5,5,5,5,5,6,5,5,5,5,5,5,6,5,5,5,5,6,7,4,7,5,5,5,6,7,5,5,7,6,6,6,5,6,5,5,5,5,5,6,5,5,6,4,6,6,5,5,7,6,6,6,6,6,5,6,6,7,6,5,5,6,6,6,5,5,5,5,5,5,7,5,4,5,5,5,7,4,8,6,6,6,5,5,5,8,7,6,7,5,5,6,6,7,5,5,6,6,6,5,5,5,5,5,6,6,5,5,5,6,5,6,6,6,6,6,5,5,6,5,6,7,5,5,6,6,7,5,6,5,6,6,5,7,7,6,5,6,7,6,6,6,6,5,7,6,6,6,6,6,5,5,6,6,5,7,7,6,5,6,5,5,7,6,5,5,7,5,6,6,5,6,7,6,6,6,6,6,5,6,6,6,6,7,8,5,5,5,7,5,6,5,6,6,6,5,6,6,7,6,4,6,5,5,7,5,5,6,5,6,5,7,7,5,7,6,6,5,6,5,6,5,6,6,6,5,8,6,7,7,7,6,5,5,6,6,6,6,7,5,8,5,5,3,6,5,5,5,6,5,6,6,6,5,5,6,6,5,6,5,5,6,6,5,8,5,5,6,5,6,7,6,6,7,7,6,6,8,6,5,7,7,7,7,7,6,6,7,5,6,7,5,6,3,6,5,6,5,5,5,5,5,6,6,5,6,5,6,6,6,7,5,5,6,5,6,6,5,6,6,6,6,6,6,6,5,5,6,5,6,5,5,5,6,6,6,6,6,5,4,6,6,4,5,5,6,5,5,7,7,6,7,5,8,7,5,6,5,5,5,6,6,6,6,4,6,5,6,6,7,6,6,6,5,5,6,5,6,5,6,5,5,5,5,5,6,5,5,6,5,5,6,4,5,5,5,5,7,6,5,5,7,5,4,7,6,5,5,5,6,5,5,7,6,4,5,6,6,5,5,6,6,5,5,5,5,6,5,5,5,5,5,6,5,5,5,5,5,5,5,3,5,5,5,5,6,6,5,6,6,6,4,4,5,5,5,6,6,5,5,5,5,5,6,5,5,5,5,5,5,4,5,6,5,6,5,5,5,5,5,5,6,5,5,6,5,5,5,5,6,6,5,6,5,5,6,6,6,5,5,5,5,6,6,6,5,5,6,5,5,5,6,6,5,6,6,5,5,6,5,5,5,5,6,5,6,5,6,5,6,5,5,7,6,5,5,7,6,6,7,7,5,6,5,6,5,4,6,6,6,5,5,5,7,5,5,5,7,8,6,4,3,4,5,5,7,7,5,7,5,6,5,6,5,6,5,5,5,6,7,7,7,6,5,6,5,5,5,6,6,6,6,5,4,7,7,7,4,6,5,5,6,6,5,6,7,6,5,5,5,6,6,6,7,3,5,7,7,5,5,6,6,6,6,6,6,7,6,5,6,6,6,5,5,7,6,4,7,5,5,6,6,4,7,5,7,7,7,7,7,7,7,7,7,7,7,6,5,6,6,7,5,6,5,5,6,6,7,5,6,5,6,7,5,7,5,5,7,5,6,5,6,6,7,5,5,6,5,6,5,6,7,6,6,7,7,7,7,5,7,7,5,7,6,5,6,6,6,7,6,5,6,5,6,7,6,6,5,6,7,7,5,6,6,7,7,5,7,6,5,6,7,6,6,6,5,6,6,5,5,7,6,7,5,7,6,8,6,6,6,6,7,7,5,7,5,6,6,7,6,5,7,6,7,6,6,5,7,6,7,8,6,6,7,6,5,5,7,6,6,6,6,5,6,7,5,6,6,7,6,6,6,6,6,5,8,6,6,6,4,7,6,6,5,6,6,5,7,7,7,6,6,5,6,6,6,6,6,5,6,6,7,6,6,7,6,5,6,6,7,7,6,5,7,6,7,5,5,5,7,6,6,6,6,6,6,6,4,7,5,6,5,6,5,5,6,5,4,6,5,7,5,6,6,6,6,6,7,8,5,7,5,7,6,5,6,6,6,6,6,6,6,6,6,6,6,5,5,5,7,5,6,5,4,6,4,6,4,4,5,5,6,5,6,5,5,6,6,5,5,5,5,5,5,6,6,5,4,5,4,6,6,6,6,8,6,6,5,5,6,6,4,6,7,6,6,6,5,5,6,5,5,5,6,6,4,5,6,6,3,6,6,6,5,5,5,5,4,5,6,5,6,6,6,6,6,6,5,6,5,7,6,5,6,5,6,5,5,6,5,6,6,5,6,5,5,5,5,6,5,5,5,5,6,5,6,5,5,4,6,5,5,6,6,4,5,6,5,3,5,5,6,6,6,5,5,5,5,5,5,5,6,5,5,5,5,6,5,5,7,6,5,6,8,6,7,6,6,7,6,6,5,5,5,7,5,5,5,6,4,6,6,5,5,5,5,6,6,7,6,5,5,5,6,7,6,5,5,6,6,5,5,8,7,7,5,6,6,6,5,7,6,4,6,6,5,7,4,3,5,5,6,5,5,7,7,3,5,4,4,5,4,5,5,5,5,6,6,5,5,7,6,6,6,5,5,5,6,6,3,6,6,5,6,5,6,6,6,6,5,6,5,5,4,5,6,5,6,6,6,6,6,5,6,5,7,6,6,6,5,5,6,7,6,6,7,6,5,5,5,8,5,5,6,5,6,7,5,5,5,5,6,6,5,6,6,6,5,6,6,6,6,6,6,5,6,5,5,7,6,6,6,6,5,6,6,6,6,5,6,5,6],\"xaxis\":\"x\",\"y\":[3.51,3.2,3.26,3.16,3.51,3.3,3.39,3.36,3.35,3.28,3.58,3.26,3.16,3.17,3.3,3.11,3.38,3.04,3.39,3.52,3.17,3.17,3.43,3.34,3.28,3.47,3.38,3.35,3.46,3.17,3.45,3.38,3.4,3.42,3.23,3.5,3.33,3.26,3.21,3.3,3.48,3.9,3.25,3.25,3.34,3.32,3.15,3.4,3.39,3.2,3.17,3.34,3.04,3.26,3.43,3.41,3.44,3.21,3.38,3.39,3.41,3.42,3.44,3.28,3.34,3.32,3.32,3.31,3.31,3.28,3.54,3.52,3.38,3.16,3.41,3.13,3.36,3.16,3.44,3.41,2.93,3.39,3.14,3.48,3.23,2.93,3.75,3.85,3.45,3.25,3.39,3.3,3.4,3.31,3.29,3.33,3.08,3.46,3.37,3.21,3.19,3.15,3.15,3.32,3.07,3.39,3.37,3.21,3.34,3.3,3.49,3.44,3.39,3.16,3.53,3.54,3.42,3.42,3.24,3.63,3.4,3.22,3.19,3.23,3.48,3.33,3.32,3.68,3.34,3.17,3.54,3.11,3.42,3.53,3.33,2.74,3.35,3.42,3.42,3.48,3.59,3.2,3.17,3.33,3.37,3.37,3.19,3.34,3.37,3.47,3.0,3.36,3.29,3.42,3.33,3.35,3.58,3.48,3.19,3.12,3.44,3.54,3.52,3.26,3.34,3.39,3.2,3.2,3.23,3.57,3.28,3.28,3.25,3.46,3.11,3.57,3.51,3.22,3.04,3.36,3.34,3.34,3.2,3.29,3.22,3.31,3.3,3.35,3.21,3.3,3.24,3.34,3.14,3.36,3.39,3.3,3.34,3.15,3.42,3.28,3.31,3.37,3.04,3.39,3.46,3.54,3.37,3.34,3.32,3.37,3.37,3.0,3.14,3.08,3.07,3.61,3.38,3.2,3.35,3.22,3.47,3.17,3.23,3.26,3.22,3.49,3.06,3.36,3.29,3.35,3.34,3.28,3.08,3.2,3.6,3.35,3.69,3.28,3.36,3.22,3.31,3.38,3.23,3.38,3.12,3.25,3.36,3.31,3.1,3.37,3.34,3.2,3.3,3.22,3.41,3.05,3.05,3.16,3.67,3.67,3.68,3.38,3.22,3.51,3.39,3.2,3.12,3.36,3.19,3.19,3.41,3.27,3.32,3.3,3.39,3.42,3.3,3.3,3.37,3.24,3.29,3.28,3.16,3.05,3.28,3.16,3.18,3.23,3.22,3.13,3.34,3.17,3.35,3.31,3.16,3.11,3.12,3.21,3.3,3.12,3.6,3.58,3.02,3.11,3.36,3.28,3.35,3.27,3.18,3.25,3.55,3.26,3.24,3.15,3.17,3.19,3.37,3.05,2.99,3.07,3.26,3.16,3.18,3.2,3.57,3.32,3.32,3.05,3.01,3.01,3.26,3.11,3.31,3.21,3.06,3.42,3.43,3.41,3.31,3.43,3.19,3.56,3.18,3.16,3.03,3.22,3.47,3.18,3.1,3.29,3.1,3.15,3.26,3.36,3.24,3.18,3.19,3.05,3.38,3.38,3.27,3.27,3.26,3.32,3.26,3.44,3.24,3.62,3.28,3.52,3.36,3.15,3.49,3.26,3.24,3.1,3.25,3.0,3.16,3.15,3.26,3.17,3.08,2.88,3.06,2.95,3.23,3.57,3.23,3.1,3.22,3.2,3.1,3.06,3.44,3.26,3.5,3.22,3.37,3.28,3.25,3.35,3.26,3.18,3.08,2.98,3.48,3.16,3.32,3.17,3.2,3.05,3.2,3.15,3.26,3.2,3.14,3.28,3.18,3.19,3.12,3.15,3.04,3.04,3.06,3.17,3.17,3.32,3.34,3.31,3.34,3.32,3.48,3.44,3.15,3.43,3.32,3.17,3.18,3.21,3.16,3.25,3.17,3.18,3.04,3.02,3.03,3.09,3.31,3.25,3.16,3.22,3.36,3.42,3.48,3.38,3.22,3.23,3.24,3.39,3.34,3.09,3.41,3.16,3.22,3.28,3.37,3.2,3.22,3.26,3.21,3.12,3.06,2.86,3.08,3.45,3.26,3.12,3.27,3.33,3.19,3.12,3.74,2.92,3.07,2.92,3.3,3.14,3.23,3.08,3.31,3.32,3.31,3.57,3.32,3.14,3.3,3.19,3.2,3.34,3.3,3.29,3.14,3.19,3.19,2.98,3.3,3.47,3.12,3.26,3.72,3.05,3.35,3.12,3.29,3.4,3.27,3.04,3.09,3.2,3.0,3.26,3.1,3.3,3.17,3.31,3.34,3.31,3.32,3.56,3.39,2.98,3.32,3.26,2.87,3.5,3.03,3.13,3.09,3.27,3.28,3.13,3.49,3.46,3.36,3.27,3.21,3.25,3.32,3.43,3.27,3.27,3.24,3.24,3.35,3.18,3.39,3.46,3.37,3.4,3.32,3.33,3.16,2.89,3.41,2.98,3.12,3.08,3.14,2.92,3.32,3.41,3.31,3.36,3.04,3.03,3.14,3.18,2.94,3.15,3.26,3.2,3.15,3.08,3.26,3.4,3.48,3.13,3.06,3.21,3.33,3.37,3.25,3.44,3.28,3.4,3.3,3.63,3.48,3.03,3.32,3.31,3.9,3.47,3.31,3.11,3.08,3.47,3.32,3.29,3.37,3.4,3.37,3.34,3.27,3.06,3.38,3.36,3.34,3.28,3.29,3.21,3.22,3.46,3.1,3.21,2.94,3.54,3.29,3.43,3.46,3.61,3.17,3.44,3.39,3.55,3.48,3.26,3.5,3.1,3.35,3.45,3.21,3.46,3.13,3.13,3.52,3.3,3.3,3.52,3.29,3.39,3.09,3.51,3.6,3.25,3.19,3.23,3.25,3.31,3.31,3.31,3.14,3.45,3.55,3.39,3.28,3.27,3.3,3.31,3.43,3.4,3.4,3.36,3.5,3.31,3.66,3.36,3.55,3.21,3.18,3.09,3.33,3.23,3.48,3.38,3.17,2.99,3.1,3.24,3.29,3.25,3.23,3.56,3.24,3.26,3.33,3.27,3.26,3.22,3.3,3.09,3.24,3.44,3.21,3.23,3.28,3.29,3.28,3.34,3.71,3.61,3.24,3.36,3.4,3.46,3.56,3.38,3.38,3.38,3.32,3.39,3.26,3.24,3.46,3.24,3.45,3.23,3.28,3.18,3.59,3.5,3.58,3.28,3.22,3.47,3.51,3.4,3.15,3.4,3.51,3.66,3.24,3.51,3.51,3.41,3.4,3.44,3.41,3.53,3.43,3.23,3.12,3.31,3.4,3.22,3.53,3.15,3.48,3.22,3.34,3.33,3.15,3.43,3.22,3.44,3.53,3.22,3.53,3.42,3.31,3.48,3.4,3.58,3.41,3.23,3.39,3.59,3.43,3.29,3.23,3.18,3.33,3.27,3.27,3.62,3.38,3.3,3.38,3.24,3.18,3.47,3.47,3.2,3.3,3.69,3.48,3.45,3.39,3.07,3.34,3.61,3.36,3.19,3.22,3.24,3.27,3.14,3.29,3.26,3.41,3.31,3.2,3.44,3.36,3.31,3.29,3.47,3.36,3.16,3.27,3.38,3.15,3.34,3.13,3.13,3.2,3.46,3.33,3.22,3.52,3.3,3.44,3.15,3.28,3.13,3.32,3.25,3.34,3.45,3.19,3.44,3.16,3.14,3.45,3.36,3.15,3.39,3.71,3.12,3.47,3.44,3.26,3.26,3.36,3.25,3.26,3.23,3.18,3.25,3.17,3.23,3.38,3.22,3.06,3.27,2.89,3.53,3.2,3.35,3.27,3.32,3.33,3.41,3.49,3.37,3.42,3.35,3.36,3.3,3.2,3.17,3.22,3.35,3.24,3.33,3.58,3.38,3.29,3.36,3.32,3.31,3.49,3.27,3.27,3.03,3.56,3.38,3.13,3.21,3.15,3.19,3.14,3.21,3.3,3.22,3.28,3.29,3.4,3.02,3.31,3.18,3.2,3.4,3.31,3.44,3.15,3.27,3.01,3.16,3.01,3.42,3.33,3.12,3.38,3.29,3.02,2.98,3.35,3.43,3.33,3.35,3.15,3.2,3.15,3.11,3.35,3.45,3.28,3.41,3.21,3.27,3.36,3.17,3.25,3.78,3.29,3.12,3.49,3.38,3.3,3.52,3.2,3.44,3.45,3.12,3.62,3.14,3.39,3.51,3.22,3.21,3.18,3.32,3.38,3.37,3.3,3.38,3.22,3.14,3.34,3.41,3.27,3.3,3.61,3.43,3.53,3.28,3.21,3.39,3.23,3.3,3.46,3.15,3.23,3.59,3.33,3.46,3.42,3.16,3.14,3.21,3.14,3.29,3.01,2.94,3.32,3.21,3.32,3.2,3.42,3.27,3.46,3.61,3.58,3.35,3.68,3.27,3.19,3.38,3.29,3.36,3.33,3.52,3.3,3.28,3.56,3.52,3.56,3.22,3.52,3.21,3.16,3.15,3.27,3.35,3.14,3.4,3.35,3.45,3.35,3.32,3.15,3.1,3.26,3.29,3.23,3.24,3.2,3.28,3.26,3.23,3.07,3.15,3.02,3.27,3.68,3.4,3.37,3.38,3.23,3.39,3.3,3.26,3.38,3.45,3.1,3.16,3.22,3.37,3.33,3.49,3.12,3.41,3.4,3.28,3.45,3.43,3.4,3.47,3.1,3.32,3.44,3.02,3.59,3.15,3.37,3.38,3.38,3.1,3.47,3.5,3.7,3.38,3.5,3.1,3.24,3.24,3.28,3.35,3.14,3.37,3.33,3.26,3.39,3.15,3.35,3.22,3.3,3.36,3.29,3.62,3.34,3.2,3.35,3.45,3.5,3.78,3.6,3.3,3.36,3.12,3.3,3.29,3.41,3.28,3.33,3.34,3.4,3.4,3.26,4.01,3.18,2.9,3.26,4.01,3.18,3.18,3.39,3.34,3.29,3.26,3.09,3.18,3.39,3.38,3.36,3.36,3.37,3.09,3.25,3.52,3.34,3.41,3.34,3.32,3.37,3.35,3.36,3.36,3.6,3.28,3.07,3.24,3.36,3.29,3.46,3.18,3.24,3.25,3.27,3.33,3.0,3.21,3.24,3.32,3.26,3.11,3.71,3.29,3.36,3.38,3.3,3.19,3.19,3.3,3.35,3.1,3.58,3.37,3.17,3.3,3.32,3.31,3.31,3.28,3.52,3.42,3.25,3.44,3.23,3.43,3.28,3.22,3.54,3.27,3.5,3.56,3.04,3.2,3.56,3.35,3.16,3.27,3.34,3.39,3.5,3.26,3.41,3.3,3.31,3.33,3.37,3.26,3.48,3.42,3.18,3.15,3.53,3.41,3.32,3.23,3.16,3.4,3.38,3.32,3.16,3.4,3.4,3.23,3.33,3.35,3.41,3.21,3.5,3.3,3.39,3.32,3.41,3.59,3.36,3.34,3.41,3.3,3.52,3.31,2.88,3.43,3.38,3.38,3.16,3.54,3.54,3.4,3.39,3.66,3.33,3.35,3.53,3.37,3.38,3.52,3.72,3.44,3.39,3.57,3.26,3.42,3.35,3.45,3.53,3.26,3.16,3.31,3.51,3.36,3.55,3.51,3.38,3.28,3.47,3.44,3.53,3.33,3.53,3.53,3.42,3.38,3.32,3.44,3.39,3.34,3.39,3.33,3.3,3.29,3.31,3.42,3.42,3.6,3.21,3.39,3.42,3.36,3.6,3.5,3.57,3.46,3.56,3.4,3.3,3.25,3.17,3.36,3.36,3.55,3.1,3.24,3.45,3.44,3.51,3.41,3.54,3.44,3.53,3.22,3.21,3.29,3.39,3.34,3.34,3.48,3.37,3.44,3.33,3.58,3.39,3.26,3.3,3.54,3.42,3.54,3.36,3.57,3.33,3.29,3.3,3.34,3.55,3.27,3.29,3.32,3.67,3.42,3.42,3.45,3.52,3.57,3.39],\"yaxis\":\"y\",\"type\":\"scattergl\"}],                        {\"template\":{\"data\":{\"histogram2dcontour\":[{\"type\":\"histogram2dcontour\",\"colorbar\":{\"outlinewidth\":0,\"ticks\":\"\"},\"colorscale\":[[0.0,\"#0d0887\"],[0.1111111111111111,\"#46039f\"],[0.2222222222222222,\"#7201a8\"],[0.3333333333333333,\"#9c179e\"],[0.4444444444444444,\"#bd3786\"],[0.5555555555555556,\"#d8576b\"],[0.6666666666666666,\"#ed7953\"],[0.7777777777777778,\"#fb9f3a\"],[0.8888888888888888,\"#fdca26\"],[1.0,\"#f0f921\"]]}],\"choropleth\":[{\"type\":\"choropleth\",\"colorbar\":{\"outlinewidth\":0,\"ticks\":\"\"}}],\"histogram2d\":[{\"type\":\"histogram2d\",\"colorbar\":{\"outlinewidth\":0,\"ticks\":\"\"},\"colorscale\":[[0.0,\"#0d0887\"],[0.1111111111111111,\"#46039f\"],[0.2222222222222222,\"#7201a8\"],[0.3333333333333333,\"#9c179e\"],[0.4444444444444444,\"#bd3786\"],[0.5555555555555556,\"#d8576b\"],[0.6666666666666666,\"#ed7953\"],[0.7777777777777778,\"#fb9f3a\"],[0.8888888888888888,\"#fdca26\"],[1.0,\"#f0f921\"]]}],\"heatmap\":[{\"type\":\"heatmap\",\"colorbar\":{\"outlinewidth\":0,\"ticks\":\"\"},\"colorscale\":[[0.0,\"#0d0887\"],[0.1111111111111111,\"#46039f\"],[0.2222222222222222,\"#7201a8\"],[0.3333333333333333,\"#9c179e\"],[0.4444444444444444,\"#bd3786\"],[0.5555555555555556,\"#d8576b\"],[0.6666666666666666,\"#ed7953\"],[0.7777777777777778,\"#fb9f3a\"],[0.8888888888888888,\"#fdca26\"],[1.0,\"#f0f921\"]]}],\"heatmapgl\":[{\"type\":\"heatmapgl\",\"colorbar\":{\"outlinewidth\":0,\"ticks\":\"\"},\"colorscale\":[[0.0,\"#0d0887\"],[0.1111111111111111,\"#46039f\"],[0.2222222222222222,\"#7201a8\"],[0.3333333333333333,\"#9c179e\"],[0.4444444444444444,\"#bd3786\"],[0.5555555555555556,\"#d8576b\"],[0.6666666666666666,\"#ed7953\"],[0.7777777777777778,\"#fb9f3a\"],[0.8888888888888888,\"#fdca26\"],[1.0,\"#f0f921\"]]}],\"contourcarpet\":[{\"type\":\"contourcarpet\",\"colorbar\":{\"outlinewidth\":0,\"ticks\":\"\"}}],\"contour\":[{\"type\":\"contour\",\"colorbar\":{\"outlinewidth\":0,\"ticks\":\"\"},\"colorscale\":[[0.0,\"#0d0887\"],[0.1111111111111111,\"#46039f\"],[0.2222222222222222,\"#7201a8\"],[0.3333333333333333,\"#9c179e\"],[0.4444444444444444,\"#bd3786\"],[0.5555555555555556,\"#d8576b\"],[0.6666666666666666,\"#ed7953\"],[0.7777777777777778,\"#fb9f3a\"],[0.8888888888888888,\"#fdca26\"],[1.0,\"#f0f921\"]]}],\"surface\":[{\"type\":\"surface\",\"colorbar\":{\"outlinewidth\":0,\"ticks\":\"\"},\"colorscale\":[[0.0,\"#0d0887\"],[0.1111111111111111,\"#46039f\"],[0.2222222222222222,\"#7201a8\"],[0.3333333333333333,\"#9c179e\"],[0.4444444444444444,\"#bd3786\"],[0.5555555555555556,\"#d8576b\"],[0.6666666666666666,\"#ed7953\"],[0.7777777777777778,\"#fb9f3a\"],[0.8888888888888888,\"#fdca26\"],[1.0,\"#f0f921\"]]}],\"mesh3d\":[{\"type\":\"mesh3d\",\"colorbar\":{\"outlinewidth\":0,\"ticks\":\"\"}}],\"scatter\":[{\"fillpattern\":{\"fillmode\":\"overlay\",\"size\":10,\"solidity\":0.2},\"type\":\"scatter\"}],\"parcoords\":[{\"type\":\"parcoords\",\"line\":{\"colorbar\":{\"outlinewidth\":0,\"ticks\":\"\"}}}],\"scatterpolargl\":[{\"type\":\"scatterpolargl\",\"marker\":{\"colorbar\":{\"outlinewidth\":0,\"ticks\":\"\"}}}],\"bar\":[{\"error_x\":{\"color\":\"#2a3f5f\"},\"error_y\":{\"color\":\"#2a3f5f\"},\"marker\":{\"line\":{\"color\":\"#E5ECF6\",\"width\":0.5},\"pattern\":{\"fillmode\":\"overlay\",\"size\":10,\"solidity\":0.2}},\"type\":\"bar\"}],\"scattergeo\":[{\"type\":\"scattergeo\",\"marker\":{\"colorbar\":{\"outlinewidth\":0,\"ticks\":\"\"}}}],\"scatterpolar\":[{\"type\":\"scatterpolar\",\"marker\":{\"colorbar\":{\"outlinewidth\":0,\"ticks\":\"\"}}}],\"histogram\":[{\"marker\":{\"pattern\":{\"fillmode\":\"overlay\",\"size\":10,\"solidity\":0.2}},\"type\":\"histogram\"}],\"scattergl\":[{\"type\":\"scattergl\",\"marker\":{\"colorbar\":{\"outlinewidth\":0,\"ticks\":\"\"}}}],\"scatter3d\":[{\"type\":\"scatter3d\",\"line\":{\"colorbar\":{\"outlinewidth\":0,\"ticks\":\"\"}},\"marker\":{\"colorbar\":{\"outlinewidth\":0,\"ticks\":\"\"}}}],\"scattermapbox\":[{\"type\":\"scattermapbox\",\"marker\":{\"colorbar\":{\"outlinewidth\":0,\"ticks\":\"\"}}}],\"scatterternary\":[{\"type\":\"scatterternary\",\"marker\":{\"colorbar\":{\"outlinewidth\":0,\"ticks\":\"\"}}}],\"scattercarpet\":[{\"type\":\"scattercarpet\",\"marker\":{\"colorbar\":{\"outlinewidth\":0,\"ticks\":\"\"}}}],\"carpet\":[{\"aaxis\":{\"endlinecolor\":\"#2a3f5f\",\"gridcolor\":\"white\",\"linecolor\":\"white\",\"minorgridcolor\":\"white\",\"startlinecolor\":\"#2a3f5f\"},\"baxis\":{\"endlinecolor\":\"#2a3f5f\",\"gridcolor\":\"white\",\"linecolor\":\"white\",\"minorgridcolor\":\"white\",\"startlinecolor\":\"#2a3f5f\"},\"type\":\"carpet\"}],\"table\":[{\"cells\":{\"fill\":{\"color\":\"#EBF0F8\"},\"line\":{\"color\":\"white\"}},\"header\":{\"fill\":{\"color\":\"#C8D4E3\"},\"line\":{\"color\":\"white\"}},\"type\":\"table\"}],\"barpolar\":[{\"marker\":{\"line\":{\"color\":\"#E5ECF6\",\"width\":0.5},\"pattern\":{\"fillmode\":\"overlay\",\"size\":10,\"solidity\":0.2}},\"type\":\"barpolar\"}],\"pie\":[{\"automargin\":true,\"type\":\"pie\"}]},\"layout\":{\"autotypenumbers\":\"strict\",\"colorway\":[\"#636efa\",\"#EF553B\",\"#00cc96\",\"#ab63fa\",\"#FFA15A\",\"#19d3f3\",\"#FF6692\",\"#B6E880\",\"#FF97FF\",\"#FECB52\"],\"font\":{\"color\":\"#2a3f5f\"},\"hovermode\":\"closest\",\"hoverlabel\":{\"align\":\"left\"},\"paper_bgcolor\":\"white\",\"plot_bgcolor\":\"#E5ECF6\",\"polar\":{\"bgcolor\":\"#E5ECF6\",\"angularaxis\":{\"gridcolor\":\"white\",\"linecolor\":\"white\",\"ticks\":\"\"},\"radialaxis\":{\"gridcolor\":\"white\",\"linecolor\":\"white\",\"ticks\":\"\"}},\"ternary\":{\"bgcolor\":\"#E5ECF6\",\"aaxis\":{\"gridcolor\":\"white\",\"linecolor\":\"white\",\"ticks\":\"\"},\"baxis\":{\"gridcolor\":\"white\",\"linecolor\":\"white\",\"ticks\":\"\"},\"caxis\":{\"gridcolor\":\"white\",\"linecolor\":\"white\",\"ticks\":\"\"}},\"coloraxis\":{\"colorbar\":{\"outlinewidth\":0,\"ticks\":\"\"}},\"colorscale\":{\"sequential\":[[0.0,\"#0d0887\"],[0.1111111111111111,\"#46039f\"],[0.2222222222222222,\"#7201a8\"],[0.3333333333333333,\"#9c179e\"],[0.4444444444444444,\"#bd3786\"],[0.5555555555555556,\"#d8576b\"],[0.6666666666666666,\"#ed7953\"],[0.7777777777777778,\"#fb9f3a\"],[0.8888888888888888,\"#fdca26\"],[1.0,\"#f0f921\"]],\"sequentialminus\":[[0.0,\"#0d0887\"],[0.1111111111111111,\"#46039f\"],[0.2222222222222222,\"#7201a8\"],[0.3333333333333333,\"#9c179e\"],[0.4444444444444444,\"#bd3786\"],[0.5555555555555556,\"#d8576b\"],[0.6666666666666666,\"#ed7953\"],[0.7777777777777778,\"#fb9f3a\"],[0.8888888888888888,\"#fdca26\"],[1.0,\"#f0f921\"]],\"diverging\":[[0,\"#8e0152\"],[0.1,\"#c51b7d\"],[0.2,\"#de77ae\"],[0.3,\"#f1b6da\"],[0.4,\"#fde0ef\"],[0.5,\"#f7f7f7\"],[0.6,\"#e6f5d0\"],[0.7,\"#b8e186\"],[0.8,\"#7fbc41\"],[0.9,\"#4d9221\"],[1,\"#276419\"]]},\"xaxis\":{\"gridcolor\":\"white\",\"linecolor\":\"white\",\"ticks\":\"\",\"title\":{\"standoff\":15},\"zerolinecolor\":\"white\",\"automargin\":true,\"zerolinewidth\":2},\"yaxis\":{\"gridcolor\":\"white\",\"linecolor\":\"white\",\"ticks\":\"\",\"title\":{\"standoff\":15},\"zerolinecolor\":\"white\",\"automargin\":true,\"zerolinewidth\":2},\"scene\":{\"xaxis\":{\"backgroundcolor\":\"#E5ECF6\",\"gridcolor\":\"white\",\"linecolor\":\"white\",\"showbackground\":true,\"ticks\":\"\",\"zerolinecolor\":\"white\",\"gridwidth\":2},\"yaxis\":{\"backgroundcolor\":\"#E5ECF6\",\"gridcolor\":\"white\",\"linecolor\":\"white\",\"showbackground\":true,\"ticks\":\"\",\"zerolinecolor\":\"white\",\"gridwidth\":2},\"zaxis\":{\"backgroundcolor\":\"#E5ECF6\",\"gridcolor\":\"white\",\"linecolor\":\"white\",\"showbackground\":true,\"ticks\":\"\",\"zerolinecolor\":\"white\",\"gridwidth\":2}},\"shapedefaults\":{\"line\":{\"color\":\"#2a3f5f\"}},\"annotationdefaults\":{\"arrowcolor\":\"#2a3f5f\",\"arrowhead\":0,\"arrowwidth\":1},\"geo\":{\"bgcolor\":\"white\",\"landcolor\":\"#E5ECF6\",\"subunitcolor\":\"white\",\"showland\":true,\"showlakes\":true,\"lakecolor\":\"white\"},\"title\":{\"x\":0.05},\"mapbox\":{\"style\":\"light\"}}},\"xaxis\":{\"anchor\":\"y\",\"domain\":[0.0,1.0],\"title\":{\"text\":\"Qualidade do vinho\"}},\"yaxis\":{\"anchor\":\"x\",\"domain\":[0.0,1.0],\"title\":{\"text\":\"pH\"}},\"legend\":{\"tracegroupgap\":0},\"margin\":{\"t\":60},\"width\":500,\"title\":{\"text\":\"Correla\\u00e7\\u00e3o\"}},                        {\"responsive\": true}                    ).then(function(){\n",
              "                            \n",
              "var gd = document.getElementById('4d37fcd0-0a16-4ea1-90e7-d26235e193a0');\n",
              "var x = new MutationObserver(function (mutations, observer) {{\n",
              "        var display = window.getComputedStyle(gd).display;\n",
              "        if (!display || display === 'none') {{\n",
              "            console.log([gd, 'removed!']);\n",
              "            Plotly.purge(gd);\n",
              "            observer.disconnect();\n",
              "        }}\n",
              "}});\n",
              "\n",
              "// Listen for the removal of the full notebook cells\n",
              "var notebookContainer = gd.closest('#notebook-container');\n",
              "if (notebookContainer) {{\n",
              "    x.observe(notebookContainer, {childList: true});\n",
              "}}\n",
              "\n",
              "// Listen for the clearing of the current output cell\n",
              "var outputEl = gd.closest('.output');\n",
              "if (outputEl) {{\n",
              "    x.observe(outputEl, {childList: true});\n",
              "}}\n",
              "\n",
              "                        })                };                            </script>        </div>\n",
              "</body>\n",
              "</html>"
            ]
          },
          "metadata": {}
        },
        {
          "output_type": "display_data",
          "data": {
            "text/html": [
              "<html>\n",
              "<head><meta charset=\"utf-8\" /></head>\n",
              "<body>\n",
              "    <div>            <script src=\"https://cdnjs.cloudflare.com/ajax/libs/mathjax/2.7.5/MathJax.js?config=TeX-AMS-MML_SVG\"></script><script type=\"text/javascript\">if (window.MathJax && window.MathJax.Hub && window.MathJax.Hub.Config) {window.MathJax.Hub.Config({SVG: {font: \"STIX-Web\"}});}</script>                <script type=\"text/javascript\">window.PlotlyConfig = {MathJaxConfig: 'local'};</script>\n",
              "        <script src=\"https://cdn.plot.ly/plotly-2.18.2.min.js\"></script>                <div id=\"8b37333b-7b06-4a0c-b1dc-f548fa47b58c\" class=\"plotly-graph-div\" style=\"height:525px; width:500px;\"></div>            <script type=\"text/javascript\">                                    window.PLOTLYENV=window.PLOTLYENV || {};                                    if (document.getElementById(\"8b37333b-7b06-4a0c-b1dc-f548fa47b58c\")) {                    Plotly.newPlot(                        \"8b37333b-7b06-4a0c-b1dc-f548fa47b58c\",                        [{\"hovertemplate\":\"quality=%{x}<br>sulphates=%{y}<extra></extra>\",\"legendgroup\":\"\",\"marker\":{\"color\":\"#636efa\",\"symbol\":\"circle\",\"line\":{\"width\":2},\"size\":12},\"mode\":\"markers\",\"name\":\"\",\"showlegend\":false,\"x\":[5,5,5,6,5,5,7,7,5,5,5,5,5,5,7,5,4,6,6,5,5,5,6,5,5,5,6,5,6,5,6,5,6,6,7,4,5,4,6,5,5,4,5,5,5,5,5,6,6,5,6,5,5,5,5,6,5,5,7,5,5,5,5,5,6,6,5,5,4,5,5,6,5,4,5,5,5,5,6,5,6,5,5,5,5,5,4,6,5,5,5,6,6,6,5,5,5,5,6,5,5,5,5,6,6,6,6,6,6,5,5,5,5,5,5,5,7,5,5,5,6,6,5,5,5,5,5,6,5,5,5,5,6,6,6,4,5,5,5,5,6,5,4,6,5,5,5,5,4,6,5,4,6,6,5,5,6,5,5,5,5,5,6,5,5,5,5,5,5,6,5,5,5,5,6,7,4,7,5,5,5,6,7,5,5,7,6,6,6,5,6,5,5,5,5,5,6,5,5,6,4,6,6,5,5,7,6,6,6,6,6,5,6,6,7,6,5,5,6,6,6,5,5,5,5,5,5,7,5,4,5,5,5,7,4,8,6,6,6,5,5,5,8,7,6,7,5,5,6,6,7,5,5,6,6,6,5,5,5,5,5,6,6,5,5,5,6,5,6,6,6,6,6,5,5,6,5,6,7,5,5,6,6,7,5,6,5,6,6,5,7,7,6,5,6,7,6,6,6,6,5,7,6,6,6,6,6,5,5,6,6,5,7,7,6,5,6,5,5,7,6,5,5,7,5,6,6,5,6,7,6,6,6,6,6,5,6,6,6,6,7,8,5,5,5,7,5,6,5,6,6,6,5,6,6,7,6,4,6,5,5,7,5,5,6,5,6,5,7,7,5,7,6,6,5,6,5,6,5,6,6,6,5,8,6,7,7,7,6,5,5,6,6,6,6,7,5,8,5,5,3,6,5,5,5,6,5,6,6,6,5,5,6,6,5,6,5,5,6,6,5,8,5,5,6,5,6,7,6,6,7,7,6,6,8,6,5,7,7,7,7,7,6,6,7,5,6,7,5,6,3,6,5,6,5,5,5,5,5,6,6,5,6,5,6,6,6,7,5,5,6,5,6,6,5,6,6,6,6,6,6,6,5,5,6,5,6,5,5,5,6,6,6,6,6,5,4,6,6,4,5,5,6,5,5,7,7,6,7,5,8,7,5,6,5,5,5,6,6,6,6,4,6,5,6,6,7,6,6,6,5,5,6,5,6,5,6,5,5,5,5,5,6,5,5,6,5,5,6,4,5,5,5,5,7,6,5,5,7,5,4,7,6,5,5,5,6,5,5,7,6,4,5,6,6,5,5,6,6,5,5,5,5,6,5,5,5,5,5,6,5,5,5,5,5,5,5,3,5,5,5,5,6,6,5,6,6,6,4,4,5,5,5,6,6,5,5,5,5,5,6,5,5,5,5,5,5,4,5,6,5,6,5,5,5,5,5,5,6,5,5,6,5,5,5,5,6,6,5,6,5,5,6,6,6,5,5,5,5,6,6,6,5,5,6,5,5,5,6,6,5,6,6,5,5,6,5,5,5,5,6,5,6,5,6,5,6,5,5,7,6,5,5,7,6,6,7,7,5,6,5,6,5,4,6,6,6,5,5,5,7,5,5,5,7,8,6,4,3,4,5,5,7,7,5,7,5,6,5,6,5,6,5,5,5,6,7,7,7,6,5,6,5,5,5,6,6,6,6,5,4,7,7,7,4,6,5,5,6,6,5,6,7,6,5,5,5,6,6,6,7,3,5,7,7,5,5,6,6,6,6,6,6,7,6,5,6,6,6,5,5,7,6,4,7,5,5,6,6,4,7,5,7,7,7,7,7,7,7,7,7,7,7,6,5,6,6,7,5,6,5,5,6,6,7,5,6,5,6,7,5,7,5,5,7,5,6,5,6,6,7,5,5,6,5,6,5,6,7,6,6,7,7,7,7,5,7,7,5,7,6,5,6,6,6,7,6,5,6,5,6,7,6,6,5,6,7,7,5,6,6,7,7,5,7,6,5,6,7,6,6,6,5,6,6,5,5,7,6,7,5,7,6,8,6,6,6,6,7,7,5,7,5,6,6,7,6,5,7,6,7,6,6,5,7,6,7,8,6,6,7,6,5,5,7,6,6,6,6,5,6,7,5,6,6,7,6,6,6,6,6,5,8,6,6,6,4,7,6,6,5,6,6,5,7,7,7,6,6,5,6,6,6,6,6,5,6,6,7,6,6,7,6,5,6,6,7,7,6,5,7,6,7,5,5,5,7,6,6,6,6,6,6,6,4,7,5,6,5,6,5,5,6,5,4,6,5,7,5,6,6,6,6,6,7,8,5,7,5,7,6,5,6,6,6,6,6,6,6,6,6,6,6,5,5,5,7,5,6,5,4,6,4,6,4,4,5,5,6,5,6,5,5,6,6,5,5,5,5,5,5,6,6,5,4,5,4,6,6,6,6,8,6,6,5,5,6,6,4,6,7,6,6,6,5,5,6,5,5,5,6,6,4,5,6,6,3,6,6,6,5,5,5,5,4,5,6,5,6,6,6,6,6,6,5,6,5,7,6,5,6,5,6,5,5,6,5,6,6,5,6,5,5,5,5,6,5,5,5,5,6,5,6,5,5,4,6,5,5,6,6,4,5,6,5,3,5,5,6,6,6,5,5,5,5,5,5,5,6,5,5,5,5,6,5,5,7,6,5,6,8,6,7,6,6,7,6,6,5,5,5,7,5,5,5,6,4,6,6,5,5,5,5,6,6,7,6,5,5,5,6,7,6,5,5,6,6,5,5,8,7,7,5,6,6,6,5,7,6,4,6,6,5,7,4,3,5,5,6,5,5,7,7,3,5,4,4,5,4,5,5,5,5,6,6,5,5,7,6,6,6,5,5,5,6,6,3,6,6,5,6,5,6,6,6,6,5,6,5,5,4,5,6,5,6,6,6,6,6,5,6,5,7,6,6,6,5,5,6,7,6,6,7,6,5,5,5,8,5,5,6,5,6,7,5,5,5,5,6,6,5,6,6,6,5,6,6,6,6,6,6,5,6,5,5,7,6,6,6,6,5,6,6,6,6,5,6,5,6],\"xaxis\":\"x\",\"y\":[0.56,0.68,0.65,0.58,0.56,0.46,0.47,0.57,0.8,0.54,0.52,1.56,0.88,0.93,0.75,1.28,0.5,1.08,0.53,0.65,0.91,0.53,0.63,0.56,0.59,0.55,0.59,0.54,0.57,0.66,0.52,0.55,0.55,0.6,0.73,0.48,0.83,0.51,0.9,1.2,0.52,0.56,0.73,0.58,0.56,0.58,0.74,0.63,0.64,0.56,0.63,0.53,0.63,0.77,0.59,0.54,0.64,0.71,0.62,0.57,0.39,0.58,0.58,0.79,0.95,0.54,0.48,0.48,0.53,0.82,0.66,0.55,0.52,1.12,0.56,1.28,0.57,1.14,0.78,0.59,1.95,0.64,1.22,0.53,0.54,1.98,0.48,0.6,0.56,0.63,0.56,0.59,0.61,0.56,0.51,0.48,1.31,0.79,0.8,0.69,0.93,0.66,0.66,0.67,0.63,0.61,0.5,0.6,0.54,0.57,0.52,0.53,0.48,0.7,0.49,0.48,0.92,0.57,0.66,0.63,0.58,0.55,0.82,0.77,0.64,0.54,0.54,0.79,0.58,0.62,0.52,0.8,0.58,0.61,0.53,2.0,0.54,0.72,0.71,0.5,0.57,0.56,1.08,0.56,0.49,0.49,0.62,0.52,0.48,0.55,1.59,0.33,0.61,0.57,0.47,0.78,0.61,0.56,0.59,1.02,0.52,0.58,0.58,0.53,0.55,0.49,0.55,0.55,0.62,0.62,0.61,0.55,0.54,0.59,0.97,0.85,0.43,0.82,1.03,0.79,0.55,0.56,0.77,0.53,0.67,0.88,0.86,0.56,0.67,0.43,0.71,0.76,0.57,0.55,0.54,0.6,0.59,0.57,0.6,0.6,0.57,0.58,1.61,0.63,0.5,0.62,0.52,0.7,0.55,0.58,0.58,1.09,0.71,0.49,0.84,0.96,0.52,0.45,0.48,0.78,0.7,0.53,0.59,0.57,0.62,0.67,1.26,0.8,0.65,0.6,0.57,0.67,0.87,0.72,0.72,0.86,0.91,0.97,0.67,0.78,0.64,0.77,0.82,0.77,0.82,1.08,0.57,0.71,0.76,0.7,0.86,0.95,0.71,0.64,0.6,0.81,0.64,0.52,0.73,0.8,0.71,0.59,0.64,0.72,0.54,0.52,0.59,0.52,0.62,0.63,0.53,0.54,0.63,0.53,0.68,0.65,0.65,0.64,0.71,0.62,0.63,0.7,0.69,0.74,0.83,0.67,0.62,0.66,0.54,0.52,0.74,0.84,0.7,0.64,1.0,1.36,1.18,0.87,0.75,0.78,0.81,0.89,0.93,0.92,0.86,0.98,0.83,0.73,0.77,0.59,0.61,0.88,0.75,0.85,0.68,0.7,0.91,0.56,0.87,0.73,0.93,0.69,0.64,1.13,0.78,0.87,1.04,0.63,0.81,0.83,1.11,0.99,0.7,0.8,0.8,0.74,0.76,0.74,0.54,0.74,0.7,0.82,0.51,0.54,0.57,0.6,0.53,0.65,0.55,0.47,0.61,0.63,0.61,0.76,0.65,0.63,0.7,0.57,0.62,0.62,0.64,0.82,0.61,1.07,0.66,0.48,0.76,0.68,0.73,0.56,0.44,0.9,0.49,0.56,0.6,0.6,0.56,0.65,0.49,0.89,0.56,0.66,0.6,0.82,0.68,0.68,0.63,0.84,0.56,0.73,0.72,0.56,0.61,1.06,0.63,0.74,0.63,0.69,0.58,0.58,0.57,0.61,0.61,0.61,0.53,0.7,0.91,0.72,0.79,0.62,0.58,0.61,0.71,0.82,0.79,0.89,0.6,0.7,1.06,0.7,0.66,0.92,1.05,1.06,0.66,0.47,0.42,0.92,0.75,0.67,0.79,0.9,0.74,0.55,0.65,0.65,0.79,0.85,1.04,1.05,0.78,1.02,0.71,0.63,0.68,0.61,0.81,0.66,1.14,0.74,0.63,0.68,0.78,0.9,0.64,0.99,0.55,0.64,0.67,0.77,0.75,0.57,0.87,0.61,0.66,0.56,0.77,0.66,0.62,0.67,0.73,0.59,0.72,0.79,0.59,0.78,0.86,0.75,0.61,0.56,0.73,0.74,0.62,0.74,0.56,0.74,0.68,0.57,0.58,0.61,0.61,0.6,0.79,0.57,0.91,0.61,0.56,0.7,0.8,0.52,0.6,0.6,0.51,0.44,0.43,0.66,0.76,0.66,1.02,0.59,0.74,0.74,0.57,0.5,0.58,0.53,0.57,0.6,0.63,0.48,0.7,0.47,0.56,0.52,0.62,0.59,0.79,0.53,0.64,0.52,0.54,0.54,0.6,0.74,1.36,0.57,0.93,0.7,0.8,0.61,0.62,0.55,0.96,0.72,0.49,0.6,0.61,0.63,0.57,0.64,0.58,0.55,0.53,0.53,0.65,1.36,0.62,0.63,0.69,0.63,0.58,0.67,0.57,0.5,0.67,0.84,0.54,0.46,0.61,0.68,0.81,0.57,0.64,0.7,0.79,0.66,0.56,0.6,0.66,0.57,0.58,0.52,0.53,0.67,0.65,0.48,0.53,0.54,0.49,0.49,0.54,0.56,0.48,0.6,0.59,0.47,1.05,0.54,0.54,1.17,0.62,0.61,0.62,0.67,0.53,0.62,0.57,0.67,0.7,0.54,0.49,0.47,0.51,0.61,0.66,0.57,0.61,0.45,0.46,0.51,0.48,0.57,0.44,0.54,0.53,0.59,1.62,0.6,0.55,0.72,0.68,0.49,0.67,0.52,0.47,0.6,0.62,0.5,0.65,0.56,0.6,0.68,0.57,0.65,0.53,0.51,0.73,0.47,0.48,0.72,0.55,0.61,1.06,0.43,0.46,0.5,0.52,0.57,0.42,0.53,0.55,0.54,0.54,0.62,0.53,0.54,0.55,0.55,0.92,0.91,0.46,0.6,0.59,0.61,0.6,0.6,0.65,0.53,0.59,0.5,0.56,0.52,0.68,0.54,0.6,0.56,0.53,1.18,0.74,0.81,0.52,0.51,0.44,0.94,0.66,0.57,0.7,0.71,0.86,0.55,0.47,0.68,0.71,0.58,0.76,0.58,0.73,0.45,0.54,0.6,0.74,0.64,0.53,0.49,0.64,0.74,0.77,0.55,0.86,0.86,0.47,0.51,0.39,0.83,0.47,0.77,0.63,0.72,0.62,0.83,0.66,0.7,0.66,0.55,1.07,0.73,0.71,0.78,0.67,0.82,0.54,0.6,0.44,0.53,0.54,0.83,0.84,0.64,0.57,0.57,0.54,0.58,0.65,0.79,0.58,0.5,0.55,0.49,0.65,0.78,0.64,0.65,0.79,0.56,0.68,0.58,0.57,0.65,0.58,0.58,0.77,0.49,0.69,0.69,0.59,0.59,0.71,0.54,0.59,0.52,0.57,0.6,0.62,0.64,0.67,0.61,0.64,0.72,0.89,0.56,0.8,0.87,0.9,0.59,0.73,0.73,0.65,0.59,0.72,0.6,0.72,0.54,0.76,0.52,0.64,0.6,0.64,0.79,0.99,0.62,0.76,0.68,0.69,0.54,0.67,0.62,0.58,0.71,0.61,0.85,0.62,0.69,0.69,0.86,0.58,0.48,0.6,0.61,0.87,0.65,0.63,0.62,0.52,0.5,0.49,0.63,0.71,0.62,0.82,0.58,0.55,0.5,0.49,0.51,0.48,0.48,0.43,0.62,0.63,0.48,0.53,0.72,0.82,0.84,0.55,0.54,0.84,0.7,0.68,0.55,0.55,0.48,0.58,0.58,0.84,0.75,0.44,0.61,0.53,0.54,0.55,0.56,0.6,0.56,0.52,0.54,0.55,0.58,0.53,0.59,0.47,0.65,0.59,0.56,0.77,0.83,0.67,0.64,0.81,0.62,0.58,0.62,0.64,0.78,0.77,1.34,0.55,0.77,0.62,0.59,0.57,0.76,0.7,0.69,0.64,0.63,0.57,0.6,0.72,0.83,0.62,0.89,0.58,0.58,0.58,0.86,0.73,0.58,0.51,0.51,0.51,0.59,0.77,0.49,0.66,0.69,0.76,0.63,0.6,0.59,0.86,0.49,0.5,0.52,0.81,0.78,0.63,0.54,0.66,0.6,0.54,0.85,0.49,0.76,0.64,0.64,0.71,0.59,0.66,0.6,0.53,0.58,0.72,0.55,0.48,0.65,0.62,0.59,0.54,0.6,0.68,0.69,0.63,0.44,0.88,0.68,0.74,0.6,0.76,0.58,0.64,0.65,0.85,0.65,0.82,0.62,0.81,0.87,0.49,0.66,0.52,0.76,0.65,0.53,0.66,0.68,0.76,0.87,1.16,0.67,0.72,0.75,0.71,0.67,1.1,0.98,0.88,0.56,0.62,0.67,0.68,0.74,0.62,0.7,0.5,0.66,0.73,0.81,0.46,0.86,0.6,0.7,0.46,0.5,0.44,0.57,0.51,0.8,0.51,0.59,0.6,0.58,0.54,0.79,0.54,0.69,0.55,0.85,0.94,0.87,0.62,0.62,0.75,0.48,0.56,0.69,0.81,0.69,0.83,0.77,0.46,0.76,0.82,0.51,0.47,0.72,0.73,0.64,0.78,0.62,0.49,0.4,0.56,0.64,0.46,0.56,0.4,0.59,0.6,0.62,0.54,0.68,0.48,0.75,0.61,0.59,0.58,0.58,0.69,0.45,0.42,0.7,0.63,1.15,0.55,0.58,0.46,0.72,0.6,0.87,0.55,0.82,0.75,0.57,0.53,0.43,0.53,0.54,0.56,0.6,0.57,0.64,0.68,0.63,0.56,0.57,0.54,0.37,1.17,0.59,0.75,0.67,0.49,0.45,0.61,0.56,0.4,0.61,0.74,0.8,0.66,0.44,0.53,0.62,0.52,0.61,0.59,0.47,0.54,0.53,0.58,0.59,0.69,1.33,0.66,0.59,0.55,0.82,0.6,0.52,0.56,0.46,0.43,0.51,0.52,0.66,0.45,0.54,0.51,0.53,0.53,0.56,0.39,0.52,0.57,0.51,0.46,0.52,0.44,0.44,0.59,0.5,0.65,0.56,0.54,0.48,0.53,0.62,0.5,1.18,0.5,0.37,1.17,1.03,0.45,0.51,0.52,0.46,0.62,0.51,0.62,0.45,0.49,0.5,0.42,0.58,0.68,0.53,0.59,0.58,0.48,0.48,0.48,0.65,0.65,0.52,0.62,0.72,0.51,0.82,1.1,0.62,0.9,0.94,0.93,1.01,0.44,0.73,0.9,0.78,0.84,0.77,0.46,0.45,0.58,0.84,0.67,0.7,0.71,0.58,0.63,0.93,0.62,0.54,0.85,0.74,0.77,0.65,0.54,0.47,0.68,0.73,0.52,0.75,0.49,0.68,0.52,0.74,0.73,0.76,0.78,0.76,0.58,0.69,0.63,0.5,0.6,0.8,0.68,0.61,0.58,0.53,0.67,0.65,0.57,0.55,0.47,0.52,0.79,0.54,0.75,0.88,0.88,0.52,0.68,0.62,0.57,0.61,0.64,0.55,0.6,0.78,0.58,0.76,0.56,0.54,0.59,0.7,0.81,0.63,0.58,0.53,0.53,0.54,0.69,0.55,0.63,0.66,0.72,0.7,0.77,0.67,0.65,0.6,0.72,0.72,0.97,0.83,0.63,0.58,0.43,0.6,0.78,0.64,0.65,0.66,0.67,0.6,0.69,0.66,0.68,0.61,0.62,0.59,0.68,0.64,0.63,0.78,0.63,0.76,0.56,0.57,0.81,0.64,0.61,0.51,0.58,0.7,0.53,0.54,0.66,0.6,0.6,0.68,0.56,0.56,0.52,0.54,0.82,0.71,0.59,0.57,0.93,0.65,0.51,0.67,0.48,0.64,0.78,0.6,0.67,0.6,0.6,0.5,0.62,0.8,0.84,0.85,0.66,0.78,0.54,0.82,0.56,0.75,0.82,0.58,0.76,0.71,0.66],\"yaxis\":\"y\",\"type\":\"scattergl\"}],                        {\"template\":{\"data\":{\"histogram2dcontour\":[{\"type\":\"histogram2dcontour\",\"colorbar\":{\"outlinewidth\":0,\"ticks\":\"\"},\"colorscale\":[[0.0,\"#0d0887\"],[0.1111111111111111,\"#46039f\"],[0.2222222222222222,\"#7201a8\"],[0.3333333333333333,\"#9c179e\"],[0.4444444444444444,\"#bd3786\"],[0.5555555555555556,\"#d8576b\"],[0.6666666666666666,\"#ed7953\"],[0.7777777777777778,\"#fb9f3a\"],[0.8888888888888888,\"#fdca26\"],[1.0,\"#f0f921\"]]}],\"choropleth\":[{\"type\":\"choropleth\",\"colorbar\":{\"outlinewidth\":0,\"ticks\":\"\"}}],\"histogram2d\":[{\"type\":\"histogram2d\",\"colorbar\":{\"outlinewidth\":0,\"ticks\":\"\"},\"colorscale\":[[0.0,\"#0d0887\"],[0.1111111111111111,\"#46039f\"],[0.2222222222222222,\"#7201a8\"],[0.3333333333333333,\"#9c179e\"],[0.4444444444444444,\"#bd3786\"],[0.5555555555555556,\"#d8576b\"],[0.6666666666666666,\"#ed7953\"],[0.7777777777777778,\"#fb9f3a\"],[0.8888888888888888,\"#fdca26\"],[1.0,\"#f0f921\"]]}],\"heatmap\":[{\"type\":\"heatmap\",\"colorbar\":{\"outlinewidth\":0,\"ticks\":\"\"},\"colorscale\":[[0.0,\"#0d0887\"],[0.1111111111111111,\"#46039f\"],[0.2222222222222222,\"#7201a8\"],[0.3333333333333333,\"#9c179e\"],[0.4444444444444444,\"#bd3786\"],[0.5555555555555556,\"#d8576b\"],[0.6666666666666666,\"#ed7953\"],[0.7777777777777778,\"#fb9f3a\"],[0.8888888888888888,\"#fdca26\"],[1.0,\"#f0f921\"]]}],\"heatmapgl\":[{\"type\":\"heatmapgl\",\"colorbar\":{\"outlinewidth\":0,\"ticks\":\"\"},\"colorscale\":[[0.0,\"#0d0887\"],[0.1111111111111111,\"#46039f\"],[0.2222222222222222,\"#7201a8\"],[0.3333333333333333,\"#9c179e\"],[0.4444444444444444,\"#bd3786\"],[0.5555555555555556,\"#d8576b\"],[0.6666666666666666,\"#ed7953\"],[0.7777777777777778,\"#fb9f3a\"],[0.8888888888888888,\"#fdca26\"],[1.0,\"#f0f921\"]]}],\"contourcarpet\":[{\"type\":\"contourcarpet\",\"colorbar\":{\"outlinewidth\":0,\"ticks\":\"\"}}],\"contour\":[{\"type\":\"contour\",\"colorbar\":{\"outlinewidth\":0,\"ticks\":\"\"},\"colorscale\":[[0.0,\"#0d0887\"],[0.1111111111111111,\"#46039f\"],[0.2222222222222222,\"#7201a8\"],[0.3333333333333333,\"#9c179e\"],[0.4444444444444444,\"#bd3786\"],[0.5555555555555556,\"#d8576b\"],[0.6666666666666666,\"#ed7953\"],[0.7777777777777778,\"#fb9f3a\"],[0.8888888888888888,\"#fdca26\"],[1.0,\"#f0f921\"]]}],\"surface\":[{\"type\":\"surface\",\"colorbar\":{\"outlinewidth\":0,\"ticks\":\"\"},\"colorscale\":[[0.0,\"#0d0887\"],[0.1111111111111111,\"#46039f\"],[0.2222222222222222,\"#7201a8\"],[0.3333333333333333,\"#9c179e\"],[0.4444444444444444,\"#bd3786\"],[0.5555555555555556,\"#d8576b\"],[0.6666666666666666,\"#ed7953\"],[0.7777777777777778,\"#fb9f3a\"],[0.8888888888888888,\"#fdca26\"],[1.0,\"#f0f921\"]]}],\"mesh3d\":[{\"type\":\"mesh3d\",\"colorbar\":{\"outlinewidth\":0,\"ticks\":\"\"}}],\"scatter\":[{\"fillpattern\":{\"fillmode\":\"overlay\",\"size\":10,\"solidity\":0.2},\"type\":\"scatter\"}],\"parcoords\":[{\"type\":\"parcoords\",\"line\":{\"colorbar\":{\"outlinewidth\":0,\"ticks\":\"\"}}}],\"scatterpolargl\":[{\"type\":\"scatterpolargl\",\"marker\":{\"colorbar\":{\"outlinewidth\":0,\"ticks\":\"\"}}}],\"bar\":[{\"error_x\":{\"color\":\"#2a3f5f\"},\"error_y\":{\"color\":\"#2a3f5f\"},\"marker\":{\"line\":{\"color\":\"#E5ECF6\",\"width\":0.5},\"pattern\":{\"fillmode\":\"overlay\",\"size\":10,\"solidity\":0.2}},\"type\":\"bar\"}],\"scattergeo\":[{\"type\":\"scattergeo\",\"marker\":{\"colorbar\":{\"outlinewidth\":0,\"ticks\":\"\"}}}],\"scatterpolar\":[{\"type\":\"scatterpolar\",\"marker\":{\"colorbar\":{\"outlinewidth\":0,\"ticks\":\"\"}}}],\"histogram\":[{\"marker\":{\"pattern\":{\"fillmode\":\"overlay\",\"size\":10,\"solidity\":0.2}},\"type\":\"histogram\"}],\"scattergl\":[{\"type\":\"scattergl\",\"marker\":{\"colorbar\":{\"outlinewidth\":0,\"ticks\":\"\"}}}],\"scatter3d\":[{\"type\":\"scatter3d\",\"line\":{\"colorbar\":{\"outlinewidth\":0,\"ticks\":\"\"}},\"marker\":{\"colorbar\":{\"outlinewidth\":0,\"ticks\":\"\"}}}],\"scattermapbox\":[{\"type\":\"scattermapbox\",\"marker\":{\"colorbar\":{\"outlinewidth\":0,\"ticks\":\"\"}}}],\"scatterternary\":[{\"type\":\"scatterternary\",\"marker\":{\"colorbar\":{\"outlinewidth\":0,\"ticks\":\"\"}}}],\"scattercarpet\":[{\"type\":\"scattercarpet\",\"marker\":{\"colorbar\":{\"outlinewidth\":0,\"ticks\":\"\"}}}],\"carpet\":[{\"aaxis\":{\"endlinecolor\":\"#2a3f5f\",\"gridcolor\":\"white\",\"linecolor\":\"white\",\"minorgridcolor\":\"white\",\"startlinecolor\":\"#2a3f5f\"},\"baxis\":{\"endlinecolor\":\"#2a3f5f\",\"gridcolor\":\"white\",\"linecolor\":\"white\",\"minorgridcolor\":\"white\",\"startlinecolor\":\"#2a3f5f\"},\"type\":\"carpet\"}],\"table\":[{\"cells\":{\"fill\":{\"color\":\"#EBF0F8\"},\"line\":{\"color\":\"white\"}},\"header\":{\"fill\":{\"color\":\"#C8D4E3\"},\"line\":{\"color\":\"white\"}},\"type\":\"table\"}],\"barpolar\":[{\"marker\":{\"line\":{\"color\":\"#E5ECF6\",\"width\":0.5},\"pattern\":{\"fillmode\":\"overlay\",\"size\":10,\"solidity\":0.2}},\"type\":\"barpolar\"}],\"pie\":[{\"automargin\":true,\"type\":\"pie\"}]},\"layout\":{\"autotypenumbers\":\"strict\",\"colorway\":[\"#636efa\",\"#EF553B\",\"#00cc96\",\"#ab63fa\",\"#FFA15A\",\"#19d3f3\",\"#FF6692\",\"#B6E880\",\"#FF97FF\",\"#FECB52\"],\"font\":{\"color\":\"#2a3f5f\"},\"hovermode\":\"closest\",\"hoverlabel\":{\"align\":\"left\"},\"paper_bgcolor\":\"white\",\"plot_bgcolor\":\"#E5ECF6\",\"polar\":{\"bgcolor\":\"#E5ECF6\",\"angularaxis\":{\"gridcolor\":\"white\",\"linecolor\":\"white\",\"ticks\":\"\"},\"radialaxis\":{\"gridcolor\":\"white\",\"linecolor\":\"white\",\"ticks\":\"\"}},\"ternary\":{\"bgcolor\":\"#E5ECF6\",\"aaxis\":{\"gridcolor\":\"white\",\"linecolor\":\"white\",\"ticks\":\"\"},\"baxis\":{\"gridcolor\":\"white\",\"linecolor\":\"white\",\"ticks\":\"\"},\"caxis\":{\"gridcolor\":\"white\",\"linecolor\":\"white\",\"ticks\":\"\"}},\"coloraxis\":{\"colorbar\":{\"outlinewidth\":0,\"ticks\":\"\"}},\"colorscale\":{\"sequential\":[[0.0,\"#0d0887\"],[0.1111111111111111,\"#46039f\"],[0.2222222222222222,\"#7201a8\"],[0.3333333333333333,\"#9c179e\"],[0.4444444444444444,\"#bd3786\"],[0.5555555555555556,\"#d8576b\"],[0.6666666666666666,\"#ed7953\"],[0.7777777777777778,\"#fb9f3a\"],[0.8888888888888888,\"#fdca26\"],[1.0,\"#f0f921\"]],\"sequentialminus\":[[0.0,\"#0d0887\"],[0.1111111111111111,\"#46039f\"],[0.2222222222222222,\"#7201a8\"],[0.3333333333333333,\"#9c179e\"],[0.4444444444444444,\"#bd3786\"],[0.5555555555555556,\"#d8576b\"],[0.6666666666666666,\"#ed7953\"],[0.7777777777777778,\"#fb9f3a\"],[0.8888888888888888,\"#fdca26\"],[1.0,\"#f0f921\"]],\"diverging\":[[0,\"#8e0152\"],[0.1,\"#c51b7d\"],[0.2,\"#de77ae\"],[0.3,\"#f1b6da\"],[0.4,\"#fde0ef\"],[0.5,\"#f7f7f7\"],[0.6,\"#e6f5d0\"],[0.7,\"#b8e186\"],[0.8,\"#7fbc41\"],[0.9,\"#4d9221\"],[1,\"#276419\"]]},\"xaxis\":{\"gridcolor\":\"white\",\"linecolor\":\"white\",\"ticks\":\"\",\"title\":{\"standoff\":15},\"zerolinecolor\":\"white\",\"automargin\":true,\"zerolinewidth\":2},\"yaxis\":{\"gridcolor\":\"white\",\"linecolor\":\"white\",\"ticks\":\"\",\"title\":{\"standoff\":15},\"zerolinecolor\":\"white\",\"automargin\":true,\"zerolinewidth\":2},\"scene\":{\"xaxis\":{\"backgroundcolor\":\"#E5ECF6\",\"gridcolor\":\"white\",\"linecolor\":\"white\",\"showbackground\":true,\"ticks\":\"\",\"zerolinecolor\":\"white\",\"gridwidth\":2},\"yaxis\":{\"backgroundcolor\":\"#E5ECF6\",\"gridcolor\":\"white\",\"linecolor\":\"white\",\"showbackground\":true,\"ticks\":\"\",\"zerolinecolor\":\"white\",\"gridwidth\":2},\"zaxis\":{\"backgroundcolor\":\"#E5ECF6\",\"gridcolor\":\"white\",\"linecolor\":\"white\",\"showbackground\":true,\"ticks\":\"\",\"zerolinecolor\":\"white\",\"gridwidth\":2}},\"shapedefaults\":{\"line\":{\"color\":\"#2a3f5f\"}},\"annotationdefaults\":{\"arrowcolor\":\"#2a3f5f\",\"arrowhead\":0,\"arrowwidth\":1},\"geo\":{\"bgcolor\":\"white\",\"landcolor\":\"#E5ECF6\",\"subunitcolor\":\"white\",\"showland\":true,\"showlakes\":true,\"lakecolor\":\"white\"},\"title\":{\"x\":0.05},\"mapbox\":{\"style\":\"light\"}}},\"xaxis\":{\"anchor\":\"y\",\"domain\":[0.0,1.0],\"title\":{\"text\":\"Qualidade do vinho\"}},\"yaxis\":{\"anchor\":\"x\",\"domain\":[0.0,1.0],\"title\":{\"text\":\"sulphates\"}},\"legend\":{\"tracegroupgap\":0},\"margin\":{\"t\":60},\"width\":500,\"title\":{\"text\":\"Correla\\u00e7\\u00e3o\"}},                        {\"responsive\": true}                    ).then(function(){\n",
              "                            \n",
              "var gd = document.getElementById('8b37333b-7b06-4a0c-b1dc-f548fa47b58c');\n",
              "var x = new MutationObserver(function (mutations, observer) {{\n",
              "        var display = window.getComputedStyle(gd).display;\n",
              "        if (!display || display === 'none') {{\n",
              "            console.log([gd, 'removed!']);\n",
              "            Plotly.purge(gd);\n",
              "            observer.disconnect();\n",
              "        }}\n",
              "}});\n",
              "\n",
              "// Listen for the removal of the full notebook cells\n",
              "var notebookContainer = gd.closest('#notebook-container');\n",
              "if (notebookContainer) {{\n",
              "    x.observe(notebookContainer, {childList: true});\n",
              "}}\n",
              "\n",
              "// Listen for the clearing of the current output cell\n",
              "var outputEl = gd.closest('.output');\n",
              "if (outputEl) {{\n",
              "    x.observe(outputEl, {childList: true});\n",
              "}}\n",
              "\n",
              "                        })                };                            </script>        </div>\n",
              "</body>\n",
              "</html>"
            ]
          },
          "metadata": {}
        },
        {
          "output_type": "display_data",
          "data": {
            "text/html": [
              "<html>\n",
              "<head><meta charset=\"utf-8\" /></head>\n",
              "<body>\n",
              "    <div>            <script src=\"https://cdnjs.cloudflare.com/ajax/libs/mathjax/2.7.5/MathJax.js?config=TeX-AMS-MML_SVG\"></script><script type=\"text/javascript\">if (window.MathJax && window.MathJax.Hub && window.MathJax.Hub.Config) {window.MathJax.Hub.Config({SVG: {font: \"STIX-Web\"}});}</script>                <script type=\"text/javascript\">window.PlotlyConfig = {MathJaxConfig: 'local'};</script>\n",
              "        <script src=\"https://cdn.plot.ly/plotly-2.18.2.min.js\"></script>                <div id=\"37989a6f-48b2-4889-93cd-0f989d53e7e7\" class=\"plotly-graph-div\" style=\"height:525px; width:500px;\"></div>            <script type=\"text/javascript\">                                    window.PLOTLYENV=window.PLOTLYENV || {};                                    if (document.getElementById(\"37989a6f-48b2-4889-93cd-0f989d53e7e7\")) {                    Plotly.newPlot(                        \"37989a6f-48b2-4889-93cd-0f989d53e7e7\",                        [{\"hovertemplate\":\"quality=%{x}<br>alcohol=%{y}<extra></extra>\",\"legendgroup\":\"\",\"marker\":{\"color\":\"#636efa\",\"symbol\":\"circle\",\"line\":{\"width\":2},\"size\":12},\"mode\":\"markers\",\"name\":\"\",\"showlegend\":false,\"x\":[5,5,5,6,5,5,7,7,5,5,5,5,5,5,7,5,4,6,6,5,5,5,6,5,5,5,6,5,6,5,6,5,6,6,7,4,5,4,6,5,5,4,5,5,5,5,5,6,6,5,6,5,5,5,5,6,5,5,7,5,5,5,5,5,6,6,5,5,4,5,5,6,5,4,5,5,5,5,6,5,6,5,5,5,5,5,4,6,5,5,5,6,6,6,5,5,5,5,6,5,5,5,5,6,6,6,6,6,6,5,5,5,5,5,5,5,7,5,5,5,6,6,5,5,5,5,5,6,5,5,5,5,6,6,6,4,5,5,5,5,6,5,4,6,5,5,5,5,4,6,5,4,6,6,5,5,6,5,5,5,5,5,6,5,5,5,5,5,5,6,5,5,5,5,6,7,4,7,5,5,5,6,7,5,5,7,6,6,6,5,6,5,5,5,5,5,6,5,5,6,4,6,6,5,5,7,6,6,6,6,6,5,6,6,7,6,5,5,6,6,6,5,5,5,5,5,5,7,5,4,5,5,5,7,4,8,6,6,6,5,5,5,8,7,6,7,5,5,6,6,7,5,5,6,6,6,5,5,5,5,5,6,6,5,5,5,6,5,6,6,6,6,6,5,5,6,5,6,7,5,5,6,6,7,5,6,5,6,6,5,7,7,6,5,6,7,6,6,6,6,5,7,6,6,6,6,6,5,5,6,6,5,7,7,6,5,6,5,5,7,6,5,5,7,5,6,6,5,6,7,6,6,6,6,6,5,6,6,6,6,7,8,5,5,5,7,5,6,5,6,6,6,5,6,6,7,6,4,6,5,5,7,5,5,6,5,6,5,7,7,5,7,6,6,5,6,5,6,5,6,6,6,5,8,6,7,7,7,6,5,5,6,6,6,6,7,5,8,5,5,3,6,5,5,5,6,5,6,6,6,5,5,6,6,5,6,5,5,6,6,5,8,5,5,6,5,6,7,6,6,7,7,6,6,8,6,5,7,7,7,7,7,6,6,7,5,6,7,5,6,3,6,5,6,5,5,5,5,5,6,6,5,6,5,6,6,6,7,5,5,6,5,6,6,5,6,6,6,6,6,6,6,5,5,6,5,6,5,5,5,6,6,6,6,6,5,4,6,6,4,5,5,6,5,5,7,7,6,7,5,8,7,5,6,5,5,5,6,6,6,6,4,6,5,6,6,7,6,6,6,5,5,6,5,6,5,6,5,5,5,5,5,6,5,5,6,5,5,6,4,5,5,5,5,7,6,5,5,7,5,4,7,6,5,5,5,6,5,5,7,6,4,5,6,6,5,5,6,6,5,5,5,5,6,5,5,5,5,5,6,5,5,5,5,5,5,5,3,5,5,5,5,6,6,5,6,6,6,4,4,5,5,5,6,6,5,5,5,5,5,6,5,5,5,5,5,5,4,5,6,5,6,5,5,5,5,5,5,6,5,5,6,5,5,5,5,6,6,5,6,5,5,6,6,6,5,5,5,5,6,6,6,5,5,6,5,5,5,6,6,5,6,6,5,5,6,5,5,5,5,6,5,6,5,6,5,6,5,5,7,6,5,5,7,6,6,7,7,5,6,5,6,5,4,6,6,6,5,5,5,7,5,5,5,7,8,6,4,3,4,5,5,7,7,5,7,5,6,5,6,5,6,5,5,5,6,7,7,7,6,5,6,5,5,5,6,6,6,6,5,4,7,7,7,4,6,5,5,6,6,5,6,7,6,5,5,5,6,6,6,7,3,5,7,7,5,5,6,6,6,6,6,6,7,6,5,6,6,6,5,5,7,6,4,7,5,5,6,6,4,7,5,7,7,7,7,7,7,7,7,7,7,7,6,5,6,6,7,5,6,5,5,6,6,7,5,6,5,6,7,5,7,5,5,7,5,6,5,6,6,7,5,5,6,5,6,5,6,7,6,6,7,7,7,7,5,7,7,5,7,6,5,6,6,6,7,6,5,6,5,6,7,6,6,5,6,7,7,5,6,6,7,7,5,7,6,5,6,7,6,6,6,5,6,6,5,5,7,6,7,5,7,6,8,6,6,6,6,7,7,5,7,5,6,6,7,6,5,7,6,7,6,6,5,7,6,7,8,6,6,7,6,5,5,7,6,6,6,6,5,6,7,5,6,6,7,6,6,6,6,6,5,8,6,6,6,4,7,6,6,5,6,6,5,7,7,7,6,6,5,6,6,6,6,6,5,6,6,7,6,6,7,6,5,6,6,7,7,6,5,7,6,7,5,5,5,7,6,6,6,6,6,6,6,4,7,5,6,5,6,5,5,6,5,4,6,5,7,5,6,6,6,6,6,7,8,5,7,5,7,6,5,6,6,6,6,6,6,6,6,6,6,6,5,5,5,7,5,6,5,4,6,4,6,4,4,5,5,6,5,6,5,5,6,6,5,5,5,5,5,5,6,6,5,4,5,4,6,6,6,6,8,6,6,5,5,6,6,4,6,7,6,6,6,5,5,6,5,5,5,6,6,4,5,6,6,3,6,6,6,5,5,5,5,4,5,6,5,6,6,6,6,6,6,5,6,5,7,6,5,6,5,6,5,5,6,5,6,6,5,6,5,5,5,5,6,5,5,5,5,6,5,6,5,5,4,6,5,5,6,6,4,5,6,5,3,5,5,6,6,6,5,5,5,5,5,5,5,6,5,5,5,5,6,5,5,7,6,5,6,8,6,7,6,6,7,6,6,5,5,5,7,5,5,5,6,4,6,6,5,5,5,5,6,6,7,6,5,5,5,6,7,6,5,5,6,6,5,5,8,7,7,5,6,6,6,5,7,6,4,6,6,5,7,4,3,5,5,6,5,5,7,7,3,5,4,4,5,4,5,5,5,5,6,6,5,5,7,6,6,6,5,5,5,6,6,3,6,6,5,6,5,6,6,6,6,5,6,5,5,4,5,6,5,6,6,6,6,6,5,6,5,7,6,6,6,5,5,6,7,6,6,7,6,5,5,5,8,5,5,6,5,6,7,5,5,5,5,6,6,5,6,6,6,5,6,6,6,6,6,6,5,6,5,5,7,6,6,6,6,5,6,6,6,6,5,6,5,6],\"xaxis\":\"x\",\"y\":[9.4,9.8,9.8,9.8,9.4,9.4,10.0,9.5,10.5,9.2,9.9,9.1,9.2,9.2,10.5,9.3,9.0,9.2,9.4,9.7,9.5,9.4,9.7,9.3,9.5,9.4,9.8,10.1,10.6,9.8,9.4,9.2,9.6,10.8,9.7,9.8,10.5,9.3,10.5,10.3,9.5,13.1,9.2,9.5,9.2,9.2,9.2,9.4,9.4,9.4,10.2,9.5,9.6,9.4,10.0,9.4,9.2,9.3,9.5,9.8,10.9,9.6,10.7,10.7,10.5,9.5,9.5,9.5,9.2,9.6,10.5,10.7,10.1,9.1,9.2,9.4,9.1,9.4,10.3,10.1,9.9,9.6,9.5,9.0,9.5,9.8,10.5,12.9,10.7,9.2,9.8,9.0,10.2,10.4,9.2,9.4,9.3,9.3,9.6,9.3,9.5,9.8,9.8,9.7,10.5,10.0,9.4,10.9,9.2,9.0,9.2,9.5,9.5,9.4,10.9,10.9,10.5,9.4,9.4,13.0,9.8,9.9,9.6,9.5,9.2,9.5,9.5,14.0,9.4,9.4,10.0,9.3,10.2,10.5,10.3,9.4,10.1,10.5,10.5,9.3,9.3,9.6,9.2,10.0,9.4,9.4,9.5,10.2,9.0,10.4,9.5,9.1,9.2,11.5,9.5,9.5,10.5,9.6,9.5,9.3,9.3,9.3,9.3,9.7,9.2,9.7,9.5,9.5,9.4,9.8,9.5,9.7,9.4,10.2,10.1,13.0,11.4,10.3,9.3,9.5,9.2,9.2,10.8,9.3,9.4,10.5,12.4,10.0,10.2,10.1,9.8,10.5,11.0,9.1,9.7,9.5,9.4,9.4,9.5,10.0,10.4,10.5,9.5,9.8,11.0,12.2,9.9,9.6,9.0,9.0,9.2,9.3,10.9,9.8,9.2,9.9,9.5,9.3,9.8,10.0,9.9,10.5,9.5,9.3,9.2,9.2,9.4,10.5,9.3,9.4,10.0,9.3,10.9,10.2,9.8,12.8,9.4,10.1,10.7,10.1,9.4,9.4,12.6,10.5,9.3,9.9,9.1,9.8,10.3,10.3,10.6,9.2,10.5,10.3,10.1,9.5,9.5,9.9,9.6,9.7,9.6,10.7,10.1,10.0,9.5,9.2,9.3,9.4,9.5,9.5,9.5,9.4,9.5,9.4,11.0,11.0,10.1,10.4,11.5,9.7,9.3,9.5,9.2,11.5,11.5,9.7,9.5,12.5,9.4,11.0,11.7,12.2,12.5,10.3,11.5,9.8,9.2,11.3,9.8,10.7,9.9,12.3,12.0,10.0,9.4,9.9,9.4,9.3,13.0,11.9,12.8,11.0,11.7,10.4,9.8,9.4,9.9,10.0,10.2,10.0,11.8,9.0,9.4,12.0,9.9,8.7,10.6,9.2,10.8,11.8,11.0,13.3,10.8,9.4,10.0,9.2,9.7,9.2,9.6,9.2,10.0,12.9,9.5,9.1,9.9,13.0,9.9,11.0,9.4,10.8,10.5,10.5,9.1,10.1,10.8,10.8,11.3,9.6,9.5,9.5,9.3,11.7,9.5,9.3,11.7,10.5,10.4,9.9,11.8,12.3,10.9,11.0,11.4,10.6,9.3,10.4,9.2,12.8,9.5,9.9,10.2,11.2,9.3,9.8,11.3,11.2,11.6,12.5,10.1,10.5,11.2,10.2,10.8,9.1,10.0,11.2,11.1,13.4,10.3,9.6,9.0,11.3,9.3,11.8,9.0,9.2,9.7,11.5,14.0,9.2,9.8,10.6,11.4,10.4,10.6,9.4,10.2,9.7,11.0,10.1,9.2,11.7,9.4,9.4,13.4,10.0,10.0,10.8,10.2,10.6,13.3,13.4,11.6,12.1,11.0,9.0,11.1,12.0,10.9,10.8,12.5,10.8,9.5,10.2,11.4,9.5,9.7,11.8,9.3,11.9,8.4,11.7,11.0,10.0,9.1,9.8,9.4,9.5,9.9,11.4,8.7,9.4,10.3,10.3,12.8,10.0,10.7,12.0,11.2,9.6,11.0,9.9,11.0,8.4,9.1,9.5,10.7,10.4,9.4,9.5,10.0,10.0,11.5,11.1,11.7,11.1,12.7,11.4,9.2,9.2,10.1,9.0,10.7,11.7,11.0,10.4,9.6,10.0,10.2,10.0,9.5,9.8,9.8,9.6,9.2,9.9,10.7,9.6,10.6,9.3,14.0,10.5,9.7,11.5,9.0,9.5,9.3,9.3,10.0,9.8,9.3,10.0,9.0,9.3,9.1,9.2,12.2,10.5,10.4,12.7,9.2,9.4,10.0,9.8,10.2,9.7,9.8,10.2,9.3,9.4,9.4,9.5,12.1,10.2,9.1,9.3,9.3,9.5,10.5,11.3,9.5,9.7,9.4,9.4,10.2,10.3,9.4,9.5,10.1,10.1,11.0,11.2,11.3,9.6,11.2,14.9,12.0,9.5,9.4,10.5,9.6,11.0,9.0,9.6,10.2,10.2,9.7,9.5,9.2,11.0,10.0,9.5,9.5,9.3,10.2,9.9,10.0,9.6,9.0,10.2,9.8,11.3,9.4,9.1,9.7,9.4,9.4,10.7,9.8,9.0,9.4,9.4,12.8,9.5,9.7,10.8,10.1,9.4,9.6,9.7,9.9,10.0,10.5,11.6,10.0,10.1,9.5,9.4,9.4,9.8,9.2,10.0,9.6,9.5,9.2,10.0,9.5,11.2,10.4,11.1,9.5,12.7,9.6,11.5,9.6,9.5,9.3,9.5,9.3,9.2,9.3,11.5,9.5,9.2,10.0,9.5,9.5,9.0,9.4,9.6,9.5,9.4,9.1,10.7,11.2,9.8,9.2,9.7,9.6,10.0,9.5,9.5,9.4,9.5,9.7,9.6,9.4,9.4,9.5,9.5,10.0,10.3,10.3,10.5,9.8,9.4,9.8,10.0,9.8,9.5,10.1,9.3,9.7,9.6,9.7,10.8,12.5,10.2,9.6,10.8,10.7,9.4,10.0,12.9,9.6,9.9,12.8,12.5,9.2,10.3,10.5,10.9,10.8,11.4,11.3,10.5,11.9,9.4,9.6,9.7,14.0,9.8,10.3,10.7,11.0,12.7,11.1,10.9,9.9,9.9,9.4,9.3,11.7,11.2,10.0,12.1,10.3,10.9,9.4,10.6,9.8,9.9,9.8,9.5,9.7,10.9,11.7,11.3,10.6,11.2,9.5,11.5,10.4,9.7,9.7,11.3,11.2,10.9,11.8,10.6,10.0,11.1,11.8,11.8,10.9,10.0,9.5,9.9,11.4,12.0,10.5,10.4,12.1,11.2,9.3,10.1,9.7,9.3,9.8,10.7,12.5,11.0,11.8,10.8,10.8,9.5,11.0,11.5,10.8,11.5,13.2,10.9,12.2,12.2,11.9,11.0,10.1,11.0,11.8,10.5,11.2,11.0,10.2,9.2,12.0,10.5,9.8,9.5,11.8,10.4,12.9,11.4,12.4,12.5,10.0,9.7,12.1,11.1,12.0,12.4,11.9,11.2,12.1,12.2,10.4,11.3,11.1,11.3,10.0,11.1,9.3,9.5,11.2,11.0,11.9,9.2,12.2,10.2,10.9,11.6,10.7,12.1,9.4,9.1,11.3,10.4,10.5,10.0,12.9,11.3,11.4,9.4,9.4,10.9,9.4,9.4,9.4,10.1,12.8,9.1,12.9,11.5,10.6,11.7,12.8,10.3,11.7,12.0,10.9,12.3,10.4,10.0,10.0,11.2,11.4,12.6,12.7,10.4,11.9,10.5,12.3,10.5,10.4,12.6,11.6,10.1,11.5,11.0,9.6,10.4,9.7,10.6,12.5,9.2,12.6,11.1,10.2,9.8,10.9,12.2,11.4,10.7,10.4,10.9,10.8,9.2,12.9,12.7,9.1,12.1,9.1,11.6,9.9,12.5,11.4,11.8,11.8,10.2,12.5,10.9,10.8,11.1,9.2,9.5,10.7,10.2,11.4,11.0,12.3,11.8,12.3,9.5,12.0,9.6,11.6,11.2,9.9,11.8,11.4,11.5,12.0,10.8,10.5,9.4,12.5,12.4,12.0,11.2,12.4,12.8,12.3,11.7,9.5,10.8,10.0,12.3,11.0,9.5,13.6,11.3,13.3,12.9,13.1,12.3,12.3,11.2,11.5,11.3,13.5,11.5,10.0,10.5,10.4,9.5,13.6,11.2,11.8,11.9,11.4,9.1,9.5,9.5,11.0,11.4,10.0,10.1,10.4,9.8,11.8,11.6,12.0,12.8,12.5,9.8,11.1,11.4,11.8,12.9,10.6,10.8,11.1,10.2,11.8,10.0,9.4,10.2,12.4,12.0,11.5,10.5,10.8,12.3,9.5,11.5,11.2,12.7,11.4,11.0,11.4,10.5,9.3,10.9,11.9,12.2,9.6,12.5,10.8,12.4,10.8,9.5,9.5,9.5,9.8,10.9,11.2,11.7,9.4,11.0,10.0,11.2,10.4,9.3,10.5,10.4,11.3,9.5,12.0,10.6,10.9,11.5,9.6,12.0,10.3,9.4,9.2,9.6,13.6,9.5,11.8,10.8,9.3,12.8,11.5,9.4,9.6,11.8,9.3,9.8,12.2,9.5,10.3,10.5,10.0,11.1,10.9,9.8,9.8,9.5,10.9,11.0,9.2,11.0,11.3,9.3,11.2,9.8,9.6,11.8,10.3,11.4,9.5,14.0,14.0,11.7,11.2,9.3,11.2,9.5,12.0,9.7,11.5,10.4,10.9,10.2,10.9,10.5,12.4,13.0,10.2,11.0,10.9,12.4,9.7,9.5,12.1,12.2,10.9,12.5,11.7,11.2,11.2,9.2,9.8,10.1,11.1,9.2,12.8,10.5,10.1,10.1,9.8,12.5,11.9,9.1,10.1,12.5,11.4,11.0,10.6,9.3,9.8,9.2,9.7,9.6,10.0,12.6,9.5,10.5,10.4,11.0,10.2,11.4,9.5,10.8,10.0,11.8,10.3,10.0,10.1,10.1,11.1,9.5,10.0333333333333,10.9,10.1,9.8,11.8,9.5,9.8,10.5,9.8,10.4,9.2,11.6,9.3,9.8,9.9,10.0,12.2,9.9,10.8,9.6,9.9,9.5,9.2,9.6,10.3,9.7,12.5,11.0,9.8,10.2,9.2,9.55,9.55,9.9,10.2,11.1,9.9,11.9,10.0,10.7,11.3,10.9,10.7,12.4,11.9,10.6,10.1,9.6,9.4,12.1,9.8,9.9,9.4,11.4,11.0,9.6,12.1,11.2,11.0,11.3,10.4,9.9,11.7,10.1,9.0,8.5,11.1,10.3,11.0666666666667,11.3,9.56666666666667,9.8,11.7,11.1,9.6,9.7,9.7,11.3,11.0,11.6,9.0,10.9,10.9,10.55,10.5,11.9,10.4,10.0,10.4,10.8,9.7,10.0,11.0,9.7,9.7,12.6,11.1,11.0,8.8,13.5666666666667,13.6,10.2,10.6,10.1,10.3,10.7,10.9,9.7,10.3,10.6,11.4,10.8,12.4,11.95,9.7,10.0,10.6,11.5,10.8,9.6,9.4,9.8,11.0,11.4,9.95,10.8,10.6,11.1,9.7,9.8,10.4,10.5,9.23333333333333,9.25,10.6,10.3,10.5,10.2,9.05,10.4,10.0,9.7,9.6,10.8,10.1,10.2,11.3,10.2,9.9,9.0,11.7,9.7,10.3,10.2,12.0,9.9,11.6,10.9,10.75,10.4,11.2,10.1,10.2,12.1,10.4,11.4,9.5,9.4,11.3,9.4,11.0,10.55,9.9,9.5,9.9,10.1,10.9,11.2,9.2,11.5,12.4,11.1,9.5,12.5,10.5,11.8,10.8,11.9,11.3,11.3,11.9,11.9,9.8,11.6,11.5,11.4,10.9,12.8,9.2,11.6,11.6,11.0,9.5,10.5,11.2,10.2,11.0],\"yaxis\":\"y\",\"type\":\"scattergl\"}],                        {\"template\":{\"data\":{\"histogram2dcontour\":[{\"type\":\"histogram2dcontour\",\"colorbar\":{\"outlinewidth\":0,\"ticks\":\"\"},\"colorscale\":[[0.0,\"#0d0887\"],[0.1111111111111111,\"#46039f\"],[0.2222222222222222,\"#7201a8\"],[0.3333333333333333,\"#9c179e\"],[0.4444444444444444,\"#bd3786\"],[0.5555555555555556,\"#d8576b\"],[0.6666666666666666,\"#ed7953\"],[0.7777777777777778,\"#fb9f3a\"],[0.8888888888888888,\"#fdca26\"],[1.0,\"#f0f921\"]]}],\"choropleth\":[{\"type\":\"choropleth\",\"colorbar\":{\"outlinewidth\":0,\"ticks\":\"\"}}],\"histogram2d\":[{\"type\":\"histogram2d\",\"colorbar\":{\"outlinewidth\":0,\"ticks\":\"\"},\"colorscale\":[[0.0,\"#0d0887\"],[0.1111111111111111,\"#46039f\"],[0.2222222222222222,\"#7201a8\"],[0.3333333333333333,\"#9c179e\"],[0.4444444444444444,\"#bd3786\"],[0.5555555555555556,\"#d8576b\"],[0.6666666666666666,\"#ed7953\"],[0.7777777777777778,\"#fb9f3a\"],[0.8888888888888888,\"#fdca26\"],[1.0,\"#f0f921\"]]}],\"heatmap\":[{\"type\":\"heatmap\",\"colorbar\":{\"outlinewidth\":0,\"ticks\":\"\"},\"colorscale\":[[0.0,\"#0d0887\"],[0.1111111111111111,\"#46039f\"],[0.2222222222222222,\"#7201a8\"],[0.3333333333333333,\"#9c179e\"],[0.4444444444444444,\"#bd3786\"],[0.5555555555555556,\"#d8576b\"],[0.6666666666666666,\"#ed7953\"],[0.7777777777777778,\"#fb9f3a\"],[0.8888888888888888,\"#fdca26\"],[1.0,\"#f0f921\"]]}],\"heatmapgl\":[{\"type\":\"heatmapgl\",\"colorbar\":{\"outlinewidth\":0,\"ticks\":\"\"},\"colorscale\":[[0.0,\"#0d0887\"],[0.1111111111111111,\"#46039f\"],[0.2222222222222222,\"#7201a8\"],[0.3333333333333333,\"#9c179e\"],[0.4444444444444444,\"#bd3786\"],[0.5555555555555556,\"#d8576b\"],[0.6666666666666666,\"#ed7953\"],[0.7777777777777778,\"#fb9f3a\"],[0.8888888888888888,\"#fdca26\"],[1.0,\"#f0f921\"]]}],\"contourcarpet\":[{\"type\":\"contourcarpet\",\"colorbar\":{\"outlinewidth\":0,\"ticks\":\"\"}}],\"contour\":[{\"type\":\"contour\",\"colorbar\":{\"outlinewidth\":0,\"ticks\":\"\"},\"colorscale\":[[0.0,\"#0d0887\"],[0.1111111111111111,\"#46039f\"],[0.2222222222222222,\"#7201a8\"],[0.3333333333333333,\"#9c179e\"],[0.4444444444444444,\"#bd3786\"],[0.5555555555555556,\"#d8576b\"],[0.6666666666666666,\"#ed7953\"],[0.7777777777777778,\"#fb9f3a\"],[0.8888888888888888,\"#fdca26\"],[1.0,\"#f0f921\"]]}],\"surface\":[{\"type\":\"surface\",\"colorbar\":{\"outlinewidth\":0,\"ticks\":\"\"},\"colorscale\":[[0.0,\"#0d0887\"],[0.1111111111111111,\"#46039f\"],[0.2222222222222222,\"#7201a8\"],[0.3333333333333333,\"#9c179e\"],[0.4444444444444444,\"#bd3786\"],[0.5555555555555556,\"#d8576b\"],[0.6666666666666666,\"#ed7953\"],[0.7777777777777778,\"#fb9f3a\"],[0.8888888888888888,\"#fdca26\"],[1.0,\"#f0f921\"]]}],\"mesh3d\":[{\"type\":\"mesh3d\",\"colorbar\":{\"outlinewidth\":0,\"ticks\":\"\"}}],\"scatter\":[{\"fillpattern\":{\"fillmode\":\"overlay\",\"size\":10,\"solidity\":0.2},\"type\":\"scatter\"}],\"parcoords\":[{\"type\":\"parcoords\",\"line\":{\"colorbar\":{\"outlinewidth\":0,\"ticks\":\"\"}}}],\"scatterpolargl\":[{\"type\":\"scatterpolargl\",\"marker\":{\"colorbar\":{\"outlinewidth\":0,\"ticks\":\"\"}}}],\"bar\":[{\"error_x\":{\"color\":\"#2a3f5f\"},\"error_y\":{\"color\":\"#2a3f5f\"},\"marker\":{\"line\":{\"color\":\"#E5ECF6\",\"width\":0.5},\"pattern\":{\"fillmode\":\"overlay\",\"size\":10,\"solidity\":0.2}},\"type\":\"bar\"}],\"scattergeo\":[{\"type\":\"scattergeo\",\"marker\":{\"colorbar\":{\"outlinewidth\":0,\"ticks\":\"\"}}}],\"scatterpolar\":[{\"type\":\"scatterpolar\",\"marker\":{\"colorbar\":{\"outlinewidth\":0,\"ticks\":\"\"}}}],\"histogram\":[{\"marker\":{\"pattern\":{\"fillmode\":\"overlay\",\"size\":10,\"solidity\":0.2}},\"type\":\"histogram\"}],\"scattergl\":[{\"type\":\"scattergl\",\"marker\":{\"colorbar\":{\"outlinewidth\":0,\"ticks\":\"\"}}}],\"scatter3d\":[{\"type\":\"scatter3d\",\"line\":{\"colorbar\":{\"outlinewidth\":0,\"ticks\":\"\"}},\"marker\":{\"colorbar\":{\"outlinewidth\":0,\"ticks\":\"\"}}}],\"scattermapbox\":[{\"type\":\"scattermapbox\",\"marker\":{\"colorbar\":{\"outlinewidth\":0,\"ticks\":\"\"}}}],\"scatterternary\":[{\"type\":\"scatterternary\",\"marker\":{\"colorbar\":{\"outlinewidth\":0,\"ticks\":\"\"}}}],\"scattercarpet\":[{\"type\":\"scattercarpet\",\"marker\":{\"colorbar\":{\"outlinewidth\":0,\"ticks\":\"\"}}}],\"carpet\":[{\"aaxis\":{\"endlinecolor\":\"#2a3f5f\",\"gridcolor\":\"white\",\"linecolor\":\"white\",\"minorgridcolor\":\"white\",\"startlinecolor\":\"#2a3f5f\"},\"baxis\":{\"endlinecolor\":\"#2a3f5f\",\"gridcolor\":\"white\",\"linecolor\":\"white\",\"minorgridcolor\":\"white\",\"startlinecolor\":\"#2a3f5f\"},\"type\":\"carpet\"}],\"table\":[{\"cells\":{\"fill\":{\"color\":\"#EBF0F8\"},\"line\":{\"color\":\"white\"}},\"header\":{\"fill\":{\"color\":\"#C8D4E3\"},\"line\":{\"color\":\"white\"}},\"type\":\"table\"}],\"barpolar\":[{\"marker\":{\"line\":{\"color\":\"#E5ECF6\",\"width\":0.5},\"pattern\":{\"fillmode\":\"overlay\",\"size\":10,\"solidity\":0.2}},\"type\":\"barpolar\"}],\"pie\":[{\"automargin\":true,\"type\":\"pie\"}]},\"layout\":{\"autotypenumbers\":\"strict\",\"colorway\":[\"#636efa\",\"#EF553B\",\"#00cc96\",\"#ab63fa\",\"#FFA15A\",\"#19d3f3\",\"#FF6692\",\"#B6E880\",\"#FF97FF\",\"#FECB52\"],\"font\":{\"color\":\"#2a3f5f\"},\"hovermode\":\"closest\",\"hoverlabel\":{\"align\":\"left\"},\"paper_bgcolor\":\"white\",\"plot_bgcolor\":\"#E5ECF6\",\"polar\":{\"bgcolor\":\"#E5ECF6\",\"angularaxis\":{\"gridcolor\":\"white\",\"linecolor\":\"white\",\"ticks\":\"\"},\"radialaxis\":{\"gridcolor\":\"white\",\"linecolor\":\"white\",\"ticks\":\"\"}},\"ternary\":{\"bgcolor\":\"#E5ECF6\",\"aaxis\":{\"gridcolor\":\"white\",\"linecolor\":\"white\",\"ticks\":\"\"},\"baxis\":{\"gridcolor\":\"white\",\"linecolor\":\"white\",\"ticks\":\"\"},\"caxis\":{\"gridcolor\":\"white\",\"linecolor\":\"white\",\"ticks\":\"\"}},\"coloraxis\":{\"colorbar\":{\"outlinewidth\":0,\"ticks\":\"\"}},\"colorscale\":{\"sequential\":[[0.0,\"#0d0887\"],[0.1111111111111111,\"#46039f\"],[0.2222222222222222,\"#7201a8\"],[0.3333333333333333,\"#9c179e\"],[0.4444444444444444,\"#bd3786\"],[0.5555555555555556,\"#d8576b\"],[0.6666666666666666,\"#ed7953\"],[0.7777777777777778,\"#fb9f3a\"],[0.8888888888888888,\"#fdca26\"],[1.0,\"#f0f921\"]],\"sequentialminus\":[[0.0,\"#0d0887\"],[0.1111111111111111,\"#46039f\"],[0.2222222222222222,\"#7201a8\"],[0.3333333333333333,\"#9c179e\"],[0.4444444444444444,\"#bd3786\"],[0.5555555555555556,\"#d8576b\"],[0.6666666666666666,\"#ed7953\"],[0.7777777777777778,\"#fb9f3a\"],[0.8888888888888888,\"#fdca26\"],[1.0,\"#f0f921\"]],\"diverging\":[[0,\"#8e0152\"],[0.1,\"#c51b7d\"],[0.2,\"#de77ae\"],[0.3,\"#f1b6da\"],[0.4,\"#fde0ef\"],[0.5,\"#f7f7f7\"],[0.6,\"#e6f5d0\"],[0.7,\"#b8e186\"],[0.8,\"#7fbc41\"],[0.9,\"#4d9221\"],[1,\"#276419\"]]},\"xaxis\":{\"gridcolor\":\"white\",\"linecolor\":\"white\",\"ticks\":\"\",\"title\":{\"standoff\":15},\"zerolinecolor\":\"white\",\"automargin\":true,\"zerolinewidth\":2},\"yaxis\":{\"gridcolor\":\"white\",\"linecolor\":\"white\",\"ticks\":\"\",\"title\":{\"standoff\":15},\"zerolinecolor\":\"white\",\"automargin\":true,\"zerolinewidth\":2},\"scene\":{\"xaxis\":{\"backgroundcolor\":\"#E5ECF6\",\"gridcolor\":\"white\",\"linecolor\":\"white\",\"showbackground\":true,\"ticks\":\"\",\"zerolinecolor\":\"white\",\"gridwidth\":2},\"yaxis\":{\"backgroundcolor\":\"#E5ECF6\",\"gridcolor\":\"white\",\"linecolor\":\"white\",\"showbackground\":true,\"ticks\":\"\",\"zerolinecolor\":\"white\",\"gridwidth\":2},\"zaxis\":{\"backgroundcolor\":\"#E5ECF6\",\"gridcolor\":\"white\",\"linecolor\":\"white\",\"showbackground\":true,\"ticks\":\"\",\"zerolinecolor\":\"white\",\"gridwidth\":2}},\"shapedefaults\":{\"line\":{\"color\":\"#2a3f5f\"}},\"annotationdefaults\":{\"arrowcolor\":\"#2a3f5f\",\"arrowhead\":0,\"arrowwidth\":1},\"geo\":{\"bgcolor\":\"white\",\"landcolor\":\"#E5ECF6\",\"subunitcolor\":\"white\",\"showland\":true,\"showlakes\":true,\"lakecolor\":\"white\"},\"title\":{\"x\":0.05},\"mapbox\":{\"style\":\"light\"}}},\"xaxis\":{\"anchor\":\"y\",\"domain\":[0.0,1.0],\"title\":{\"text\":\"Qualidade do vinho\"}},\"yaxis\":{\"anchor\":\"x\",\"domain\":[0.0,1.0],\"title\":{\"text\":\"alcohol\"}},\"legend\":{\"tracegroupgap\":0},\"margin\":{\"t\":60},\"width\":500,\"title\":{\"text\":\"Correla\\u00e7\\u00e3o\"}},                        {\"responsive\": true}                    ).then(function(){\n",
              "                            \n",
              "var gd = document.getElementById('37989a6f-48b2-4889-93cd-0f989d53e7e7');\n",
              "var x = new MutationObserver(function (mutations, observer) {{\n",
              "        var display = window.getComputedStyle(gd).display;\n",
              "        if (!display || display === 'none') {{\n",
              "            console.log([gd, 'removed!']);\n",
              "            Plotly.purge(gd);\n",
              "            observer.disconnect();\n",
              "        }}\n",
              "}});\n",
              "\n",
              "// Listen for the removal of the full notebook cells\n",
              "var notebookContainer = gd.closest('#notebook-container');\n",
              "if (notebookContainer) {{\n",
              "    x.observe(notebookContainer, {childList: true});\n",
              "}}\n",
              "\n",
              "// Listen for the clearing of the current output cell\n",
              "var outputEl = gd.closest('.output');\n",
              "if (outputEl) {{\n",
              "    x.observe(outputEl, {childList: true});\n",
              "}}\n",
              "\n",
              "                        })                };                            </script>        </div>\n",
              "</body>\n",
              "</html>"
            ]
          },
          "metadata": {}
        }
      ]
    },
    {
      "cell_type": "code",
      "source": [
        "import plotly.express as px\n",
        "for i in range(4,11):\n",
        "  fig  = px.scatter(tabela_redwine, x = 'quality', y = lista_corr[i], width = 500)\n",
        "  fig.update_traces(marker = dict(size = 12, line=dict(width = 2)), selector = dict(mode = 'markers'))\n",
        "  fig.update_layout(title = 'Correlação')\n",
        "  fig.update_xaxes(title = 'Qualidade do vinho')\n",
        "  fig.update_yaxes(title = lista_corr[i])\n",
        "  fig.show()"
      ],
      "metadata": {
        "id": "y5-93f6WHHoq",
        "outputId": "2ebfc204-4bc3-43b8-ba38-2429d02bcb37",
        "colab": {
          "base_uri": "https://localhost:8080/",
          "height": 1000
        }
      },
      "execution_count": 21,
      "outputs": [
        {
          "output_type": "display_data",
          "data": {
            "text/html": [
              "<html>\n",
              "<head><meta charset=\"utf-8\" /></head>\n",
              "<body>\n",
              "    <div>            <script src=\"https://cdnjs.cloudflare.com/ajax/libs/mathjax/2.7.5/MathJax.js?config=TeX-AMS-MML_SVG\"></script><script type=\"text/javascript\">if (window.MathJax && window.MathJax.Hub && window.MathJax.Hub.Config) {window.MathJax.Hub.Config({SVG: {font: \"STIX-Web\"}});}</script>                <script type=\"text/javascript\">window.PlotlyConfig = {MathJaxConfig: 'local'};</script>\n",
              "        <script src=\"https://cdn.plot.ly/plotly-2.18.2.min.js\"></script>                <div id=\"660f7c30-e56b-426e-9f30-1d276d711463\" class=\"plotly-graph-div\" style=\"height:525px; width:500px;\"></div>            <script type=\"text/javascript\">                                    window.PLOTLYENV=window.PLOTLYENV || {};                                    if (document.getElementById(\"660f7c30-e56b-426e-9f30-1d276d711463\")) {                    Plotly.newPlot(                        \"660f7c30-e56b-426e-9f30-1d276d711463\",                        [{\"hovertemplate\":\"quality=%{x}<br>chlorides=%{y}<extra></extra>\",\"legendgroup\":\"\",\"marker\":{\"color\":\"#636efa\",\"symbol\":\"circle\",\"line\":{\"width\":2},\"size\":12},\"mode\":\"markers\",\"name\":\"\",\"showlegend\":false,\"x\":[5,5,5,6,5,5,5,7,7,5,5,5,5,5,5,5,7,5,4,6,6,5,5,5,6,5,5,5,5,6,5,6,5,6,5,6,6,7,4,5,5,4,6,5,5,4,5,5,5,5,5,6,6,5,6,5,5,5,5,6,5,5,7,5,5,5,5,5,5,6,6,5,5,4,5,5,5,6,5,4,5,5,5,5,6,5,6,5,5,5,5,6,5,5,4,6,5,5,5,6,6,6,6,5,5,5,5,5,6,5,5,5,5,6,5,6,6,6,6,6,5,6,5,5,5,5,5,5,7,5,5,5,5,6,6,5,5,5,5,5,5,5,6,5,6,5,5,5,6,6,6,4,5,5,5,5,5,5,5,6,5,4,6,5,5,5,5,4,6,5,4,6,6,6,5,5,5,6,5,5,5,5,5,5,6,5,5,5,5,5,5,6,5,5,5,5,5,6,7,4,7,5,5,5,6,7,7,5,5,7,6,6,6,5,6,5,5,5,5,5,6,5,5,6,4,6,6,5,6,5,7,6,6,5,6,6,6,6,6,6,5,6,6,7,7,6,5,5,6,6,6,6,5,5,6,5,5,5,5,7,5,4,5,5,5,7,4,8,6,6,6,6,5,5,5,6,6,6,8,7,6,7,5,7,5,5,6,6,7,5,7,5,6,6,6,5,5,5,5,5,6,6,5,5,5,6,5,6,6,6,6,6,6,5,5,6,5,6,7,6,7,5,5,6,6,6,7,5,6,5,6,6,6,5,7,7,6,5,6,7,6,6,6,6,6,5,7,6,6,6,6,6,5,5,6,6,5,7,7,6,5,6,5,5,7,6,7,5,5,7,5,6,6,5,6,7,6,7,6,6,6,6,6,6,5,6,6,6,6,7,8,6,5,5,5,7,5,6,6,5,5,6,6,6,5,6,6,7,6,4,6,5,5,7,5,5,6,5,6,5,7,7,5,7,5,7,6,6,5,6,7,5,6,5,6,5,6,6,6,5,8,6,7,7,7,6,5,5,6,6,6,6,6,7,5,8,5,5,7,3,6,5,5,5,6,5,6,6,6,5,5,6,6,5,6,5,5,6,5,6,5,8,5,5,6,5,5,6,7,6,6,7,7,6,6,8,6,5,8,6,6,7,7,7,7,7,7,6,6,7,5,6,6,7,7,5,6,3,6,5,6,5,5,5,5,5,5,6,6,5,6,5,5,6,6,6,5,6,7,5,5,6,5,6,6,5,6,6,6,6,6,6,6,5,5,5,6,5,6,6,5,5,5,6,6,5,6,6,6,6,6,6,5,4,6,6,4,5,5,6,5,5,5,7,7,6,7,5,8,7,5,6,5,5,5,5,6,6,6,6,4,6,5,6,6,6,7,6,6,6,5,5,6,5,6,5,5,6,5,5,5,5,5,6,5,5,5,5,6,5,6,5,6,4,5,5,5,5,7,6,5,5,5,5,5,7,5,4,7,6,5,5,5,6,5,5,5,7,6,4,6,5,6,6,5,5,6,6,5,6,5,5,5,5,6,5,6,5,5,5,5,6,5,5,5,5,5,5,5,5,3,5,5,5,5,6,6,6,5,6,6,6,6,4,4,5,5,5,6,6,5,5,5,5,5,6,5,5,5,5,5,5,5,5,4,5,6,5,5,6,5,5,5,5,5,5,5,6,5,5,6,5,5,5,5,6,6,5,6,6,5,5,5,5,6,6,6,5,5,5,5,5,6,5,6,6,5,5,6,5,6,5,5,6,6,5,6,6,5,5,6,5,5,5,5,5,5,6,6,5,6,5,6,5,6,5,5,7,6,6,5,5,7,6,6,7,7,7,5,6,5,6,5,4,6,5,6,6,5,5,5,7,5,5,5,5,7,5,8,6,4,6,3,4,5,5,7,7,7,5,7,5,6,5,6,5,5,6,5,5,5,5,5,6,6,7,6,7,7,6,5,6,5,5,5,5,6,6,6,6,6,5,4,7,7,7,4,6,6,5,5,6,6,5,6,5,6,7,6,5,5,5,6,5,6,6,7,6,7,3,5,7,7,7,7,5,5,6,6,6,6,6,6,7,6,6,5,6,6,6,5,6,6,6,5,7,6,4,5,7,5,5,6,5,5,6,6,4,7,5,7,7,7,7,7,7,7,7,7,7,7,7,7,7,6,5,6,6,7,5,6,5,5,6,6,6,7,5,6,5,6,6,7,5,7,5,5,5,7,5,6,5,6,6,5,6,7,5,5,6,5,5,6,5,5,6,7,7,6,6,7,7,7,7,5,7,7,7,7,5,7,6,5,6,6,6,7,6,6,5,6,6,5,6,7,6,6,5,6,7,7,7,5,6,6,7,7,5,7,6,5,6,6,7,6,6,6,5,6,6,5,5,5,7,6,6,7,5,7,7,6,8,6,6,6,6,7,7,7,5,7,5,6,6,5,7,6,5,5,7,6,7,6,6,6,5,7,6,7,7,8,6,6,7,6,5,6,5,7,5,6,6,6,6,6,5,6,7,5,6,6,7,6,6,6,6,6,6,6,5,8,6,6,6,4,7,6,6,5,6,6,5,7,7,7,6,6,6,5,6,6,6,6,6,5,6,6,7,6,6,7,6,5,6,6,5,7,7,6,5,7,6,7,5,5,5,5,7,6,6,6,6,6,6,6,6,4,7,5,6,6,5,6,5,5,6,5,6,5,4,6,5,7,5,6,6,6,6,6,6,6,7,8,5,7,7,7,5,7,7,6,5,6,6,6,6,6,6,6,6,6,6,6,6,6,5,5,5,7,5,6,5,5,4,6,4,6,6,4,4,5,5,6,5,6,5,5,5,6,6,6,5,5,5,5,5,5,6,6,6,5,4,5,4,6,6,6,6,6,8,6,6,5,5,6,6,4,6,6,7,6,6,6,6,5,5,6,5,5,5,5,6,6,4,6,5,5,6,6,3,6,6,6,5,5,5,5,4,5,5,5,6,5,6,6,6,6,6,6,6,5,6,5,7,6,6,6,6,5,6,6,5,6,5,5,6,5,5,5,6,6,6,6,6,5,6,5,5,5,5,5,6,5,5,5,5,5,6,5,6,5,5,6,4,6,5,5,6,6,4,5,6,5,5,3,5,5,6,6,6,6,5,5,5,5,5,5,5,5,5,6,5,5,5,5,6,5,5,7,6,5,5,6,8,6,7,6,6,7,6,6,6,6,5,5,5,5,7,5,5,5,5,6,4,6,6,6,5,5,5,5,6,6,7,6,6,5,5,5,6,7,6,5,5,6,6,5,5,5,8,7,7,7,5,6,6,6,5,5,7,6,4,6,6,5,5,7,4,7,3,5,5,6,5,5,7,5,7,3,5,4,5,4,5,4,5,5,5,5,6,6,5,5,5,7,6,5,6,6,6,5,5,5,6,6,3,6,6,6,5,6,5,6,6,6,6,5,6,5,5,6,4,5,5,6,5,6,6,6,6,6,5,6,5,7,6,6,6,5,5,6,7,6,6,7,6,5,5,5,8,5,5,6,5,6,7,5,6,5,5,5,5,5,5,5,6,6,5,5,6,6,6,5,6,6,6,6,6,6,5,6,5,5,5,7,6,6,6,6,5,6,6,6,6,5,6,6,5,6],\"xaxis\":\"x\",\"y\":[0.076,0.098,0.092,0.075,0.076,0.075,0.069,0.065,0.073,0.071,0.097,0.071,0.089,0.114,0.176,0.17,0.092,0.368,0.086,0.341,0.077,0.082,0.106,0.084,0.085,0.08,0.08,0.106,0.08,0.082,0.089,0.105,0.083,0.073,0.103,0.086,0.086,0.066,0.172,0.074,0.074,0.088,0.332,0.069,0.05,0.054,0.114,0.113,0.066,0.074,0.074,0.069,0.068,0.081,0.11,0.084,0.07,0.111,0.076,0.074,0.079,0.115,0.085,0.081,0.086,0.086,0.079,0.076,0.074,0.074,0.076,0.088,0.084,0.084,0.094,0.093,0.093,0.104,0.086,0.08,0.069,0.464,0.086,0.401,0.069,0.076,0.11,0.062,0.107,0.076,0.079,0.11,0.11,0.062,0.045,0.058,0.102,0.07,0.079,0.08,0.084,0.075,0.08,0.077,0.07,0.077,0.467,0.088,0.091,0.122,0.104,0.084,0.085,0.08,0.104,0.09,0.077,0.082,0.119,0.097,0.178,0.119,0.075,0.08,0.082,0.146,0.081,0.082,0.065,0.072,0.118,0.049,0.049,0.06,0.084,0.09,0.089,0.081,0.081,0.081,0.09,0.089,0.05,0.066,0.05,0.117,0.087,0.236,0.074,0.089,0.077,0.61,0.095,0.095,0.07,0.071,0.07,0.071,0.073,0.079,0.09,0.072,0.076,0.07,0.07,0.1,0.085,0.072,0.089,0.36,0.058,0.073,0.073,0.068,0.08,0.085,0.08,0.087,0.068,0.067,0.067,0.27,0.076,0.077,0.079,0.111,0.082,0.084,0.084,0.082,0.077,0.074,0.099,0.071,0.071,0.074,0.074,0.067,0.046,0.061,0.056,0.097,0.075,0.088,0.089,0.095,0.095,0.069,0.1,0.054,0.039,0.083,0.059,0.06,0.092,0.06,0.101,0.072,0.076,0.08,0.082,0.101,0.057,0.083,0.089,0.073,0.337,0.089,0.073,0.081,0.054,0.078,0.09,0.081,0.065,0.097,0.097,0.097,0.097,0.065,0.263,0.093,0.102,0.075,0.075,0.084,0.075,0.072,0.074,0.084,0.063,0.074,0.09,0.092,0.074,0.073,0.075,0.075,0.611,0.085,0.077,0.087,0.07,0.077,0.064,0.071,0.096,0.078,0.077,0.104,0.087,0.104,0.071,0.076,0.088,0.087,0.077,0.104,0.073,0.087,0.071,0.358,0.067,0.087,0.102,0.102,0.073,0.092,0.091,0.105,0.091,0.343,0.091,0.098,0.094,0.073,0.086,0.083,0.094,0.08,0.086,0.068,0.092,0.186,0.112,0.063,0.082,0.213,0.214,0.062,0.063,0.072,0.093,0.076,0.087,0.096,0.102,0.082,0.083,0.082,0.083,0.09,0.079,0.09,0.071,0.071,0.121,0.107,0.082,0.061,0.122,0.122,0.066,0.105,0.078,0.128,0.052,0.08,0.103,0.082,0.066,0.065,0.118,0.118,0.082,0.067,0.072,0.093,0.089,0.093,0.107,0.096,0.09,0.12,0.066,0.078,0.08,0.116,0.109,0.088,0.099,0.086,0.072,0.071,0.083,0.107,0.083,0.076,0.159,0.074,0.063,0.056,0.067,0.106,0.089,0.124,0.078,0.074,0.088,0.094,0.08,0.085,0.08,0.08,0.087,0.09,0.088,0.079,0.088,0.096,0.045,0.085,0.082,0.112,0.063,0.066,0.122,0.087,0.087,0.064,0.122,0.059,0.085,0.085,0.075,0.059,0.063,0.093,0.174,0.07,0.08,0.08,0.1,0.097,0.087,0.117,0.111,0.091,0.121,0.066,0.089,0.059,0.047,0.066,0.047,0.059,0.045,0.077,0.07,0.088,0.066,0.074,0.078,0.091,0.076,0.091,0.06,0.066,0.076,0.062,0.072,0.068,0.1,0.077,0.054,0.079,0.081,0.127,0.1,0.095,0.095,0.413,0.084,0.084,0.063,0.086,0.095,0.097,0.084,0.074,0.083,0.087,0.085,0.098,0.084,0.098,0.069,0.065,0.09,0.07,0.093,0.081,0.083,0.062,0.08,0.087,0.091,0.075,0.087,0.077,0.069,0.08,0.152,0.152,0.114,0.054,0.054,0.053,0.081,0.073,0.078,0.055,0.052,0.086,0.051,0.07,0.081,0.09,0.07,0.086,0.081,0.074,0.074,0.078,0.077,0.072,0.075,0.084,0.09,0.084,0.073,0.09,0.125,0.107,0.107,0.122,0.1,0.2,0.088,0.088,0.088,0.088,0.099,0.085,0.086,0.105,0.088,0.097,0.084,0.077,0.078,0.098,0.098,0.072,0.102,0.078,0.077,0.084,0.066,0.1,0.101,0.064,0.07,0.085,0.075,0.094,0.078,0.067,0.079,0.171,0.074,0.092,0.092,0.05,0.095,0.095,0.118,0.095,0.118,0.085,0.075,0.078,0.094,0.092,0.085,0.075,0.226,0.226,0.25,0.095,0.07,0.095,0.075,0.07,0.078,0.079,0.103,0.083,0.085,0.063,0.089,0.089,0.083,0.074,0.093,0.091,0.094,0.108,0.06,0.059,0.084,0.07,0.084,0.094,0.096,0.086,0.059,0.071,0.078,0.082,0.088,0.071,0.081,0.071,0.096,0.085,0.072,0.092,0.11,0.075,0.083,0.081,0.077,0.058,0.148,0.079,0.079,0.079,0.122,0.088,0.076,0.078,0.08,0.077,0.124,0.124,0.098,0.098,0.097,0.111,0.097,0.105,0.087,0.105,0.073,0.065,0.086,0.084,0.143,0.067,0.071,0.071,0.071,0.071,0.071,0.115,0.107,0.07,0.066,0.068,0.106,0.104,0.096,0.079,0.074,0.087,0.106,0.073,0.074,0.096,0.074,0.08,0.076,0.05,0.092,0.084,0.222,0.082,0.059,0.082,0.083,0.074,0.079,0.074,0.084,0.064,0.084,0.084,0.081,0.06,0.07,0.094,0.078,0.059,0.078,0.059,0.07,0.095,0.039,0.157,0.097,0.087,0.422,0.084,0.084,0.034,0.066,0.066,0.087,0.071,0.076,0.066,0.067,0.073,0.078,0.073,0.093,0.077,0.068,0.062,0.08,0.093,0.084,0.075,0.078,0.069,0.075,0.079,0.082,0.086,0.082,0.094,0.084,0.053,0.086,0.077,0.084,0.067,0.067,0.071,0.387,0.088,0.092,0.082,0.075,0.112,0.112,0.093,0.092,0.088,0.075,0.078,0.065,0.096,0.095,0.07,0.08,0.083,0.071,0.07,0.089,0.089,0.097,0.089,0.415,0.058,0.057,0.084,0.084,0.092,0.075,0.096,0.069,0.096,0.093,0.091,0.089,0.103,0.082,0.076,0.082,0.082,0.082,0.157,0.157,0.102,0.243,0.241,0.079,0.076,0.19,0.114,0.081,0.114,0.077,0.083,0.083,0.079,0.079,0.099,0.082,0.084,0.081,0.055,0.065,0.132,0.126,0.038,0.082,0.082,0.082,0.068,0.044,0.114,0.084,0.052,0.041,0.052,0.165,0.07,0.068,0.072,0.099,0.102,0.103,0.099,0.081,0.084,0.071,0.097,0.099,0.048,0.076,0.076,0.068,0.076,0.05,0.076,0.065,0.071,0.058,0.071,0.145,0.147,0.088,0.066,0.012,0.012,0.075,0.092,0.085,0.115,0.119,0.088,0.062,0.081,0.081,0.078,0.081,0.08,0.085,0.085,0.08,0.08,0.08,0.071,0.08,0.073,0.054,0.074,0.077,0.039,0.067,0.078,0.077,0.077,0.071,0.072,0.074,0.08,0.064,0.086,0.067,0.067,0.104,0.109,0.067,0.064,0.094,0.076,0.078,0.068,0.194,0.076,0.094,0.086,0.083,0.066,0.072,0.112,0.071,0.078,0.082,0.078,0.08,0.08,0.078,0.08,0.078,0.084,0.056,0.08,0.08,0.06,0.06,0.081,0.084,0.079,0.078,0.059,0.132,0.114,0.065,0.094,0.059,0.079,0.161,0.084,0.081,0.072,0.091,0.081,0.072,0.084,0.055,0.064,0.061,0.093,0.055,0.063,0.08,0.074,0.078,0.074,0.08,0.06,0.06,0.071,0.068,0.073,0.074,0.082,0.092,0.094,0.09,0.071,0.092,0.093,0.075,0.075,0.075,0.093,0.058,0.052,0.082,0.09,0.111,0.088,0.12,0.089,0.058,0.078,0.115,0.1,0.058,0.065,0.103,0.097,0.068,0.079,0.066,0.066,0.104,0.079,0.073,0.083,0.083,0.109,0.061,0.075,0.065,0.079,0.07,0.065,0.075,0.064,0.066,0.08,0.097,0.073,0.097,0.082,0.076,0.082,0.092,0.079,0.087,0.087,0.05,0.055,0.062,0.058,0.063,0.067,0.081,0.067,0.063,0.064,0.11,0.116,0.067,0.088,0.102,0.092,0.12,0.075,0.068,0.049,0.049,0.078,0.123,0.123,0.062,0.098,0.088,0.095,0.066,0.065,0.075,0.088,0.091,0.093,0.095,0.089,0.077,0.085,0.082,0.074,0.078,0.088,0.088,0.079,0.088,0.069,0.046,0.07,0.076,0.082,0.081,0.084,0.082,0.414,0.073,0.07,0.095,0.095,0.101,0.104,0.093,0.101,0.074,0.071,0.098,0.075,0.067,0.083,0.07,0.06,0.06,0.086,0.057,0.098,0.083,0.088,0.098,0.071,0.073,0.08,0.08,0.05,0.047,0.05,0.073,0.072,0.073,0.074,0.055,0.057,0.095,0.095,0.083,0.086,0.081,0.079,0.117,0.087,0.117,0.096,0.216,0.096,0.072,0.071,0.078,0.071,0.073,0.048,0.069,0.068,0.09,0.171,0.07,0.092,0.056,0.074,0.046,0.091,0.091,0.091,0.065,0.066,0.076,0.062,0.055,0.081,0.096,0.055,0.063,0.072,0.095,0.092,0.058,0.045,0.075,0.089,0.061,0.067,0.08,0.08,0.104,0.079,0.08,0.08,0.043,0.065,0.066,0.076,0.178,0.071,0.086,0.061,0.067,0.044,0.118,0.083,0.1,0.118,0.071,0.042,0.076,0.11,0.087,0.076,0.075,0.078,0.078,0.369,0.111,0.074,0.067,0.086,0.062,0.078,0.074,0.079,0.079,0.095,0.079,0.052,0.041,0.076,0.076,0.068,0.068,0.07,0.08,0.085,0.079,0.085,0.08,0.075,0.08,0.166,0.063,0.166,0.114,0.078,0.076,0.069,0.052,0.076,0.069,0.065,0.068,0.111,0.074,0.074,0.074,0.136,0.074,0.071,0.078,0.076,0.078,0.071,0.081,0.095,0.079,0.057,0.082,0.044,0.132,0.132,0.078,0.074,0.08,0.091,0.08,0.104,0.044,0.075,0.066,0.074,0.075,0.057,0.059,0.054,0.07,0.059,0.081,0.057,0.076,0.079,0.058,0.082,0.067,0.082,0.086,0.082,0.081,0.079,0.079,0.077,0.123,0.096,0.079,0.069,0.082,0.085,0.123,0.123,0.403,0.083,0.081,0.089,0.066,0.081,0.081,0.068,0.079,0.044,0.048,0.049,0.077,0.073,0.102,0.075,0.05,0.114,0.075,0.062,0.077,0.077,0.084,0.096,0.071,0.09,0.068,0.056,0.068,0.068,0.1,0.073,0.056,0.084,0.073,0.093,0.093,0.064,0.063,0.137,0.08,0.1,0.064,0.081,0.087,0.073,0.088,0.068,0.088,0.071,0.073,0.064,0.083,0.086,0.086,0.083,0.041,0.091,0.083,0.414,0.094,0.041,0.058,0.06,0.077,0.077,0.077,0.077,0.073,0.083,0.083,0.107,0.075,0.079,0.166,0.069,0.057,0.057,0.057,0.084,0.084,0.084,0.085,0.084,0.077,0.063,0.056,0.078,0.078,0.081,0.069,0.065,0.086,0.086,0.077,0.086,0.084,0.078,0.168,0.091,0.112,0.093,0.091,0.08,0.096,0.115,0.094,0.088,0.079,0.069,0.415,0.153,0.415,0.11,0.267,0.083,0.086,0.09,0.078,0.077,0.077,0.074,0.08,0.08,0.107,0.076,0.1,0.1,0.083,0.08,0.068,0.094,0.07,0.078,0.07,0.092,0.09,0.08,0.083,0.068,0.08,0.08,0.052,0.061,0.082,0.062,0.062,0.064,0.048,0.064,0.082,0.071,0.062,0.104,0.077,0.065,0.077,0.064,0.077,0.077,0.077,0.079,0.079,0.123,0.076,0.076,0.046,0.078,0.072,0.049,0.066,0.069,0.042,0.069,0.214,0.214,0.169,0.07,0.052,0.072,0.062,0.094,0.078,0.058,0.072,0.094,0.078,0.08,0.08,0.056,0.062,0.104,0.062,0.074,0.073,0.052,0.05,0.074,0.067,0.054,0.054,0.06,0.075,0.076,0.063,0.063,0.062,0.067,0.062,0.061,0.084,0.067,0.073,0.071,0.205,0.048,0.205,0.048,0.082,0.104,0.08,0.104,0.114,0.042,0.06,0.074,0.07,0.066,0.049,0.048,0.039,0.049,0.05,0.089,0.066,0.08,0.089,0.054,0.068,0.054,0.076,0.083,0.078,0.077,0.106,0.078,0.07,0.106,0.074,0.062,0.047,0.068,0.061,0.078,0.074,0.074,0.071,0.063,0.114,0.106,0.063,0.082,0.071,0.076,0.075,0.064,0.064,0.071,0.096,0.063,0.063,0.081,0.058,0.074,0.064,0.075,0.077,0.059,0.081,0.065,0.071,0.054,0.064,0.064,0.063,0.059,0.072,0.048,0.099,0.074,0.087,0.083,0.103,0.08,0.062,0.065,0.066,0.062,0.235,0.08,0.08,0.08,0.076,0.076,0.076,0.061,0.059,0.076,0.077,0.056,0.23,0.038,0.069,0.075,0.074,0.06,0.081,0.076,0.118,0.053,0.068,0.053,0.053,0.074,0.061,0.066,0.065,0.066,0.068,0.073,0.077,0.089,0.076,0.068,0.09,0.062,0.076,0.075,0.067],\"yaxis\":\"y\",\"type\":\"scattergl\"}],                        {\"template\":{\"data\":{\"histogram2dcontour\":[{\"type\":\"histogram2dcontour\",\"colorbar\":{\"outlinewidth\":0,\"ticks\":\"\"},\"colorscale\":[[0.0,\"#0d0887\"],[0.1111111111111111,\"#46039f\"],[0.2222222222222222,\"#7201a8\"],[0.3333333333333333,\"#9c179e\"],[0.4444444444444444,\"#bd3786\"],[0.5555555555555556,\"#d8576b\"],[0.6666666666666666,\"#ed7953\"],[0.7777777777777778,\"#fb9f3a\"],[0.8888888888888888,\"#fdca26\"],[1.0,\"#f0f921\"]]}],\"choropleth\":[{\"type\":\"choropleth\",\"colorbar\":{\"outlinewidth\":0,\"ticks\":\"\"}}],\"histogram2d\":[{\"type\":\"histogram2d\",\"colorbar\":{\"outlinewidth\":0,\"ticks\":\"\"},\"colorscale\":[[0.0,\"#0d0887\"],[0.1111111111111111,\"#46039f\"],[0.2222222222222222,\"#7201a8\"],[0.3333333333333333,\"#9c179e\"],[0.4444444444444444,\"#bd3786\"],[0.5555555555555556,\"#d8576b\"],[0.6666666666666666,\"#ed7953\"],[0.7777777777777778,\"#fb9f3a\"],[0.8888888888888888,\"#fdca26\"],[1.0,\"#f0f921\"]]}],\"heatmap\":[{\"type\":\"heatmap\",\"colorbar\":{\"outlinewidth\":0,\"ticks\":\"\"},\"colorscale\":[[0.0,\"#0d0887\"],[0.1111111111111111,\"#46039f\"],[0.2222222222222222,\"#7201a8\"],[0.3333333333333333,\"#9c179e\"],[0.4444444444444444,\"#bd3786\"],[0.5555555555555556,\"#d8576b\"],[0.6666666666666666,\"#ed7953\"],[0.7777777777777778,\"#fb9f3a\"],[0.8888888888888888,\"#fdca26\"],[1.0,\"#f0f921\"]]}],\"heatmapgl\":[{\"type\":\"heatmapgl\",\"colorbar\":{\"outlinewidth\":0,\"ticks\":\"\"},\"colorscale\":[[0.0,\"#0d0887\"],[0.1111111111111111,\"#46039f\"],[0.2222222222222222,\"#7201a8\"],[0.3333333333333333,\"#9c179e\"],[0.4444444444444444,\"#bd3786\"],[0.5555555555555556,\"#d8576b\"],[0.6666666666666666,\"#ed7953\"],[0.7777777777777778,\"#fb9f3a\"],[0.8888888888888888,\"#fdca26\"],[1.0,\"#f0f921\"]]}],\"contourcarpet\":[{\"type\":\"contourcarpet\",\"colorbar\":{\"outlinewidth\":0,\"ticks\":\"\"}}],\"contour\":[{\"type\":\"contour\",\"colorbar\":{\"outlinewidth\":0,\"ticks\":\"\"},\"colorscale\":[[0.0,\"#0d0887\"],[0.1111111111111111,\"#46039f\"],[0.2222222222222222,\"#7201a8\"],[0.3333333333333333,\"#9c179e\"],[0.4444444444444444,\"#bd3786\"],[0.5555555555555556,\"#d8576b\"],[0.6666666666666666,\"#ed7953\"],[0.7777777777777778,\"#fb9f3a\"],[0.8888888888888888,\"#fdca26\"],[1.0,\"#f0f921\"]]}],\"surface\":[{\"type\":\"surface\",\"colorbar\":{\"outlinewidth\":0,\"ticks\":\"\"},\"colorscale\":[[0.0,\"#0d0887\"],[0.1111111111111111,\"#46039f\"],[0.2222222222222222,\"#7201a8\"],[0.3333333333333333,\"#9c179e\"],[0.4444444444444444,\"#bd3786\"],[0.5555555555555556,\"#d8576b\"],[0.6666666666666666,\"#ed7953\"],[0.7777777777777778,\"#fb9f3a\"],[0.8888888888888888,\"#fdca26\"],[1.0,\"#f0f921\"]]}],\"mesh3d\":[{\"type\":\"mesh3d\",\"colorbar\":{\"outlinewidth\":0,\"ticks\":\"\"}}],\"scatter\":[{\"fillpattern\":{\"fillmode\":\"overlay\",\"size\":10,\"solidity\":0.2},\"type\":\"scatter\"}],\"parcoords\":[{\"type\":\"parcoords\",\"line\":{\"colorbar\":{\"outlinewidth\":0,\"ticks\":\"\"}}}],\"scatterpolargl\":[{\"type\":\"scatterpolargl\",\"marker\":{\"colorbar\":{\"outlinewidth\":0,\"ticks\":\"\"}}}],\"bar\":[{\"error_x\":{\"color\":\"#2a3f5f\"},\"error_y\":{\"color\":\"#2a3f5f\"},\"marker\":{\"line\":{\"color\":\"#E5ECF6\",\"width\":0.5},\"pattern\":{\"fillmode\":\"overlay\",\"size\":10,\"solidity\":0.2}},\"type\":\"bar\"}],\"scattergeo\":[{\"type\":\"scattergeo\",\"marker\":{\"colorbar\":{\"outlinewidth\":0,\"ticks\":\"\"}}}],\"scatterpolar\":[{\"type\":\"scatterpolar\",\"marker\":{\"colorbar\":{\"outlinewidth\":0,\"ticks\":\"\"}}}],\"histogram\":[{\"marker\":{\"pattern\":{\"fillmode\":\"overlay\",\"size\":10,\"solidity\":0.2}},\"type\":\"histogram\"}],\"scattergl\":[{\"type\":\"scattergl\",\"marker\":{\"colorbar\":{\"outlinewidth\":0,\"ticks\":\"\"}}}],\"scatter3d\":[{\"type\":\"scatter3d\",\"line\":{\"colorbar\":{\"outlinewidth\":0,\"ticks\":\"\"}},\"marker\":{\"colorbar\":{\"outlinewidth\":0,\"ticks\":\"\"}}}],\"scattermapbox\":[{\"type\":\"scattermapbox\",\"marker\":{\"colorbar\":{\"outlinewidth\":0,\"ticks\":\"\"}}}],\"scatterternary\":[{\"type\":\"scatterternary\",\"marker\":{\"colorbar\":{\"outlinewidth\":0,\"ticks\":\"\"}}}],\"scattercarpet\":[{\"type\":\"scattercarpet\",\"marker\":{\"colorbar\":{\"outlinewidth\":0,\"ticks\":\"\"}}}],\"carpet\":[{\"aaxis\":{\"endlinecolor\":\"#2a3f5f\",\"gridcolor\":\"white\",\"linecolor\":\"white\",\"minorgridcolor\":\"white\",\"startlinecolor\":\"#2a3f5f\"},\"baxis\":{\"endlinecolor\":\"#2a3f5f\",\"gridcolor\":\"white\",\"linecolor\":\"white\",\"minorgridcolor\":\"white\",\"startlinecolor\":\"#2a3f5f\"},\"type\":\"carpet\"}],\"table\":[{\"cells\":{\"fill\":{\"color\":\"#EBF0F8\"},\"line\":{\"color\":\"white\"}},\"header\":{\"fill\":{\"color\":\"#C8D4E3\"},\"line\":{\"color\":\"white\"}},\"type\":\"table\"}],\"barpolar\":[{\"marker\":{\"line\":{\"color\":\"#E5ECF6\",\"width\":0.5},\"pattern\":{\"fillmode\":\"overlay\",\"size\":10,\"solidity\":0.2}},\"type\":\"barpolar\"}],\"pie\":[{\"automargin\":true,\"type\":\"pie\"}]},\"layout\":{\"autotypenumbers\":\"strict\",\"colorway\":[\"#636efa\",\"#EF553B\",\"#00cc96\",\"#ab63fa\",\"#FFA15A\",\"#19d3f3\",\"#FF6692\",\"#B6E880\",\"#FF97FF\",\"#FECB52\"],\"font\":{\"color\":\"#2a3f5f\"},\"hovermode\":\"closest\",\"hoverlabel\":{\"align\":\"left\"},\"paper_bgcolor\":\"white\",\"plot_bgcolor\":\"#E5ECF6\",\"polar\":{\"bgcolor\":\"#E5ECF6\",\"angularaxis\":{\"gridcolor\":\"white\",\"linecolor\":\"white\",\"ticks\":\"\"},\"radialaxis\":{\"gridcolor\":\"white\",\"linecolor\":\"white\",\"ticks\":\"\"}},\"ternary\":{\"bgcolor\":\"#E5ECF6\",\"aaxis\":{\"gridcolor\":\"white\",\"linecolor\":\"white\",\"ticks\":\"\"},\"baxis\":{\"gridcolor\":\"white\",\"linecolor\":\"white\",\"ticks\":\"\"},\"caxis\":{\"gridcolor\":\"white\",\"linecolor\":\"white\",\"ticks\":\"\"}},\"coloraxis\":{\"colorbar\":{\"outlinewidth\":0,\"ticks\":\"\"}},\"colorscale\":{\"sequential\":[[0.0,\"#0d0887\"],[0.1111111111111111,\"#46039f\"],[0.2222222222222222,\"#7201a8\"],[0.3333333333333333,\"#9c179e\"],[0.4444444444444444,\"#bd3786\"],[0.5555555555555556,\"#d8576b\"],[0.6666666666666666,\"#ed7953\"],[0.7777777777777778,\"#fb9f3a\"],[0.8888888888888888,\"#fdca26\"],[1.0,\"#f0f921\"]],\"sequentialminus\":[[0.0,\"#0d0887\"],[0.1111111111111111,\"#46039f\"],[0.2222222222222222,\"#7201a8\"],[0.3333333333333333,\"#9c179e\"],[0.4444444444444444,\"#bd3786\"],[0.5555555555555556,\"#d8576b\"],[0.6666666666666666,\"#ed7953\"],[0.7777777777777778,\"#fb9f3a\"],[0.8888888888888888,\"#fdca26\"],[1.0,\"#f0f921\"]],\"diverging\":[[0,\"#8e0152\"],[0.1,\"#c51b7d\"],[0.2,\"#de77ae\"],[0.3,\"#f1b6da\"],[0.4,\"#fde0ef\"],[0.5,\"#f7f7f7\"],[0.6,\"#e6f5d0\"],[0.7,\"#b8e186\"],[0.8,\"#7fbc41\"],[0.9,\"#4d9221\"],[1,\"#276419\"]]},\"xaxis\":{\"gridcolor\":\"white\",\"linecolor\":\"white\",\"ticks\":\"\",\"title\":{\"standoff\":15},\"zerolinecolor\":\"white\",\"automargin\":true,\"zerolinewidth\":2},\"yaxis\":{\"gridcolor\":\"white\",\"linecolor\":\"white\",\"ticks\":\"\",\"title\":{\"standoff\":15},\"zerolinecolor\":\"white\",\"automargin\":true,\"zerolinewidth\":2},\"scene\":{\"xaxis\":{\"backgroundcolor\":\"#E5ECF6\",\"gridcolor\":\"white\",\"linecolor\":\"white\",\"showbackground\":true,\"ticks\":\"\",\"zerolinecolor\":\"white\",\"gridwidth\":2},\"yaxis\":{\"backgroundcolor\":\"#E5ECF6\",\"gridcolor\":\"white\",\"linecolor\":\"white\",\"showbackground\":true,\"ticks\":\"\",\"zerolinecolor\":\"white\",\"gridwidth\":2},\"zaxis\":{\"backgroundcolor\":\"#E5ECF6\",\"gridcolor\":\"white\",\"linecolor\":\"white\",\"showbackground\":true,\"ticks\":\"\",\"zerolinecolor\":\"white\",\"gridwidth\":2}},\"shapedefaults\":{\"line\":{\"color\":\"#2a3f5f\"}},\"annotationdefaults\":{\"arrowcolor\":\"#2a3f5f\",\"arrowhead\":0,\"arrowwidth\":1},\"geo\":{\"bgcolor\":\"white\",\"landcolor\":\"#E5ECF6\",\"subunitcolor\":\"white\",\"showland\":true,\"showlakes\":true,\"lakecolor\":\"white\"},\"title\":{\"x\":0.05},\"mapbox\":{\"style\":\"light\"}}},\"xaxis\":{\"anchor\":\"y\",\"domain\":[0.0,1.0],\"title\":{\"text\":\"Qualidade do vinho\"}},\"yaxis\":{\"anchor\":\"x\",\"domain\":[0.0,1.0],\"title\":{\"text\":\"chlorides\"}},\"legend\":{\"tracegroupgap\":0},\"margin\":{\"t\":60},\"width\":500,\"title\":{\"text\":\"Correla\\u00e7\\u00e3o\"}},                        {\"responsive\": true}                    ).then(function(){\n",
              "                            \n",
              "var gd = document.getElementById('660f7c30-e56b-426e-9f30-1d276d711463');\n",
              "var x = new MutationObserver(function (mutations, observer) {{\n",
              "        var display = window.getComputedStyle(gd).display;\n",
              "        if (!display || display === 'none') {{\n",
              "            console.log([gd, 'removed!']);\n",
              "            Plotly.purge(gd);\n",
              "            observer.disconnect();\n",
              "        }}\n",
              "}});\n",
              "\n",
              "// Listen for the removal of the full notebook cells\n",
              "var notebookContainer = gd.closest('#notebook-container');\n",
              "if (notebookContainer) {{\n",
              "    x.observe(notebookContainer, {childList: true});\n",
              "}}\n",
              "\n",
              "// Listen for the clearing of the current output cell\n",
              "var outputEl = gd.closest('.output');\n",
              "if (outputEl) {{\n",
              "    x.observe(outputEl, {childList: true});\n",
              "}}\n",
              "\n",
              "                        })                };                            </script>        </div>\n",
              "</body>\n",
              "</html>"
            ]
          },
          "metadata": {}
        },
        {
          "output_type": "display_data",
          "data": {
            "text/html": [
              "<html>\n",
              "<head><meta charset=\"utf-8\" /></head>\n",
              "<body>\n",
              "    <div>            <script src=\"https://cdnjs.cloudflare.com/ajax/libs/mathjax/2.7.5/MathJax.js?config=TeX-AMS-MML_SVG\"></script><script type=\"text/javascript\">if (window.MathJax && window.MathJax.Hub && window.MathJax.Hub.Config) {window.MathJax.Hub.Config({SVG: {font: \"STIX-Web\"}});}</script>                <script type=\"text/javascript\">window.PlotlyConfig = {MathJaxConfig: 'local'};</script>\n",
              "        <script src=\"https://cdn.plot.ly/plotly-2.18.2.min.js\"></script>                <div id=\"2c521be3-191f-4605-aa74-0a8e10935683\" class=\"plotly-graph-div\" style=\"height:525px; width:500px;\"></div>            <script type=\"text/javascript\">                                    window.PLOTLYENV=window.PLOTLYENV || {};                                    if (document.getElementById(\"2c521be3-191f-4605-aa74-0a8e10935683\")) {                    Plotly.newPlot(                        \"2c521be3-191f-4605-aa74-0a8e10935683\",                        [{\"hovertemplate\":\"quality=%{x}<br>free sulfur dioxide=%{y}<extra></extra>\",\"legendgroup\":\"\",\"marker\":{\"color\":\"#636efa\",\"symbol\":\"circle\",\"line\":{\"width\":2},\"size\":12},\"mode\":\"markers\",\"name\":\"\",\"showlegend\":false,\"x\":[5,5,5,6,5,5,5,7,7,5,5,5,5,5,5,5,7,5,4,6,6,5,5,5,6,5,5,5,5,6,5,6,5,6,5,6,6,7,4,5,5,4,6,5,5,4,5,5,5,5,5,6,6,5,6,5,5,5,5,6,5,5,7,5,5,5,5,5,5,6,6,5,5,4,5,5,5,6,5,4,5,5,5,5,6,5,6,5,5,5,5,6,5,5,4,6,5,5,5,6,6,6,6,5,5,5,5,5,6,5,5,5,5,6,5,6,6,6,6,6,5,6,5,5,5,5,5,5,7,5,5,5,5,6,6,5,5,5,5,5,5,5,6,5,6,5,5,5,6,6,6,4,5,5,5,5,5,5,5,6,5,4,6,5,5,5,5,4,6,5,4,6,6,6,5,5,5,6,5,5,5,5,5,5,6,5,5,5,5,5,5,6,5,5,5,5,5,6,7,4,7,5,5,5,6,7,7,5,5,7,6,6,6,5,6,5,5,5,5,5,6,5,5,6,4,6,6,5,6,5,7,6,6,5,6,6,6,6,6,6,5,6,6,7,7,6,5,5,6,6,6,6,5,5,6,5,5,5,5,7,5,4,5,5,5,7,4,8,6,6,6,6,5,5,5,6,6,6,8,7,6,7,5,7,5,5,6,6,7,5,7,5,6,6,6,5,5,5,5,5,6,6,5,5,5,6,5,6,6,6,6,6,6,5,5,6,5,6,7,6,7,5,5,6,6,6,7,5,6,5,6,6,6,5,7,7,6,5,6,7,6,6,6,6,6,5,7,6,6,6,6,6,5,5,6,6,5,7,7,6,5,6,5,5,7,6,7,5,5,7,5,6,6,5,6,7,6,7,6,6,6,6,6,6,5,6,6,6,6,7,8,6,5,5,5,7,5,6,6,5,5,6,6,6,5,6,6,7,6,4,6,5,5,7,5,5,6,5,6,5,7,7,5,7,5,7,6,6,5,6,7,5,6,5,6,5,6,6,6,5,8,6,7,7,7,6,5,5,6,6,6,6,6,7,5,8,5,5,7,3,6,5,5,5,6,5,6,6,6,5,5,6,6,5,6,5,5,6,5,6,5,8,5,5,6,5,5,6,7,6,6,7,7,6,6,8,6,5,8,6,6,7,7,7,7,7,7,6,6,7,5,6,6,7,7,5,6,3,6,5,6,5,5,5,5,5,5,6,6,5,6,5,5,6,6,6,5,6,7,5,5,6,5,6,6,5,6,6,6,6,6,6,6,5,5,5,6,5,6,6,5,5,5,6,6,5,6,6,6,6,6,6,5,4,6,6,4,5,5,6,5,5,5,7,7,6,7,5,8,7,5,6,5,5,5,5,6,6,6,6,4,6,5,6,6,6,7,6,6,6,5,5,6,5,6,5,5,6,5,5,5,5,5,6,5,5,5,5,6,5,6,5,6,4,5,5,5,5,7,6,5,5,5,5,5,7,5,4,7,6,5,5,5,6,5,5,5,7,6,4,6,5,6,6,5,5,6,6,5,6,5,5,5,5,6,5,6,5,5,5,5,6,5,5,5,5,5,5,5,5,3,5,5,5,5,6,6,6,5,6,6,6,6,4,4,5,5,5,6,6,5,5,5,5,5,6,5,5,5,5,5,5,5,5,4,5,6,5,5,6,5,5,5,5,5,5,5,6,5,5,6,5,5,5,5,6,6,5,6,6,5,5,5,5,6,6,6,5,5,5,5,5,6,5,6,6,5,5,6,5,6,5,5,6,6,5,6,6,5,5,6,5,5,5,5,5,5,6,6,5,6,5,6,5,6,5,5,7,6,6,5,5,7,6,6,7,7,7,5,6,5,6,5,4,6,5,6,6,5,5,5,7,5,5,5,5,7,5,8,6,4,6,3,4,5,5,7,7,7,5,7,5,6,5,6,5,5,6,5,5,5,5,5,6,6,7,6,7,7,6,5,6,5,5,5,5,6,6,6,6,6,5,4,7,7,7,4,6,6,5,5,6,6,5,6,5,6,7,6,5,5,5,6,5,6,6,7,6,7,3,5,7,7,7,7,5,5,6,6,6,6,6,6,7,6,6,5,6,6,6,5,6,6,6,5,7,6,4,5,7,5,5,6,5,5,6,6,4,7,5,7,7,7,7,7,7,7,7,7,7,7,7,7,7,6,5,6,6,7,5,6,5,5,6,6,6,7,5,6,5,6,6,7,5,7,5,5,5,7,5,6,5,6,6,5,6,7,5,5,6,5,5,6,5,5,6,7,7,6,6,7,7,7,7,5,7,7,7,7,5,7,6,5,6,6,6,7,6,6,5,6,6,5,6,7,6,6,5,6,7,7,7,5,6,6,7,7,5,7,6,5,6,6,7,6,6,6,5,6,6,5,5,5,7,6,6,7,5,7,7,6,8,6,6,6,6,7,7,7,5,7,5,6,6,5,7,6,5,5,7,6,7,6,6,6,5,7,6,7,7,8,6,6,7,6,5,6,5,7,5,6,6,6,6,6,5,6,7,5,6,6,7,6,6,6,6,6,6,6,5,8,6,6,6,4,7,6,6,5,6,6,5,7,7,7,6,6,6,5,6,6,6,6,6,5,6,6,7,6,6,7,6,5,6,6,5,7,7,6,5,7,6,7,5,5,5,5,7,6,6,6,6,6,6,6,6,4,7,5,6,6,5,6,5,5,6,5,6,5,4,6,5,7,5,6,6,6,6,6,6,6,7,8,5,7,7,7,5,7,7,6,5,6,6,6,6,6,6,6,6,6,6,6,6,6,5,5,5,7,5,6,5,5,4,6,4,6,6,4,4,5,5,6,5,6,5,5,5,6,6,6,5,5,5,5,5,5,6,6,6,5,4,5,4,6,6,6,6,6,8,6,6,5,5,6,6,4,6,6,7,6,6,6,6,5,5,6,5,5,5,5,6,6,4,6,5,5,6,6,3,6,6,6,5,5,5,5,4,5,5,5,6,5,6,6,6,6,6,6,6,5,6,5,7,6,6,6,6,5,6,6,5,6,5,5,6,5,5,5,6,6,6,6,6,5,6,5,5,5,5,5,6,5,5,5,5,5,6,5,6,5,5,6,4,6,5,5,6,6,4,5,6,5,5,3,5,5,6,6,6,6,5,5,5,5,5,5,5,5,5,6,5,5,5,5,6,5,5,7,6,5,5,6,8,6,7,6,6,7,6,6,6,6,5,5,5,5,7,5,5,5,5,6,4,6,6,6,5,5,5,5,6,6,7,6,6,5,5,5,6,7,6,5,5,6,6,5,5,5,8,7,7,7,5,6,6,6,5,5,7,6,4,6,6,5,5,7,4,7,3,5,5,6,5,5,7,5,7,3,5,4,5,4,5,4,5,5,5,5,6,6,5,5,5,7,6,5,6,6,6,5,5,5,6,6,3,6,6,6,5,6,5,6,6,6,6,5,6,5,5,6,4,5,5,6,5,6,6,6,6,6,5,6,5,7,6,6,6,5,5,6,7,6,6,7,6,5,5,5,8,5,5,6,5,6,7,5,6,5,5,5,5,5,5,5,6,6,5,5,6,6,6,5,6,6,6,6,6,6,5,6,5,5,5,7,6,6,6,6,5,6,6,6,6,5,6,6,5,6],\"xaxis\":\"x\",\"y\":[11.0,25.0,15.0,17.0,11.0,13.0,15.0,15.0,9.0,17.0,15.0,17.0,16.0,9.0,52.0,51.0,35.0,16.0,6.0,17.0,29.0,23.0,10.0,9.0,21.0,11.0,4.0,10.0,14.0,8.0,17.0,22.0,15.0,40.0,13.0,5.0,3.0,13.0,7.0,12.0,12.0,17.0,8.0,9.0,5.0,8.0,22.0,12.0,5.0,12.0,4.0,8.0,6.0,30.0,33.0,25.0,4.0,50.0,17.0,9.0,19.0,20.0,12.0,13.0,4.0,4.0,11.0,6.0,27.0,8.0,15.0,17.0,18.0,11.0,28.0,9.0,9.0,14.0,12.0,27.0,3.0,22.0,21.0,16.0,18.0,19.0,20.0,9.0,34.0,8.0,42.0,20.0,19.0,9.0,41.0,17.0,8.0,3.0,5.0,13.0,11.0,8.0,13.0,12.0,5.0,12.0,18.0,15.0,18.0,37.0,12.0,11.0,14.0,22.0,12.0,13.0,11.0,7.0,14.0,22.0,10.0,14.0,3.0,11.0,21.0,27.0,3.0,3.0,3.0,6.0,30.0,17.0,17.0,17.0,13.0,16.0,10.0,13.0,15.0,17.0,16.0,10.0,27.0,3.0,27.0,32.0,21.0,10.0,12.0,11.0,5.0,32.0,25.0,25.0,29.0,28.0,29.0,28.0,12.0,18.0,7.0,9.0,17.0,36.0,35.0,14.0,18.0,17.0,11.0,15.0,4.0,6.0,6.0,24.0,7.0,19.0,7.0,8.0,7.0,10.0,10.0,23.0,16.0,11.0,8.0,26.0,14.0,9.0,15.0,17.0,21.0,21.0,16.0,7.0,7.0,24.0,15.0,12.0,13.0,12.0,9.0,39.0,16.0,16.0,14.0,9.0,9.0,26.0,18.0,7.0,5.0,10.0,5.0,28.0,10.0,26.0,13.0,11.0,10.0,24.0,24.0,16.0,5.0,8.0,15.0,29.0,27.0,9.0,29.0,10.0,19.0,12.0,18.0,10.0,7.0,14.0,14.0,15.0,14.0,7.0,5.0,6.0,28.0,10.0,10.0,6.0,16.0,11.0,9.0,6.0,16.0,16.0,5.0,8.0,16.0,17.0,5.0,12.0,8.0,14.0,18.0,12.0,10.0,23.0,5.0,6.0,26.0,15.0,7.0,4.0,27.0,4.0,17.0,10.0,27.0,27.0,7.0,4.0,5.0,10.0,6.0,5.0,12.0,10.0,32.0,32.0,25.0,29.0,20.0,33.0,20.0,6.0,18.0,5.0,17.0,5.0,26.0,8.0,5.0,8.0,20.0,7.0,12.0,5.0,12.0,6.0,7.0,6.0,5.0,9.0,6.0,15.0,19.0,30.0,26.0,20.0,37.0,30.0,21.0,30.0,21.0,25.0,6.0,35.0,13.0,13.0,6.0,5.0,6.0,7.0,10.0,10.0,21.0,16.0,17.0,7.0,6.0,29.0,28.0,12.0,10.0,5.0,6.0,6.0,6.0,40.0,17.0,6.0,15.0,11.0,17.0,11.0,8.0,23.0,40.5,17.0,29.0,12.0,10.0,10.0,14.0,21.0,6.0,6.0,7.0,7.0,7.0,11.0,15.0,6.0,35.0,11.0,26.0,12.0,6.0,6.0,19.0,6.0,6.0,24.0,11.0,17.0,11.0,11.0,23.0,11.0,23.0,17.0,23.0,16.0,12.0,17.0,6.0,13.0,6.0,7.0,68.0,13.0,13.0,9.0,68.0,20.0,19.0,10.0,15.0,11.0,9.0,12.0,6.0,26.0,26.0,23.0,15.0,6.0,24.0,31.0,6.0,34.0,7.0,34.0,35.0,32.0,15.0,6.0,15.0,32.0,19.0,6.0,9.0,13.0,6.0,21.0,12.0,6.0,22.0,6.0,38.0,6.0,22.0,7.0,6.0,7.0,6.0,11.0,5.0,6.0,31.0,6.0,7.0,17.0,17.0,9.0,18.0,5.0,21.0,6.0,5.0,29.0,5.0,10.0,14.0,6.0,10.0,25.0,5.0,10.0,21.0,7.0,6.0,36.0,15.0,25.0,25.0,5.0,10.0,5.0,6.0,6.0,5.0,6.0,6.0,6.0,6.0,7.0,6.0,6.0,6.0,5.0,35.0,10.0,24.0,12.0,13.0,23.0,28.0,5.0,14.0,43.0,5.0,23.0,14.0,38.0,38.0,6.0,6.0,10.0,6.0,6.0,26.0,23.0,19.0,26.0,15.0,6.0,6.0,34.0,5.0,5.0,11.0,39.0,15.0,16.0,47.0,38.0,23.0,29.0,39.0,33.0,32.0,6.0,1.0,12.0,12.0,15.0,13.0,1.0,6.0,5.0,5.0,5.0,20.0,5.0,5.0,16.0,6.0,38.0,10.0,6.0,27.0,6.0,9.0,14.0,14.0,32.0,10.0,10.0,10.0,10.0,10.0,6.0,5.0,26.0,41.0,25.0,6.0,5.0,5.0,5.0,5.0,19.0,10.0,19.0,10.0,14.0,20.0,28.0,6.0,18.0,17.0,18.0,5.0,5.0,5.0,10.0,54.0,8.0,16.0,18.0,19.0,5.0,21.0,23.0,21.0,9.0,20.0,30.0,6.0,5.0,5.0,11.0,7.0,12.0,6.0,12.0,14.0,6.0,10.0,26.0,11.0,15.0,25.0,5.0,18.0,10.0,10.0,28.0,28.0,14.0,4.0,6.0,16.0,14.0,9.0,21.0,21.0,21.0,5.0,5.0,7.0,20.0,7.0,5.0,21.0,11.0,46.0,24.0,30.0,31.0,7.0,25.0,16.0,21.0,16.0,21.0,16.0,5.0,6.0,5.0,10.0,24.0,8.0,35.0,22.0,9.0,7.0,20.0,8.0,23.0,5.0,5.0,5.0,15.0,9.0,5.0,15.0,25.0,6.0,6.0,15.0,6.0,30.0,5.0,32.0,5.0,7.0,12.0,7.0,12.0,45.0,20.0,15.0,16.0,32.0,5.0,35.0,5.0,13.0,13.0,4.0,5.0,5.0,12.0,16.0,21.0,24.0,18.0,8.0,8.0,18.0,5.0,26.0,8.0,9.0,22.0,4.0,11.0,10.0,16.0,11.0,13.0,21.0,16.0,13.0,10.0,21.0,13.0,10.0,12.0,10.0,17.0,10.0,35.0,15.0,36.0,5.0,5.0,18.0,4.0,4.0,27.0,12.0,4.0,10.0,16.0,9.0,11.0,11.0,19.0,28.0,19.0,12.0,28.0,9.0,25.0,21.0,12.0,12.0,16.0,12.0,12.0,17.0,17.0,24.0,17.0,14.0,22.0,15.0,10.0,10.0,33.0,9.0,5.0,8.0,5.0,11.0,12.0,12.0,13.0,24.0,7.0,24.0,23.0,23.0,1.0,2.0,7.0,5.5,6.0,7.0,21.0,12.0,9.0,26.0,9.0,20.0,11.0,11.0,19.0,19.0,21.0,18.0,25.0,17.0,7.0,7.0,7.0,24.0,21.0,5.0,5.0,26.0,8.0,14.0,14.0,4.0,4.0,4.0,4.0,4.0,4.0,4.0,7.0,20.0,4.0,19.0,20.0,8.0,19.0,21.0,9.0,9.0,16.0,15.0,15.0,6.0,15.0,4.0,15.0,34.0,16.0,5.0,16.0,34.0,36.0,16.0,27.0,36.0,36.0,9.0,13.0,9.0,21.0,34.0,9.0,26.0,14.0,14.0,12.0,14.0,12.0,9.0,9.0,26.0,41.0,41.0,10.0,41.0,16.0,17.0,15.0,15.0,15.0,7.0,17.0,15.0,16.0,13.0,13.0,15.0,27.0,31.0,36.0,28.0,6.0,6.0,7.0,7.0,31.0,30.0,18.0,10.0,30.0,14.0,18.0,30.0,9.0,8.0,29.0,32.0,23.0,30.0,16.0,10.0,16.0,17.0,27.0,17.0,27.0,17.0,6.0,10.0,16.0,16.0,11.0,11.0,15.0,12.0,6.0,34.0,7.0,3.0,3.0,4.0,3.0,7.0,3.0,7.0,26.0,32.0,38.0,10.0,32.0,38.0,26.0,14.0,53.0,52.0,11.0,14.0,10.0,8.0,13.0,29.0,13.0,8.0,19.0,19.0,6.0,23.0,7.0,13.0,9.0,13.0,10.0,11.0,7.0,11.0,6.0,10.0,10.0,10.0,6.0,6.0,5.0,6.0,9.0,5.0,12.0,25.0,12.0,18.0,7.0,6.0,20.0,18.0,24.0,6.0,23.0,29.0,7.0,6.0,6.0,6.0,6.0,7.0,35.0,35.0,31.0,9.0,3.0,8.0,13.0,51.0,8.0,3.0,7.0,3.0,35.0,19.0,14.0,19.0,31.0,30.0,31.0,20.0,19.0,3.0,3.0,4.0,7.0,6.0,31.0,13.0,4.0,27.0,4.0,13.0,12.0,12.0,26.0,7.0,12.0,11.0,22.0,3.0,14.0,12.0,36.0,36.0,10.0,3.0,3.0,4.0,3.0,12.0,17.0,14.0,28.0,41.0,12.0,9.0,9.0,5.0,14.0,15.0,5.0,26.0,20.0,25.0,21.0,16.0,13.0,21.0,18.0,12.0,32.0,33.0,27.0,3.0,6.0,27.0,16.0,19.0,9.0,5.0,5.0,3.0,28.0,30.0,3.0,3.0,7.0,6.0,6.0,5.0,6.0,13.0,3.0,3.0,28.0,19.0,30.0,33.0,16.0,30.0,45.0,3.0,3.0,3.0,37.5,3.0,37.5,31.0,32.0,31.0,40.0,3.0,18.0,22.0,22.0,42.0,8.0,10.0,11.0,9.0,6.0,9.0,5.0,5.0,5.0,23.0,14.0,18.0,14.0,16.0,13.0,9.0,10.0,4.0,27.0,6.0,23.0,6.0,3.0,29.0,15.0,15.0,15.0,14.0,7.0,8.0,21.0,27.0,17.0,3.0,13.0,3.0,26.0,28.0,24.0,5.0,57.0,18.0,10.0,6.0,22.0,6.0,6.0,29.0,16.0,33.0,24.0,6.0,16.0,35.0,31.0,6.0,6.0,9.0,6.0,4.0,16.0,9.0,17.0,50.0,9.0,45.0,16.0,22.0,11.0,6.0,12.0,12.0,10.0,10.0,15.0,7.0,29.0,8.0,5.0,5.0,26.0,5.0,26.0,26.0,48.0,23.0,6.0,17.0,11.0,11.0,5.0,41.0,16.0,11.0,6.0,6.0,6.0,11.0,5.0,6.0,6.0,11.0,6.0,15.0,21.0,23.0,4.0,19.0,23.0,4.0,5.0,6.0,33.0,24.0,24.0,24.0,24.0,24.0,14.0,8.0,22.0,8.0,5.0,6.0,20.0,10.0,43.0,8.0,25.0,17.0,17.0,33.0,9.0,8.0,18.0,27.0,8.0,18.0,19.0,15.0,48.0,19.0,14.0,11.0,6.0,7.0,11.0,12.0,11.0,36.0,28.0,15.0,10.0,72.0,15.0,15.0,15.0,22.0,24.0,24.0,27.0,6.0,6.0,20.0,26.0,43.0,12.0,15.0,15.0,19.0,17.0,34.0,13.0,26.0,16.0,16.0,13.0,21.0,28.0,26.0,24.0,25.0,34.0,17.0,13.0,3.0,3.0,13.0,3.0,28.0,28.0,9.0,17.0,18.0,20.0,17.0,3.0,20.0,20.0,6.0,25.0,14.0,6.0,25.0,51.0,51.0,15.0,11.0,5.0,15.0,20.0,4.0,28.0,21.0,24.0,22.0,15.0,22.0,27.0,24.0,12.0,14.0,20.0,24.0,17.0,16.0,10.0,17.0,18.0,12.0,16.0,9.0,21.0,18.0,18.0,18.0,18.0,13.0,17.0,17.0,31.0,6.0,12.0,4.0,19.0,15.0,15.0,15.0,13.0,13.0,13.0,17.0,13.0,8.0,10.0,5.0,7.0,7.0,21.0,32.0,8.0,14.0,14.0,7.0,5.0,4.0,27.0,52.0,6.0,11.0,13.0,6.0,11.0,10.0,10.0,10.0,9.0,16.0,4.0,12.0,5.0,12.0,34.0,16.0,13.0,7.0,23.0,10.0,11.0,11.0,4.0,25.0,25.0,20.0,34.0,8.0,8.0,7.0,36.0,15.0,5.0,5.0,19.0,27.0,3.0,4.0,17.0,13.0,10.0,33.0,33.0,6.0,3.0,12.0,18.0,8.0,40.0,35.0,40.0,5.0,8.0,8.0,12.0,3.0,8.0,3.0,21.0,3.0,32.0,3.0,24.0,39.0,14.0,8.0,8.0,23.0,6.0,27.0,38.0,18.0,13.0,3.0,11.0,55.0,55.0,27.0,15.0,3.0,31.0,15.0,19.0,18.0,8.0,31.0,19.0,18.0,22.0,40.0,15.0,15.0,8.0,37.0,27.0,7.0,9.0,38.0,27.0,8.0,7.0,34.0,6.0,14.0,14.0,34.0,34.0,31.0,19.0,31.0,20.0,8.0,8.0,23.0,14.0,48.0,16.0,48.0,16.0,3.0,10.0,6.0,10.0,3.0,6.0,4.0,8.0,9.0,9.0,5.0,4.0,8.0,5.0,6.0,23.0,15.0,15.0,23.0,7.0,7.0,7.0,8.0,21.0,15.0,6.0,5.0,6.0,6.0,5.0,17.0,7.0,26.0,19.0,11.0,17.0,16.0,16.0,23.0,29.0,7.0,14.0,29.0,9.0,23.0,29.0,22.0,18.0,18.0,15.0,21.0,42.0,9.0,13.0,18.0,32.0,13.0,15.0,24.0,20.0,15.0,34.0,11.0,19.0,29.0,14.0,12.0,16.0,17.0,12.0,19.0,17.0,17.0,18.0,32.0,18.0,15.0,15.0,12.0,15.0,66.0,31.0,31.0,31.0,12.0,12.0,12.0,26.0,24.0,12.0,25.0,15.0,19.0,15.0,35.0,15.0,23.0,12.0,16.0,13.0,13.0,24.0,9.0,24.0,13.0,32.0,24.0,22.0,34.0,18.0,34.0,29.0,26.0,16.0,29.0,28.0,32.0,39.0,29.0,32.0,18.0],\"yaxis\":\"y\",\"type\":\"scattergl\"}],                        {\"template\":{\"data\":{\"histogram2dcontour\":[{\"type\":\"histogram2dcontour\",\"colorbar\":{\"outlinewidth\":0,\"ticks\":\"\"},\"colorscale\":[[0.0,\"#0d0887\"],[0.1111111111111111,\"#46039f\"],[0.2222222222222222,\"#7201a8\"],[0.3333333333333333,\"#9c179e\"],[0.4444444444444444,\"#bd3786\"],[0.5555555555555556,\"#d8576b\"],[0.6666666666666666,\"#ed7953\"],[0.7777777777777778,\"#fb9f3a\"],[0.8888888888888888,\"#fdca26\"],[1.0,\"#f0f921\"]]}],\"choropleth\":[{\"type\":\"choropleth\",\"colorbar\":{\"outlinewidth\":0,\"ticks\":\"\"}}],\"histogram2d\":[{\"type\":\"histogram2d\",\"colorbar\":{\"outlinewidth\":0,\"ticks\":\"\"},\"colorscale\":[[0.0,\"#0d0887\"],[0.1111111111111111,\"#46039f\"],[0.2222222222222222,\"#7201a8\"],[0.3333333333333333,\"#9c179e\"],[0.4444444444444444,\"#bd3786\"],[0.5555555555555556,\"#d8576b\"],[0.6666666666666666,\"#ed7953\"],[0.7777777777777778,\"#fb9f3a\"],[0.8888888888888888,\"#fdca26\"],[1.0,\"#f0f921\"]]}],\"heatmap\":[{\"type\":\"heatmap\",\"colorbar\":{\"outlinewidth\":0,\"ticks\":\"\"},\"colorscale\":[[0.0,\"#0d0887\"],[0.1111111111111111,\"#46039f\"],[0.2222222222222222,\"#7201a8\"],[0.3333333333333333,\"#9c179e\"],[0.4444444444444444,\"#bd3786\"],[0.5555555555555556,\"#d8576b\"],[0.6666666666666666,\"#ed7953\"],[0.7777777777777778,\"#fb9f3a\"],[0.8888888888888888,\"#fdca26\"],[1.0,\"#f0f921\"]]}],\"heatmapgl\":[{\"type\":\"heatmapgl\",\"colorbar\":{\"outlinewidth\":0,\"ticks\":\"\"},\"colorscale\":[[0.0,\"#0d0887\"],[0.1111111111111111,\"#46039f\"],[0.2222222222222222,\"#7201a8\"],[0.3333333333333333,\"#9c179e\"],[0.4444444444444444,\"#bd3786\"],[0.5555555555555556,\"#d8576b\"],[0.6666666666666666,\"#ed7953\"],[0.7777777777777778,\"#fb9f3a\"],[0.8888888888888888,\"#fdca26\"],[1.0,\"#f0f921\"]]}],\"contourcarpet\":[{\"type\":\"contourcarpet\",\"colorbar\":{\"outlinewidth\":0,\"ticks\":\"\"}}],\"contour\":[{\"type\":\"contour\",\"colorbar\":{\"outlinewidth\":0,\"ticks\":\"\"},\"colorscale\":[[0.0,\"#0d0887\"],[0.1111111111111111,\"#46039f\"],[0.2222222222222222,\"#7201a8\"],[0.3333333333333333,\"#9c179e\"],[0.4444444444444444,\"#bd3786\"],[0.5555555555555556,\"#d8576b\"],[0.6666666666666666,\"#ed7953\"],[0.7777777777777778,\"#fb9f3a\"],[0.8888888888888888,\"#fdca26\"],[1.0,\"#f0f921\"]]}],\"surface\":[{\"type\":\"surface\",\"colorbar\":{\"outlinewidth\":0,\"ticks\":\"\"},\"colorscale\":[[0.0,\"#0d0887\"],[0.1111111111111111,\"#46039f\"],[0.2222222222222222,\"#7201a8\"],[0.3333333333333333,\"#9c179e\"],[0.4444444444444444,\"#bd3786\"],[0.5555555555555556,\"#d8576b\"],[0.6666666666666666,\"#ed7953\"],[0.7777777777777778,\"#fb9f3a\"],[0.8888888888888888,\"#fdca26\"],[1.0,\"#f0f921\"]]}],\"mesh3d\":[{\"type\":\"mesh3d\",\"colorbar\":{\"outlinewidth\":0,\"ticks\":\"\"}}],\"scatter\":[{\"fillpattern\":{\"fillmode\":\"overlay\",\"size\":10,\"solidity\":0.2},\"type\":\"scatter\"}],\"parcoords\":[{\"type\":\"parcoords\",\"line\":{\"colorbar\":{\"outlinewidth\":0,\"ticks\":\"\"}}}],\"scatterpolargl\":[{\"type\":\"scatterpolargl\",\"marker\":{\"colorbar\":{\"outlinewidth\":0,\"ticks\":\"\"}}}],\"bar\":[{\"error_x\":{\"color\":\"#2a3f5f\"},\"error_y\":{\"color\":\"#2a3f5f\"},\"marker\":{\"line\":{\"color\":\"#E5ECF6\",\"width\":0.5},\"pattern\":{\"fillmode\":\"overlay\",\"size\":10,\"solidity\":0.2}},\"type\":\"bar\"}],\"scattergeo\":[{\"type\":\"scattergeo\",\"marker\":{\"colorbar\":{\"outlinewidth\":0,\"ticks\":\"\"}}}],\"scatterpolar\":[{\"type\":\"scatterpolar\",\"marker\":{\"colorbar\":{\"outlinewidth\":0,\"ticks\":\"\"}}}],\"histogram\":[{\"marker\":{\"pattern\":{\"fillmode\":\"overlay\",\"size\":10,\"solidity\":0.2}},\"type\":\"histogram\"}],\"scattergl\":[{\"type\":\"scattergl\",\"marker\":{\"colorbar\":{\"outlinewidth\":0,\"ticks\":\"\"}}}],\"scatter3d\":[{\"type\":\"scatter3d\",\"line\":{\"colorbar\":{\"outlinewidth\":0,\"ticks\":\"\"}},\"marker\":{\"colorbar\":{\"outlinewidth\":0,\"ticks\":\"\"}}}],\"scattermapbox\":[{\"type\":\"scattermapbox\",\"marker\":{\"colorbar\":{\"outlinewidth\":0,\"ticks\":\"\"}}}],\"scatterternary\":[{\"type\":\"scatterternary\",\"marker\":{\"colorbar\":{\"outlinewidth\":0,\"ticks\":\"\"}}}],\"scattercarpet\":[{\"type\":\"scattercarpet\",\"marker\":{\"colorbar\":{\"outlinewidth\":0,\"ticks\":\"\"}}}],\"carpet\":[{\"aaxis\":{\"endlinecolor\":\"#2a3f5f\",\"gridcolor\":\"white\",\"linecolor\":\"white\",\"minorgridcolor\":\"white\",\"startlinecolor\":\"#2a3f5f\"},\"baxis\":{\"endlinecolor\":\"#2a3f5f\",\"gridcolor\":\"white\",\"linecolor\":\"white\",\"minorgridcolor\":\"white\",\"startlinecolor\":\"#2a3f5f\"},\"type\":\"carpet\"}],\"table\":[{\"cells\":{\"fill\":{\"color\":\"#EBF0F8\"},\"line\":{\"color\":\"white\"}},\"header\":{\"fill\":{\"color\":\"#C8D4E3\"},\"line\":{\"color\":\"white\"}},\"type\":\"table\"}],\"barpolar\":[{\"marker\":{\"line\":{\"color\":\"#E5ECF6\",\"width\":0.5},\"pattern\":{\"fillmode\":\"overlay\",\"size\":10,\"solidity\":0.2}},\"type\":\"barpolar\"}],\"pie\":[{\"automargin\":true,\"type\":\"pie\"}]},\"layout\":{\"autotypenumbers\":\"strict\",\"colorway\":[\"#636efa\",\"#EF553B\",\"#00cc96\",\"#ab63fa\",\"#FFA15A\",\"#19d3f3\",\"#FF6692\",\"#B6E880\",\"#FF97FF\",\"#FECB52\"],\"font\":{\"color\":\"#2a3f5f\"},\"hovermode\":\"closest\",\"hoverlabel\":{\"align\":\"left\"},\"paper_bgcolor\":\"white\",\"plot_bgcolor\":\"#E5ECF6\",\"polar\":{\"bgcolor\":\"#E5ECF6\",\"angularaxis\":{\"gridcolor\":\"white\",\"linecolor\":\"white\",\"ticks\":\"\"},\"radialaxis\":{\"gridcolor\":\"white\",\"linecolor\":\"white\",\"ticks\":\"\"}},\"ternary\":{\"bgcolor\":\"#E5ECF6\",\"aaxis\":{\"gridcolor\":\"white\",\"linecolor\":\"white\",\"ticks\":\"\"},\"baxis\":{\"gridcolor\":\"white\",\"linecolor\":\"white\",\"ticks\":\"\"},\"caxis\":{\"gridcolor\":\"white\",\"linecolor\":\"white\",\"ticks\":\"\"}},\"coloraxis\":{\"colorbar\":{\"outlinewidth\":0,\"ticks\":\"\"}},\"colorscale\":{\"sequential\":[[0.0,\"#0d0887\"],[0.1111111111111111,\"#46039f\"],[0.2222222222222222,\"#7201a8\"],[0.3333333333333333,\"#9c179e\"],[0.4444444444444444,\"#bd3786\"],[0.5555555555555556,\"#d8576b\"],[0.6666666666666666,\"#ed7953\"],[0.7777777777777778,\"#fb9f3a\"],[0.8888888888888888,\"#fdca26\"],[1.0,\"#f0f921\"]],\"sequentialminus\":[[0.0,\"#0d0887\"],[0.1111111111111111,\"#46039f\"],[0.2222222222222222,\"#7201a8\"],[0.3333333333333333,\"#9c179e\"],[0.4444444444444444,\"#bd3786\"],[0.5555555555555556,\"#d8576b\"],[0.6666666666666666,\"#ed7953\"],[0.7777777777777778,\"#fb9f3a\"],[0.8888888888888888,\"#fdca26\"],[1.0,\"#f0f921\"]],\"diverging\":[[0,\"#8e0152\"],[0.1,\"#c51b7d\"],[0.2,\"#de77ae\"],[0.3,\"#f1b6da\"],[0.4,\"#fde0ef\"],[0.5,\"#f7f7f7\"],[0.6,\"#e6f5d0\"],[0.7,\"#b8e186\"],[0.8,\"#7fbc41\"],[0.9,\"#4d9221\"],[1,\"#276419\"]]},\"xaxis\":{\"gridcolor\":\"white\",\"linecolor\":\"white\",\"ticks\":\"\",\"title\":{\"standoff\":15},\"zerolinecolor\":\"white\",\"automargin\":true,\"zerolinewidth\":2},\"yaxis\":{\"gridcolor\":\"white\",\"linecolor\":\"white\",\"ticks\":\"\",\"title\":{\"standoff\":15},\"zerolinecolor\":\"white\",\"automargin\":true,\"zerolinewidth\":2},\"scene\":{\"xaxis\":{\"backgroundcolor\":\"#E5ECF6\",\"gridcolor\":\"white\",\"linecolor\":\"white\",\"showbackground\":true,\"ticks\":\"\",\"zerolinecolor\":\"white\",\"gridwidth\":2},\"yaxis\":{\"backgroundcolor\":\"#E5ECF6\",\"gridcolor\":\"white\",\"linecolor\":\"white\",\"showbackground\":true,\"ticks\":\"\",\"zerolinecolor\":\"white\",\"gridwidth\":2},\"zaxis\":{\"backgroundcolor\":\"#E5ECF6\",\"gridcolor\":\"white\",\"linecolor\":\"white\",\"showbackground\":true,\"ticks\":\"\",\"zerolinecolor\":\"white\",\"gridwidth\":2}},\"shapedefaults\":{\"line\":{\"color\":\"#2a3f5f\"}},\"annotationdefaults\":{\"arrowcolor\":\"#2a3f5f\",\"arrowhead\":0,\"arrowwidth\":1},\"geo\":{\"bgcolor\":\"white\",\"landcolor\":\"#E5ECF6\",\"subunitcolor\":\"white\",\"showland\":true,\"showlakes\":true,\"lakecolor\":\"white\"},\"title\":{\"x\":0.05},\"mapbox\":{\"style\":\"light\"}}},\"xaxis\":{\"anchor\":\"y\",\"domain\":[0.0,1.0],\"title\":{\"text\":\"Qualidade do vinho\"}},\"yaxis\":{\"anchor\":\"x\",\"domain\":[0.0,1.0],\"title\":{\"text\":\"free sulfur dioxide\"}},\"legend\":{\"tracegroupgap\":0},\"margin\":{\"t\":60},\"width\":500,\"title\":{\"text\":\"Correla\\u00e7\\u00e3o\"}},                        {\"responsive\": true}                    ).then(function(){\n",
              "                            \n",
              "var gd = document.getElementById('2c521be3-191f-4605-aa74-0a8e10935683');\n",
              "var x = new MutationObserver(function (mutations, observer) {{\n",
              "        var display = window.getComputedStyle(gd).display;\n",
              "        if (!display || display === 'none') {{\n",
              "            console.log([gd, 'removed!']);\n",
              "            Plotly.purge(gd);\n",
              "            observer.disconnect();\n",
              "        }}\n",
              "}});\n",
              "\n",
              "// Listen for the removal of the full notebook cells\n",
              "var notebookContainer = gd.closest('#notebook-container');\n",
              "if (notebookContainer) {{\n",
              "    x.observe(notebookContainer, {childList: true});\n",
              "}}\n",
              "\n",
              "// Listen for the clearing of the current output cell\n",
              "var outputEl = gd.closest('.output');\n",
              "if (outputEl) {{\n",
              "    x.observe(outputEl, {childList: true});\n",
              "}}\n",
              "\n",
              "                        })                };                            </script>        </div>\n",
              "</body>\n",
              "</html>"
            ]
          },
          "metadata": {}
        },
        {
          "output_type": "display_data",
          "data": {
            "text/html": [
              "<html>\n",
              "<head><meta charset=\"utf-8\" /></head>\n",
              "<body>\n",
              "    <div>            <script src=\"https://cdnjs.cloudflare.com/ajax/libs/mathjax/2.7.5/MathJax.js?config=TeX-AMS-MML_SVG\"></script><script type=\"text/javascript\">if (window.MathJax && window.MathJax.Hub && window.MathJax.Hub.Config) {window.MathJax.Hub.Config({SVG: {font: \"STIX-Web\"}});}</script>                <script type=\"text/javascript\">window.PlotlyConfig = {MathJaxConfig: 'local'};</script>\n",
              "        <script src=\"https://cdn.plot.ly/plotly-2.18.2.min.js\"></script>                <div id=\"fb7f51c6-e9a7-4b15-bf41-0336c95b4f65\" class=\"plotly-graph-div\" style=\"height:525px; width:500px;\"></div>            <script type=\"text/javascript\">                                    window.PLOTLYENV=window.PLOTLYENV || {};                                    if (document.getElementById(\"fb7f51c6-e9a7-4b15-bf41-0336c95b4f65\")) {                    Plotly.newPlot(                        \"fb7f51c6-e9a7-4b15-bf41-0336c95b4f65\",                        [{\"hovertemplate\":\"quality=%{x}<br>total sulfur dioxide=%{y}<extra></extra>\",\"legendgroup\":\"\",\"marker\":{\"color\":\"#636efa\",\"symbol\":\"circle\",\"line\":{\"width\":2},\"size\":12},\"mode\":\"markers\",\"name\":\"\",\"showlegend\":false,\"x\":[5,5,5,6,5,5,5,7,7,5,5,5,5,5,5,5,7,5,4,6,6,5,5,5,6,5,5,5,5,6,5,6,5,6,5,6,6,7,4,5,5,4,6,5,5,4,5,5,5,5,5,6,6,5,6,5,5,5,5,6,5,5,7,5,5,5,5,5,5,6,6,5,5,4,5,5,5,6,5,4,5,5,5,5,6,5,6,5,5,5,5,6,5,5,4,6,5,5,5,6,6,6,6,5,5,5,5,5,6,5,5,5,5,6,5,6,6,6,6,6,5,6,5,5,5,5,5,5,7,5,5,5,5,6,6,5,5,5,5,5,5,5,6,5,6,5,5,5,6,6,6,4,5,5,5,5,5,5,5,6,5,4,6,5,5,5,5,4,6,5,4,6,6,6,5,5,5,6,5,5,5,5,5,5,6,5,5,5,5,5,5,6,5,5,5,5,5,6,7,4,7,5,5,5,6,7,7,5,5,7,6,6,6,5,6,5,5,5,5,5,6,5,5,6,4,6,6,5,6,5,7,6,6,5,6,6,6,6,6,6,5,6,6,7,7,6,5,5,6,6,6,6,5,5,6,5,5,5,5,7,5,4,5,5,5,7,4,8,6,6,6,6,5,5,5,6,6,6,8,7,6,7,5,7,5,5,6,6,7,5,7,5,6,6,6,5,5,5,5,5,6,6,5,5,5,6,5,6,6,6,6,6,6,5,5,6,5,6,7,6,7,5,5,6,6,6,7,5,6,5,6,6,6,5,7,7,6,5,6,7,6,6,6,6,6,5,7,6,6,6,6,6,5,5,6,6,5,7,7,6,5,6,5,5,7,6,7,5,5,7,5,6,6,5,6,7,6,7,6,6,6,6,6,6,5,6,6,6,6,7,8,6,5,5,5,7,5,6,6,5,5,6,6,6,5,6,6,7,6,4,6,5,5,7,5,5,6,5,6,5,7,7,5,7,5,7,6,6,5,6,7,5,6,5,6,5,6,6,6,5,8,6,7,7,7,6,5,5,6,6,6,6,6,7,5,8,5,5,7,3,6,5,5,5,6,5,6,6,6,5,5,6,6,5,6,5,5,6,5,6,5,8,5,5,6,5,5,6,7,6,6,7,7,6,6,8,6,5,8,6,6,7,7,7,7,7,7,6,6,7,5,6,6,7,7,5,6,3,6,5,6,5,5,5,5,5,5,6,6,5,6,5,5,6,6,6,5,6,7,5,5,6,5,6,6,5,6,6,6,6,6,6,6,5,5,5,6,5,6,6,5,5,5,6,6,5,6,6,6,6,6,6,5,4,6,6,4,5,5,6,5,5,5,7,7,6,7,5,8,7,5,6,5,5,5,5,6,6,6,6,4,6,5,6,6,6,7,6,6,6,5,5,6,5,6,5,5,6,5,5,5,5,5,6,5,5,5,5,6,5,6,5,6,4,5,5,5,5,7,6,5,5,5,5,5,7,5,4,7,6,5,5,5,6,5,5,5,7,6,4,6,5,6,6,5,5,6,6,5,6,5,5,5,5,6,5,6,5,5,5,5,6,5,5,5,5,5,5,5,5,3,5,5,5,5,6,6,6,5,6,6,6,6,4,4,5,5,5,6,6,5,5,5,5,5,6,5,5,5,5,5,5,5,5,4,5,6,5,5,6,5,5,5,5,5,5,5,6,5,5,6,5,5,5,5,6,6,5,6,6,5,5,5,5,6,6,6,5,5,5,5,5,6,5,6,6,5,5,6,5,6,5,5,6,6,5,6,6,5,5,6,5,5,5,5,5,5,6,6,5,6,5,6,5,6,5,5,7,6,6,5,5,7,6,6,7,7,7,5,6,5,6,5,4,6,5,6,6,5,5,5,7,5,5,5,5,7,5,8,6,4,6,3,4,5,5,7,7,7,5,7,5,6,5,6,5,5,6,5,5,5,5,5,6,6,7,6,7,7,6,5,6,5,5,5,5,6,6,6,6,6,5,4,7,7,7,4,6,6,5,5,6,6,5,6,5,6,7,6,5,5,5,6,5,6,6,7,6,7,3,5,7,7,7,7,5,5,6,6,6,6,6,6,7,6,6,5,6,6,6,5,6,6,6,5,7,6,4,5,7,5,5,6,5,5,6,6,4,7,5,7,7,7,7,7,7,7,7,7,7,7,7,7,7,6,5,6,6,7,5,6,5,5,6,6,6,7,5,6,5,6,6,7,5,7,5,5,5,7,5,6,5,6,6,5,6,7,5,5,6,5,5,6,5,5,6,7,7,6,6,7,7,7,7,5,7,7,7,7,5,7,6,5,6,6,6,7,6,6,5,6,6,5,6,7,6,6,5,6,7,7,7,5,6,6,7,7,5,7,6,5,6,6,7,6,6,6,5,6,6,5,5,5,7,6,6,7,5,7,7,6,8,6,6,6,6,7,7,7,5,7,5,6,6,5,7,6,5,5,7,6,7,6,6,6,5,7,6,7,7,8,6,6,7,6,5,6,5,7,5,6,6,6,6,6,5,6,7,5,6,6,7,6,6,6,6,6,6,6,5,8,6,6,6,4,7,6,6,5,6,6,5,7,7,7,6,6,6,5,6,6,6,6,6,5,6,6,7,6,6,7,6,5,6,6,5,7,7,6,5,7,6,7,5,5,5,5,7,6,6,6,6,6,6,6,6,4,7,5,6,6,5,6,5,5,6,5,6,5,4,6,5,7,5,6,6,6,6,6,6,6,7,8,5,7,7,7,5,7,7,6,5,6,6,6,6,6,6,6,6,6,6,6,6,6,5,5,5,7,5,6,5,5,4,6,4,6,6,4,4,5,5,6,5,6,5,5,5,6,6,6,5,5,5,5,5,5,6,6,6,5,4,5,4,6,6,6,6,6,8,6,6,5,5,6,6,4,6,6,7,6,6,6,6,5,5,6,5,5,5,5,6,6,4,6,5,5,6,6,3,6,6,6,5,5,5,5,4,5,5,5,6,5,6,6,6,6,6,6,6,5,6,5,7,6,6,6,6,5,6,6,5,6,5,5,6,5,5,5,6,6,6,6,6,5,6,5,5,5,5,5,6,5,5,5,5,5,6,5,6,5,5,6,4,6,5,5,6,6,4,5,6,5,5,3,5,5,6,6,6,6,5,5,5,5,5,5,5,5,5,6,5,5,5,5,6,5,5,7,6,5,5,6,8,6,7,6,6,7,6,6,6,6,5,5,5,5,7,5,5,5,5,6,4,6,6,6,5,5,5,5,6,6,7,6,6,5,5,5,6,7,6,5,5,6,6,5,5,5,8,7,7,7,5,6,6,6,5,5,7,6,4,6,6,5,5,7,4,7,3,5,5,6,5,5,7,5,7,3,5,4,5,4,5,4,5,5,5,5,6,6,5,5,5,7,6,5,6,6,6,5,5,5,6,6,3,6,6,6,5,6,5,6,6,6,6,5,6,5,5,6,4,5,5,6,5,6,6,6,6,6,5,6,5,7,6,6,6,5,5,6,7,6,6,7,6,5,5,5,8,5,5,6,5,6,7,5,6,5,5,5,5,5,5,5,6,6,5,5,6,6,6,5,6,6,6,6,6,6,5,6,5,5,5,7,6,6,6,6,5,6,6,6,6,5,6,6,5,6],\"xaxis\":\"x\",\"y\":[34.0,67.0,54.0,60.0,34.0,40.0,59.0,21.0,18.0,102.0,65.0,102.0,59.0,29.0,145.0,148.0,103.0,56.0,29.0,56.0,60.0,71.0,37.0,67.0,40.0,23.0,11.0,37.0,35.0,16.0,82.0,37.0,113.0,83.0,50.0,18.0,15.0,30.0,19.0,87.0,87.0,46.0,14.0,23.0,11.0,65.0,114.0,37.0,12.0,96.0,23.0,15.0,14.0,119.0,73.0,45.0,10.0,110.0,54.0,46.0,52.0,112.0,35.0,54.0,11.0,11.0,39.0,15.0,65.0,19.0,27.0,96.0,94.0,43.0,83.0,42.0,42.0,30.0,80.0,119.0,15.0,67.0,73.0,51.0,61.0,40.0,136.0,31.0,125.0,24.0,140.0,136.0,133.0,31.0,85.0,106.0,23.0,22.0,10.0,35.0,50.0,22.0,35.0,65.0,36.0,65.0,69.0,64.0,80.0,153.0,47.0,108.0,111.0,46.0,47.0,62.0,40.0,28.0,56.0,89.0,89.0,56.0,13.0,34.0,102.0,90.0,12.0,12.0,16.0,19.0,134.0,99.0,99.0,26.0,29.0,63.0,52.0,45.0,105.0,108.0,63.0,52.0,63.0,20.0,63.0,141.0,94.0,88.0,30.0,43.0,11.0,69.0,99.0,99.0,129.0,128.0,129.0,128.0,22.0,86.0,20.0,20.0,31.0,121.0,121.0,96.0,101.0,42.0,44.0,63.0,8.0,18.0,18.0,42.0,35.0,49.0,35.0,38.0,20.0,42.0,42.0,110.0,42.0,65.0,62.0,85.0,67.0,26.0,143.0,144.0,127.0,49.0,126.0,28.0,28.0,120.0,55.0,27.0,93.0,31.0,24.0,145.0,49.0,39.0,37.0,28.0,28.0,120.0,95.0,19.0,19.0,62.0,15.0,65.0,41.0,121.0,49.0,41.0,44.0,144.0,58.0,72.0,10.0,28.0,55.0,63.0,81.0,23.0,63.0,37.0,106.0,49.0,58.0,37.0,37.0,38.0,38.0,39.0,38.0,37.0,62.0,24.0,109.0,24.0,24.0,23.0,51.0,73.0,39.0,23.0,37.0,34.0,21.0,86.0,34.0,119.0,13.0,56.0,45.0,33.0,45.0,67.0,35.0,49.0,27.0,10.0,61.0,37.0,27.0,23.0,61.0,23.0,65.0,38.0,94.0,61.0,27.0,23.0,13.0,47.0,19.0,10.0,53.0,47.0,71.0,71.0,49.0,53.0,49.0,98.0,49.0,18.0,48.0,16.0,53.0,27.0,70.0,29.0,31.0,33.0,44.0,15.0,28.0,21.0,90.0,25.0,54.0,14.0,12.0,30.0,25.0,105.0,98.0,135.0,72.0,53.0,92.0,74.0,59.0,74.0,59.0,87.0,18.0,73.0,50.0,50.0,14.0,13.0,21.0,15.0,41.0,41.0,114.0,44.0,38.0,21.0,16.0,58.0,99.0,29.0,21.0,18.0,14.0,14.0,32.0,63.0,34.0,15.0,46.0,28.0,34.0,26.0,19.0,77.0,165.0,32.0,55.0,29.0,23.0,41.0,81.0,50.0,37.0,15.0,42.0,21.0,42.0,24.0,75.0,18.0,63.0,25.0,46.0,72.0,47.0,15.0,47.0,18.0,24.0,60.0,27.0,43.0,27.0,27.0,54.0,37.0,48.0,42.0,53.0,49.0,88.0,43.0,26.0,95.0,25.0,38.0,124.0,49.0,49.0,42.0,124.0,38.0,64.0,41.0,27.0,25.0,28.0,30.0,16.0,49.0,86.0,78.0,77.0,19.0,122.0,134.0,20.0,124.0,20.0,52.0,67.0,48.0,60.0,24.0,60.0,48.0,48.0,32.0,30.0,35.0,24.0,66.0,24.0,18.0,54.0,18.0,62.0,22.0,54.0,50.0,29.0,27.0,43.0,19.0,27.0,31.0,72.0,16.0,27.0,35.0,35.0,26.0,35.0,22.0,67.0,19.0,22.0,65.0,22.0,47.0,23.0,19.0,25.0,129.0,15.0,26.0,51.0,18.0,21.0,48.0,47.0,52.0,68.0,14.0,24.0,28.0,16.0,20.0,28.0,31.0,23.0,17.0,18.0,18.0,24.0,17.0,17.0,14.0,67.0,26.0,56.0,25.0,27.0,81.0,91.0,16.0,38.0,113.0,16.0,81.0,38.0,76.0,76.0,24.0,22.0,26.0,21.0,13.0,62.0,43.0,43.0,62.0,49.0,15.0,15.0,151.0,14.0,16.0,32.0,106.0,33.0,43.0,133.0,142.0,116.0,53.0,106.0,85.0,55.0,33.0,28.0,42.0,42.0,33.0,32.0,28.0,33.0,13.0,35.0,17.0,47.0,17.0,20.0,53.0,15.0,106.0,28.0,21.0,69.0,25.0,25.0,45.0,44.0,96.0,23.0,23.0,17.0,23.0,17.0,47.0,19.0,121.0,110.0,60.0,47.0,19.0,15.0,15.0,20.0,42.0,37.0,42.0,28.0,47.0,78.0,46.0,14.0,111.0,110.0,40.0,14.0,14.0,15.0,21.0,80.0,38.0,47.0,102.0,50.0,13.0,75.0,149.0,75.0,43.0,38.0,109.0,24.0,18.0,30.0,22.0,23.0,35.0,14.0,35.0,63.0,24.0,20.0,52.0,65.0,39.0,57.0,16.0,29.0,29.0,103.0,71.0,71.0,28.0,17.0,16.0,112.0,104.0,32.0,45.0,58.0,58.0,15.0,15.0,31.0,84.0,31.0,19.0,43.0,86.0,102.0,33.0,147.0,145.0,23.0,57.0,40.0,68.0,40.0,68.0,40.0,11.0,20.0,14.0,28.0,148.0,32.0,155.0,71.0,30.0,29.0,53.0,32.0,42.0,20.0,13.0,20.0,42.0,27.0,13.0,54.0,48.0,16.0,15.0,31.0,15.0,45.0,13.0,151.0,13.0,17.0,31.0,17.0,31.0,87.0,49.0,40.0,29.0,58.0,15.0,152.0,15.0,40.0,38.0,9.0,17.0,14.0,93.0,62.0,122.0,125.0,44.0,25.0,25.0,72.0,19.0,88.0,25.0,23.0,84.0,14.0,54.0,19.0,37.0,35.0,33.0,84.0,112.0,33.0,48.0,77.0,34.0,48.0,49.0,22.0,45.0,22.0,106.0,48.0,127.0,12.0,13.0,49.0,11.0,11.0,58.0,37.0,14.0,19.0,72.0,39.0,22.0,22.0,58.0,104.0,38.0,16.0,139.0,18.0,101.0,101.0,28.0,57.0,68.0,31.0,28.0,40.0,40.0,66.0,40.0,32.0,47.0,33.0,31.0,31.0,88.0,104.0,35.0,19.0,35.0,44.0,48.0,74.0,98.0,94.0,32.0,94.0,143.0,144.0,44.0,45.0,16.0,48.0,18.0,34.0,92.0,45.0,37.0,96.0,37.0,85.0,61.0,61.0,58.0,58.0,119.0,82.0,130.0,87.0,13.0,26.0,60.0,64.0,42.0,14.0,14.0,108.0,17.0,86.0,46.0,18.0,10.0,10.0,10.0,12.0,15.0,14.0,24.0,38.0,7.0,41.0,38.0,30.0,27.0,47.0,59.0,22.0,42.0,36.0,36.0,16.0,37.0,8.0,37.0,45.0,24.0,9.0,24.0,48.0,51.0,23.0,55.0,100.0,100.0,28.0,26.0,34.0,31.0,68.0,92.0,42.0,31.0,31.0,39.0,31.0,32.0,22.0,22.0,122.0,55.0,55.0,14.0,55.0,47.0,32.0,24.0,85.0,88.0,25.0,84.0,85.0,86.0,24.0,22.0,24.0,43.0,43.0,46.0,48.0,10.0,10.0,16.0,14.0,43.0,69.0,88.0,21.0,35.0,26.0,88.0,69.0,30.0,28.0,56.0,64.0,99.0,52.0,86.0,18.0,86.0,88.0,43.0,43.0,43.0,43.0,11.0,39.0,33.0,33.0,18.0,18.0,115.0,78.0,9.0,61.0,11.0,11.0,9.0,8.0,10.0,11.0,6.0,62.0,45.0,79.0,46.0,23.0,79.0,46.0,45.0,28.0,77.0,73.0,75.0,28.0,19.0,25.0,38.0,66.0,38.0,25.0,72.0,72.0,26.0,42.0,11.0,25.0,17.0,52.0,45.0,24.0,20.0,24.0,12.0,21.0,21.0,21.0,12.0,10.0,9.0,11.0,23.0,10.0,51.0,36.0,32.0,38.0,18.0,16.0,27.0,38.0,48.0,10.0,113.0,46.0,22.0,10.0,10.0,13.0,12.0,13.0,72.0,72.0,119.0,29.0,6.0,17.0,28.0,70.0,17.0,6.0,11.0,7.0,70.0,27.0,21.0,27.0,68.0,47.0,68.0,88.0,41.0,11.0,11.0,10.0,12.0,12.0,47.0,27.0,8.0,45.0,8.0,27.0,25.0,24.0,55.0,12.0,19.0,32.0,31.0,7.0,27.0,28.0,109.0,109.0,23.0,8.0,8.0,9.0,9.0,18.0,43.0,36.0,52.0,68.0,18.0,14.0,15.0,14.0,27.0,48.0,17.0,35.0,56.0,42.0,39.0,32.0,26.0,39.0,39.0,53.0,38.0,45.0,51.0,14.0,17.0,51.0,45.0,25.0,20.0,77.0,77.0,10.0,90.0,52.0,10.0,8.0,16.0,15.0,17.0,10.0,20.0,26.0,10.0,10.0,52.0,37.0,92.0,75.0,37.0,92.0,67.0,8.0,8.0,8.0,278.0,8.0,289.0,70.0,59.0,70.0,64.0,9.0,30.0,41.0,41.0,74.0,19.0,16.0,31.0,17.0,20.0,17.0,18.0,16.0,18.0,36.0,25.0,30.0,25.0,25.0,49.0,17.0,24.0,13.0,66.0,14.0,55.0,35.0,10.0,80.0,21.0,21.0,21.0,24.0,15.0,17.0,28.0,33.0,29.0,13.0,27.0,11.0,52.0,89.0,70.0,10.0,135.0,38.0,18.0,15.0,50.0,13.0,13.0,94.0,86.0,79.0,71.0,12.0,20.0,70.0,51.0,21.0,14.0,21.0,11.0,12.0,70.0,38.0,38.0,63.0,38.0,88.0,101.0,54.0,37.0,20.0,21.0,19.0,21.0,21.0,38.0,60.0,48.0,44.0,14.0,12.0,44.0,16.0,65.0,65.0,59.0,47.0,11.0,78.0,47.0,47.0,11.0,54.0,61.0,119.0,39.0,12.0,39.0,119.0,19.0,20.0,12.0,41.0,12.0,64.0,56.0,94.0,9.0,77.0,94.0,9.0,10.0,12.0,76.0,44.0,44.0,44.0,52.0,44.0,24.0,15.0,53.0,15.0,13.0,9.0,29.0,79.0,74.0,24.0,50.0,44.0,44.0,89.0,23.0,20.0,77.0,46.0,21.0,88.0,66.0,58.0,90.0,66.0,36.0,18.0,113.0,17.0,18.0,24.0,20.0,60.0,65.0,40.0,86.0,160.0,34.0,48.0,34.0,36.0,37.0,37.0,60.0,14.0,13.0,35.0,46.0,60.0,69.0,33.0,33.0,56.0,24.0,66.0,26.0,51.0,36.0,36.0,19.0,51.0,87.0,60.0,64.0,44.0,44.0,36.0,81.0,10.0,10.0,81.0,9.0,54.0,54.0,22.0,69.0,36.0,47.0,31.0,7.0,110.0,110.0,12.0,60.0,28.0,12.0,60.0,77.5,77.5,29.0,18.0,9.0,28.0,57.0,15.0,68.0,68.0,88.0,91.0,29.0,91.0,63.0,88.0,27.0,41.0,65.0,69.0,91.0,46.0,41.0,91.0,64.0,88.0,46.0,18.0,55.0,34.0,34.0,34.0,34.0,38.0,91.0,91.0,67.0,25.0,48.0,11.0,40.0,26.0,26.0,26.0,31.0,31.0,31.0,31.0,31.0,20.0,28.0,13.0,12.0,12.0,41.0,73.0,46.0,57.0,57.0,28.0,32.0,28.0,67.0,98.0,28.0,38.0,54.0,28.0,63.0,31.0,42.0,45.0,105.0,74.0,8.0,66.0,14.0,66.0,89.0,29.0,100.0,31.0,74.0,28.0,35.0,35.0,25.0,105.0,105.0,84.0,85.0,23.0,23.0,49.0,111.0,33.0,33.0,12.0,59.0,73.0,12.0,11.0,104.0,28.0,24.0,141.0,141.0,24.0,13.0,46.0,34.0,22.0,54.0,53.0,54.0,16.0,19.0,22.0,89.0,15.0,18.0,15.0,37.0,19.0,133.0,19.0,58.0,55.0,31.0,23.0,23.0,60.0,23.0,55.0,67.0,47.0,74.0,11.0,25.0,95.0,95.0,90.0,39.0,8.0,92.0,28.0,98.0,30.0,22.0,92.0,98.0,30.0,39.0,54.0,29.0,28.0,17.0,53.0,85.0,23.0,17.0,89.0,85.0,20.0,15.0,64.0,13.0,31.0,39.0,53.0,53.0,54.0,32.0,54.0,49.0,24.0,16.0,44.0,45.0,82.0,89.0,82.0,89.0,14.0,22.0,13.0,22.0,9.0,12.0,11.0,25.0,23.0,17.0,13.0,11.0,18.0,13.0,18.0,147.0,28.0,28.0,147.0,16.0,13.0,16.0,15.0,64.0,60.0,14.0,12.0,12.0,14.0,12.0,25.0,20.0,48.0,27.0,17.0,65.0,65.0,65.0,58.0,44.0,20.0,27.0,44.0,23.0,58.0,61.0,47.0,34.0,38.0,24.0,59.0,52.0,18.0,28.0,22.0,84.0,29.0,35.0,45.0,31.0,26.0,60.0,32.0,49.0,38.0,19.0,19.0,28.0,26.0,26.0,50.0,24.0,26.0,27.0,54.0,28.0,23.0,24.0,20.0,23.0,115.0,131.0,131.0,131.0,20.0,20.0,20.0,42.0,52.0,20.0,42.0,34.0,35.0,25.0,104.0,50.0,92.0,20.0,29.0,27.0,20.0,32.0,26.0,32.0,27.0,98.0,34.0,48.0,60.0,28.0,102.0,79.0,35.0,26.0,40.0,38.0,44.0,51.0,40.0,44.0,42.0],\"yaxis\":\"y\",\"type\":\"scattergl\"}],                        {\"template\":{\"data\":{\"histogram2dcontour\":[{\"type\":\"histogram2dcontour\",\"colorbar\":{\"outlinewidth\":0,\"ticks\":\"\"},\"colorscale\":[[0.0,\"#0d0887\"],[0.1111111111111111,\"#46039f\"],[0.2222222222222222,\"#7201a8\"],[0.3333333333333333,\"#9c179e\"],[0.4444444444444444,\"#bd3786\"],[0.5555555555555556,\"#d8576b\"],[0.6666666666666666,\"#ed7953\"],[0.7777777777777778,\"#fb9f3a\"],[0.8888888888888888,\"#fdca26\"],[1.0,\"#f0f921\"]]}],\"choropleth\":[{\"type\":\"choropleth\",\"colorbar\":{\"outlinewidth\":0,\"ticks\":\"\"}}],\"histogram2d\":[{\"type\":\"histogram2d\",\"colorbar\":{\"outlinewidth\":0,\"ticks\":\"\"},\"colorscale\":[[0.0,\"#0d0887\"],[0.1111111111111111,\"#46039f\"],[0.2222222222222222,\"#7201a8\"],[0.3333333333333333,\"#9c179e\"],[0.4444444444444444,\"#bd3786\"],[0.5555555555555556,\"#d8576b\"],[0.6666666666666666,\"#ed7953\"],[0.7777777777777778,\"#fb9f3a\"],[0.8888888888888888,\"#fdca26\"],[1.0,\"#f0f921\"]]}],\"heatmap\":[{\"type\":\"heatmap\",\"colorbar\":{\"outlinewidth\":0,\"ticks\":\"\"},\"colorscale\":[[0.0,\"#0d0887\"],[0.1111111111111111,\"#46039f\"],[0.2222222222222222,\"#7201a8\"],[0.3333333333333333,\"#9c179e\"],[0.4444444444444444,\"#bd3786\"],[0.5555555555555556,\"#d8576b\"],[0.6666666666666666,\"#ed7953\"],[0.7777777777777778,\"#fb9f3a\"],[0.8888888888888888,\"#fdca26\"],[1.0,\"#f0f921\"]]}],\"heatmapgl\":[{\"type\":\"heatmapgl\",\"colorbar\":{\"outlinewidth\":0,\"ticks\":\"\"},\"colorscale\":[[0.0,\"#0d0887\"],[0.1111111111111111,\"#46039f\"],[0.2222222222222222,\"#7201a8\"],[0.3333333333333333,\"#9c179e\"],[0.4444444444444444,\"#bd3786\"],[0.5555555555555556,\"#d8576b\"],[0.6666666666666666,\"#ed7953\"],[0.7777777777777778,\"#fb9f3a\"],[0.8888888888888888,\"#fdca26\"],[1.0,\"#f0f921\"]]}],\"contourcarpet\":[{\"type\":\"contourcarpet\",\"colorbar\":{\"outlinewidth\":0,\"ticks\":\"\"}}],\"contour\":[{\"type\":\"contour\",\"colorbar\":{\"outlinewidth\":0,\"ticks\":\"\"},\"colorscale\":[[0.0,\"#0d0887\"],[0.1111111111111111,\"#46039f\"],[0.2222222222222222,\"#7201a8\"],[0.3333333333333333,\"#9c179e\"],[0.4444444444444444,\"#bd3786\"],[0.5555555555555556,\"#d8576b\"],[0.6666666666666666,\"#ed7953\"],[0.7777777777777778,\"#fb9f3a\"],[0.8888888888888888,\"#fdca26\"],[1.0,\"#f0f921\"]]}],\"surface\":[{\"type\":\"surface\",\"colorbar\":{\"outlinewidth\":0,\"ticks\":\"\"},\"colorscale\":[[0.0,\"#0d0887\"],[0.1111111111111111,\"#46039f\"],[0.2222222222222222,\"#7201a8\"],[0.3333333333333333,\"#9c179e\"],[0.4444444444444444,\"#bd3786\"],[0.5555555555555556,\"#d8576b\"],[0.6666666666666666,\"#ed7953\"],[0.7777777777777778,\"#fb9f3a\"],[0.8888888888888888,\"#fdca26\"],[1.0,\"#f0f921\"]]}],\"mesh3d\":[{\"type\":\"mesh3d\",\"colorbar\":{\"outlinewidth\":0,\"ticks\":\"\"}}],\"scatter\":[{\"fillpattern\":{\"fillmode\":\"overlay\",\"size\":10,\"solidity\":0.2},\"type\":\"scatter\"}],\"parcoords\":[{\"type\":\"parcoords\",\"line\":{\"colorbar\":{\"outlinewidth\":0,\"ticks\":\"\"}}}],\"scatterpolargl\":[{\"type\":\"scatterpolargl\",\"marker\":{\"colorbar\":{\"outlinewidth\":0,\"ticks\":\"\"}}}],\"bar\":[{\"error_x\":{\"color\":\"#2a3f5f\"},\"error_y\":{\"color\":\"#2a3f5f\"},\"marker\":{\"line\":{\"color\":\"#E5ECF6\",\"width\":0.5},\"pattern\":{\"fillmode\":\"overlay\",\"size\":10,\"solidity\":0.2}},\"type\":\"bar\"}],\"scattergeo\":[{\"type\":\"scattergeo\",\"marker\":{\"colorbar\":{\"outlinewidth\":0,\"ticks\":\"\"}}}],\"scatterpolar\":[{\"type\":\"scatterpolar\",\"marker\":{\"colorbar\":{\"outlinewidth\":0,\"ticks\":\"\"}}}],\"histogram\":[{\"marker\":{\"pattern\":{\"fillmode\":\"overlay\",\"size\":10,\"solidity\":0.2}},\"type\":\"histogram\"}],\"scattergl\":[{\"type\":\"scattergl\",\"marker\":{\"colorbar\":{\"outlinewidth\":0,\"ticks\":\"\"}}}],\"scatter3d\":[{\"type\":\"scatter3d\",\"line\":{\"colorbar\":{\"outlinewidth\":0,\"ticks\":\"\"}},\"marker\":{\"colorbar\":{\"outlinewidth\":0,\"ticks\":\"\"}}}],\"scattermapbox\":[{\"type\":\"scattermapbox\",\"marker\":{\"colorbar\":{\"outlinewidth\":0,\"ticks\":\"\"}}}],\"scatterternary\":[{\"type\":\"scatterternary\",\"marker\":{\"colorbar\":{\"outlinewidth\":0,\"ticks\":\"\"}}}],\"scattercarpet\":[{\"type\":\"scattercarpet\",\"marker\":{\"colorbar\":{\"outlinewidth\":0,\"ticks\":\"\"}}}],\"carpet\":[{\"aaxis\":{\"endlinecolor\":\"#2a3f5f\",\"gridcolor\":\"white\",\"linecolor\":\"white\",\"minorgridcolor\":\"white\",\"startlinecolor\":\"#2a3f5f\"},\"baxis\":{\"endlinecolor\":\"#2a3f5f\",\"gridcolor\":\"white\",\"linecolor\":\"white\",\"minorgridcolor\":\"white\",\"startlinecolor\":\"#2a3f5f\"},\"type\":\"carpet\"}],\"table\":[{\"cells\":{\"fill\":{\"color\":\"#EBF0F8\"},\"line\":{\"color\":\"white\"}},\"header\":{\"fill\":{\"color\":\"#C8D4E3\"},\"line\":{\"color\":\"white\"}},\"type\":\"table\"}],\"barpolar\":[{\"marker\":{\"line\":{\"color\":\"#E5ECF6\",\"width\":0.5},\"pattern\":{\"fillmode\":\"overlay\",\"size\":10,\"solidity\":0.2}},\"type\":\"barpolar\"}],\"pie\":[{\"automargin\":true,\"type\":\"pie\"}]},\"layout\":{\"autotypenumbers\":\"strict\",\"colorway\":[\"#636efa\",\"#EF553B\",\"#00cc96\",\"#ab63fa\",\"#FFA15A\",\"#19d3f3\",\"#FF6692\",\"#B6E880\",\"#FF97FF\",\"#FECB52\"],\"font\":{\"color\":\"#2a3f5f\"},\"hovermode\":\"closest\",\"hoverlabel\":{\"align\":\"left\"},\"paper_bgcolor\":\"white\",\"plot_bgcolor\":\"#E5ECF6\",\"polar\":{\"bgcolor\":\"#E5ECF6\",\"angularaxis\":{\"gridcolor\":\"white\",\"linecolor\":\"white\",\"ticks\":\"\"},\"radialaxis\":{\"gridcolor\":\"white\",\"linecolor\":\"white\",\"ticks\":\"\"}},\"ternary\":{\"bgcolor\":\"#E5ECF6\",\"aaxis\":{\"gridcolor\":\"white\",\"linecolor\":\"white\",\"ticks\":\"\"},\"baxis\":{\"gridcolor\":\"white\",\"linecolor\":\"white\",\"ticks\":\"\"},\"caxis\":{\"gridcolor\":\"white\",\"linecolor\":\"white\",\"ticks\":\"\"}},\"coloraxis\":{\"colorbar\":{\"outlinewidth\":0,\"ticks\":\"\"}},\"colorscale\":{\"sequential\":[[0.0,\"#0d0887\"],[0.1111111111111111,\"#46039f\"],[0.2222222222222222,\"#7201a8\"],[0.3333333333333333,\"#9c179e\"],[0.4444444444444444,\"#bd3786\"],[0.5555555555555556,\"#d8576b\"],[0.6666666666666666,\"#ed7953\"],[0.7777777777777778,\"#fb9f3a\"],[0.8888888888888888,\"#fdca26\"],[1.0,\"#f0f921\"]],\"sequentialminus\":[[0.0,\"#0d0887\"],[0.1111111111111111,\"#46039f\"],[0.2222222222222222,\"#7201a8\"],[0.3333333333333333,\"#9c179e\"],[0.4444444444444444,\"#bd3786\"],[0.5555555555555556,\"#d8576b\"],[0.6666666666666666,\"#ed7953\"],[0.7777777777777778,\"#fb9f3a\"],[0.8888888888888888,\"#fdca26\"],[1.0,\"#f0f921\"]],\"diverging\":[[0,\"#8e0152\"],[0.1,\"#c51b7d\"],[0.2,\"#de77ae\"],[0.3,\"#f1b6da\"],[0.4,\"#fde0ef\"],[0.5,\"#f7f7f7\"],[0.6,\"#e6f5d0\"],[0.7,\"#b8e186\"],[0.8,\"#7fbc41\"],[0.9,\"#4d9221\"],[1,\"#276419\"]]},\"xaxis\":{\"gridcolor\":\"white\",\"linecolor\":\"white\",\"ticks\":\"\",\"title\":{\"standoff\":15},\"zerolinecolor\":\"white\",\"automargin\":true,\"zerolinewidth\":2},\"yaxis\":{\"gridcolor\":\"white\",\"linecolor\":\"white\",\"ticks\":\"\",\"title\":{\"standoff\":15},\"zerolinecolor\":\"white\",\"automargin\":true,\"zerolinewidth\":2},\"scene\":{\"xaxis\":{\"backgroundcolor\":\"#E5ECF6\",\"gridcolor\":\"white\",\"linecolor\":\"white\",\"showbackground\":true,\"ticks\":\"\",\"zerolinecolor\":\"white\",\"gridwidth\":2},\"yaxis\":{\"backgroundcolor\":\"#E5ECF6\",\"gridcolor\":\"white\",\"linecolor\":\"white\",\"showbackground\":true,\"ticks\":\"\",\"zerolinecolor\":\"white\",\"gridwidth\":2},\"zaxis\":{\"backgroundcolor\":\"#E5ECF6\",\"gridcolor\":\"white\",\"linecolor\":\"white\",\"showbackground\":true,\"ticks\":\"\",\"zerolinecolor\":\"white\",\"gridwidth\":2}},\"shapedefaults\":{\"line\":{\"color\":\"#2a3f5f\"}},\"annotationdefaults\":{\"arrowcolor\":\"#2a3f5f\",\"arrowhead\":0,\"arrowwidth\":1},\"geo\":{\"bgcolor\":\"white\",\"landcolor\":\"#E5ECF6\",\"subunitcolor\":\"white\",\"showland\":true,\"showlakes\":true,\"lakecolor\":\"white\"},\"title\":{\"x\":0.05},\"mapbox\":{\"style\":\"light\"}}},\"xaxis\":{\"anchor\":\"y\",\"domain\":[0.0,1.0],\"title\":{\"text\":\"Qualidade do vinho\"}},\"yaxis\":{\"anchor\":\"x\",\"domain\":[0.0,1.0],\"title\":{\"text\":\"total sulfur dioxide\"}},\"legend\":{\"tracegroupgap\":0},\"margin\":{\"t\":60},\"width\":500,\"title\":{\"text\":\"Correla\\u00e7\\u00e3o\"}},                        {\"responsive\": true}                    ).then(function(){\n",
              "                            \n",
              "var gd = document.getElementById('fb7f51c6-e9a7-4b15-bf41-0336c95b4f65');\n",
              "var x = new MutationObserver(function (mutations, observer) {{\n",
              "        var display = window.getComputedStyle(gd).display;\n",
              "        if (!display || display === 'none') {{\n",
              "            console.log([gd, 'removed!']);\n",
              "            Plotly.purge(gd);\n",
              "            observer.disconnect();\n",
              "        }}\n",
              "}});\n",
              "\n",
              "// Listen for the removal of the full notebook cells\n",
              "var notebookContainer = gd.closest('#notebook-container');\n",
              "if (notebookContainer) {{\n",
              "    x.observe(notebookContainer, {childList: true});\n",
              "}}\n",
              "\n",
              "// Listen for the clearing of the current output cell\n",
              "var outputEl = gd.closest('.output');\n",
              "if (outputEl) {{\n",
              "    x.observe(outputEl, {childList: true});\n",
              "}}\n",
              "\n",
              "                        })                };                            </script>        </div>\n",
              "</body>\n",
              "</html>"
            ]
          },
          "metadata": {}
        },
        {
          "output_type": "display_data",
          "data": {
            "text/html": [
              "<html>\n",
              "<head><meta charset=\"utf-8\" /></head>\n",
              "<body>\n",
              "    <div>            <script src=\"https://cdnjs.cloudflare.com/ajax/libs/mathjax/2.7.5/MathJax.js?config=TeX-AMS-MML_SVG\"></script><script type=\"text/javascript\">if (window.MathJax && window.MathJax.Hub && window.MathJax.Hub.Config) {window.MathJax.Hub.Config({SVG: {font: \"STIX-Web\"}});}</script>                <script type=\"text/javascript\">window.PlotlyConfig = {MathJaxConfig: 'local'};</script>\n",
              "        <script src=\"https://cdn.plot.ly/plotly-2.18.2.min.js\"></script>                <div id=\"5744e3e0-7b24-4daf-a5c2-ce7c41a2b473\" class=\"plotly-graph-div\" style=\"height:525px; width:500px;\"></div>            <script type=\"text/javascript\">                                    window.PLOTLYENV=window.PLOTLYENV || {};                                    if (document.getElementById(\"5744e3e0-7b24-4daf-a5c2-ce7c41a2b473\")) {                    Plotly.newPlot(                        \"5744e3e0-7b24-4daf-a5c2-ce7c41a2b473\",                        [{\"hovertemplate\":\"quality=%{x}<br>density=%{y}<extra></extra>\",\"legendgroup\":\"\",\"marker\":{\"color\":\"#636efa\",\"symbol\":\"circle\",\"line\":{\"width\":2},\"size\":12},\"mode\":\"markers\",\"name\":\"\",\"showlegend\":false,\"x\":[5,5,5,6,5,5,5,7,7,5,5,5,5,5,5,5,7,5,4,6,6,5,5,5,6,5,5,5,5,6,5,6,5,6,5,6,6,7,4,5,5,4,6,5,5,4,5,5,5,5,5,6,6,5,6,5,5,5,5,6,5,5,7,5,5,5,5,5,5,6,6,5,5,4,5,5,5,6,5,4,5,5,5,5,6,5,6,5,5,5,5,6,5,5,4,6,5,5,5,6,6,6,6,5,5,5,5,5,6,5,5,5,5,6,5,6,6,6,6,6,5,6,5,5,5,5,5,5,7,5,5,5,5,6,6,5,5,5,5,5,5,5,6,5,6,5,5,5,6,6,6,4,5,5,5,5,5,5,5,6,5,4,6,5,5,5,5,4,6,5,4,6,6,6,5,5,5,6,5,5,5,5,5,5,6,5,5,5,5,5,5,6,5,5,5,5,5,6,7,4,7,5,5,5,6,7,7,5,5,7,6,6,6,5,6,5,5,5,5,5,6,5,5,6,4,6,6,5,6,5,7,6,6,5,6,6,6,6,6,6,5,6,6,7,7,6,5,5,6,6,6,6,5,5,6,5,5,5,5,7,5,4,5,5,5,7,4,8,6,6,6,6,5,5,5,6,6,6,8,7,6,7,5,7,5,5,6,6,7,5,7,5,6,6,6,5,5,5,5,5,6,6,5,5,5,6,5,6,6,6,6,6,6,5,5,6,5,6,7,6,7,5,5,6,6,6,7,5,6,5,6,6,6,5,7,7,6,5,6,7,6,6,6,6,6,5,7,6,6,6,6,6,5,5,6,6,5,7,7,6,5,6,5,5,7,6,7,5,5,7,5,6,6,5,6,7,6,7,6,6,6,6,6,6,5,6,6,6,6,7,8,6,5,5,5,7,5,6,6,5,5,6,6,6,5,6,6,7,6,4,6,5,5,7,5,5,6,5,6,5,7,7,5,7,5,7,6,6,5,6,7,5,6,5,6,5,6,6,6,5,8,6,7,7,7,6,5,5,6,6,6,6,6,7,5,8,5,5,7,3,6,5,5,5,6,5,6,6,6,5,5,6,6,5,6,5,5,6,5,6,5,8,5,5,6,5,5,6,7,6,6,7,7,6,6,8,6,5,8,6,6,7,7,7,7,7,7,6,6,7,5,6,6,7,7,5,6,3,6,5,6,5,5,5,5,5,5,6,6,5,6,5,5,6,6,6,5,6,7,5,5,6,5,6,6,5,6,6,6,6,6,6,6,5,5,5,6,5,6,6,5,5,5,6,6,5,6,6,6,6,6,6,5,4,6,6,4,5,5,6,5,5,5,7,7,6,7,5,8,7,5,6,5,5,5,5,6,6,6,6,4,6,5,6,6,6,7,6,6,6,5,5,6,5,6,5,5,6,5,5,5,5,5,6,5,5,5,5,6,5,6,5,6,4,5,5,5,5,7,6,5,5,5,5,5,7,5,4,7,6,5,5,5,6,5,5,5,7,6,4,6,5,6,6,5,5,6,6,5,6,5,5,5,5,6,5,6,5,5,5,5,6,5,5,5,5,5,5,5,5,3,5,5,5,5,6,6,6,5,6,6,6,6,4,4,5,5,5,6,6,5,5,5,5,5,6,5,5,5,5,5,5,5,5,4,5,6,5,5,6,5,5,5,5,5,5,5,6,5,5,6,5,5,5,5,6,6,5,6,6,5,5,5,5,6,6,6,5,5,5,5,5,6,5,6,6,5,5,6,5,6,5,5,6,6,5,6,6,5,5,6,5,5,5,5,5,5,6,6,5,6,5,6,5,6,5,5,7,6,6,5,5,7,6,6,7,7,7,5,6,5,6,5,4,6,5,6,6,5,5,5,7,5,5,5,5,7,5,8,6,4,6,3,4,5,5,7,7,7,5,7,5,6,5,6,5,5,6,5,5,5,5,5,6,6,7,6,7,7,6,5,6,5,5,5,5,6,6,6,6,6,5,4,7,7,7,4,6,6,5,5,6,6,5,6,5,6,7,6,5,5,5,6,5,6,6,7,6,7,3,5,7,7,7,7,5,5,6,6,6,6,6,6,7,6,6,5,6,6,6,5,6,6,6,5,7,6,4,5,7,5,5,6,5,5,6,6,4,7,5,7,7,7,7,7,7,7,7,7,7,7,7,7,7,6,5,6,6,7,5,6,5,5,6,6,6,7,5,6,5,6,6,7,5,7,5,5,5,7,5,6,5,6,6,5,6,7,5,5,6,5,5,6,5,5,6,7,7,6,6,7,7,7,7,5,7,7,7,7,5,7,6,5,6,6,6,7,6,6,5,6,6,5,6,7,6,6,5,6,7,7,7,5,6,6,7,7,5,7,6,5,6,6,7,6,6,6,5,6,6,5,5,5,7,6,6,7,5,7,7,6,8,6,6,6,6,7,7,7,5,7,5,6,6,5,7,6,5,5,7,6,7,6,6,6,5,7,6,7,7,8,6,6,7,6,5,6,5,7,5,6,6,6,6,6,5,6,7,5,6,6,7,6,6,6,6,6,6,6,5,8,6,6,6,4,7,6,6,5,6,6,5,7,7,7,6,6,6,5,6,6,6,6,6,5,6,6,7,6,6,7,6,5,6,6,5,7,7,6,5,7,6,7,5,5,5,5,7,6,6,6,6,6,6,6,6,4,7,5,6,6,5,6,5,5,6,5,6,5,4,6,5,7,5,6,6,6,6,6,6,6,7,8,5,7,7,7,5,7,7,6,5,6,6,6,6,6,6,6,6,6,6,6,6,6,5,5,5,7,5,6,5,5,4,6,4,6,6,4,4,5,5,6,5,6,5,5,5,6,6,6,5,5,5,5,5,5,6,6,6,5,4,5,4,6,6,6,6,6,8,6,6,5,5,6,6,4,6,6,7,6,6,6,6,5,5,6,5,5,5,5,6,6,4,6,5,5,6,6,3,6,6,6,5,5,5,5,4,5,5,5,6,5,6,6,6,6,6,6,6,5,6,5,7,6,6,6,6,5,6,6,5,6,5,5,6,5,5,5,6,6,6,6,6,5,6,5,5,5,5,5,6,5,5,5,5,5,6,5,6,5,5,6,4,6,5,5,6,6,4,5,6,5,5,3,5,5,6,6,6,6,5,5,5,5,5,5,5,5,5,6,5,5,5,5,6,5,5,7,6,5,5,6,8,6,7,6,6,7,6,6,6,6,5,5,5,5,7,5,5,5,5,6,4,6,6,6,5,5,5,5,6,6,7,6,6,5,5,5,6,7,6,5,5,6,6,5,5,5,8,7,7,7,5,6,6,6,5,5,7,6,4,6,6,5,5,7,4,7,3,5,5,6,5,5,7,5,7,3,5,4,5,4,5,4,5,5,5,5,6,6,5,5,5,7,6,5,6,6,6,5,5,5,6,6,3,6,6,6,5,6,5,6,6,6,6,5,6,5,5,6,4,5,5,6,5,6,6,6,6,6,5,6,5,7,6,6,6,5,5,6,7,6,6,7,6,5,5,5,8,5,5,6,5,6,7,5,6,5,5,5,5,5,5,5,6,6,5,5,6,6,6,5,6,6,6,6,6,6,5,6,5,5,5,7,6,6,6,6,5,6,6,6,6,5,6,6,5,6],\"xaxis\":\"x\",\"y\":[0.9978,0.9968,0.997,0.998,0.9978,0.9978,0.9964,0.9946,0.9968,0.9978,0.9959,0.9978,0.9943,0.9974,0.9986,0.9986,0.9969,0.9968,0.9974,0.9969,0.9968,0.9982,0.9966,0.9968,0.9968,0.9955,0.9962,0.9966,0.9972,0.9964,0.9958,0.9966,0.9966,0.9993,0.9957,0.9986,0.9975,0.9968,0.994,0.9978,0.9978,0.9976,0.9968,0.9968,0.9962,0.9934,0.997,0.9969,0.9958,0.9954,0.9971,0.9956,0.9955,0.997,0.9955,0.9978,0.9971,0.9983,0.9975,0.9962,0.998,0.9968,0.9968,0.9966,0.9962,0.9962,0.9968,0.9962,0.9969,0.9962,0.9967,0.9962,0.9961,0.9976,0.9984,0.9986,0.9986,0.9966,0.9958,0.9972,0.9958,0.9974,0.997,0.9969,0.9959,0.9961,0.9972,0.9966,0.9978,0.9978,0.9964,0.9972,0.9972,0.9966,0.9938,0.9932,0.9965,0.9963,0.9967,0.9972,0.9972,0.9959,0.9972,0.9967,0.996,0.9967,0.9973,0.9969,0.9976,0.9969,0.9964,0.9964,0.9964,0.9988,0.9964,0.9966,0.9978,0.997,0.9962,0.9959,0.9962,0.9962,0.998,0.9976,0.996,0.9984,0.9964,0.9964,0.9962,0.9955,0.9968,0.9937,0.9937,0.9952,0.9959,0.9965,0.9968,0.9972,0.9962,0.9962,0.9965,0.9968,0.9916,0.9954,0.9916,0.9968,0.9944,0.9968,0.9959,0.9975,0.9958,0.9996,0.995,0.995,0.9973,0.9973,0.9973,0.9973,0.9969,0.9968,0.9959,0.9965,0.9964,0.9982,0.9981,0.9961,0.9956,0.9956,0.9953,0.9964,0.9972,0.9972,0.9972,0.9961,0.9961,0.9958,0.9961,0.9972,0.9969,0.9969,0.9969,0.9972,0.9972,0.9971,0.997,0.9971,0.9972,0.9976,0.9968,0.9968,0.9976,0.9974,0.9969,0.9964,0.9964,0.9968,0.9968,0.9981,0.9924,0.9948,0.99695,0.9975,0.99545,0.9961,0.99615,0.9994,0.9994,0.99625,0.9966,0.998,0.99585,0.99685,0.998,0.9959,0.9974,0.9974,0.9962,0.9967,0.9957,0.99655,0.9964,0.9957,0.99525,0.99815,0.99745,0.99615,0.9964,0.9984,0.99615,0.99685,0.9927,0.99625,0.998,0.99685,0.99685,0.99675,0.99675,0.99675,0.99675,0.99685,0.9971,0.99925,0.99565,1.00005,1.00005,0.9983,0.99685,0.9963,0.99615,0.9983,0.9985,0.9972,0.9986,0.9959,0.9972,0.99675,0.998,0.9968,0.9968,0.99965,0.99625,0.99565,0.99575,0.9963,0.9999,0.9968,1.00025,0.9973,0.9987,0.9996,0.9965,0.9996,0.99935,0.99735,0.99915,0.9965,0.9987,0.9996,0.9976,0.9991,0.9986,0.9972,0.9971,0.9991,1.00015,1.00015,0.9997,0.9967,0.9976,1.001,0.9976,0.9979,0.9994,0.9964,1.0014,1.0001,0.9981,0.99855,0.9993,0.99845,0.9965,0.9973,0.9994,0.996,0.9973,0.9998,0.9966,0.9994,0.9994,0.9968,0.9998,0.996,0.99815,0.9976,0.99645,0.9962,0.9996,0.99865,0.9989,0.99865,0.9989,0.99975,0.99735,0.999,1.0015,1.0015,0.9978,0.998,1.0002,0.9981,0.998,0.998,0.9973,0.9958,0.9963,0.9992,0.9948,0.9974,1.0008,0.9997,1.0,0.9972,0.9982,0.9982,1.0006,0.9979,0.9955,0.9986,0.9979,0.9994,1.0004,0.9994,0.9974,1.0018,0.9912,0.9955,1.0001,0.997,1.0,1.001,0.9973,0.9982,0.9992,0.9988,1.0022,0.9979,1.0022,1.0,0.9998,0.9962,0.9975,0.9967,0.9967,0.9959,1.0014,0.9984,1.0003,0.9962,0.9988,0.9979,0.9974,1.0014,0.9974,0.9974,0.998,0.9979,0.9981,0.9972,0.9981,0.9982,0.9924,1.0014,0.998,0.997,0.9997,1.0004,0.9994,0.9988,0.9988,0.9963,0.9994,0.9949,1.0,0.9994,0.9974,0.9966,0.9981,0.9996,0.997,0.9981,0.9987,0.9987,0.9966,0.9986,0.9982,1.0014,0.997,0.9956,0.9996,0.9976,0.9972,0.9952,0.9955,0.9978,0.9955,0.9952,0.9949,0.9988,0.9978,0.9997,0.9978,0.9974,0.9958,1.0004,0.9996,1.0004,0.9958,0.9986,0.9996,0.9951,0.9987,0.9988,1.0032,0.9963,0.9934,0.9986,0.9996,0.9968,0.9967,0.9994,0.9994,0.9979,0.9968,0.9998,0.9952,0.9988,0.9986,0.9988,0.9998,1.0008,0.9976,0.9982,0.997,0.9972,0.9987,1.0006,0.9982,0.9947,1.0,0.9952,0.9996,0.997,0.9995,0.9971,0.9982,0.9988,0.998,0.9977,0.9988,0.9984,1.0026,0.9964,0.9986,0.9986,0.997,0.9976,0.9976,0.9982,1.0002,0.9984,0.9984,0.9952,0.995,1.0002,0.9952,0.9972,0.9984,0.9966,0.9972,1.0002,0.9984,0.999,0.999,0.9976,0.9976,0.9968,0.9976,1.0,0.9994,0.9986,0.9978,0.9994,0.998,0.9973,0.9973,1.001,1.001,0.9994,0.9972,0.9966,0.9982,0.998,0.9979,0.9978,0.9976,0.9998,0.9966,0.9962,0.9988,0.9974,0.999,1.0004,1.0004,0.9956,1.0,0.999,0.9974,0.9972,1.0014,0.9996,0.9988,0.9988,0.9966,0.9993,1.0008,0.9982,0.9983,0.9987,0.9994,0.9975,0.9958,0.998,0.998,0.9934,1.00315,1.00315,1.0002,1.00315,1.0002,1.0021,0.9994,0.9978,0.9982,0.9971,1.0021,0.9994,0.9991,0.9991,0.999,0.9946,1.0003,0.9946,0.9978,0.9991,0.9992,0.9993,0.9978,0.9982,0.9982,0.9976,1.0002,1.0002,1.0,0.9976,1.0002,0.998,0.9986,0.9967,0.9917,0.9976,0.9987,0.9922,0.9987,1.0004,0.9978,0.9998,0.9994,0.998,0.9967,1.0,0.9962,1.0006,0.9975,1.0006,0.9984,0.9984,0.9973,0.9982,1.0026,0.9956,0.9983,1.0006,0.9965,0.9962,0.9969,0.9997,0.9997,0.9982,1.0006,0.9988,0.9976,0.9976,0.9974,0.9974,0.9997,0.9997,0.9988,0.9988,0.9976,0.9964,0.9976,0.9988,0.9964,1.001,0.9964,0.9954,0.9979,0.9978,0.9964,0.997,0.9991,0.9992,0.9991,0.9992,0.9991,0.9984,0.9972,0.9967,0.9964,0.9948,0.9986,1.001,0.9976,0.9976,0.9979,1.0004,0.9986,0.998,0.9973,0.997,0.9973,0.9978,0.9972,0.9974,1.0,0.9981,0.998,0.9988,0.9966,0.9988,0.9959,0.9968,0.998,0.9968,0.9984,0.9984,0.9984,0.9979,0.9983,0.9972,1.0004,0.9962,0.998,0.997,0.998,0.997,0.997,0.9998,0.9962,0.9976,0.9966,0.9998,0.9979,0.9984,0.9984,0.9921,0.9972,0.9972,1.0001,0.9986,0.9984,0.9972,0.997,0.9972,0.998,0.999,0.9956,0.9966,0.996,0.9983,0.9985,0.9998,0.9992,0.9976,0.998,0.9967,0.9976,0.9968,0.9976,0.9976,0.9976,0.9982,0.9968,0.9965,0.9958,0.9976,0.9994,0.997,0.997,0.995,0.9982,0.9994,0.9966,0.998,0.9987,0.9963,0.9963,1.0002,0.9983,0.999,0.9965,0.99788,0.9972,1.00024,1.0001,0.99768,0.9978,0.99782,0.99761,0.99768,0.99803,0.99803,0.99785,0.99803,0.99656,0.99525,0.99488,0.99656,0.99656,0.99823,0.99779,0.99738,0.99701,0.99738,0.99888,0.99888,0.99738,0.99938,0.99744,0.99668,0.99744,0.9978,0.99782,0.9973,0.99727,0.99586,0.99612,0.9961,0.99788,0.99745,0.99676,0.99732,0.99814,0.99732,0.99746,0.9982,0.9982,0.9991,0.9991,0.998,0.99708,0.99818,0.99745,0.99639,0.99531,0.99786,0.99746,0.99526,0.9987,0.9987,0.99641,0.99735,0.99264,0.9971,0.99682,0.99356,0.99386,0.99356,0.99702,0.99693,0.99562,1.00012,0.99818,0.99462,0.99939,0.99818,0.9984,0.99545,0.99632,0.99976,0.99606,0.99154,0.9973,0.9973,0.99682,0.99624,0.9951,0.99624,0.99417,0.99376,0.99632,0.99376,0.99832,0.99836,0.99694,0.99655,0.99064,0.99064,0.99672,0.99647,0.99736,0.99629,0.99708,0.9963,0.9959,0.99689,0.99689,0.9977,0.99689,0.99689,0.99708,0.99708,0.99801,0.99652,0.99652,0.99538,0.99652,0.99594,0.99686,0.99438,0.99746,0.99357,0.99628,0.99746,0.99746,0.99748,0.99438,0.99438,0.99438,0.99578,0.99371,0.99522,0.99576,0.99552,0.99664,0.99614,0.99517,0.99371,0.99787,0.99745,0.99576,0.99533,0.99536,0.99745,0.99787,0.99824,0.99836,0.99577,0.99491,1.00289,0.99576,0.99743,0.99774,0.99743,0.99745,0.9955,0.99444,0.9955,0.99444,0.99892,0.99562,0.99736,0.99736,0.9962,0.9962,0.998,0.9964,0.9948,0.99528,0.99331,0.99577,0.99901,0.99674,0.99639,0.99331,0.99512,0.99395,0.99824,0.9964,0.99504,0.99786,0.9964,0.99504,0.99824,0.99516,0.99604,0.99786,0.99736,0.99516,0.99468,0.99746,0.99748,0.9971,0.99748,0.99746,0.99543,0.99543,0.99791,0.99356,0.99425,0.99509,0.99484,0.99834,0.99864,0.99498,0.99566,0.99745,0.99408,0.99552,0.99552,0.99552,0.99408,0.99536,0.99458,0.99538,0.99648,0.99568,0.99613,0.99519,0.99735,0.99518,0.99592,0.99654,0.99546,0.99518,0.99554,0.99604,0.99733,0.9943,0.99669,0.99724,0.99724,0.99643,0.99605,0.99658,0.997,0.997,0.99801,0.99416,0.9969,0.99774,0.99712,0.99418,0.99774,0.9969,0.99562,0.9947,0.99693,0.99596,0.99556,0.99596,0.99694,0.99554,0.99694,0.99918,0.99697,0.99378,0.99378,0.99554,0.99162,0.99495,0.99676,0.99516,0.9928,0.99603,0.9928,0.99516,0.99516,0.99549,0.99722,0.99354,0.9957,0.99604,0.99635,0.99454,0.99598,0.99486,0.99007,0.99007,0.99636,0.99642,0.99642,0.99584,0.99506,0.99568,0.99822,0.99364,0.99378,0.99586,0.99568,0.99488,0.99514,0.99854,0.99592,0.99739,0.99683,0.99356,0.99672,0.9953,0.99692,0.99756,0.99547,0.99692,0.99859,0.99294,0.99438,0.99612,0.99634,0.99702,0.99704,0.99634,0.99702,0.99258,0.99426,0.99747,0.99747,0.99586,0.99784,0.9971,0.99586,0.9981,0.99462,0.9956,0.99565,0.99418,0.9963,0.99358,0.99572,0.99572,0.997,0.99498,0.99892,0.9968,0.9972,0.99892,0.99769,0.99534,0.99817,0.99817,0.99316,0.99471,0.99316,0.99685,0.99617,0.99685,0.99529,0.99738,0.994,0.99735,0.99735,0.99451,0.99546,0.99479,0.99615,0.99655,0.99772,0.99655,0.99666,0.99358,0.99666,0.99392,0.99388,0.99402,0.99388,0.9936,0.99374,0.99376,0.99523,0.99855,0.9982,0.99593,0.99471,0.99396,0.99698,0.9902,0.99572,0.99572,0.99572,0.99252,0.99256,0.99235,0.99352,0.9922,0.99674,0.99557,0.99394,0.9915,0.99379,0.9984,0.99798,0.9977,0.99341,0.9933,0.99684,0.99524,0.9946,0.99774,0.99774,0.99786,0.99764,0.9969,0.99624,0.99354,0.99672,0.99588,0.99672,0.996,0.99702,0.99526,0.99585,0.99473,0.99352,0.99616,0.99622,0.99544,0.99616,0.99524,0.9924,0.99572,0.99728,0.99676,0.99551,0.99434,0.99692,0.99692,0.99634,0.99709,0.99528,0.99384,0.99502,0.99667,0.99522,0.99649,0.99716,0.99716,0.99541,0.99572,0.99318,0.99346,0.99599,0.99599,0.99478,0.99754,0.99572,0.99538,0.99346,0.9963,0.99346,0.99538,0.99616,0.99652,0.99551,0.99439,0.99551,0.99588,0.99633,0.99686,0.99458,0.9951,0.99686,0.99458,0.99419,0.99516,0.99878,0.99534,0.99534,0.99534,0.99752,0.99534,0.99428,0.99498,0.9957,0.99498,0.99659,0.99628,0.99488,0.99677,0.99408,0.996,0.99478,0.99734,0.99734,0.99678,0.99638,0.9992,0.99922,0.99592,0.99769,0.99157,0.99718,0.9947,0.99621,0.99718,0.99614,0.99242,0.99572,0.99659,0.99242,0.99798,0.99488,0.99494,0.99729,0.99414,0.9983,0.99721,0.99655,0.99502,0.99655,0.9949,0.99514,0.99514,0.9963,0.99627,0.99569,0.99628,0.99358,0.99499,0.99633,0.99538,0.99538,0.99632,0.99437,0.99726,0.9978,0.99456,0.99564,0.99564,0.996,0.99668,0.9908,0.99084,0.9935,0.99385,0.99494,0.9944,0.99688,0.99566,0.99636,0.99688,0.9948,0.9956,0.9956,0.99619,0.99734,0.99476,0.99734,0.99328,0.99286,0.99914,0.99914,0.99521,0.99638,0.99362,0.99672,0.99638,0.99558,0.99558,0.99323,0.99191,0.99476,0.99444,0.99598,0.99576,0.99501,0.9955,0.99612,0.9979,0.99524,0.9979,0.996,0.99612,0.9929,0.99532,0.99558,0.99556,0.99616,0.99258,0.99638,0.99616,0.99652,0.99796,0.99258,0.99392,0.99495,0.9948,0.9948,0.9948,0.9948,0.9955,0.99616,0.99616,0.99668,0.99581,0.9976,0.99608,0.99387,0.99448,0.99448,0.99448,0.99538,0.99538,0.99538,0.99589,0.99538,0.99852,0.99613,0.99472,0.99587,0.99587,0.99518,0.99654,0.99332,0.9969,0.9969,0.99568,0.99464,0.99464,0.99648,0.99736,0.99704,0.99699,0.99724,0.99704,0.99652,0.995,0.9971,0.99576,0.99725,0.99656,0.99396,0.99623,0.99476,0.99623,0.99664,0.99471,0.99586,0.9946,0.9953,0.99609,0.99557,0.99557,0.99534,0.99613,0.99613,0.99593,0.99668,0.9961,0.9961,0.99718,0.99524,0.99292,0.99612,0.9942,0.99612,0.99669,0.99745,0.99745,0.99584,0.9966,0.9956,0.9962,0.9962,0.9963,0.996,0.9985,0.9952,0.9974,0.995,0.995,0.995,0.9936,0.9963,0.9974,0.9963,0.9994,0.9966,0.9994,0.9952,0.995,0.9956,0.995,0.9965,0.9956,0.9968,0.9974,0.9974,0.9971,0.9957,0.9962,0.996,0.9956,0.9958,0.9944,0.9955,1.00369,1.00369,0.99914,0.99577,0.996,0.99566,0.9947,0.99713,0.99712,0.99322,0.99566,0.99713,0.99712,0.99701,0.99683,0.99472,0.9947,0.99732,0.99374,0.99706,0.99974,0.99467,0.99236,0.99706,0.99603,0.99458,0.99724,0.99664,0.99545,0.99522,0.9958,0.9958,0.99728,0.99648,0.99728,0.99705,0.99578,0.99334,0.99656,0.99336,1.00242,0.99182,1.00242,0.99182,0.99808,0.99828,0.99498,0.99828,0.99719,0.99542,0.99592,0.99606,0.99546,0.99496,0.9942,0.99448,0.99344,0.9942,0.99348,0.99636,0.99459,0.99492,0.99636,0.99508,0.99582,0.99508,0.99508,0.99642,0.99638,0.99555,0.99605,0.996,0.99562,0.99605,0.99814,0.9941,0.99661,0.99712,0.99588,0.99294,0.99842,0.99842,0.99633,0.99489,0.99647,0.99665,0.99489,0.99585,0.99633,0.9953,0.99522,0.99552,0.99553,0.9951,0.99714,0.99608,0.99444,0.99631,0.99573,0.99717,0.99397,0.9959,0.99528,0.99484,0.99538,0.99714,0.99646,0.99666,0.99472,0.99758,0.9955,0.99531,0.99575,0.99306,0.99783,0.99419,0.99783,0.99768,0.99586,0.99765,0.99627,0.99514,0.99636,0.99627,0.99787,0.99622,0.99622,0.99622,0.99546,0.99546,0.99546,0.99489,0.99494,0.99546,0.99629,0.99396,0.9934,0.99514,0.99632,0.99467,0.99677,0.99474,0.99588,0.99622,0.9954,0.99402,0.9947,0.99402,0.99362,0.99578,0.99484,0.99494,0.99492,0.99483,0.99414,0.9977,0.99314,0.99402,0.99574,0.99651,0.9949,0.99512,0.99574,0.99547,0.99549],\"yaxis\":\"y\",\"type\":\"scattergl\"}],                        {\"template\":{\"data\":{\"histogram2dcontour\":[{\"type\":\"histogram2dcontour\",\"colorbar\":{\"outlinewidth\":0,\"ticks\":\"\"},\"colorscale\":[[0.0,\"#0d0887\"],[0.1111111111111111,\"#46039f\"],[0.2222222222222222,\"#7201a8\"],[0.3333333333333333,\"#9c179e\"],[0.4444444444444444,\"#bd3786\"],[0.5555555555555556,\"#d8576b\"],[0.6666666666666666,\"#ed7953\"],[0.7777777777777778,\"#fb9f3a\"],[0.8888888888888888,\"#fdca26\"],[1.0,\"#f0f921\"]]}],\"choropleth\":[{\"type\":\"choropleth\",\"colorbar\":{\"outlinewidth\":0,\"ticks\":\"\"}}],\"histogram2d\":[{\"type\":\"histogram2d\",\"colorbar\":{\"outlinewidth\":0,\"ticks\":\"\"},\"colorscale\":[[0.0,\"#0d0887\"],[0.1111111111111111,\"#46039f\"],[0.2222222222222222,\"#7201a8\"],[0.3333333333333333,\"#9c179e\"],[0.4444444444444444,\"#bd3786\"],[0.5555555555555556,\"#d8576b\"],[0.6666666666666666,\"#ed7953\"],[0.7777777777777778,\"#fb9f3a\"],[0.8888888888888888,\"#fdca26\"],[1.0,\"#f0f921\"]]}],\"heatmap\":[{\"type\":\"heatmap\",\"colorbar\":{\"outlinewidth\":0,\"ticks\":\"\"},\"colorscale\":[[0.0,\"#0d0887\"],[0.1111111111111111,\"#46039f\"],[0.2222222222222222,\"#7201a8\"],[0.3333333333333333,\"#9c179e\"],[0.4444444444444444,\"#bd3786\"],[0.5555555555555556,\"#d8576b\"],[0.6666666666666666,\"#ed7953\"],[0.7777777777777778,\"#fb9f3a\"],[0.8888888888888888,\"#fdca26\"],[1.0,\"#f0f921\"]]}],\"heatmapgl\":[{\"type\":\"heatmapgl\",\"colorbar\":{\"outlinewidth\":0,\"ticks\":\"\"},\"colorscale\":[[0.0,\"#0d0887\"],[0.1111111111111111,\"#46039f\"],[0.2222222222222222,\"#7201a8\"],[0.3333333333333333,\"#9c179e\"],[0.4444444444444444,\"#bd3786\"],[0.5555555555555556,\"#d8576b\"],[0.6666666666666666,\"#ed7953\"],[0.7777777777777778,\"#fb9f3a\"],[0.8888888888888888,\"#fdca26\"],[1.0,\"#f0f921\"]]}],\"contourcarpet\":[{\"type\":\"contourcarpet\",\"colorbar\":{\"outlinewidth\":0,\"ticks\":\"\"}}],\"contour\":[{\"type\":\"contour\",\"colorbar\":{\"outlinewidth\":0,\"ticks\":\"\"},\"colorscale\":[[0.0,\"#0d0887\"],[0.1111111111111111,\"#46039f\"],[0.2222222222222222,\"#7201a8\"],[0.3333333333333333,\"#9c179e\"],[0.4444444444444444,\"#bd3786\"],[0.5555555555555556,\"#d8576b\"],[0.6666666666666666,\"#ed7953\"],[0.7777777777777778,\"#fb9f3a\"],[0.8888888888888888,\"#fdca26\"],[1.0,\"#f0f921\"]]}],\"surface\":[{\"type\":\"surface\",\"colorbar\":{\"outlinewidth\":0,\"ticks\":\"\"},\"colorscale\":[[0.0,\"#0d0887\"],[0.1111111111111111,\"#46039f\"],[0.2222222222222222,\"#7201a8\"],[0.3333333333333333,\"#9c179e\"],[0.4444444444444444,\"#bd3786\"],[0.5555555555555556,\"#d8576b\"],[0.6666666666666666,\"#ed7953\"],[0.7777777777777778,\"#fb9f3a\"],[0.8888888888888888,\"#fdca26\"],[1.0,\"#f0f921\"]]}],\"mesh3d\":[{\"type\":\"mesh3d\",\"colorbar\":{\"outlinewidth\":0,\"ticks\":\"\"}}],\"scatter\":[{\"fillpattern\":{\"fillmode\":\"overlay\",\"size\":10,\"solidity\":0.2},\"type\":\"scatter\"}],\"parcoords\":[{\"type\":\"parcoords\",\"line\":{\"colorbar\":{\"outlinewidth\":0,\"ticks\":\"\"}}}],\"scatterpolargl\":[{\"type\":\"scatterpolargl\",\"marker\":{\"colorbar\":{\"outlinewidth\":0,\"ticks\":\"\"}}}],\"bar\":[{\"error_x\":{\"color\":\"#2a3f5f\"},\"error_y\":{\"color\":\"#2a3f5f\"},\"marker\":{\"line\":{\"color\":\"#E5ECF6\",\"width\":0.5},\"pattern\":{\"fillmode\":\"overlay\",\"size\":10,\"solidity\":0.2}},\"type\":\"bar\"}],\"scattergeo\":[{\"type\":\"scattergeo\",\"marker\":{\"colorbar\":{\"outlinewidth\":0,\"ticks\":\"\"}}}],\"scatterpolar\":[{\"type\":\"scatterpolar\",\"marker\":{\"colorbar\":{\"outlinewidth\":0,\"ticks\":\"\"}}}],\"histogram\":[{\"marker\":{\"pattern\":{\"fillmode\":\"overlay\",\"size\":10,\"solidity\":0.2}},\"type\":\"histogram\"}],\"scattergl\":[{\"type\":\"scattergl\",\"marker\":{\"colorbar\":{\"outlinewidth\":0,\"ticks\":\"\"}}}],\"scatter3d\":[{\"type\":\"scatter3d\",\"line\":{\"colorbar\":{\"outlinewidth\":0,\"ticks\":\"\"}},\"marker\":{\"colorbar\":{\"outlinewidth\":0,\"ticks\":\"\"}}}],\"scattermapbox\":[{\"type\":\"scattermapbox\",\"marker\":{\"colorbar\":{\"outlinewidth\":0,\"ticks\":\"\"}}}],\"scatterternary\":[{\"type\":\"scatterternary\",\"marker\":{\"colorbar\":{\"outlinewidth\":0,\"ticks\":\"\"}}}],\"scattercarpet\":[{\"type\":\"scattercarpet\",\"marker\":{\"colorbar\":{\"outlinewidth\":0,\"ticks\":\"\"}}}],\"carpet\":[{\"aaxis\":{\"endlinecolor\":\"#2a3f5f\",\"gridcolor\":\"white\",\"linecolor\":\"white\",\"minorgridcolor\":\"white\",\"startlinecolor\":\"#2a3f5f\"},\"baxis\":{\"endlinecolor\":\"#2a3f5f\",\"gridcolor\":\"white\",\"linecolor\":\"white\",\"minorgridcolor\":\"white\",\"startlinecolor\":\"#2a3f5f\"},\"type\":\"carpet\"}],\"table\":[{\"cells\":{\"fill\":{\"color\":\"#EBF0F8\"},\"line\":{\"color\":\"white\"}},\"header\":{\"fill\":{\"color\":\"#C8D4E3\"},\"line\":{\"color\":\"white\"}},\"type\":\"table\"}],\"barpolar\":[{\"marker\":{\"line\":{\"color\":\"#E5ECF6\",\"width\":0.5},\"pattern\":{\"fillmode\":\"overlay\",\"size\":10,\"solidity\":0.2}},\"type\":\"barpolar\"}],\"pie\":[{\"automargin\":true,\"type\":\"pie\"}]},\"layout\":{\"autotypenumbers\":\"strict\",\"colorway\":[\"#636efa\",\"#EF553B\",\"#00cc96\",\"#ab63fa\",\"#FFA15A\",\"#19d3f3\",\"#FF6692\",\"#B6E880\",\"#FF97FF\",\"#FECB52\"],\"font\":{\"color\":\"#2a3f5f\"},\"hovermode\":\"closest\",\"hoverlabel\":{\"align\":\"left\"},\"paper_bgcolor\":\"white\",\"plot_bgcolor\":\"#E5ECF6\",\"polar\":{\"bgcolor\":\"#E5ECF6\",\"angularaxis\":{\"gridcolor\":\"white\",\"linecolor\":\"white\",\"ticks\":\"\"},\"radialaxis\":{\"gridcolor\":\"white\",\"linecolor\":\"white\",\"ticks\":\"\"}},\"ternary\":{\"bgcolor\":\"#E5ECF6\",\"aaxis\":{\"gridcolor\":\"white\",\"linecolor\":\"white\",\"ticks\":\"\"},\"baxis\":{\"gridcolor\":\"white\",\"linecolor\":\"white\",\"ticks\":\"\"},\"caxis\":{\"gridcolor\":\"white\",\"linecolor\":\"white\",\"ticks\":\"\"}},\"coloraxis\":{\"colorbar\":{\"outlinewidth\":0,\"ticks\":\"\"}},\"colorscale\":{\"sequential\":[[0.0,\"#0d0887\"],[0.1111111111111111,\"#46039f\"],[0.2222222222222222,\"#7201a8\"],[0.3333333333333333,\"#9c179e\"],[0.4444444444444444,\"#bd3786\"],[0.5555555555555556,\"#d8576b\"],[0.6666666666666666,\"#ed7953\"],[0.7777777777777778,\"#fb9f3a\"],[0.8888888888888888,\"#fdca26\"],[1.0,\"#f0f921\"]],\"sequentialminus\":[[0.0,\"#0d0887\"],[0.1111111111111111,\"#46039f\"],[0.2222222222222222,\"#7201a8\"],[0.3333333333333333,\"#9c179e\"],[0.4444444444444444,\"#bd3786\"],[0.5555555555555556,\"#d8576b\"],[0.6666666666666666,\"#ed7953\"],[0.7777777777777778,\"#fb9f3a\"],[0.8888888888888888,\"#fdca26\"],[1.0,\"#f0f921\"]],\"diverging\":[[0,\"#8e0152\"],[0.1,\"#c51b7d\"],[0.2,\"#de77ae\"],[0.3,\"#f1b6da\"],[0.4,\"#fde0ef\"],[0.5,\"#f7f7f7\"],[0.6,\"#e6f5d0\"],[0.7,\"#b8e186\"],[0.8,\"#7fbc41\"],[0.9,\"#4d9221\"],[1,\"#276419\"]]},\"xaxis\":{\"gridcolor\":\"white\",\"linecolor\":\"white\",\"ticks\":\"\",\"title\":{\"standoff\":15},\"zerolinecolor\":\"white\",\"automargin\":true,\"zerolinewidth\":2},\"yaxis\":{\"gridcolor\":\"white\",\"linecolor\":\"white\",\"ticks\":\"\",\"title\":{\"standoff\":15},\"zerolinecolor\":\"white\",\"automargin\":true,\"zerolinewidth\":2},\"scene\":{\"xaxis\":{\"backgroundcolor\":\"#E5ECF6\",\"gridcolor\":\"white\",\"linecolor\":\"white\",\"showbackground\":true,\"ticks\":\"\",\"zerolinecolor\":\"white\",\"gridwidth\":2},\"yaxis\":{\"backgroundcolor\":\"#E5ECF6\",\"gridcolor\":\"white\",\"linecolor\":\"white\",\"showbackground\":true,\"ticks\":\"\",\"zerolinecolor\":\"white\",\"gridwidth\":2},\"zaxis\":{\"backgroundcolor\":\"#E5ECF6\",\"gridcolor\":\"white\",\"linecolor\":\"white\",\"showbackground\":true,\"ticks\":\"\",\"zerolinecolor\":\"white\",\"gridwidth\":2}},\"shapedefaults\":{\"line\":{\"color\":\"#2a3f5f\"}},\"annotationdefaults\":{\"arrowcolor\":\"#2a3f5f\",\"arrowhead\":0,\"arrowwidth\":1},\"geo\":{\"bgcolor\":\"white\",\"landcolor\":\"#E5ECF6\",\"subunitcolor\":\"white\",\"showland\":true,\"showlakes\":true,\"lakecolor\":\"white\"},\"title\":{\"x\":0.05},\"mapbox\":{\"style\":\"light\"}}},\"xaxis\":{\"anchor\":\"y\",\"domain\":[0.0,1.0],\"title\":{\"text\":\"Qualidade do vinho\"}},\"yaxis\":{\"anchor\":\"x\",\"domain\":[0.0,1.0],\"title\":{\"text\":\"density\"}},\"legend\":{\"tracegroupgap\":0},\"margin\":{\"t\":60},\"width\":500,\"title\":{\"text\":\"Correla\\u00e7\\u00e3o\"}},                        {\"responsive\": true}                    ).then(function(){\n",
              "                            \n",
              "var gd = document.getElementById('5744e3e0-7b24-4daf-a5c2-ce7c41a2b473');\n",
              "var x = new MutationObserver(function (mutations, observer) {{\n",
              "        var display = window.getComputedStyle(gd).display;\n",
              "        if (!display || display === 'none') {{\n",
              "            console.log([gd, 'removed!']);\n",
              "            Plotly.purge(gd);\n",
              "            observer.disconnect();\n",
              "        }}\n",
              "}});\n",
              "\n",
              "// Listen for the removal of the full notebook cells\n",
              "var notebookContainer = gd.closest('#notebook-container');\n",
              "if (notebookContainer) {{\n",
              "    x.observe(notebookContainer, {childList: true});\n",
              "}}\n",
              "\n",
              "// Listen for the clearing of the current output cell\n",
              "var outputEl = gd.closest('.output');\n",
              "if (outputEl) {{\n",
              "    x.observe(outputEl, {childList: true});\n",
              "}}\n",
              "\n",
              "                        })                };                            </script>        </div>\n",
              "</body>\n",
              "</html>"
            ]
          },
          "metadata": {}
        },
        {
          "output_type": "display_data",
          "data": {
            "text/html": [
              "<html>\n",
              "<head><meta charset=\"utf-8\" /></head>\n",
              "<body>\n",
              "    <div>            <script src=\"https://cdnjs.cloudflare.com/ajax/libs/mathjax/2.7.5/MathJax.js?config=TeX-AMS-MML_SVG\"></script><script type=\"text/javascript\">if (window.MathJax && window.MathJax.Hub && window.MathJax.Hub.Config) {window.MathJax.Hub.Config({SVG: {font: \"STIX-Web\"}});}</script>                <script type=\"text/javascript\">window.PlotlyConfig = {MathJaxConfig: 'local'};</script>\n",
              "        <script src=\"https://cdn.plot.ly/plotly-2.18.2.min.js\"></script>                <div id=\"50b7766d-9943-4bc0-9031-26b220f4f32f\" class=\"plotly-graph-div\" style=\"height:525px; width:500px;\"></div>            <script type=\"text/javascript\">                                    window.PLOTLYENV=window.PLOTLYENV || {};                                    if (document.getElementById(\"50b7766d-9943-4bc0-9031-26b220f4f32f\")) {                    Plotly.newPlot(                        \"50b7766d-9943-4bc0-9031-26b220f4f32f\",                        [{\"hovertemplate\":\"quality=%{x}<br>pH=%{y}<extra></extra>\",\"legendgroup\":\"\",\"marker\":{\"color\":\"#636efa\",\"symbol\":\"circle\",\"line\":{\"width\":2},\"size\":12},\"mode\":\"markers\",\"name\":\"\",\"showlegend\":false,\"x\":[5,5,5,6,5,5,5,7,7,5,5,5,5,5,5,5,7,5,4,6,6,5,5,5,6,5,5,5,5,6,5,6,5,6,5,6,6,7,4,5,5,4,6,5,5,4,5,5,5,5,5,6,6,5,6,5,5,5,5,6,5,5,7,5,5,5,5,5,5,6,6,5,5,4,5,5,5,6,5,4,5,5,5,5,6,5,6,5,5,5,5,6,5,5,4,6,5,5,5,6,6,6,6,5,5,5,5,5,6,5,5,5,5,6,5,6,6,6,6,6,5,6,5,5,5,5,5,5,7,5,5,5,5,6,6,5,5,5,5,5,5,5,6,5,6,5,5,5,6,6,6,4,5,5,5,5,5,5,5,6,5,4,6,5,5,5,5,4,6,5,4,6,6,6,5,5,5,6,5,5,5,5,5,5,6,5,5,5,5,5,5,6,5,5,5,5,5,6,7,4,7,5,5,5,6,7,7,5,5,7,6,6,6,5,6,5,5,5,5,5,6,5,5,6,4,6,6,5,6,5,7,6,6,5,6,6,6,6,6,6,5,6,6,7,7,6,5,5,6,6,6,6,5,5,6,5,5,5,5,7,5,4,5,5,5,7,4,8,6,6,6,6,5,5,5,6,6,6,8,7,6,7,5,7,5,5,6,6,7,5,7,5,6,6,6,5,5,5,5,5,6,6,5,5,5,6,5,6,6,6,6,6,6,5,5,6,5,6,7,6,7,5,5,6,6,6,7,5,6,5,6,6,6,5,7,7,6,5,6,7,6,6,6,6,6,5,7,6,6,6,6,6,5,5,6,6,5,7,7,6,5,6,5,5,7,6,7,5,5,7,5,6,6,5,6,7,6,7,6,6,6,6,6,6,5,6,6,6,6,7,8,6,5,5,5,7,5,6,6,5,5,6,6,6,5,6,6,7,6,4,6,5,5,7,5,5,6,5,6,5,7,7,5,7,5,7,6,6,5,6,7,5,6,5,6,5,6,6,6,5,8,6,7,7,7,6,5,5,6,6,6,6,6,7,5,8,5,5,7,3,6,5,5,5,6,5,6,6,6,5,5,6,6,5,6,5,5,6,5,6,5,8,5,5,6,5,5,6,7,6,6,7,7,6,6,8,6,5,8,6,6,7,7,7,7,7,7,6,6,7,5,6,6,7,7,5,6,3,6,5,6,5,5,5,5,5,5,6,6,5,6,5,5,6,6,6,5,6,7,5,5,6,5,6,6,5,6,6,6,6,6,6,6,5,5,5,6,5,6,6,5,5,5,6,6,5,6,6,6,6,6,6,5,4,6,6,4,5,5,6,5,5,5,7,7,6,7,5,8,7,5,6,5,5,5,5,6,6,6,6,4,6,5,6,6,6,7,6,6,6,5,5,6,5,6,5,5,6,5,5,5,5,5,6,5,5,5,5,6,5,6,5,6,4,5,5,5,5,7,6,5,5,5,5,5,7,5,4,7,6,5,5,5,6,5,5,5,7,6,4,6,5,6,6,5,5,6,6,5,6,5,5,5,5,6,5,6,5,5,5,5,6,5,5,5,5,5,5,5,5,3,5,5,5,5,6,6,6,5,6,6,6,6,4,4,5,5,5,6,6,5,5,5,5,5,6,5,5,5,5,5,5,5,5,4,5,6,5,5,6,5,5,5,5,5,5,5,6,5,5,6,5,5,5,5,6,6,5,6,6,5,5,5,5,6,6,6,5,5,5,5,5,6,5,6,6,5,5,6,5,6,5,5,6,6,5,6,6,5,5,6,5,5,5,5,5,5,6,6,5,6,5,6,5,6,5,5,7,6,6,5,5,7,6,6,7,7,7,5,6,5,6,5,4,6,5,6,6,5,5,5,7,5,5,5,5,7,5,8,6,4,6,3,4,5,5,7,7,7,5,7,5,6,5,6,5,5,6,5,5,5,5,5,6,6,7,6,7,7,6,5,6,5,5,5,5,6,6,6,6,6,5,4,7,7,7,4,6,6,5,5,6,6,5,6,5,6,7,6,5,5,5,6,5,6,6,7,6,7,3,5,7,7,7,7,5,5,6,6,6,6,6,6,7,6,6,5,6,6,6,5,6,6,6,5,7,6,4,5,7,5,5,6,5,5,6,6,4,7,5,7,7,7,7,7,7,7,7,7,7,7,7,7,7,6,5,6,6,7,5,6,5,5,6,6,6,7,5,6,5,6,6,7,5,7,5,5,5,7,5,6,5,6,6,5,6,7,5,5,6,5,5,6,5,5,6,7,7,6,6,7,7,7,7,5,7,7,7,7,5,7,6,5,6,6,6,7,6,6,5,6,6,5,6,7,6,6,5,6,7,7,7,5,6,6,7,7,5,7,6,5,6,6,7,6,6,6,5,6,6,5,5,5,7,6,6,7,5,7,7,6,8,6,6,6,6,7,7,7,5,7,5,6,6,5,7,6,5,5,7,6,7,6,6,6,5,7,6,7,7,8,6,6,7,6,5,6,5,7,5,6,6,6,6,6,5,6,7,5,6,6,7,6,6,6,6,6,6,6,5,8,6,6,6,4,7,6,6,5,6,6,5,7,7,7,6,6,6,5,6,6,6,6,6,5,6,6,7,6,6,7,6,5,6,6,5,7,7,6,5,7,6,7,5,5,5,5,7,6,6,6,6,6,6,6,6,4,7,5,6,6,5,6,5,5,6,5,6,5,4,6,5,7,5,6,6,6,6,6,6,6,7,8,5,7,7,7,5,7,7,6,5,6,6,6,6,6,6,6,6,6,6,6,6,6,5,5,5,7,5,6,5,5,4,6,4,6,6,4,4,5,5,6,5,6,5,5,5,6,6,6,5,5,5,5,5,5,6,6,6,5,4,5,4,6,6,6,6,6,8,6,6,5,5,6,6,4,6,6,7,6,6,6,6,5,5,6,5,5,5,5,6,6,4,6,5,5,6,6,3,6,6,6,5,5,5,5,4,5,5,5,6,5,6,6,6,6,6,6,6,5,6,5,7,6,6,6,6,5,6,6,5,6,5,5,6,5,5,5,6,6,6,6,6,5,6,5,5,5,5,5,6,5,5,5,5,5,6,5,6,5,5,6,4,6,5,5,6,6,4,5,6,5,5,3,5,5,6,6,6,6,5,5,5,5,5,5,5,5,5,6,5,5,5,5,6,5,5,7,6,5,5,6,8,6,7,6,6,7,6,6,6,6,5,5,5,5,7,5,5,5,5,6,4,6,6,6,5,5,5,5,6,6,7,6,6,5,5,5,6,7,6,5,5,6,6,5,5,5,8,7,7,7,5,6,6,6,5,5,7,6,4,6,6,5,5,7,4,7,3,5,5,6,5,5,7,5,7,3,5,4,5,4,5,4,5,5,5,5,6,6,5,5,5,7,6,5,6,6,6,5,5,5,6,6,3,6,6,6,5,6,5,6,6,6,6,5,6,5,5,6,4,5,5,6,5,6,6,6,6,6,5,6,5,7,6,6,6,5,5,6,7,6,6,7,6,5,5,5,8,5,5,6,5,6,7,5,6,5,5,5,5,5,5,5,6,6,5,5,6,6,6,5,6,6,6,6,6,6,5,6,5,5,5,7,6,6,6,6,5,6,6,6,6,5,6,6,5,6],\"xaxis\":\"x\",\"y\":[3.51,3.2,3.26,3.16,3.51,3.51,3.3,3.39,3.36,3.35,3.28,3.35,3.58,3.26,3.16,3.17,3.3,3.11,3.38,3.04,3.39,3.52,3.17,3.17,3.43,3.34,3.28,3.17,3.47,3.38,3.35,3.46,3.17,3.45,3.38,3.4,3.42,3.23,3.5,3.33,3.33,3.26,3.21,3.3,3.48,3.9,3.25,3.25,3.34,3.32,3.15,3.4,3.39,3.2,3.17,3.34,3.04,3.26,3.43,3.41,3.44,3.21,3.38,3.39,3.41,3.41,3.42,3.44,3.28,3.34,3.32,3.32,3.31,3.31,3.28,3.54,3.54,3.52,3.38,3.16,3.41,3.13,3.36,3.16,3.44,3.41,2.93,3.39,3.14,3.48,3.23,2.93,2.93,3.39,3.75,3.85,3.45,3.25,3.39,3.3,3.4,3.31,3.3,3.29,3.33,3.29,3.08,3.46,3.37,3.21,3.19,3.15,3.15,3.32,3.19,3.07,3.39,3.37,3.21,3.34,3.3,3.21,3.49,3.44,3.39,3.16,3.53,3.54,3.42,3.42,3.24,3.63,3.63,3.4,3.22,3.19,3.23,3.48,3.33,3.32,3.19,3.23,3.68,3.34,3.68,3.17,3.54,3.11,3.42,3.53,3.33,2.74,3.35,3.35,3.42,3.42,3.42,3.42,3.48,3.59,3.2,3.17,3.33,3.37,3.37,3.19,3.34,3.37,3.47,3.0,3.36,3.29,3.29,3.42,3.33,3.35,3.33,3.58,3.48,3.19,3.19,3.12,3.44,3.54,3.52,3.26,3.34,3.39,3.2,3.2,3.23,3.57,3.28,3.28,3.28,3.25,3.46,3.11,3.57,3.51,3.22,3.04,3.36,3.34,3.34,3.2,3.2,3.29,3.22,3.31,3.3,3.35,3.21,3.3,3.24,3.34,3.14,3.36,3.39,3.3,3.34,3.15,3.42,3.28,3.31,3.37,3.04,3.39,3.37,3.46,3.54,3.37,3.34,3.46,3.32,3.37,3.37,3.37,3.37,3.32,3.0,3.14,3.08,3.07,3.07,3.61,3.38,3.2,3.35,3.61,3.22,3.47,3.17,3.23,3.47,3.26,3.22,3.49,3.06,3.36,3.29,3.35,3.34,3.28,3.08,3.2,3.6,3.35,3.69,3.28,3.36,3.28,3.22,3.31,3.38,3.36,3.69,3.28,3.23,3.38,3.12,3.25,3.36,3.38,3.31,3.31,3.1,3.37,3.34,3.2,3.34,3.3,3.22,3.41,3.05,3.05,3.16,3.67,3.67,3.68,3.38,3.22,3.51,3.39,3.2,3.12,3.36,3.19,3.19,3.41,3.12,3.27,3.32,3.3,3.39,3.42,3.3,3.3,3.37,3.3,3.37,3.24,3.29,3.28,3.16,3.16,3.05,3.28,3.16,3.18,3.23,3.23,3.22,3.13,3.34,3.17,3.35,3.31,3.16,3.11,3.12,3.21,3.3,3.3,3.12,3.6,3.58,3.02,3.11,3.36,3.28,3.35,3.27,3.18,3.25,3.55,3.26,3.24,3.15,3.17,3.19,3.37,3.05,2.99,3.07,3.26,3.07,3.16,3.18,3.2,3.57,3.32,3.32,3.05,3.01,3.01,3.26,3.2,3.11,3.31,3.21,3.06,3.21,3.21,3.42,3.43,3.41,3.31,3.43,3.19,3.56,3.06,3.18,3.16,3.03,3.22,3.47,3.18,3.18,3.1,3.47,3.29,3.1,3.15,3.26,3.36,3.24,3.18,3.19,3.05,3.38,3.38,3.27,3.27,3.26,3.32,3.26,3.44,3.24,3.62,3.28,3.52,3.36,3.15,3.36,3.52,3.49,3.26,3.24,3.1,3.15,3.25,3.0,3.16,3.15,3.16,3.26,3.17,3.15,3.08,2.88,3.06,2.95,3.23,3.57,3.23,3.1,3.22,3.2,3.1,3.1,3.06,3.44,3.26,3.5,3.22,3.37,3.28,3.26,3.25,3.35,3.26,3.18,3.08,2.98,3.48,3.16,3.32,3.17,3.2,3.05,3.2,3.15,3.26,3.2,3.14,3.28,3.18,3.14,3.19,3.12,3.15,3.04,3.04,3.06,3.17,3.17,3.17,3.32,3.34,3.31,3.34,3.32,3.48,3.44,3.15,3.43,3.32,3.15,3.48,3.43,3.17,3.17,3.18,3.21,3.16,3.25,3.17,3.18,3.04,3.02,3.18,3.03,3.09,3.09,3.31,3.25,3.16,3.22,3.36,3.42,3.48,3.38,3.22,3.23,3.24,3.36,3.39,3.34,3.09,3.41,3.16,3.16,3.22,3.28,3.41,3.09,3.37,3.2,3.22,3.26,3.21,3.12,3.06,2.86,3.08,3.45,3.26,3.12,3.27,3.33,3.19,3.12,3.74,2.92,2.92,3.07,2.92,3.07,3.3,3.14,3.23,3.08,3.31,3.3,3.14,3.32,3.32,3.31,3.57,3.32,3.57,3.14,3.3,3.19,3.2,3.34,3.3,3.29,3.14,3.19,3.19,3.19,2.98,3.3,3.47,3.12,3.26,3.72,3.05,3.35,3.12,3.35,3.29,3.4,3.27,3.04,3.09,3.2,3.0,3.26,3.1,3.3,3.1,3.17,3.31,3.34,3.31,3.32,3.56,3.39,2.98,3.32,3.26,2.87,3.5,3.5,3.03,3.13,3.09,3.27,3.28,3.13,3.49,3.46,3.46,3.36,3.36,3.27,3.21,3.27,3.25,3.32,3.43,3.27,3.27,3.24,3.24,3.35,3.18,3.39,3.46,3.39,3.46,3.39,3.37,3.4,3.32,3.33,3.16,2.89,3.41,2.98,3.12,3.08,3.14,2.89,2.92,3.32,3.41,3.32,3.31,3.36,3.04,3.03,3.14,3.18,2.94,3.15,2.94,3.26,3.2,3.15,3.2,3.08,3.26,3.08,3.4,3.48,3.13,3.06,3.21,3.33,3.37,3.25,3.37,3.44,3.28,3.4,3.3,3.63,3.48,3.03,3.32,3.31,3.9,3.47,3.47,3.31,3.11,3.08,3.47,3.47,3.32,3.29,3.37,3.4,3.37,3.34,3.27,3.06,3.38,3.36,3.34,3.28,3.29,3.34,3.21,3.22,3.46,3.22,3.1,3.21,2.94,3.54,3.29,3.43,3.46,3.46,3.61,3.17,3.44,3.39,3.55,3.48,3.26,3.26,3.5,3.1,3.35,3.45,3.21,3.46,3.13,3.13,3.52,3.3,3.3,3.52,3.52,3.29,3.29,3.39,3.29,3.09,3.51,3.6,3.25,3.25,3.19,3.23,3.25,3.31,3.25,3.31,3.31,3.14,3.45,3.55,3.39,3.55,3.28,3.27,3.3,3.31,3.43,3.4,3.4,3.36,3.5,3.31,3.66,3.36,3.66,3.55,3.21,3.21,3.18,3.18,3.09,3.33,3.23,3.48,3.38,3.17,2.99,3.1,3.24,3.29,3.29,3.25,3.23,3.56,3.24,3.26,3.33,3.27,3.33,3.26,3.22,3.3,3.09,3.24,3.44,3.21,3.24,3.23,3.28,3.29,3.28,3.34,3.71,3.61,3.61,3.24,3.36,3.4,3.36,3.46,3.56,3.38,3.56,3.38,3.38,3.32,3.39,3.26,3.26,3.24,3.46,3.24,3.45,3.23,3.28,3.18,3.59,3.59,3.5,3.59,3.58,3.28,3.28,3.22,3.47,3.47,3.51,3.47,3.4,3.15,3.4,3.51,3.66,3.24,3.51,3.51,3.51,3.41,3.4,3.4,3.44,3.41,3.53,3.43,3.23,3.12,3.31,3.4,3.41,3.22,3.53,3.15,3.48,3.22,3.53,3.22,3.34,3.33,3.15,3.43,3.22,3.44,3.53,3.22,3.53,3.53,3.42,3.31,3.42,3.31,3.48,3.4,3.58,3.58,3.41,3.41,3.23,3.39,3.59,3.43,3.29,3.23,3.18,3.33,3.27,3.29,3.27,3.62,3.38,3.3,3.38,3.24,3.3,3.38,3.38,3.18,3.47,3.47,3.2,3.18,3.3,3.69,3.48,3.45,3.48,3.69,3.39,3.39,3.07,3.34,3.61,3.36,3.19,3.22,3.24,3.27,3.14,3.29,3.26,3.41,3.41,3.41,3.26,3.31,3.2,3.44,3.36,3.31,3.29,3.47,3.36,3.16,3.27,3.38,3.15,3.16,3.34,3.13,3.13,3.2,3.46,3.33,3.33,3.22,3.52,3.3,3.44,3.44,3.15,3.28,3.13,3.32,3.25,3.34,3.32,3.13,3.45,3.19,3.44,3.16,3.14,3.16,3.45,3.36,3.45,3.15,3.39,3.71,3.71,3.12,3.47,3.44,3.26,3.26,3.36,3.25,3.36,3.26,3.26,3.23,3.18,3.25,3.17,3.23,3.38,3.22,3.06,3.27,2.89,2.89,3.53,3.2,3.2,3.35,3.27,3.32,3.33,3.41,3.49,3.37,3.32,3.42,3.35,3.36,3.3,3.2,3.17,3.22,3.35,3.24,3.33,3.58,3.38,3.33,3.29,3.36,3.32,3.31,3.49,3.27,3.27,3.49,3.03,3.56,3.38,3.13,3.13,3.21,3.15,3.19,3.21,3.14,3.21,3.3,3.22,3.28,3.29,3.4,3.02,3.02,3.31,3.18,3.2,3.4,3.31,3.2,3.44,3.15,3.27,3.27,3.01,3.16,3.01,3.42,3.33,3.42,3.12,3.38,3.29,3.02,3.02,2.98,3.35,3.43,3.33,3.35,3.15,3.35,3.2,3.15,3.2,3.11,3.35,3.45,3.35,3.28,3.41,3.21,3.27,3.36,3.17,3.25,3.78,3.29,3.12,3.49,3.38,3.38,3.38,3.3,3.52,3.2,3.44,3.45,3.12,3.62,3.14,3.39,3.51,3.22,3.21,3.18,3.32,3.38,3.37,3.3,3.38,3.22,3.22,3.14,3.34,3.41,3.27,3.3,3.61,3.43,3.53,3.28,3.21,3.39,3.23,3.3,3.46,3.15,3.23,3.59,3.15,3.33,3.46,3.42,3.16,3.14,3.21,3.14,3.29,3.29,3.01,2.94,3.32,3.21,3.32,3.2,3.42,3.27,3.46,3.46,3.61,3.58,3.35,3.68,3.27,3.27,3.19,3.38,3.29,3.36,3.33,3.52,3.33,3.36,3.3,3.28,3.56,3.52,3.56,3.22,3.52,3.21,3.16,3.15,3.21,3.16,3.27,3.35,3.14,3.4,3.4,3.4,3.35,3.4,3.45,3.35,3.32,3.35,3.15,3.1,3.26,3.29,3.23,3.24,3.2,3.28,3.28,3.26,3.23,3.07,3.15,3.02,3.27,3.68,3.4,3.37,3.38,3.4,3.23,3.39,3.3,3.26,3.39,3.38,3.45,3.1,3.16,3.22,3.37,3.33,3.49,3.12,3.49,3.41,3.4,3.4,3.28,3.45,3.43,3.4,3.47,3.1,3.32,3.44,3.44,3.02,3.59,3.15,3.37,3.38,3.38,3.38,3.1,3.47,3.5,3.7,3.38,3.5,3.1,3.24,3.24,3.28,3.35,3.24,3.14,3.37,3.37,3.33,3.26,3.39,3.15,3.35,3.22,3.3,3.3,3.36,3.29,3.62,3.34,3.29,3.2,3.2,3.35,3.45,3.5,3.78,3.6,3.3,3.36,3.12,3.3,3.29,3.41,3.29,3.28,3.3,3.33,3.34,3.4,3.4,3.26,4.01,3.18,3.26,2.9,3.26,4.01,3.18,3.18,3.39,3.39,3.39,3.39,3.34,3.29,3.29,3.26,3.09,3.18,3.39,3.38,3.36,3.36,3.36,3.36,3.36,3.36,3.37,3.36,3.09,3.25,3.52,3.34,3.34,3.41,3.34,3.32,3.37,3.37,3.35,3.36,3.36,3.6,3.28,3.07,3.24,3.36,3.07,3.29,3.46,3.18,3.24,3.25,3.27,3.33,3.0,3.21,3.0,3.24,3.32,3.26,3.11,3.71,3.29,3.36,3.36,3.38,3.3,3.3,3.19,3.19,3.3,3.3,3.35,3.1,3.58,3.37,3.17,3.3,3.32,3.31,3.31,3.28,3.52,3.42,3.25,3.25,3.44,3.23,3.43,3.28,3.22,3.54,3.27,3.54,3.5,3.56,3.22,3.04,3.2,3.56,3.2,3.35,3.16,3.27,3.16,3.34,3.39,3.5,3.26,3.26,3.41,3.3,3.31,3.33,3.37,3.26,3.48,3.42,3.18,3.18,3.15,3.53,3.41,3.32,3.23,3.16,3.4,3.38,3.32,3.16,3.4,3.4,3.4,3.23,3.23,3.33,3.35,3.41,3.21,3.5,3.3,3.41,3.39,3.32,3.41,3.59,3.36,3.34,3.41,3.41,3.3,3.52,3.3,3.31,2.88,3.43,3.38,3.38,3.16,3.54,3.16,3.54,3.4,3.39,3.66,3.39,3.33,3.35,3.53,3.37,3.38,3.52,3.72,3.44,3.39,3.72,3.57,3.26,3.42,3.35,3.26,3.45,3.53,3.45,3.26,3.16,3.31,3.51,3.36,3.55,3.51,3.36,3.38,3.28,3.47,3.44,3.53,3.33,3.53,3.53,3.42,3.38,3.32,3.44,3.38,3.39,3.42,3.34,3.39,3.33,3.3,3.29,3.31,3.42,3.42,3.6,3.21,3.39,3.42,3.36,3.6,3.5,3.57,3.46,3.56,3.4,3.3,3.25,3.17,3.36,3.36,3.55,3.1,3.24,3.45,3.44,3.51,3.41,3.54,3.44,3.53,3.54,3.22,3.21,3.21,3.21,3.29,3.29,3.29,3.39,3.34,3.29,3.34,3.48,3.37,3.44,3.33,3.58,3.39,3.26,3.3,3.54,3.42,3.54,3.36,3.54,3.57,3.33,3.29,3.3,3.34,3.55,3.27,3.29,3.32,3.67,3.42,3.42,3.45,3.52,3.42,3.57,3.39],\"yaxis\":\"y\",\"type\":\"scattergl\"}],                        {\"template\":{\"data\":{\"histogram2dcontour\":[{\"type\":\"histogram2dcontour\",\"colorbar\":{\"outlinewidth\":0,\"ticks\":\"\"},\"colorscale\":[[0.0,\"#0d0887\"],[0.1111111111111111,\"#46039f\"],[0.2222222222222222,\"#7201a8\"],[0.3333333333333333,\"#9c179e\"],[0.4444444444444444,\"#bd3786\"],[0.5555555555555556,\"#d8576b\"],[0.6666666666666666,\"#ed7953\"],[0.7777777777777778,\"#fb9f3a\"],[0.8888888888888888,\"#fdca26\"],[1.0,\"#f0f921\"]]}],\"choropleth\":[{\"type\":\"choropleth\",\"colorbar\":{\"outlinewidth\":0,\"ticks\":\"\"}}],\"histogram2d\":[{\"type\":\"histogram2d\",\"colorbar\":{\"outlinewidth\":0,\"ticks\":\"\"},\"colorscale\":[[0.0,\"#0d0887\"],[0.1111111111111111,\"#46039f\"],[0.2222222222222222,\"#7201a8\"],[0.3333333333333333,\"#9c179e\"],[0.4444444444444444,\"#bd3786\"],[0.5555555555555556,\"#d8576b\"],[0.6666666666666666,\"#ed7953\"],[0.7777777777777778,\"#fb9f3a\"],[0.8888888888888888,\"#fdca26\"],[1.0,\"#f0f921\"]]}],\"heatmap\":[{\"type\":\"heatmap\",\"colorbar\":{\"outlinewidth\":0,\"ticks\":\"\"},\"colorscale\":[[0.0,\"#0d0887\"],[0.1111111111111111,\"#46039f\"],[0.2222222222222222,\"#7201a8\"],[0.3333333333333333,\"#9c179e\"],[0.4444444444444444,\"#bd3786\"],[0.5555555555555556,\"#d8576b\"],[0.6666666666666666,\"#ed7953\"],[0.7777777777777778,\"#fb9f3a\"],[0.8888888888888888,\"#fdca26\"],[1.0,\"#f0f921\"]]}],\"heatmapgl\":[{\"type\":\"heatmapgl\",\"colorbar\":{\"outlinewidth\":0,\"ticks\":\"\"},\"colorscale\":[[0.0,\"#0d0887\"],[0.1111111111111111,\"#46039f\"],[0.2222222222222222,\"#7201a8\"],[0.3333333333333333,\"#9c179e\"],[0.4444444444444444,\"#bd3786\"],[0.5555555555555556,\"#d8576b\"],[0.6666666666666666,\"#ed7953\"],[0.7777777777777778,\"#fb9f3a\"],[0.8888888888888888,\"#fdca26\"],[1.0,\"#f0f921\"]]}],\"contourcarpet\":[{\"type\":\"contourcarpet\",\"colorbar\":{\"outlinewidth\":0,\"ticks\":\"\"}}],\"contour\":[{\"type\":\"contour\",\"colorbar\":{\"outlinewidth\":0,\"ticks\":\"\"},\"colorscale\":[[0.0,\"#0d0887\"],[0.1111111111111111,\"#46039f\"],[0.2222222222222222,\"#7201a8\"],[0.3333333333333333,\"#9c179e\"],[0.4444444444444444,\"#bd3786\"],[0.5555555555555556,\"#d8576b\"],[0.6666666666666666,\"#ed7953\"],[0.7777777777777778,\"#fb9f3a\"],[0.8888888888888888,\"#fdca26\"],[1.0,\"#f0f921\"]]}],\"surface\":[{\"type\":\"surface\",\"colorbar\":{\"outlinewidth\":0,\"ticks\":\"\"},\"colorscale\":[[0.0,\"#0d0887\"],[0.1111111111111111,\"#46039f\"],[0.2222222222222222,\"#7201a8\"],[0.3333333333333333,\"#9c179e\"],[0.4444444444444444,\"#bd3786\"],[0.5555555555555556,\"#d8576b\"],[0.6666666666666666,\"#ed7953\"],[0.7777777777777778,\"#fb9f3a\"],[0.8888888888888888,\"#fdca26\"],[1.0,\"#f0f921\"]]}],\"mesh3d\":[{\"type\":\"mesh3d\",\"colorbar\":{\"outlinewidth\":0,\"ticks\":\"\"}}],\"scatter\":[{\"fillpattern\":{\"fillmode\":\"overlay\",\"size\":10,\"solidity\":0.2},\"type\":\"scatter\"}],\"parcoords\":[{\"type\":\"parcoords\",\"line\":{\"colorbar\":{\"outlinewidth\":0,\"ticks\":\"\"}}}],\"scatterpolargl\":[{\"type\":\"scatterpolargl\",\"marker\":{\"colorbar\":{\"outlinewidth\":0,\"ticks\":\"\"}}}],\"bar\":[{\"error_x\":{\"color\":\"#2a3f5f\"},\"error_y\":{\"color\":\"#2a3f5f\"},\"marker\":{\"line\":{\"color\":\"#E5ECF6\",\"width\":0.5},\"pattern\":{\"fillmode\":\"overlay\",\"size\":10,\"solidity\":0.2}},\"type\":\"bar\"}],\"scattergeo\":[{\"type\":\"scattergeo\",\"marker\":{\"colorbar\":{\"outlinewidth\":0,\"ticks\":\"\"}}}],\"scatterpolar\":[{\"type\":\"scatterpolar\",\"marker\":{\"colorbar\":{\"outlinewidth\":0,\"ticks\":\"\"}}}],\"histogram\":[{\"marker\":{\"pattern\":{\"fillmode\":\"overlay\",\"size\":10,\"solidity\":0.2}},\"type\":\"histogram\"}],\"scattergl\":[{\"type\":\"scattergl\",\"marker\":{\"colorbar\":{\"outlinewidth\":0,\"ticks\":\"\"}}}],\"scatter3d\":[{\"type\":\"scatter3d\",\"line\":{\"colorbar\":{\"outlinewidth\":0,\"ticks\":\"\"}},\"marker\":{\"colorbar\":{\"outlinewidth\":0,\"ticks\":\"\"}}}],\"scattermapbox\":[{\"type\":\"scattermapbox\",\"marker\":{\"colorbar\":{\"outlinewidth\":0,\"ticks\":\"\"}}}],\"scatterternary\":[{\"type\":\"scatterternary\",\"marker\":{\"colorbar\":{\"outlinewidth\":0,\"ticks\":\"\"}}}],\"scattercarpet\":[{\"type\":\"scattercarpet\",\"marker\":{\"colorbar\":{\"outlinewidth\":0,\"ticks\":\"\"}}}],\"carpet\":[{\"aaxis\":{\"endlinecolor\":\"#2a3f5f\",\"gridcolor\":\"white\",\"linecolor\":\"white\",\"minorgridcolor\":\"white\",\"startlinecolor\":\"#2a3f5f\"},\"baxis\":{\"endlinecolor\":\"#2a3f5f\",\"gridcolor\":\"white\",\"linecolor\":\"white\",\"minorgridcolor\":\"white\",\"startlinecolor\":\"#2a3f5f\"},\"type\":\"carpet\"}],\"table\":[{\"cells\":{\"fill\":{\"color\":\"#EBF0F8\"},\"line\":{\"color\":\"white\"}},\"header\":{\"fill\":{\"color\":\"#C8D4E3\"},\"line\":{\"color\":\"white\"}},\"type\":\"table\"}],\"barpolar\":[{\"marker\":{\"line\":{\"color\":\"#E5ECF6\",\"width\":0.5},\"pattern\":{\"fillmode\":\"overlay\",\"size\":10,\"solidity\":0.2}},\"type\":\"barpolar\"}],\"pie\":[{\"automargin\":true,\"type\":\"pie\"}]},\"layout\":{\"autotypenumbers\":\"strict\",\"colorway\":[\"#636efa\",\"#EF553B\",\"#00cc96\",\"#ab63fa\",\"#FFA15A\",\"#19d3f3\",\"#FF6692\",\"#B6E880\",\"#FF97FF\",\"#FECB52\"],\"font\":{\"color\":\"#2a3f5f\"},\"hovermode\":\"closest\",\"hoverlabel\":{\"align\":\"left\"},\"paper_bgcolor\":\"white\",\"plot_bgcolor\":\"#E5ECF6\",\"polar\":{\"bgcolor\":\"#E5ECF6\",\"angularaxis\":{\"gridcolor\":\"white\",\"linecolor\":\"white\",\"ticks\":\"\"},\"radialaxis\":{\"gridcolor\":\"white\",\"linecolor\":\"white\",\"ticks\":\"\"}},\"ternary\":{\"bgcolor\":\"#E5ECF6\",\"aaxis\":{\"gridcolor\":\"white\",\"linecolor\":\"white\",\"ticks\":\"\"},\"baxis\":{\"gridcolor\":\"white\",\"linecolor\":\"white\",\"ticks\":\"\"},\"caxis\":{\"gridcolor\":\"white\",\"linecolor\":\"white\",\"ticks\":\"\"}},\"coloraxis\":{\"colorbar\":{\"outlinewidth\":0,\"ticks\":\"\"}},\"colorscale\":{\"sequential\":[[0.0,\"#0d0887\"],[0.1111111111111111,\"#46039f\"],[0.2222222222222222,\"#7201a8\"],[0.3333333333333333,\"#9c179e\"],[0.4444444444444444,\"#bd3786\"],[0.5555555555555556,\"#d8576b\"],[0.6666666666666666,\"#ed7953\"],[0.7777777777777778,\"#fb9f3a\"],[0.8888888888888888,\"#fdca26\"],[1.0,\"#f0f921\"]],\"sequentialminus\":[[0.0,\"#0d0887\"],[0.1111111111111111,\"#46039f\"],[0.2222222222222222,\"#7201a8\"],[0.3333333333333333,\"#9c179e\"],[0.4444444444444444,\"#bd3786\"],[0.5555555555555556,\"#d8576b\"],[0.6666666666666666,\"#ed7953\"],[0.7777777777777778,\"#fb9f3a\"],[0.8888888888888888,\"#fdca26\"],[1.0,\"#f0f921\"]],\"diverging\":[[0,\"#8e0152\"],[0.1,\"#c51b7d\"],[0.2,\"#de77ae\"],[0.3,\"#f1b6da\"],[0.4,\"#fde0ef\"],[0.5,\"#f7f7f7\"],[0.6,\"#e6f5d0\"],[0.7,\"#b8e186\"],[0.8,\"#7fbc41\"],[0.9,\"#4d9221\"],[1,\"#276419\"]]},\"xaxis\":{\"gridcolor\":\"white\",\"linecolor\":\"white\",\"ticks\":\"\",\"title\":{\"standoff\":15},\"zerolinecolor\":\"white\",\"automargin\":true,\"zerolinewidth\":2},\"yaxis\":{\"gridcolor\":\"white\",\"linecolor\":\"white\",\"ticks\":\"\",\"title\":{\"standoff\":15},\"zerolinecolor\":\"white\",\"automargin\":true,\"zerolinewidth\":2},\"scene\":{\"xaxis\":{\"backgroundcolor\":\"#E5ECF6\",\"gridcolor\":\"white\",\"linecolor\":\"white\",\"showbackground\":true,\"ticks\":\"\",\"zerolinecolor\":\"white\",\"gridwidth\":2},\"yaxis\":{\"backgroundcolor\":\"#E5ECF6\",\"gridcolor\":\"white\",\"linecolor\":\"white\",\"showbackground\":true,\"ticks\":\"\",\"zerolinecolor\":\"white\",\"gridwidth\":2},\"zaxis\":{\"backgroundcolor\":\"#E5ECF6\",\"gridcolor\":\"white\",\"linecolor\":\"white\",\"showbackground\":true,\"ticks\":\"\",\"zerolinecolor\":\"white\",\"gridwidth\":2}},\"shapedefaults\":{\"line\":{\"color\":\"#2a3f5f\"}},\"annotationdefaults\":{\"arrowcolor\":\"#2a3f5f\",\"arrowhead\":0,\"arrowwidth\":1},\"geo\":{\"bgcolor\":\"white\",\"landcolor\":\"#E5ECF6\",\"subunitcolor\":\"white\",\"showland\":true,\"showlakes\":true,\"lakecolor\":\"white\"},\"title\":{\"x\":0.05},\"mapbox\":{\"style\":\"light\"}}},\"xaxis\":{\"anchor\":\"y\",\"domain\":[0.0,1.0],\"title\":{\"text\":\"Qualidade do vinho\"}},\"yaxis\":{\"anchor\":\"x\",\"domain\":[0.0,1.0],\"title\":{\"text\":\"pH\"}},\"legend\":{\"tracegroupgap\":0},\"margin\":{\"t\":60},\"width\":500,\"title\":{\"text\":\"Correla\\u00e7\\u00e3o\"}},                        {\"responsive\": true}                    ).then(function(){\n",
              "                            \n",
              "var gd = document.getElementById('50b7766d-9943-4bc0-9031-26b220f4f32f');\n",
              "var x = new MutationObserver(function (mutations, observer) {{\n",
              "        var display = window.getComputedStyle(gd).display;\n",
              "        if (!display || display === 'none') {{\n",
              "            console.log([gd, 'removed!']);\n",
              "            Plotly.purge(gd);\n",
              "            observer.disconnect();\n",
              "        }}\n",
              "}});\n",
              "\n",
              "// Listen for the removal of the full notebook cells\n",
              "var notebookContainer = gd.closest('#notebook-container');\n",
              "if (notebookContainer) {{\n",
              "    x.observe(notebookContainer, {childList: true});\n",
              "}}\n",
              "\n",
              "// Listen for the clearing of the current output cell\n",
              "var outputEl = gd.closest('.output');\n",
              "if (outputEl) {{\n",
              "    x.observe(outputEl, {childList: true});\n",
              "}}\n",
              "\n",
              "                        })                };                            </script>        </div>\n",
              "</body>\n",
              "</html>"
            ]
          },
          "metadata": {}
        },
        {
          "output_type": "display_data",
          "data": {
            "text/html": [
              "<html>\n",
              "<head><meta charset=\"utf-8\" /></head>\n",
              "<body>\n",
              "    <div>            <script src=\"https://cdnjs.cloudflare.com/ajax/libs/mathjax/2.7.5/MathJax.js?config=TeX-AMS-MML_SVG\"></script><script type=\"text/javascript\">if (window.MathJax && window.MathJax.Hub && window.MathJax.Hub.Config) {window.MathJax.Hub.Config({SVG: {font: \"STIX-Web\"}});}</script>                <script type=\"text/javascript\">window.PlotlyConfig = {MathJaxConfig: 'local'};</script>\n",
              "        <script src=\"https://cdn.plot.ly/plotly-2.18.2.min.js\"></script>                <div id=\"d75b0c88-25cf-4cba-a0d2-ce2758d659f7\" class=\"plotly-graph-div\" style=\"height:525px; width:500px;\"></div>            <script type=\"text/javascript\">                                    window.PLOTLYENV=window.PLOTLYENV || {};                                    if (document.getElementById(\"d75b0c88-25cf-4cba-a0d2-ce2758d659f7\")) {                    Plotly.newPlot(                        \"d75b0c88-25cf-4cba-a0d2-ce2758d659f7\",                        [{\"hovertemplate\":\"quality=%{x}<br>sulphates=%{y}<extra></extra>\",\"legendgroup\":\"\",\"marker\":{\"color\":\"#636efa\",\"symbol\":\"circle\",\"line\":{\"width\":2},\"size\":12},\"mode\":\"markers\",\"name\":\"\",\"showlegend\":false,\"x\":[5,5,5,6,5,5,5,7,7,5,5,5,5,5,5,5,7,5,4,6,6,5,5,5,6,5,5,5,5,6,5,6,5,6,5,6,6,7,4,5,5,4,6,5,5,4,5,5,5,5,5,6,6,5,6,5,5,5,5,6,5,5,7,5,5,5,5,5,5,6,6,5,5,4,5,5,5,6,5,4,5,5,5,5,6,5,6,5,5,5,5,6,5,5,4,6,5,5,5,6,6,6,6,5,5,5,5,5,6,5,5,5,5,6,5,6,6,6,6,6,5,6,5,5,5,5,5,5,7,5,5,5,5,6,6,5,5,5,5,5,5,5,6,5,6,5,5,5,6,6,6,4,5,5,5,5,5,5,5,6,5,4,6,5,5,5,5,4,6,5,4,6,6,6,5,5,5,6,5,5,5,5,5,5,6,5,5,5,5,5,5,6,5,5,5,5,5,6,7,4,7,5,5,5,6,7,7,5,5,7,6,6,6,5,6,5,5,5,5,5,6,5,5,6,4,6,6,5,6,5,7,6,6,5,6,6,6,6,6,6,5,6,6,7,7,6,5,5,6,6,6,6,5,5,6,5,5,5,5,7,5,4,5,5,5,7,4,8,6,6,6,6,5,5,5,6,6,6,8,7,6,7,5,7,5,5,6,6,7,5,7,5,6,6,6,5,5,5,5,5,6,6,5,5,5,6,5,6,6,6,6,6,6,5,5,6,5,6,7,6,7,5,5,6,6,6,7,5,6,5,6,6,6,5,7,7,6,5,6,7,6,6,6,6,6,5,7,6,6,6,6,6,5,5,6,6,5,7,7,6,5,6,5,5,7,6,7,5,5,7,5,6,6,5,6,7,6,7,6,6,6,6,6,6,5,6,6,6,6,7,8,6,5,5,5,7,5,6,6,5,5,6,6,6,5,6,6,7,6,4,6,5,5,7,5,5,6,5,6,5,7,7,5,7,5,7,6,6,5,6,7,5,6,5,6,5,6,6,6,5,8,6,7,7,7,6,5,5,6,6,6,6,6,7,5,8,5,5,7,3,6,5,5,5,6,5,6,6,6,5,5,6,6,5,6,5,5,6,5,6,5,8,5,5,6,5,5,6,7,6,6,7,7,6,6,8,6,5,8,6,6,7,7,7,7,7,7,6,6,7,5,6,6,7,7,5,6,3,6,5,6,5,5,5,5,5,5,6,6,5,6,5,5,6,6,6,5,6,7,5,5,6,5,6,6,5,6,6,6,6,6,6,6,5,5,5,6,5,6,6,5,5,5,6,6,5,6,6,6,6,6,6,5,4,6,6,4,5,5,6,5,5,5,7,7,6,7,5,8,7,5,6,5,5,5,5,6,6,6,6,4,6,5,6,6,6,7,6,6,6,5,5,6,5,6,5,5,6,5,5,5,5,5,6,5,5,5,5,6,5,6,5,6,4,5,5,5,5,7,6,5,5,5,5,5,7,5,4,7,6,5,5,5,6,5,5,5,7,6,4,6,5,6,6,5,5,6,6,5,6,5,5,5,5,6,5,6,5,5,5,5,6,5,5,5,5,5,5,5,5,3,5,5,5,5,6,6,6,5,6,6,6,6,4,4,5,5,5,6,6,5,5,5,5,5,6,5,5,5,5,5,5,5,5,4,5,6,5,5,6,5,5,5,5,5,5,5,6,5,5,6,5,5,5,5,6,6,5,6,6,5,5,5,5,6,6,6,5,5,5,5,5,6,5,6,6,5,5,6,5,6,5,5,6,6,5,6,6,5,5,6,5,5,5,5,5,5,6,6,5,6,5,6,5,6,5,5,7,6,6,5,5,7,6,6,7,7,7,5,6,5,6,5,4,6,5,6,6,5,5,5,7,5,5,5,5,7,5,8,6,4,6,3,4,5,5,7,7,7,5,7,5,6,5,6,5,5,6,5,5,5,5,5,6,6,7,6,7,7,6,5,6,5,5,5,5,6,6,6,6,6,5,4,7,7,7,4,6,6,5,5,6,6,5,6,5,6,7,6,5,5,5,6,5,6,6,7,6,7,3,5,7,7,7,7,5,5,6,6,6,6,6,6,7,6,6,5,6,6,6,5,6,6,6,5,7,6,4,5,7,5,5,6,5,5,6,6,4,7,5,7,7,7,7,7,7,7,7,7,7,7,7,7,7,6,5,6,6,7,5,6,5,5,6,6,6,7,5,6,5,6,6,7,5,7,5,5,5,7,5,6,5,6,6,5,6,7,5,5,6,5,5,6,5,5,6,7,7,6,6,7,7,7,7,5,7,7,7,7,5,7,6,5,6,6,6,7,6,6,5,6,6,5,6,7,6,6,5,6,7,7,7,5,6,6,7,7,5,7,6,5,6,6,7,6,6,6,5,6,6,5,5,5,7,6,6,7,5,7,7,6,8,6,6,6,6,7,7,7,5,7,5,6,6,5,7,6,5,5,7,6,7,6,6,6,5,7,6,7,7,8,6,6,7,6,5,6,5,7,5,6,6,6,6,6,5,6,7,5,6,6,7,6,6,6,6,6,6,6,5,8,6,6,6,4,7,6,6,5,6,6,5,7,7,7,6,6,6,5,6,6,6,6,6,5,6,6,7,6,6,7,6,5,6,6,5,7,7,6,5,7,6,7,5,5,5,5,7,6,6,6,6,6,6,6,6,4,7,5,6,6,5,6,5,5,6,5,6,5,4,6,5,7,5,6,6,6,6,6,6,6,7,8,5,7,7,7,5,7,7,6,5,6,6,6,6,6,6,6,6,6,6,6,6,6,5,5,5,7,5,6,5,5,4,6,4,6,6,4,4,5,5,6,5,6,5,5,5,6,6,6,5,5,5,5,5,5,6,6,6,5,4,5,4,6,6,6,6,6,8,6,6,5,5,6,6,4,6,6,7,6,6,6,6,5,5,6,5,5,5,5,6,6,4,6,5,5,6,6,3,6,6,6,5,5,5,5,4,5,5,5,6,5,6,6,6,6,6,6,6,5,6,5,7,6,6,6,6,5,6,6,5,6,5,5,6,5,5,5,6,6,6,6,6,5,6,5,5,5,5,5,6,5,5,5,5,5,6,5,6,5,5,6,4,6,5,5,6,6,4,5,6,5,5,3,5,5,6,6,6,6,5,5,5,5,5,5,5,5,5,6,5,5,5,5,6,5,5,7,6,5,5,6,8,6,7,6,6,7,6,6,6,6,5,5,5,5,7,5,5,5,5,6,4,6,6,6,5,5,5,5,6,6,7,6,6,5,5,5,6,7,6,5,5,6,6,5,5,5,8,7,7,7,5,6,6,6,5,5,7,6,4,6,6,5,5,7,4,7,3,5,5,6,5,5,7,5,7,3,5,4,5,4,5,4,5,5,5,5,6,6,5,5,5,7,6,5,6,6,6,5,5,5,6,6,3,6,6,6,5,6,5,6,6,6,6,5,6,5,5,6,4,5,5,6,5,6,6,6,6,6,5,6,5,7,6,6,6,5,5,6,7,6,6,7,6,5,5,5,8,5,5,6,5,6,7,5,6,5,5,5,5,5,5,5,6,6,5,5,6,6,6,5,6,6,6,6,6,6,5,6,5,5,5,7,6,6,6,6,5,6,6,6,6,5,6,6,5,6],\"xaxis\":\"x\",\"y\":[0.56,0.68,0.65,0.58,0.56,0.56,0.46,0.47,0.57,0.8,0.54,0.8,0.52,1.56,0.88,0.93,0.75,1.28,0.5,1.08,0.53,0.65,0.91,0.53,0.63,0.56,0.59,0.91,0.55,0.59,0.54,0.57,0.66,0.52,0.55,0.55,0.6,0.73,0.48,0.83,0.83,0.51,0.9,1.2,0.52,0.56,0.73,0.58,0.56,0.58,0.74,0.63,0.64,0.56,0.63,0.53,0.63,0.77,0.59,0.54,0.64,0.71,0.62,0.57,0.39,0.39,0.58,0.58,0.79,0.95,0.54,0.48,0.48,0.53,0.82,0.66,0.66,0.55,0.52,1.12,0.56,1.28,0.57,1.14,0.78,0.59,1.95,0.64,1.22,0.53,0.54,1.95,1.98,0.64,0.48,0.6,0.56,0.63,0.56,0.59,0.61,0.56,0.59,0.51,0.48,0.51,1.31,0.79,0.8,0.69,0.93,0.66,0.66,0.67,0.93,0.63,0.61,0.5,0.6,0.54,0.57,0.6,0.52,0.53,0.48,0.7,0.49,0.48,0.92,0.57,0.66,0.63,0.63,0.58,0.55,0.82,0.77,0.64,0.54,0.54,0.82,0.77,0.79,0.58,0.79,0.62,0.52,0.8,0.58,0.61,0.53,2.0,0.54,0.54,0.72,0.71,0.72,0.71,0.5,0.57,0.56,1.08,0.56,0.49,0.49,0.62,0.52,0.48,0.55,1.59,0.33,0.61,0.61,0.57,0.47,0.78,0.47,0.61,0.56,0.59,0.59,1.02,0.52,0.58,0.58,0.53,0.55,0.49,0.55,0.55,0.62,0.62,0.61,0.55,0.55,0.54,0.59,0.97,0.85,0.43,0.82,1.03,0.79,0.55,0.56,0.77,0.77,0.53,0.67,0.88,0.86,0.56,0.67,0.43,0.71,0.76,0.57,0.55,0.54,0.6,0.59,0.57,0.6,0.6,0.57,0.58,1.61,0.63,0.58,0.5,0.62,0.52,0.7,0.5,0.55,0.58,0.58,0.58,0.58,0.55,1.09,0.71,0.49,0.84,0.84,0.96,0.52,0.45,0.48,0.96,0.78,0.7,0.53,0.59,0.7,0.57,0.62,0.67,1.26,0.8,0.65,0.6,0.57,0.67,0.87,0.72,0.72,0.86,0.91,0.97,0.67,0.97,0.78,0.64,0.77,0.67,0.91,0.97,0.82,0.77,0.82,1.08,0.57,0.77,0.71,0.71,0.76,0.7,0.86,0.95,0.86,0.71,0.64,0.6,0.81,0.64,0.52,0.73,0.8,0.71,0.59,0.64,0.72,0.54,0.52,0.59,0.52,0.62,0.63,0.53,0.59,0.54,0.63,0.53,0.68,0.65,0.65,0.64,0.71,0.64,0.71,0.62,0.63,0.7,0.69,0.69,0.74,0.83,0.67,0.62,0.66,0.66,0.54,0.52,0.74,0.84,0.7,0.64,1.0,1.36,1.18,0.87,0.75,0.75,0.78,0.81,0.89,0.93,0.92,0.86,0.98,0.83,0.73,0.77,0.59,0.61,0.88,0.75,0.85,0.68,0.7,0.91,0.56,0.87,0.73,0.93,0.73,0.69,0.64,1.13,0.78,0.87,1.04,0.63,0.81,0.83,1.11,1.13,0.99,0.7,0.8,0.8,0.8,0.8,0.74,0.76,0.74,0.54,0.74,0.7,0.82,0.8,0.51,0.54,0.57,0.6,0.53,0.65,0.65,0.55,0.53,0.47,0.61,0.63,0.61,0.76,0.65,0.63,0.7,0.57,0.62,0.62,0.64,0.82,0.61,1.07,0.66,0.48,0.76,0.68,0.73,0.56,0.44,0.9,0.44,0.56,0.49,0.56,0.6,0.6,0.9,0.56,0.65,0.49,0.89,0.49,0.56,0.66,0.89,0.6,0.82,0.68,0.68,0.63,0.84,0.56,0.73,0.72,0.56,0.61,0.61,1.06,0.63,0.74,0.63,0.69,0.58,0.58,0.74,0.57,0.61,0.61,0.61,0.53,0.7,0.91,0.72,0.79,0.62,0.58,0.61,0.71,0.82,0.79,0.89,0.6,0.7,1.06,0.6,0.7,0.66,0.92,1.05,1.06,0.66,0.47,0.47,0.42,0.92,0.75,0.67,0.79,0.9,0.74,0.55,0.65,0.65,0.79,0.65,0.74,0.65,0.85,0.85,1.04,1.05,0.78,1.02,0.71,0.63,0.68,0.61,0.63,0.81,0.66,0.66,1.14,0.74,0.63,0.68,0.78,0.9,0.64,0.99,0.55,0.64,0.67,0.78,0.77,0.75,0.57,0.87,0.61,0.61,0.66,0.56,0.87,0.57,0.77,0.66,0.62,0.67,0.73,0.59,0.72,0.79,0.59,0.78,0.86,0.75,0.61,0.56,0.73,0.74,0.62,0.74,0.74,0.56,0.74,0.56,0.68,0.57,0.58,0.61,0.61,0.68,0.57,0.6,0.6,0.79,0.57,0.91,0.57,0.61,0.56,0.7,0.8,0.52,0.6,0.6,0.51,0.44,0.44,0.43,0.66,0.76,0.66,1.02,0.59,0.74,0.74,0.57,0.5,0.57,0.58,0.53,0.57,0.6,0.63,0.48,0.7,0.47,0.56,0.52,0.56,0.62,0.59,0.79,0.53,0.64,0.52,0.54,0.54,0.6,0.74,1.36,0.57,0.57,0.93,0.7,0.8,0.61,0.62,0.55,0.96,0.72,0.72,0.49,0.49,0.6,0.61,0.6,0.63,0.57,0.64,0.58,0.55,0.53,0.53,0.65,1.36,0.62,0.63,0.62,0.63,0.62,0.69,0.63,0.58,0.67,0.57,0.5,0.67,0.84,0.54,0.46,0.61,0.5,0.68,0.81,0.57,0.81,0.64,0.7,0.79,0.66,0.56,0.6,0.66,0.57,0.66,0.58,0.52,0.53,0.52,0.67,0.65,0.67,0.48,0.53,0.54,0.49,0.49,0.54,0.56,0.48,0.56,0.6,0.59,0.47,1.05,0.54,0.54,1.17,0.62,0.61,0.62,0.67,0.67,0.53,0.62,0.57,0.67,0.67,0.7,0.54,0.49,0.47,0.51,0.61,0.66,0.57,0.61,0.45,0.46,0.51,0.48,0.46,0.57,0.44,0.54,0.44,0.53,0.59,1.62,0.6,0.55,0.72,0.68,0.68,0.49,0.67,0.52,0.47,0.6,0.62,0.5,0.5,0.65,0.56,0.6,0.68,0.57,0.65,0.53,0.51,0.73,0.47,0.48,0.72,0.73,0.55,0.55,0.61,0.55,1.06,0.43,0.46,0.5,0.5,0.52,0.57,0.42,0.53,0.42,0.55,0.54,0.54,0.62,0.53,0.54,0.53,0.55,0.55,0.92,0.91,0.46,0.6,0.59,0.61,0.6,0.6,0.65,0.53,0.65,0.59,0.5,0.5,0.56,0.56,0.52,0.68,0.54,0.6,0.56,0.53,1.18,0.74,0.81,0.52,0.52,0.51,0.44,0.94,0.66,0.57,0.7,0.71,0.7,0.86,0.55,0.47,0.68,0.71,0.58,0.76,0.71,0.58,0.73,0.45,0.54,0.6,0.74,0.64,0.64,0.53,0.49,0.64,0.49,0.74,0.77,0.55,0.77,0.86,0.86,0.47,0.51,0.39,0.39,0.83,0.47,0.77,0.63,0.72,0.62,0.83,0.66,0.66,0.7,0.66,0.66,0.55,0.55,1.07,0.73,0.73,0.71,0.73,0.78,0.67,0.82,0.54,0.6,0.44,0.53,0.54,0.54,0.83,0.84,0.82,0.64,0.57,0.57,0.54,0.58,0.65,0.79,0.58,0.57,0.5,0.55,0.49,0.65,0.78,0.55,0.5,0.64,0.65,0.79,0.56,0.68,0.58,0.57,0.65,0.57,0.58,0.58,0.77,0.58,0.77,0.49,0.69,0.69,0.69,0.59,0.59,0.59,0.71,0.54,0.59,0.52,0.57,0.6,0.62,0.64,0.52,0.67,0.61,0.64,0.72,0.89,0.56,0.72,0.89,0.64,0.8,0.87,0.9,0.59,0.8,0.73,0.73,0.65,0.59,0.65,0.73,0.72,0.72,0.6,0.72,0.54,0.76,0.52,0.64,0.6,0.64,0.79,0.99,0.62,0.76,0.76,0.76,0.62,0.68,0.69,0.54,0.67,0.62,0.58,0.71,0.61,0.85,0.62,0.69,0.69,0.85,0.86,0.58,0.48,0.6,0.61,0.87,0.87,0.65,0.63,0.62,0.52,0.52,0.5,0.49,0.63,0.71,0.62,0.82,0.71,0.63,0.58,0.55,0.5,0.49,0.51,0.49,0.48,0.48,0.48,0.43,0.62,0.63,0.63,0.48,0.53,0.72,0.82,0.84,0.55,0.54,0.55,0.84,0.84,0.7,0.68,0.55,0.55,0.48,0.58,0.58,0.84,0.75,0.44,0.44,0.61,0.53,0.53,0.54,0.55,0.56,0.6,0.56,0.52,0.54,0.56,0.55,0.58,0.53,0.59,0.47,0.65,0.59,0.56,0.77,0.83,0.67,0.64,0.83,0.81,0.62,0.58,0.62,0.64,0.78,0.77,0.64,1.34,0.55,0.77,0.62,0.62,0.59,0.57,0.76,0.59,0.7,0.69,0.64,0.63,0.57,0.6,0.72,0.83,0.83,0.62,0.89,0.58,0.58,0.58,0.58,0.86,0.73,0.58,0.58,0.51,0.51,0.51,0.59,0.77,0.59,0.49,0.66,0.69,0.76,0.76,0.63,0.6,0.59,0.86,0.49,0.5,0.49,0.52,0.81,0.52,0.78,0.63,0.54,0.63,0.66,0.6,0.54,0.85,0.49,0.76,0.64,0.64,0.71,0.59,0.66,0.6,0.6,0.6,0.53,0.58,0.72,0.55,0.48,0.65,0.62,0.59,0.54,0.6,0.68,0.69,0.63,0.44,0.88,0.68,0.74,0.6,0.76,0.76,0.58,0.64,0.65,0.85,0.65,0.82,0.62,0.81,0.87,0.49,0.66,0.52,0.76,0.65,0.53,0.66,0.68,0.53,0.76,0.87,1.16,0.67,0.72,0.75,0.71,0.67,0.67,1.1,0.98,0.88,0.56,0.62,0.67,0.68,0.74,0.62,0.62,0.7,0.5,0.66,0.73,0.81,0.81,0.46,0.86,0.6,0.7,0.46,0.5,0.46,0.7,0.44,0.57,0.51,0.8,0.51,0.59,0.6,0.58,0.54,0.79,0.58,0.54,0.54,0.69,0.55,0.85,0.85,0.85,0.94,0.85,0.87,0.62,0.62,0.62,0.75,0.48,0.56,0.69,0.81,0.69,0.83,0.77,0.77,0.46,0.76,0.82,0.51,0.47,0.72,0.73,0.64,0.78,0.62,0.64,0.49,0.4,0.56,0.64,0.4,0.46,0.56,0.4,0.59,0.6,0.62,0.54,0.68,0.48,0.68,0.75,0.61,0.61,0.59,0.58,0.58,0.69,0.45,0.42,0.7,0.63,0.63,1.15,0.55,0.58,0.46,0.72,0.6,0.6,0.87,0.55,0.82,0.75,0.57,0.53,0.43,0.53,0.54,0.56,0.6,0.54,0.57,0.64,0.64,0.68,0.63,0.56,0.57,0.54,0.37,1.17,1.17,0.59,0.75,0.67,0.49,0.75,0.45,0.45,0.61,0.56,0.4,0.61,0.74,0.8,0.66,0.44,0.53,0.62,0.52,0.62,0.61,0.53,0.59,0.47,0.54,0.53,0.58,0.59,0.69,0.58,1.33,0.66,0.59,0.55,0.82,0.6,0.6,0.6,0.6,0.52,0.56,0.56,0.46,0.43,0.51,0.52,0.66,0.45,0.45,0.45,0.54,0.54,0.54,0.51,0.54,0.53,0.53,0.56,0.39,0.39,0.52,0.57,0.51,0.46,0.46,0.52,0.44,0.44,0.59,0.5,0.65,0.56,0.54,0.65,0.48,0.53,0.62,0.5,1.18,0.5,0.37,1.17,1.03,1.17,0.45,0.51,0.52,0.46,0.62,0.51,0.62,0.62,0.45,0.49,0.49,0.5,0.42,0.58,0.58,0.68,0.53,0.59,0.58,0.48,0.48,0.48,0.65,0.65,0.52,0.62,0.72,0.51,0.51,0.82,1.1,0.62,0.9,0.94,0.93,1.01,0.93,0.44,0.73,0.94,0.9,0.78,0.84,0.78,0.77,0.46,0.45,0.46,0.58,0.84,0.67,0.7,0.7,0.71,0.58,0.63,0.93,0.62,0.54,0.85,0.74,0.77,0.77,0.65,0.54,0.47,0.68,0.73,0.52,0.75,0.49,0.68,0.52,0.75,0.74,0.73,0.76,0.73,0.78,0.76,0.58,0.69,0.63,0.5,0.58,0.6,0.8,0.68,0.61,0.58,0.53,0.67,0.67,0.65,0.57,0.65,0.55,0.47,0.52,0.79,0.54,0.75,0.88,0.75,0.88,0.52,0.68,0.62,0.68,0.57,0.61,0.64,0.55,0.6,0.78,0.58,0.76,0.56,0.58,0.54,0.59,0.7,0.81,0.59,0.63,0.58,0.63,0.53,0.53,0.54,0.69,0.55,0.63,0.66,0.55,0.72,0.7,0.77,0.67,0.65,0.6,0.72,0.72,0.97,0.83,0.63,0.58,0.83,0.43,0.97,0.6,0.78,0.64,0.65,0.66,0.67,0.6,0.69,0.66,0.68,0.61,0.62,0.59,0.68,0.64,0.63,0.78,0.63,0.76,0.56,0.57,0.81,0.64,0.61,0.51,0.58,0.7,0.53,0.54,0.66,0.6,0.6,0.68,0.56,0.6,0.56,0.52,0.52,0.52,0.54,0.54,0.54,0.82,0.71,0.54,0.59,0.57,0.93,0.65,0.51,0.67,0.48,0.64,0.78,0.6,0.67,0.6,0.6,0.6,0.5,0.62,0.8,0.84,0.85,0.66,0.78,0.54,0.82,0.56,0.75,0.82,0.58,0.76,0.75,0.71,0.66],\"yaxis\":\"y\",\"type\":\"scattergl\"}],                        {\"template\":{\"data\":{\"histogram2dcontour\":[{\"type\":\"histogram2dcontour\",\"colorbar\":{\"outlinewidth\":0,\"ticks\":\"\"},\"colorscale\":[[0.0,\"#0d0887\"],[0.1111111111111111,\"#46039f\"],[0.2222222222222222,\"#7201a8\"],[0.3333333333333333,\"#9c179e\"],[0.4444444444444444,\"#bd3786\"],[0.5555555555555556,\"#d8576b\"],[0.6666666666666666,\"#ed7953\"],[0.7777777777777778,\"#fb9f3a\"],[0.8888888888888888,\"#fdca26\"],[1.0,\"#f0f921\"]]}],\"choropleth\":[{\"type\":\"choropleth\",\"colorbar\":{\"outlinewidth\":0,\"ticks\":\"\"}}],\"histogram2d\":[{\"type\":\"histogram2d\",\"colorbar\":{\"outlinewidth\":0,\"ticks\":\"\"},\"colorscale\":[[0.0,\"#0d0887\"],[0.1111111111111111,\"#46039f\"],[0.2222222222222222,\"#7201a8\"],[0.3333333333333333,\"#9c179e\"],[0.4444444444444444,\"#bd3786\"],[0.5555555555555556,\"#d8576b\"],[0.6666666666666666,\"#ed7953\"],[0.7777777777777778,\"#fb9f3a\"],[0.8888888888888888,\"#fdca26\"],[1.0,\"#f0f921\"]]}],\"heatmap\":[{\"type\":\"heatmap\",\"colorbar\":{\"outlinewidth\":0,\"ticks\":\"\"},\"colorscale\":[[0.0,\"#0d0887\"],[0.1111111111111111,\"#46039f\"],[0.2222222222222222,\"#7201a8\"],[0.3333333333333333,\"#9c179e\"],[0.4444444444444444,\"#bd3786\"],[0.5555555555555556,\"#d8576b\"],[0.6666666666666666,\"#ed7953\"],[0.7777777777777778,\"#fb9f3a\"],[0.8888888888888888,\"#fdca26\"],[1.0,\"#f0f921\"]]}],\"heatmapgl\":[{\"type\":\"heatmapgl\",\"colorbar\":{\"outlinewidth\":0,\"ticks\":\"\"},\"colorscale\":[[0.0,\"#0d0887\"],[0.1111111111111111,\"#46039f\"],[0.2222222222222222,\"#7201a8\"],[0.3333333333333333,\"#9c179e\"],[0.4444444444444444,\"#bd3786\"],[0.5555555555555556,\"#d8576b\"],[0.6666666666666666,\"#ed7953\"],[0.7777777777777778,\"#fb9f3a\"],[0.8888888888888888,\"#fdca26\"],[1.0,\"#f0f921\"]]}],\"contourcarpet\":[{\"type\":\"contourcarpet\",\"colorbar\":{\"outlinewidth\":0,\"ticks\":\"\"}}],\"contour\":[{\"type\":\"contour\",\"colorbar\":{\"outlinewidth\":0,\"ticks\":\"\"},\"colorscale\":[[0.0,\"#0d0887\"],[0.1111111111111111,\"#46039f\"],[0.2222222222222222,\"#7201a8\"],[0.3333333333333333,\"#9c179e\"],[0.4444444444444444,\"#bd3786\"],[0.5555555555555556,\"#d8576b\"],[0.6666666666666666,\"#ed7953\"],[0.7777777777777778,\"#fb9f3a\"],[0.8888888888888888,\"#fdca26\"],[1.0,\"#f0f921\"]]}],\"surface\":[{\"type\":\"surface\",\"colorbar\":{\"outlinewidth\":0,\"ticks\":\"\"},\"colorscale\":[[0.0,\"#0d0887\"],[0.1111111111111111,\"#46039f\"],[0.2222222222222222,\"#7201a8\"],[0.3333333333333333,\"#9c179e\"],[0.4444444444444444,\"#bd3786\"],[0.5555555555555556,\"#d8576b\"],[0.6666666666666666,\"#ed7953\"],[0.7777777777777778,\"#fb9f3a\"],[0.8888888888888888,\"#fdca26\"],[1.0,\"#f0f921\"]]}],\"mesh3d\":[{\"type\":\"mesh3d\",\"colorbar\":{\"outlinewidth\":0,\"ticks\":\"\"}}],\"scatter\":[{\"fillpattern\":{\"fillmode\":\"overlay\",\"size\":10,\"solidity\":0.2},\"type\":\"scatter\"}],\"parcoords\":[{\"type\":\"parcoords\",\"line\":{\"colorbar\":{\"outlinewidth\":0,\"ticks\":\"\"}}}],\"scatterpolargl\":[{\"type\":\"scatterpolargl\",\"marker\":{\"colorbar\":{\"outlinewidth\":0,\"ticks\":\"\"}}}],\"bar\":[{\"error_x\":{\"color\":\"#2a3f5f\"},\"error_y\":{\"color\":\"#2a3f5f\"},\"marker\":{\"line\":{\"color\":\"#E5ECF6\",\"width\":0.5},\"pattern\":{\"fillmode\":\"overlay\",\"size\":10,\"solidity\":0.2}},\"type\":\"bar\"}],\"scattergeo\":[{\"type\":\"scattergeo\",\"marker\":{\"colorbar\":{\"outlinewidth\":0,\"ticks\":\"\"}}}],\"scatterpolar\":[{\"type\":\"scatterpolar\",\"marker\":{\"colorbar\":{\"outlinewidth\":0,\"ticks\":\"\"}}}],\"histogram\":[{\"marker\":{\"pattern\":{\"fillmode\":\"overlay\",\"size\":10,\"solidity\":0.2}},\"type\":\"histogram\"}],\"scattergl\":[{\"type\":\"scattergl\",\"marker\":{\"colorbar\":{\"outlinewidth\":0,\"ticks\":\"\"}}}],\"scatter3d\":[{\"type\":\"scatter3d\",\"line\":{\"colorbar\":{\"outlinewidth\":0,\"ticks\":\"\"}},\"marker\":{\"colorbar\":{\"outlinewidth\":0,\"ticks\":\"\"}}}],\"scattermapbox\":[{\"type\":\"scattermapbox\",\"marker\":{\"colorbar\":{\"outlinewidth\":0,\"ticks\":\"\"}}}],\"scatterternary\":[{\"type\":\"scatterternary\",\"marker\":{\"colorbar\":{\"outlinewidth\":0,\"ticks\":\"\"}}}],\"scattercarpet\":[{\"type\":\"scattercarpet\",\"marker\":{\"colorbar\":{\"outlinewidth\":0,\"ticks\":\"\"}}}],\"carpet\":[{\"aaxis\":{\"endlinecolor\":\"#2a3f5f\",\"gridcolor\":\"white\",\"linecolor\":\"white\",\"minorgridcolor\":\"white\",\"startlinecolor\":\"#2a3f5f\"},\"baxis\":{\"endlinecolor\":\"#2a3f5f\",\"gridcolor\":\"white\",\"linecolor\":\"white\",\"minorgridcolor\":\"white\",\"startlinecolor\":\"#2a3f5f\"},\"type\":\"carpet\"}],\"table\":[{\"cells\":{\"fill\":{\"color\":\"#EBF0F8\"},\"line\":{\"color\":\"white\"}},\"header\":{\"fill\":{\"color\":\"#C8D4E3\"},\"line\":{\"color\":\"white\"}},\"type\":\"table\"}],\"barpolar\":[{\"marker\":{\"line\":{\"color\":\"#E5ECF6\",\"width\":0.5},\"pattern\":{\"fillmode\":\"overlay\",\"size\":10,\"solidity\":0.2}},\"type\":\"barpolar\"}],\"pie\":[{\"automargin\":true,\"type\":\"pie\"}]},\"layout\":{\"autotypenumbers\":\"strict\",\"colorway\":[\"#636efa\",\"#EF553B\",\"#00cc96\",\"#ab63fa\",\"#FFA15A\",\"#19d3f3\",\"#FF6692\",\"#B6E880\",\"#FF97FF\",\"#FECB52\"],\"font\":{\"color\":\"#2a3f5f\"},\"hovermode\":\"closest\",\"hoverlabel\":{\"align\":\"left\"},\"paper_bgcolor\":\"white\",\"plot_bgcolor\":\"#E5ECF6\",\"polar\":{\"bgcolor\":\"#E5ECF6\",\"angularaxis\":{\"gridcolor\":\"white\",\"linecolor\":\"white\",\"ticks\":\"\"},\"radialaxis\":{\"gridcolor\":\"white\",\"linecolor\":\"white\",\"ticks\":\"\"}},\"ternary\":{\"bgcolor\":\"#E5ECF6\",\"aaxis\":{\"gridcolor\":\"white\",\"linecolor\":\"white\",\"ticks\":\"\"},\"baxis\":{\"gridcolor\":\"white\",\"linecolor\":\"white\",\"ticks\":\"\"},\"caxis\":{\"gridcolor\":\"white\",\"linecolor\":\"white\",\"ticks\":\"\"}},\"coloraxis\":{\"colorbar\":{\"outlinewidth\":0,\"ticks\":\"\"}},\"colorscale\":{\"sequential\":[[0.0,\"#0d0887\"],[0.1111111111111111,\"#46039f\"],[0.2222222222222222,\"#7201a8\"],[0.3333333333333333,\"#9c179e\"],[0.4444444444444444,\"#bd3786\"],[0.5555555555555556,\"#d8576b\"],[0.6666666666666666,\"#ed7953\"],[0.7777777777777778,\"#fb9f3a\"],[0.8888888888888888,\"#fdca26\"],[1.0,\"#f0f921\"]],\"sequentialminus\":[[0.0,\"#0d0887\"],[0.1111111111111111,\"#46039f\"],[0.2222222222222222,\"#7201a8\"],[0.3333333333333333,\"#9c179e\"],[0.4444444444444444,\"#bd3786\"],[0.5555555555555556,\"#d8576b\"],[0.6666666666666666,\"#ed7953\"],[0.7777777777777778,\"#fb9f3a\"],[0.8888888888888888,\"#fdca26\"],[1.0,\"#f0f921\"]],\"diverging\":[[0,\"#8e0152\"],[0.1,\"#c51b7d\"],[0.2,\"#de77ae\"],[0.3,\"#f1b6da\"],[0.4,\"#fde0ef\"],[0.5,\"#f7f7f7\"],[0.6,\"#e6f5d0\"],[0.7,\"#b8e186\"],[0.8,\"#7fbc41\"],[0.9,\"#4d9221\"],[1,\"#276419\"]]},\"xaxis\":{\"gridcolor\":\"white\",\"linecolor\":\"white\",\"ticks\":\"\",\"title\":{\"standoff\":15},\"zerolinecolor\":\"white\",\"automargin\":true,\"zerolinewidth\":2},\"yaxis\":{\"gridcolor\":\"white\",\"linecolor\":\"white\",\"ticks\":\"\",\"title\":{\"standoff\":15},\"zerolinecolor\":\"white\",\"automargin\":true,\"zerolinewidth\":2},\"scene\":{\"xaxis\":{\"backgroundcolor\":\"#E5ECF6\",\"gridcolor\":\"white\",\"linecolor\":\"white\",\"showbackground\":true,\"ticks\":\"\",\"zerolinecolor\":\"white\",\"gridwidth\":2},\"yaxis\":{\"backgroundcolor\":\"#E5ECF6\",\"gridcolor\":\"white\",\"linecolor\":\"white\",\"showbackground\":true,\"ticks\":\"\",\"zerolinecolor\":\"white\",\"gridwidth\":2},\"zaxis\":{\"backgroundcolor\":\"#E5ECF6\",\"gridcolor\":\"white\",\"linecolor\":\"white\",\"showbackground\":true,\"ticks\":\"\",\"zerolinecolor\":\"white\",\"gridwidth\":2}},\"shapedefaults\":{\"line\":{\"color\":\"#2a3f5f\"}},\"annotationdefaults\":{\"arrowcolor\":\"#2a3f5f\",\"arrowhead\":0,\"arrowwidth\":1},\"geo\":{\"bgcolor\":\"white\",\"landcolor\":\"#E5ECF6\",\"subunitcolor\":\"white\",\"showland\":true,\"showlakes\":true,\"lakecolor\":\"white\"},\"title\":{\"x\":0.05},\"mapbox\":{\"style\":\"light\"}}},\"xaxis\":{\"anchor\":\"y\",\"domain\":[0.0,1.0],\"title\":{\"text\":\"Qualidade do vinho\"}},\"yaxis\":{\"anchor\":\"x\",\"domain\":[0.0,1.0],\"title\":{\"text\":\"sulphates\"}},\"legend\":{\"tracegroupgap\":0},\"margin\":{\"t\":60},\"width\":500,\"title\":{\"text\":\"Correla\\u00e7\\u00e3o\"}},                        {\"responsive\": true}                    ).then(function(){\n",
              "                            \n",
              "var gd = document.getElementById('d75b0c88-25cf-4cba-a0d2-ce2758d659f7');\n",
              "var x = new MutationObserver(function (mutations, observer) {{\n",
              "        var display = window.getComputedStyle(gd).display;\n",
              "        if (!display || display === 'none') {{\n",
              "            console.log([gd, 'removed!']);\n",
              "            Plotly.purge(gd);\n",
              "            observer.disconnect();\n",
              "        }}\n",
              "}});\n",
              "\n",
              "// Listen for the removal of the full notebook cells\n",
              "var notebookContainer = gd.closest('#notebook-container');\n",
              "if (notebookContainer) {{\n",
              "    x.observe(notebookContainer, {childList: true});\n",
              "}}\n",
              "\n",
              "// Listen for the clearing of the current output cell\n",
              "var outputEl = gd.closest('.output');\n",
              "if (outputEl) {{\n",
              "    x.observe(outputEl, {childList: true});\n",
              "}}\n",
              "\n",
              "                        })                };                            </script>        </div>\n",
              "</body>\n",
              "</html>"
            ]
          },
          "metadata": {}
        },
        {
          "output_type": "display_data",
          "data": {
            "text/html": [
              "<html>\n",
              "<head><meta charset=\"utf-8\" /></head>\n",
              "<body>\n",
              "    <div>            <script src=\"https://cdnjs.cloudflare.com/ajax/libs/mathjax/2.7.5/MathJax.js?config=TeX-AMS-MML_SVG\"></script><script type=\"text/javascript\">if (window.MathJax && window.MathJax.Hub && window.MathJax.Hub.Config) {window.MathJax.Hub.Config({SVG: {font: \"STIX-Web\"}});}</script>                <script type=\"text/javascript\">window.PlotlyConfig = {MathJaxConfig: 'local'};</script>\n",
              "        <script src=\"https://cdn.plot.ly/plotly-2.18.2.min.js\"></script>                <div id=\"9afbfb15-1ab1-4dec-8935-6b6bddf0b9a9\" class=\"plotly-graph-div\" style=\"height:525px; width:500px;\"></div>            <script type=\"text/javascript\">                                    window.PLOTLYENV=window.PLOTLYENV || {};                                    if (document.getElementById(\"9afbfb15-1ab1-4dec-8935-6b6bddf0b9a9\")) {                    Plotly.newPlot(                        \"9afbfb15-1ab1-4dec-8935-6b6bddf0b9a9\",                        [{\"hovertemplate\":\"quality=%{x}<br>alcohol=%{y}<extra></extra>\",\"legendgroup\":\"\",\"marker\":{\"color\":\"#636efa\",\"symbol\":\"circle\",\"line\":{\"width\":2},\"size\":12},\"mode\":\"markers\",\"name\":\"\",\"showlegend\":false,\"x\":[5,5,5,6,5,5,5,7,7,5,5,5,5,5,5,5,7,5,4,6,6,5,5,5,6,5,5,5,5,6,5,6,5,6,5,6,6,7,4,5,5,4,6,5,5,4,5,5,5,5,5,6,6,5,6,5,5,5,5,6,5,5,7,5,5,5,5,5,5,6,6,5,5,4,5,5,5,6,5,4,5,5,5,5,6,5,6,5,5,5,5,6,5,5,4,6,5,5,5,6,6,6,6,5,5,5,5,5,6,5,5,5,5,6,5,6,6,6,6,6,5,6,5,5,5,5,5,5,7,5,5,5,5,6,6,5,5,5,5,5,5,5,6,5,6,5,5,5,6,6,6,4,5,5,5,5,5,5,5,6,5,4,6,5,5,5,5,4,6,5,4,6,6,6,5,5,5,6,5,5,5,5,5,5,6,5,5,5,5,5,5,6,5,5,5,5,5,6,7,4,7,5,5,5,6,7,7,5,5,7,6,6,6,5,6,5,5,5,5,5,6,5,5,6,4,6,6,5,6,5,7,6,6,5,6,6,6,6,6,6,5,6,6,7,7,6,5,5,6,6,6,6,5,5,6,5,5,5,5,7,5,4,5,5,5,7,4,8,6,6,6,6,5,5,5,6,6,6,8,7,6,7,5,7,5,5,6,6,7,5,7,5,6,6,6,5,5,5,5,5,6,6,5,5,5,6,5,6,6,6,6,6,6,5,5,6,5,6,7,6,7,5,5,6,6,6,7,5,6,5,6,6,6,5,7,7,6,5,6,7,6,6,6,6,6,5,7,6,6,6,6,6,5,5,6,6,5,7,7,6,5,6,5,5,7,6,7,5,5,7,5,6,6,5,6,7,6,7,6,6,6,6,6,6,5,6,6,6,6,7,8,6,5,5,5,7,5,6,6,5,5,6,6,6,5,6,6,7,6,4,6,5,5,7,5,5,6,5,6,5,7,7,5,7,5,7,6,6,5,6,7,5,6,5,6,5,6,6,6,5,8,6,7,7,7,6,5,5,6,6,6,6,6,7,5,8,5,5,7,3,6,5,5,5,6,5,6,6,6,5,5,6,6,5,6,5,5,6,5,6,5,8,5,5,6,5,5,6,7,6,6,7,7,6,6,8,6,5,8,6,6,7,7,7,7,7,7,6,6,7,5,6,6,7,7,5,6,3,6,5,6,5,5,5,5,5,5,6,6,5,6,5,5,6,6,6,5,6,7,5,5,6,5,6,6,5,6,6,6,6,6,6,6,5,5,5,6,5,6,6,5,5,5,6,6,5,6,6,6,6,6,6,5,4,6,6,4,5,5,6,5,5,5,7,7,6,7,5,8,7,5,6,5,5,5,5,6,6,6,6,4,6,5,6,6,6,7,6,6,6,5,5,6,5,6,5,5,6,5,5,5,5,5,6,5,5,5,5,6,5,6,5,6,4,5,5,5,5,7,6,5,5,5,5,5,7,5,4,7,6,5,5,5,6,5,5,5,7,6,4,6,5,6,6,5,5,6,6,5,6,5,5,5,5,6,5,6,5,5,5,5,6,5,5,5,5,5,5,5,5,3,5,5,5,5,6,6,6,5,6,6,6,6,4,4,5,5,5,6,6,5,5,5,5,5,6,5,5,5,5,5,5,5,5,4,5,6,5,5,6,5,5,5,5,5,5,5,6,5,5,6,5,5,5,5,6,6,5,6,6,5,5,5,5,6,6,6,5,5,5,5,5,6,5,6,6,5,5,6,5,6,5,5,6,6,5,6,6,5,5,6,5,5,5,5,5,5,6,6,5,6,5,6,5,6,5,5,7,6,6,5,5,7,6,6,7,7,7,5,6,5,6,5,4,6,5,6,6,5,5,5,7,5,5,5,5,7,5,8,6,4,6,3,4,5,5,7,7,7,5,7,5,6,5,6,5,5,6,5,5,5,5,5,6,6,7,6,7,7,6,5,6,5,5,5,5,6,6,6,6,6,5,4,7,7,7,4,6,6,5,5,6,6,5,6,5,6,7,6,5,5,5,6,5,6,6,7,6,7,3,5,7,7,7,7,5,5,6,6,6,6,6,6,7,6,6,5,6,6,6,5,6,6,6,5,7,6,4,5,7,5,5,6,5,5,6,6,4,7,5,7,7,7,7,7,7,7,7,7,7,7,7,7,7,6,5,6,6,7,5,6,5,5,6,6,6,7,5,6,5,6,6,7,5,7,5,5,5,7,5,6,5,6,6,5,6,7,5,5,6,5,5,6,5,5,6,7,7,6,6,7,7,7,7,5,7,7,7,7,5,7,6,5,6,6,6,7,6,6,5,6,6,5,6,7,6,6,5,6,7,7,7,5,6,6,7,7,5,7,6,5,6,6,7,6,6,6,5,6,6,5,5,5,7,6,6,7,5,7,7,6,8,6,6,6,6,7,7,7,5,7,5,6,6,5,7,6,5,5,7,6,7,6,6,6,5,7,6,7,7,8,6,6,7,6,5,6,5,7,5,6,6,6,6,6,5,6,7,5,6,6,7,6,6,6,6,6,6,6,5,8,6,6,6,4,7,6,6,5,6,6,5,7,7,7,6,6,6,5,6,6,6,6,6,5,6,6,7,6,6,7,6,5,6,6,5,7,7,6,5,7,6,7,5,5,5,5,7,6,6,6,6,6,6,6,6,4,7,5,6,6,5,6,5,5,6,5,6,5,4,6,5,7,5,6,6,6,6,6,6,6,7,8,5,7,7,7,5,7,7,6,5,6,6,6,6,6,6,6,6,6,6,6,6,6,5,5,5,7,5,6,5,5,4,6,4,6,6,4,4,5,5,6,5,6,5,5,5,6,6,6,5,5,5,5,5,5,6,6,6,5,4,5,4,6,6,6,6,6,8,6,6,5,5,6,6,4,6,6,7,6,6,6,6,5,5,6,5,5,5,5,6,6,4,6,5,5,6,6,3,6,6,6,5,5,5,5,4,5,5,5,6,5,6,6,6,6,6,6,6,5,6,5,7,6,6,6,6,5,6,6,5,6,5,5,6,5,5,5,6,6,6,6,6,5,6,5,5,5,5,5,6,5,5,5,5,5,6,5,6,5,5,6,4,6,5,5,6,6,4,5,6,5,5,3,5,5,6,6,6,6,5,5,5,5,5,5,5,5,5,6,5,5,5,5,6,5,5,7,6,5,5,6,8,6,7,6,6,7,6,6,6,6,5,5,5,5,7,5,5,5,5,6,4,6,6,6,5,5,5,5,6,6,7,6,6,5,5,5,6,7,6,5,5,6,6,5,5,5,8,7,7,7,5,6,6,6,5,5,7,6,4,6,6,5,5,7,4,7,3,5,5,6,5,5,7,5,7,3,5,4,5,4,5,4,5,5,5,5,6,6,5,5,5,7,6,5,6,6,6,5,5,5,6,6,3,6,6,6,5,6,5,6,6,6,6,5,6,5,5,6,4,5,5,6,5,6,6,6,6,6,5,6,5,7,6,6,6,5,5,6,7,6,6,7,6,5,5,5,8,5,5,6,5,6,7,5,6,5,5,5,5,5,5,5,6,6,5,5,6,6,6,5,6,6,6,6,6,6,5,6,5,5,5,7,6,6,6,6,5,6,6,6,6,5,6,6,5,6],\"xaxis\":\"x\",\"y\":[9.4,9.8,9.8,9.8,9.4,9.4,9.4,10.0,9.5,10.5,9.2,10.5,9.9,9.1,9.2,9.2,10.5,9.3,9.0,9.2,9.4,9.7,9.5,9.4,9.7,9.3,9.5,9.5,9.4,9.8,10.1,10.6,9.8,9.4,9.2,9.6,10.8,9.7,9.8,10.5,10.5,9.3,10.5,10.3,9.5,13.1,9.2,9.5,9.2,9.2,9.2,9.4,9.4,9.4,10.2,9.5,9.6,9.4,10.0,9.4,9.2,9.3,9.5,9.8,10.9,10.9,9.6,10.7,10.7,10.5,9.5,9.5,9.5,9.2,9.6,10.5,10.5,10.7,10.1,9.1,9.2,9.4,9.1,9.4,10.3,10.1,9.9,9.6,9.5,9.0,9.5,9.9,9.8,9.6,10.5,12.9,10.7,9.2,9.8,9.0,10.2,10.4,9.0,9.2,9.4,9.2,9.3,9.3,9.6,9.3,9.5,9.8,9.8,9.7,9.5,10.5,10.0,9.4,10.9,9.2,9.0,10.9,9.2,9.5,9.5,9.4,10.9,10.9,10.5,9.4,9.4,13.0,13.0,9.8,9.9,9.6,9.5,9.2,9.5,9.5,9.6,9.5,14.0,9.4,14.0,9.4,10.0,9.3,10.2,10.5,10.3,9.4,10.1,10.1,10.5,10.5,10.5,10.5,9.3,9.3,9.6,9.2,10.0,9.4,9.4,9.5,10.2,9.0,10.4,9.5,9.1,9.2,9.2,11.5,9.5,9.5,9.5,10.5,9.6,9.5,9.5,9.3,9.3,9.3,9.3,9.7,9.2,9.7,9.5,9.5,9.4,9.8,9.5,9.7,9.7,9.4,10.2,10.1,13.0,11.4,10.3,9.3,9.5,9.2,9.2,10.8,10.8,9.3,9.4,10.5,12.4,10.0,10.2,10.1,9.8,10.5,11.0,9.1,9.7,9.5,9.4,9.4,9.5,10.0,10.4,10.5,9.5,9.8,10.5,11.0,12.2,9.9,9.6,11.0,9.0,9.0,9.0,9.2,9.0,9.0,9.3,10.9,9.8,9.2,9.2,9.9,9.5,9.3,9.8,9.9,10.0,9.9,10.5,9.5,9.9,9.3,9.2,9.2,9.4,10.5,9.3,9.4,10.0,9.3,10.9,10.2,9.8,12.8,9.4,10.1,10.7,10.1,10.1,9.4,9.4,10.7,9.4,10.1,12.6,10.5,9.3,9.9,9.1,10.5,9.8,9.8,10.3,10.3,10.6,9.2,10.6,10.5,10.3,10.1,9.5,9.5,9.9,9.6,9.7,9.6,10.7,10.1,10.0,9.5,9.2,9.3,9.4,9.5,9.5,9.5,9.3,9.4,9.5,9.4,11.0,11.0,10.1,10.4,11.5,10.4,11.5,9.7,9.3,9.5,9.2,9.2,11.5,11.5,9.7,9.5,12.5,12.5,9.4,11.0,11.7,12.2,12.5,10.3,11.5,9.8,9.2,11.3,9.8,9.8,10.7,9.9,12.3,12.0,10.0,9.4,9.9,9.4,9.3,13.0,11.9,12.8,11.0,11.7,10.4,9.8,9.4,9.9,10.0,10.2,10.0,11.8,10.0,9.0,9.4,12.0,9.9,8.7,10.6,9.2,10.8,11.8,11.0,12.0,13.3,10.8,9.4,10.0,9.4,9.4,9.2,9.7,9.2,9.6,9.2,10.0,12.9,10.0,9.5,9.1,9.9,13.0,9.9,11.0,11.0,9.4,9.9,10.8,10.5,10.5,9.1,10.1,10.8,10.8,11.3,9.6,9.5,9.5,9.3,11.7,9.5,9.3,11.7,10.5,10.4,9.9,11.8,12.3,10.9,11.0,10.9,12.3,11.4,10.6,9.3,10.4,11.0,9.2,12.8,9.5,9.9,9.5,10.2,11.2,9.9,9.3,9.8,11.3,11.2,11.6,12.5,10.1,10.5,11.2,10.2,10.8,10.8,9.1,10.0,11.2,11.1,13.4,10.3,9.6,11.2,9.0,11.3,9.3,11.8,9.0,9.2,9.7,11.5,14.0,9.2,9.8,10.6,11.4,10.4,10.6,9.4,10.2,9.7,11.0,10.2,10.1,9.2,11.7,9.4,9.4,13.4,10.0,10.0,10.0,10.8,10.2,10.6,13.3,13.4,11.6,12.1,11.0,9.0,11.1,11.0,11.6,9.0,12.0,12.0,10.9,10.8,12.5,10.8,9.5,10.2,11.4,9.5,10.2,9.7,11.8,11.8,9.3,11.9,8.4,11.7,11.0,10.0,9.1,9.8,9.4,9.5,9.9,11.0,11.4,8.7,9.4,10.3,10.3,10.3,12.8,10.0,10.3,9.4,10.7,12.0,11.2,9.6,11.0,9.9,11.0,8.4,9.1,9.5,10.7,10.4,9.4,9.5,10.0,10.0,11.5,11.1,11.1,11.7,11.1,11.7,12.7,11.4,9.2,9.2,10.1,12.7,11.4,9.0,9.0,10.7,11.7,11.0,11.7,10.4,9.6,10.0,10.2,10.0,9.5,9.8,9.8,9.6,9.6,9.2,9.9,10.7,9.6,10.6,9.3,14.0,10.5,9.7,11.5,9.7,9.0,9.5,9.3,9.3,10.0,9.8,9.3,10.0,9.0,9.3,9.0,9.1,9.2,12.2,10.5,10.4,12.7,9.2,9.4,10.0,9.8,10.2,9.7,9.7,9.8,10.2,9.3,9.4,9.4,9.5,12.1,10.2,10.2,9.1,9.1,9.3,9.3,9.3,9.5,10.5,11.3,9.5,9.7,9.4,9.4,10.2,10.3,9.4,9.5,9.4,9.5,9.4,10.1,10.1,11.0,11.2,11.3,9.6,11.2,14.9,12.0,9.5,9.4,9.6,10.5,9.6,11.0,9.6,9.0,9.6,10.2,10.2,9.7,9.5,9.2,11.0,9.2,10.0,9.5,9.5,9.5,9.3,10.2,9.3,9.9,10.0,9.6,9.0,10.2,9.8,11.3,9.4,11.3,9.1,9.7,9.4,9.4,10.7,9.8,9.0,9.4,9.4,12.8,9.5,9.5,9.7,10.8,10.1,9.5,9.4,9.6,9.7,9.9,10.0,10.5,11.6,10.0,10.1,9.5,9.4,9.4,9.8,9.2,9.4,10.0,9.6,9.5,9.6,9.2,10.0,9.5,11.2,10.4,11.1,9.5,9.5,12.7,9.6,11.5,9.6,9.5,9.3,9.5,9.5,9.3,9.2,9.3,11.5,9.5,9.2,10.0,9.5,9.5,9.0,9.4,9.6,9.5,9.5,9.5,9.4,9.5,9.1,10.7,11.2,9.8,9.8,9.2,9.7,9.6,10.0,9.6,9.5,9.5,9.4,9.5,9.7,9.6,9.7,9.4,9.4,9.5,9.5,10.0,10.3,10.3,10.5,9.8,9.4,9.8,10.0,9.8,9.8,9.5,9.5,10.1,10.1,9.3,9.7,9.6,9.7,10.8,12.5,10.2,9.6,10.8,10.7,10.7,9.4,10.0,12.9,9.6,9.9,12.8,12.5,12.8,9.2,10.3,10.5,10.9,10.8,11.4,11.3,10.8,10.5,11.9,9.4,9.6,9.7,14.0,9.8,9.8,10.3,10.7,11.0,10.7,12.7,11.1,10.9,11.1,9.9,9.9,9.4,9.3,11.7,11.7,11.2,10.0,12.1,10.3,10.9,9.4,10.6,9.8,9.8,9.9,9.8,9.8,9.5,9.5,9.7,10.9,10.9,11.7,10.9,11.3,10.6,11.2,9.5,11.5,10.4,9.7,9.5,9.7,11.3,11.2,11.2,10.9,11.8,10.6,10.0,11.1,11.8,11.8,10.9,11.8,10.0,9.5,9.9,11.4,12.0,9.5,10.0,10.5,10.4,12.1,11.2,9.3,10.1,9.7,9.3,9.7,9.8,10.7,12.5,10.7,12.5,11.0,11.8,10.8,10.8,10.8,10.8,9.5,11.0,11.5,10.8,11.5,13.2,10.9,12.2,12.2,11.5,11.9,11.0,10.1,11.0,11.8,10.5,11.0,11.8,10.1,11.2,11.0,10.2,9.2,11.2,12.0,10.5,9.8,9.5,9.8,10.5,11.8,11.8,10.4,12.9,11.4,12.4,12.5,10.0,9.7,12.1,11.1,12.0,12.4,11.9,11.9,11.9,12.4,11.2,12.1,12.2,10.4,11.3,11.1,11.3,10.0,11.1,9.3,9.5,11.2,11.1,11.0,11.9,9.2,12.2,10.2,10.9,10.9,11.6,10.7,12.1,9.4,9.4,9.1,11.3,10.4,10.5,10.0,12.9,10.5,10.4,11.3,11.4,9.4,9.4,10.9,9.4,9.4,9.4,9.4,9.4,10.1,12.8,12.8,9.1,12.9,11.5,10.6,11.7,12.8,10.3,12.8,11.7,11.7,12.0,10.9,12.3,10.4,10.0,10.0,11.2,11.4,12.6,12.7,12.7,10.4,11.9,11.9,10.5,12.3,10.5,10.4,12.6,11.6,10.1,10.5,11.5,11.0,9.6,10.4,9.7,10.6,12.5,9.2,12.6,11.1,10.2,9.8,11.1,10.9,12.2,11.4,10.7,10.4,10.9,10.8,10.4,9.2,12.9,12.7,9.1,9.1,12.1,9.1,11.6,12.1,9.9,12.5,11.4,11.8,11.8,10.2,12.5,10.9,10.9,10.8,11.1,9.2,9.5,10.7,9.2,10.2,11.4,11.0,11.0,12.3,11.8,12.3,9.5,12.0,9.5,9.6,11.6,11.2,9.9,9.9,11.8,11.4,11.5,12.0,10.8,10.5,10.8,9.4,12.5,9.4,12.4,12.0,11.2,12.0,12.4,12.8,12.3,11.7,9.5,10.8,10.0,12.3,11.0,9.5,13.6,11.3,11.3,11.3,13.3,12.9,13.1,12.3,12.3,11.2,11.5,11.3,13.5,11.5,10.0,10.5,10.4,9.5,13.6,11.2,11.8,11.9,11.4,11.4,9.1,9.5,9.5,11.0,11.4,10.0,10.1,10.4,9.8,11.8,11.6,12.0,12.8,12.5,9.8,11.1,11.4,9.8,11.8,12.9,10.6,10.8,11.1,10.2,11.8,10.0,10.0,9.4,10.2,12.4,12.0,11.5,10.5,10.8,12.3,9.5,9.5,11.5,11.2,12.7,11.4,11.0,11.0,11.4,10.5,9.3,10.9,11.9,12.2,11.9,10.9,9.6,12.5,10.8,12.4,10.8,9.5,9.5,9.5,9.8,10.9,9.5,9.8,11.2,11.7,9.4,11.0,11.0,11.0,10.0,11.0,11.2,10.4,9.3,10.4,10.5,10.4,11.3,9.5,12.0,10.6,10.9,11.5,11.5,9.6,12.0,10.3,9.4,9.2,9.6,13.6,9.5,11.8,10.8,9.5,9.3,12.8,11.5,9.4,12.8,9.6,11.8,9.3,9.8,12.2,9.5,10.3,10.5,10.0,10.5,11.1,10.9,10.9,9.8,9.8,9.5,10.9,11.0,9.2,11.0,11.3,11.3,9.3,11.2,9.8,9.6,11.8,10.3,10.3,11.4,9.5,14.0,14.0,11.7,11.2,9.3,11.2,9.5,12.0,9.7,9.5,11.5,10.4,10.4,10.9,10.2,10.9,10.5,12.4,13.0,10.2,10.2,11.0,10.9,12.4,9.7,10.9,9.5,9.5,12.1,12.2,10.9,12.5,11.7,11.2,11.2,9.2,9.8,10.1,11.1,10.1,9.2,9.8,12.8,10.5,10.1,10.1,9.8,12.5,11.9,9.8,9.1,10.1,12.5,11.4,11.0,10.6,10.6,10.6,10.6,9.3,9.8,9.8,9.2,9.7,9.6,10.0,12.6,9.5,9.5,9.5,10.5,10.5,10.5,10.4,10.5,11.0,10.2,11.4,9.5,9.5,10.8,10.0,11.8,10.3,10.3,10.0,10.1,10.1,11.1,9.5,10.0333333333333,10.9,10.1,10.0333333333333,9.8,11.8,9.5,9.8,10.5,9.8,10.4,9.2,11.6,9.2,9.3,9.8,9.9,10.0,12.2,9.9,10.8,10.8,9.6,9.9,9.9,9.5,9.2,9.6,9.6,10.3,9.7,12.5,11.0,9.8,10.2,9.2,9.55,9.55,9.9,10.2,11.1,9.9,9.9,11.9,10.0,10.7,11.3,10.9,10.7,12.4,10.7,11.9,10.6,10.9,10.1,9.6,9.4,9.6,12.1,9.8,9.9,9.8,9.4,11.4,11.0,9.6,9.6,12.1,11.2,11.0,11.3,10.4,9.9,11.7,10.1,9.0,9.0,8.5,11.1,10.3,11.0666666666667,11.3,9.56666666666667,9.8,11.7,11.1,9.6,9.8,9.7,9.7,11.3,11.3,11.0,11.6,9.0,10.9,10.9,10.55,9.0,10.5,11.9,10.4,10.0,10.4,10.8,9.7,9.7,10.0,11.0,10.0,9.7,9.7,12.6,11.1,11.0,8.8,13.5666666666667,8.8,13.6,10.2,10.6,10.1,10.6,10.3,10.7,10.9,9.7,10.3,10.6,11.4,10.8,12.4,11.4,11.95,9.7,10.0,10.6,9.7,11.5,10.8,11.5,9.6,9.4,9.8,11.0,11.4,9.95,10.8,11.4,10.6,11.1,9.7,9.8,10.4,10.5,9.23333333333333,9.25,10.6,10.3,10.5,10.2,10.3,9.05,10.6,10.4,10.0,9.7,9.6,10.8,10.1,10.2,11.3,10.2,9.9,9.0,11.7,9.7,10.3,10.2,12.0,9.9,11.6,10.9,10.75,10.4,11.2,10.1,10.2,12.1,10.4,11.4,9.5,9.4,11.3,9.4,11.0,10.55,9.9,11.0,9.5,9.9,9.9,9.9,10.1,10.1,10.1,10.9,11.2,10.1,9.2,11.5,12.4,11.1,9.5,12.5,10.5,11.8,10.8,11.9,11.3,11.3,11.9,11.3,11.9,9.8,11.6,11.5,11.4,10.9,12.8,9.2,11.6,11.6,11.0,9.5,10.5,11.2,11.0,10.2,11.0],\"yaxis\":\"y\",\"type\":\"scattergl\"}],                        {\"template\":{\"data\":{\"histogram2dcontour\":[{\"type\":\"histogram2dcontour\",\"colorbar\":{\"outlinewidth\":0,\"ticks\":\"\"},\"colorscale\":[[0.0,\"#0d0887\"],[0.1111111111111111,\"#46039f\"],[0.2222222222222222,\"#7201a8\"],[0.3333333333333333,\"#9c179e\"],[0.4444444444444444,\"#bd3786\"],[0.5555555555555556,\"#d8576b\"],[0.6666666666666666,\"#ed7953\"],[0.7777777777777778,\"#fb9f3a\"],[0.8888888888888888,\"#fdca26\"],[1.0,\"#f0f921\"]]}],\"choropleth\":[{\"type\":\"choropleth\",\"colorbar\":{\"outlinewidth\":0,\"ticks\":\"\"}}],\"histogram2d\":[{\"type\":\"histogram2d\",\"colorbar\":{\"outlinewidth\":0,\"ticks\":\"\"},\"colorscale\":[[0.0,\"#0d0887\"],[0.1111111111111111,\"#46039f\"],[0.2222222222222222,\"#7201a8\"],[0.3333333333333333,\"#9c179e\"],[0.4444444444444444,\"#bd3786\"],[0.5555555555555556,\"#d8576b\"],[0.6666666666666666,\"#ed7953\"],[0.7777777777777778,\"#fb9f3a\"],[0.8888888888888888,\"#fdca26\"],[1.0,\"#f0f921\"]]}],\"heatmap\":[{\"type\":\"heatmap\",\"colorbar\":{\"outlinewidth\":0,\"ticks\":\"\"},\"colorscale\":[[0.0,\"#0d0887\"],[0.1111111111111111,\"#46039f\"],[0.2222222222222222,\"#7201a8\"],[0.3333333333333333,\"#9c179e\"],[0.4444444444444444,\"#bd3786\"],[0.5555555555555556,\"#d8576b\"],[0.6666666666666666,\"#ed7953\"],[0.7777777777777778,\"#fb9f3a\"],[0.8888888888888888,\"#fdca26\"],[1.0,\"#f0f921\"]]}],\"heatmapgl\":[{\"type\":\"heatmapgl\",\"colorbar\":{\"outlinewidth\":0,\"ticks\":\"\"},\"colorscale\":[[0.0,\"#0d0887\"],[0.1111111111111111,\"#46039f\"],[0.2222222222222222,\"#7201a8\"],[0.3333333333333333,\"#9c179e\"],[0.4444444444444444,\"#bd3786\"],[0.5555555555555556,\"#d8576b\"],[0.6666666666666666,\"#ed7953\"],[0.7777777777777778,\"#fb9f3a\"],[0.8888888888888888,\"#fdca26\"],[1.0,\"#f0f921\"]]}],\"contourcarpet\":[{\"type\":\"contourcarpet\",\"colorbar\":{\"outlinewidth\":0,\"ticks\":\"\"}}],\"contour\":[{\"type\":\"contour\",\"colorbar\":{\"outlinewidth\":0,\"ticks\":\"\"},\"colorscale\":[[0.0,\"#0d0887\"],[0.1111111111111111,\"#46039f\"],[0.2222222222222222,\"#7201a8\"],[0.3333333333333333,\"#9c179e\"],[0.4444444444444444,\"#bd3786\"],[0.5555555555555556,\"#d8576b\"],[0.6666666666666666,\"#ed7953\"],[0.7777777777777778,\"#fb9f3a\"],[0.8888888888888888,\"#fdca26\"],[1.0,\"#f0f921\"]]}],\"surface\":[{\"type\":\"surface\",\"colorbar\":{\"outlinewidth\":0,\"ticks\":\"\"},\"colorscale\":[[0.0,\"#0d0887\"],[0.1111111111111111,\"#46039f\"],[0.2222222222222222,\"#7201a8\"],[0.3333333333333333,\"#9c179e\"],[0.4444444444444444,\"#bd3786\"],[0.5555555555555556,\"#d8576b\"],[0.6666666666666666,\"#ed7953\"],[0.7777777777777778,\"#fb9f3a\"],[0.8888888888888888,\"#fdca26\"],[1.0,\"#f0f921\"]]}],\"mesh3d\":[{\"type\":\"mesh3d\",\"colorbar\":{\"outlinewidth\":0,\"ticks\":\"\"}}],\"scatter\":[{\"fillpattern\":{\"fillmode\":\"overlay\",\"size\":10,\"solidity\":0.2},\"type\":\"scatter\"}],\"parcoords\":[{\"type\":\"parcoords\",\"line\":{\"colorbar\":{\"outlinewidth\":0,\"ticks\":\"\"}}}],\"scatterpolargl\":[{\"type\":\"scatterpolargl\",\"marker\":{\"colorbar\":{\"outlinewidth\":0,\"ticks\":\"\"}}}],\"bar\":[{\"error_x\":{\"color\":\"#2a3f5f\"},\"error_y\":{\"color\":\"#2a3f5f\"},\"marker\":{\"line\":{\"color\":\"#E5ECF6\",\"width\":0.5},\"pattern\":{\"fillmode\":\"overlay\",\"size\":10,\"solidity\":0.2}},\"type\":\"bar\"}],\"scattergeo\":[{\"type\":\"scattergeo\",\"marker\":{\"colorbar\":{\"outlinewidth\":0,\"ticks\":\"\"}}}],\"scatterpolar\":[{\"type\":\"scatterpolar\",\"marker\":{\"colorbar\":{\"outlinewidth\":0,\"ticks\":\"\"}}}],\"histogram\":[{\"marker\":{\"pattern\":{\"fillmode\":\"overlay\",\"size\":10,\"solidity\":0.2}},\"type\":\"histogram\"}],\"scattergl\":[{\"type\":\"scattergl\",\"marker\":{\"colorbar\":{\"outlinewidth\":0,\"ticks\":\"\"}}}],\"scatter3d\":[{\"type\":\"scatter3d\",\"line\":{\"colorbar\":{\"outlinewidth\":0,\"ticks\":\"\"}},\"marker\":{\"colorbar\":{\"outlinewidth\":0,\"ticks\":\"\"}}}],\"scattermapbox\":[{\"type\":\"scattermapbox\",\"marker\":{\"colorbar\":{\"outlinewidth\":0,\"ticks\":\"\"}}}],\"scatterternary\":[{\"type\":\"scatterternary\",\"marker\":{\"colorbar\":{\"outlinewidth\":0,\"ticks\":\"\"}}}],\"scattercarpet\":[{\"type\":\"scattercarpet\",\"marker\":{\"colorbar\":{\"outlinewidth\":0,\"ticks\":\"\"}}}],\"carpet\":[{\"aaxis\":{\"endlinecolor\":\"#2a3f5f\",\"gridcolor\":\"white\",\"linecolor\":\"white\",\"minorgridcolor\":\"white\",\"startlinecolor\":\"#2a3f5f\"},\"baxis\":{\"endlinecolor\":\"#2a3f5f\",\"gridcolor\":\"white\",\"linecolor\":\"white\",\"minorgridcolor\":\"white\",\"startlinecolor\":\"#2a3f5f\"},\"type\":\"carpet\"}],\"table\":[{\"cells\":{\"fill\":{\"color\":\"#EBF0F8\"},\"line\":{\"color\":\"white\"}},\"header\":{\"fill\":{\"color\":\"#C8D4E3\"},\"line\":{\"color\":\"white\"}},\"type\":\"table\"}],\"barpolar\":[{\"marker\":{\"line\":{\"color\":\"#E5ECF6\",\"width\":0.5},\"pattern\":{\"fillmode\":\"overlay\",\"size\":10,\"solidity\":0.2}},\"type\":\"barpolar\"}],\"pie\":[{\"automargin\":true,\"type\":\"pie\"}]},\"layout\":{\"autotypenumbers\":\"strict\",\"colorway\":[\"#636efa\",\"#EF553B\",\"#00cc96\",\"#ab63fa\",\"#FFA15A\",\"#19d3f3\",\"#FF6692\",\"#B6E880\",\"#FF97FF\",\"#FECB52\"],\"font\":{\"color\":\"#2a3f5f\"},\"hovermode\":\"closest\",\"hoverlabel\":{\"align\":\"left\"},\"paper_bgcolor\":\"white\",\"plot_bgcolor\":\"#E5ECF6\",\"polar\":{\"bgcolor\":\"#E5ECF6\",\"angularaxis\":{\"gridcolor\":\"white\",\"linecolor\":\"white\",\"ticks\":\"\"},\"radialaxis\":{\"gridcolor\":\"white\",\"linecolor\":\"white\",\"ticks\":\"\"}},\"ternary\":{\"bgcolor\":\"#E5ECF6\",\"aaxis\":{\"gridcolor\":\"white\",\"linecolor\":\"white\",\"ticks\":\"\"},\"baxis\":{\"gridcolor\":\"white\",\"linecolor\":\"white\",\"ticks\":\"\"},\"caxis\":{\"gridcolor\":\"white\",\"linecolor\":\"white\",\"ticks\":\"\"}},\"coloraxis\":{\"colorbar\":{\"outlinewidth\":0,\"ticks\":\"\"}},\"colorscale\":{\"sequential\":[[0.0,\"#0d0887\"],[0.1111111111111111,\"#46039f\"],[0.2222222222222222,\"#7201a8\"],[0.3333333333333333,\"#9c179e\"],[0.4444444444444444,\"#bd3786\"],[0.5555555555555556,\"#d8576b\"],[0.6666666666666666,\"#ed7953\"],[0.7777777777777778,\"#fb9f3a\"],[0.8888888888888888,\"#fdca26\"],[1.0,\"#f0f921\"]],\"sequentialminus\":[[0.0,\"#0d0887\"],[0.1111111111111111,\"#46039f\"],[0.2222222222222222,\"#7201a8\"],[0.3333333333333333,\"#9c179e\"],[0.4444444444444444,\"#bd3786\"],[0.5555555555555556,\"#d8576b\"],[0.6666666666666666,\"#ed7953\"],[0.7777777777777778,\"#fb9f3a\"],[0.8888888888888888,\"#fdca26\"],[1.0,\"#f0f921\"]],\"diverging\":[[0,\"#8e0152\"],[0.1,\"#c51b7d\"],[0.2,\"#de77ae\"],[0.3,\"#f1b6da\"],[0.4,\"#fde0ef\"],[0.5,\"#f7f7f7\"],[0.6,\"#e6f5d0\"],[0.7,\"#b8e186\"],[0.8,\"#7fbc41\"],[0.9,\"#4d9221\"],[1,\"#276419\"]]},\"xaxis\":{\"gridcolor\":\"white\",\"linecolor\":\"white\",\"ticks\":\"\",\"title\":{\"standoff\":15},\"zerolinecolor\":\"white\",\"automargin\":true,\"zerolinewidth\":2},\"yaxis\":{\"gridcolor\":\"white\",\"linecolor\":\"white\",\"ticks\":\"\",\"title\":{\"standoff\":15},\"zerolinecolor\":\"white\",\"automargin\":true,\"zerolinewidth\":2},\"scene\":{\"xaxis\":{\"backgroundcolor\":\"#E5ECF6\",\"gridcolor\":\"white\",\"linecolor\":\"white\",\"showbackground\":true,\"ticks\":\"\",\"zerolinecolor\":\"white\",\"gridwidth\":2},\"yaxis\":{\"backgroundcolor\":\"#E5ECF6\",\"gridcolor\":\"white\",\"linecolor\":\"white\",\"showbackground\":true,\"ticks\":\"\",\"zerolinecolor\":\"white\",\"gridwidth\":2},\"zaxis\":{\"backgroundcolor\":\"#E5ECF6\",\"gridcolor\":\"white\",\"linecolor\":\"white\",\"showbackground\":true,\"ticks\":\"\",\"zerolinecolor\":\"white\",\"gridwidth\":2}},\"shapedefaults\":{\"line\":{\"color\":\"#2a3f5f\"}},\"annotationdefaults\":{\"arrowcolor\":\"#2a3f5f\",\"arrowhead\":0,\"arrowwidth\":1},\"geo\":{\"bgcolor\":\"white\",\"landcolor\":\"#E5ECF6\",\"subunitcolor\":\"white\",\"showland\":true,\"showlakes\":true,\"lakecolor\":\"white\"},\"title\":{\"x\":0.05},\"mapbox\":{\"style\":\"light\"}}},\"xaxis\":{\"anchor\":\"y\",\"domain\":[0.0,1.0],\"title\":{\"text\":\"Qualidade do vinho\"}},\"yaxis\":{\"anchor\":\"x\",\"domain\":[0.0,1.0],\"title\":{\"text\":\"alcohol\"}},\"legend\":{\"tracegroupgap\":0},\"margin\":{\"t\":60},\"width\":500,\"title\":{\"text\":\"Correla\\u00e7\\u00e3o\"}},                        {\"responsive\": true}                    ).then(function(){\n",
              "                            \n",
              "var gd = document.getElementById('9afbfb15-1ab1-4dec-8935-6b6bddf0b9a9');\n",
              "var x = new MutationObserver(function (mutations, observer) {{\n",
              "        var display = window.getComputedStyle(gd).display;\n",
              "        if (!display || display === 'none') {{\n",
              "            console.log([gd, 'removed!']);\n",
              "            Plotly.purge(gd);\n",
              "            observer.disconnect();\n",
              "        }}\n",
              "}});\n",
              "\n",
              "// Listen for the removal of the full notebook cells\n",
              "var notebookContainer = gd.closest('#notebook-container');\n",
              "if (notebookContainer) {{\n",
              "    x.observe(notebookContainer, {childList: true});\n",
              "}}\n",
              "\n",
              "// Listen for the clearing of the current output cell\n",
              "var outputEl = gd.closest('.output');\n",
              "if (outputEl) {{\n",
              "    x.observe(outputEl, {childList: true});\n",
              "}}\n",
              "\n",
              "                        })                };                            </script>        </div>\n",
              "</body>\n",
              "</html>"
            ]
          },
          "metadata": {}
        }
      ]
    },
    {
      "cell_type": "markdown",
      "source": [
        "Através da tabela, conclui-se que a coluna quality possui uma maior correlação com a coluna alcohol. Logo, o target1 receberá o alcohol para uma melhor visualização entre as relações de ambos:"
      ],
      "metadata": {
        "id": "S3AnJJ8asb6K"
      }
    },
    {
      "cell_type": "code",
      "source": [
        "target1 = tabela_redwine['alcohol']"
      ],
      "metadata": {
        "id": "pkiU_ZnbwZBW"
      },
      "execution_count": 11,
      "outputs": []
    },
    {
      "cell_type": "markdown",
      "source": [
        "Uma maneira comum de identificar outliers é através da visualização de um boxplot da coluna. Para criar um boxplot, foi utilizado o método boxplot do Pandas em conjunto com a biblioteca matplotlib. O boxplot exibe a distribuição dos dados e os pontos que estão a uma distância maior do que 1,5 vezes o intervalo interquartil (IQR) abaixo do primeiro quartil (Q1) ou acima do terceiro quartil (Q3) são considerados outliers."
      ],
      "metadata": {
        "id": "KQR8BHAWbX9U"
      }
    },
    {
      "cell_type": "code",
      "source": [
        "plt.boxplot(target, tabela_redwine)\n",
        "plt.title(r'Distribuição de notas')\n",
        "plt.xlabel('Nota')\n",
        "plt.ylabel('Quartil')\n",
        "plt.show()"
      ],
      "metadata": {
        "id": "ZSSlDrZNXLax",
        "outputId": "29706f7a-36de-4ec4-d640-aaa10a6a25da",
        "colab": {
          "base_uri": "https://localhost:8080/",
          "height": 632
        }
      },
      "execution_count": null,
      "outputs": [
        {
          "output_type": "error",
          "ename": "ValueError",
          "evalue": "ignored",
          "traceback": [
            "\u001b[0;31m---------------------------------------------------------------------------\u001b[0m",
            "\u001b[0;31mValueError\u001b[0m                                Traceback (most recent call last)",
            "\u001b[0;32m<ipython-input-28-b37eb363eca2>\u001b[0m in \u001b[0;36m<module>\u001b[0;34m\u001b[0m\n\u001b[0;32m----> 1\u001b[0;31m \u001b[0mplt\u001b[0m\u001b[0;34m.\u001b[0m\u001b[0mboxplot\u001b[0m\u001b[0;34m(\u001b[0m\u001b[0mtarget\u001b[0m\u001b[0;34m,\u001b[0m \u001b[0mtabela_redwine\u001b[0m\u001b[0;34m)\u001b[0m\u001b[0;34m\u001b[0m\u001b[0;34m\u001b[0m\u001b[0m\n\u001b[0m\u001b[1;32m      2\u001b[0m \u001b[0mplt\u001b[0m\u001b[0;34m.\u001b[0m\u001b[0mtitle\u001b[0m\u001b[0;34m(\u001b[0m\u001b[0;34mr'Distribuição de notas'\u001b[0m\u001b[0;34m)\u001b[0m\u001b[0;34m\u001b[0m\u001b[0;34m\u001b[0m\u001b[0m\n\u001b[1;32m      3\u001b[0m \u001b[0mplt\u001b[0m\u001b[0;34m.\u001b[0m\u001b[0mxlabel\u001b[0m\u001b[0;34m(\u001b[0m\u001b[0;34m'Nota'\u001b[0m\u001b[0;34m)\u001b[0m\u001b[0;34m\u001b[0m\u001b[0;34m\u001b[0m\u001b[0m\n\u001b[1;32m      4\u001b[0m \u001b[0mplt\u001b[0m\u001b[0;34m.\u001b[0m\u001b[0mylabel\u001b[0m\u001b[0;34m(\u001b[0m\u001b[0;34m'Quartil'\u001b[0m\u001b[0;34m)\u001b[0m\u001b[0;34m\u001b[0m\u001b[0;34m\u001b[0m\u001b[0m\n\u001b[1;32m      5\u001b[0m \u001b[0mplt\u001b[0m\u001b[0;34m.\u001b[0m\u001b[0mshow\u001b[0m\u001b[0;34m(\u001b[0m\u001b[0;34m)\u001b[0m\u001b[0;34m\u001b[0m\u001b[0;34m\u001b[0m\u001b[0m\n",
            "\u001b[0;32m/usr/local/lib/python3.9/dist-packages/matplotlib/pyplot.py\u001b[0m in \u001b[0;36mboxplot\u001b[0;34m(x, notch, sym, vert, whis, positions, widths, patch_artist, bootstrap, usermedians, conf_intervals, meanline, showmeans, showcaps, showbox, showfliers, boxprops, labels, flierprops, medianprops, meanprops, capprops, whiskerprops, manage_ticks, autorange, zorder, capwidths, data)\u001b[0m\n\u001b[1;32m   2481\u001b[0m         \u001b[0mwhiskerprops\u001b[0m\u001b[0;34m=\u001b[0m\u001b[0;32mNone\u001b[0m\u001b[0;34m,\u001b[0m \u001b[0mmanage_ticks\u001b[0m\u001b[0;34m=\u001b[0m\u001b[0;32mTrue\u001b[0m\u001b[0;34m,\u001b[0m \u001b[0mautorange\u001b[0m\u001b[0;34m=\u001b[0m\u001b[0;32mFalse\u001b[0m\u001b[0;34m,\u001b[0m\u001b[0;34m\u001b[0m\u001b[0;34m\u001b[0m\u001b[0m\n\u001b[1;32m   2482\u001b[0m         zorder=None, capwidths=None, *, data=None):\n\u001b[0;32m-> 2483\u001b[0;31m     return gca().boxplot(\n\u001b[0m\u001b[1;32m   2484\u001b[0m         \u001b[0mx\u001b[0m\u001b[0;34m,\u001b[0m \u001b[0mnotch\u001b[0m\u001b[0;34m=\u001b[0m\u001b[0mnotch\u001b[0m\u001b[0;34m,\u001b[0m \u001b[0msym\u001b[0m\u001b[0;34m=\u001b[0m\u001b[0msym\u001b[0m\u001b[0;34m,\u001b[0m \u001b[0mvert\u001b[0m\u001b[0;34m=\u001b[0m\u001b[0mvert\u001b[0m\u001b[0;34m,\u001b[0m \u001b[0mwhis\u001b[0m\u001b[0;34m=\u001b[0m\u001b[0mwhis\u001b[0m\u001b[0;34m,\u001b[0m\u001b[0;34m\u001b[0m\u001b[0;34m\u001b[0m\u001b[0m\n\u001b[1;32m   2485\u001b[0m         \u001b[0mpositions\u001b[0m\u001b[0;34m=\u001b[0m\u001b[0mpositions\u001b[0m\u001b[0;34m,\u001b[0m \u001b[0mwidths\u001b[0m\u001b[0;34m=\u001b[0m\u001b[0mwidths\u001b[0m\u001b[0;34m,\u001b[0m \u001b[0mpatch_artist\u001b[0m\u001b[0;34m=\u001b[0m\u001b[0mpatch_artist\u001b[0m\u001b[0;34m,\u001b[0m\u001b[0;34m\u001b[0m\u001b[0;34m\u001b[0m\u001b[0m\n",
            "\u001b[0;32m/usr/local/lib/python3.9/dist-packages/matplotlib/__init__.py\u001b[0m in \u001b[0;36minner\u001b[0;34m(ax, data, *args, **kwargs)\u001b[0m\n\u001b[1;32m   1440\u001b[0m     \u001b[0;32mdef\u001b[0m \u001b[0minner\u001b[0m\u001b[0;34m(\u001b[0m\u001b[0max\u001b[0m\u001b[0;34m,\u001b[0m \u001b[0;34m*\u001b[0m\u001b[0margs\u001b[0m\u001b[0;34m,\u001b[0m \u001b[0mdata\u001b[0m\u001b[0;34m=\u001b[0m\u001b[0;32mNone\u001b[0m\u001b[0;34m,\u001b[0m \u001b[0;34m**\u001b[0m\u001b[0mkwargs\u001b[0m\u001b[0;34m)\u001b[0m\u001b[0;34m:\u001b[0m\u001b[0;34m\u001b[0m\u001b[0;34m\u001b[0m\u001b[0m\n\u001b[1;32m   1441\u001b[0m         \u001b[0;32mif\u001b[0m \u001b[0mdata\u001b[0m \u001b[0;32mis\u001b[0m \u001b[0;32mNone\u001b[0m\u001b[0;34m:\u001b[0m\u001b[0;34m\u001b[0m\u001b[0;34m\u001b[0m\u001b[0m\n\u001b[0;32m-> 1442\u001b[0;31m             \u001b[0;32mreturn\u001b[0m \u001b[0mfunc\u001b[0m\u001b[0;34m(\u001b[0m\u001b[0max\u001b[0m\u001b[0;34m,\u001b[0m \u001b[0;34m*\u001b[0m\u001b[0mmap\u001b[0m\u001b[0;34m(\u001b[0m\u001b[0msanitize_sequence\u001b[0m\u001b[0;34m,\u001b[0m \u001b[0margs\u001b[0m\u001b[0;34m)\u001b[0m\u001b[0;34m,\u001b[0m \u001b[0;34m**\u001b[0m\u001b[0mkwargs\u001b[0m\u001b[0;34m)\u001b[0m\u001b[0;34m\u001b[0m\u001b[0;34m\u001b[0m\u001b[0m\n\u001b[0m\u001b[1;32m   1443\u001b[0m \u001b[0;34m\u001b[0m\u001b[0m\n\u001b[1;32m   1444\u001b[0m         \u001b[0mbound\u001b[0m \u001b[0;34m=\u001b[0m \u001b[0mnew_sig\u001b[0m\u001b[0;34m.\u001b[0m\u001b[0mbind\u001b[0m\u001b[0;34m(\u001b[0m\u001b[0max\u001b[0m\u001b[0;34m,\u001b[0m \u001b[0;34m*\u001b[0m\u001b[0margs\u001b[0m\u001b[0;34m,\u001b[0m \u001b[0;34m**\u001b[0m\u001b[0mkwargs\u001b[0m\u001b[0;34m)\u001b[0m\u001b[0;34m\u001b[0m\u001b[0;34m\u001b[0m\u001b[0m\n",
            "\u001b[0;32m/usr/local/lib/python3.9/dist-packages/matplotlib/axes/_axes.py\u001b[0m in \u001b[0;36mboxplot\u001b[0;34m(self, x, notch, sym, vert, whis, positions, widths, patch_artist, bootstrap, usermedians, conf_intervals, meanline, showmeans, showcaps, showbox, showfliers, boxprops, labels, flierprops, medianprops, meanprops, capprops, whiskerprops, manage_ticks, autorange, zorder, capwidths)\u001b[0m\n\u001b[1;32m   4008\u001b[0m                                 \u001b[0mstats\u001b[0m\u001b[0;34m[\u001b[0m\u001b[0;34m'cihi'\u001b[0m\u001b[0;34m]\u001b[0m \u001b[0;34m=\u001b[0m \u001b[0mci\u001b[0m\u001b[0;34m[\u001b[0m\u001b[0;36m1\u001b[0m\u001b[0;34m]\u001b[0m\u001b[0;34m\u001b[0m\u001b[0;34m\u001b[0m\u001b[0m\n\u001b[1;32m   4009\u001b[0m \u001b[0;34m\u001b[0m\u001b[0m\n\u001b[0;32m-> 4010\u001b[0;31m         artists = self.bxp(bxpstats, positions=positions, widths=widths,\n\u001b[0m\u001b[1;32m   4011\u001b[0m                            \u001b[0mvert\u001b[0m\u001b[0;34m=\u001b[0m\u001b[0mvert\u001b[0m\u001b[0;34m,\u001b[0m \u001b[0mpatch_artist\u001b[0m\u001b[0;34m=\u001b[0m\u001b[0mpatch_artist\u001b[0m\u001b[0;34m,\u001b[0m\u001b[0;34m\u001b[0m\u001b[0;34m\u001b[0m\u001b[0m\n\u001b[1;32m   4012\u001b[0m                            \u001b[0mshownotches\u001b[0m\u001b[0;34m=\u001b[0m\u001b[0mnotch\u001b[0m\u001b[0;34m,\u001b[0m \u001b[0mshowmeans\u001b[0m\u001b[0;34m=\u001b[0m\u001b[0mshowmeans\u001b[0m\u001b[0;34m,\u001b[0m\u001b[0;34m\u001b[0m\u001b[0;34m\u001b[0m\u001b[0m\n",
            "\u001b[0;32m/usr/local/lib/python3.9/dist-packages/matplotlib/axes/_axes.py\u001b[0m in \u001b[0;36mbxp\u001b[0;34m(self, bxpstats, positions, widths, vert, patch_artist, shownotches, showmeans, showcaps, showbox, showfliers, boxprops, whiskerprops, flierprops, medianprops, capprops, meanprops, meanline, manage_ticks, zorder, capwidths)\u001b[0m\n\u001b[1;32m   4227\u001b[0m             \u001b[0mmed_y\u001b[0m \u001b[0;34m=\u001b[0m \u001b[0;34m[\u001b[0m\u001b[0mstats\u001b[0m\u001b[0;34m[\u001b[0m\u001b[0;34m'med'\u001b[0m\u001b[0;34m]\u001b[0m\u001b[0;34m,\u001b[0m \u001b[0mstats\u001b[0m\u001b[0;34m[\u001b[0m\u001b[0;34m'med'\u001b[0m\u001b[0;34m]\u001b[0m\u001b[0;34m]\u001b[0m\u001b[0;34m\u001b[0m\u001b[0;34m\u001b[0m\u001b[0m\n\u001b[1;32m   4228\u001b[0m             \u001b[0;31m# notched boxes\u001b[0m\u001b[0;34m\u001b[0m\u001b[0;34m\u001b[0m\u001b[0m\n\u001b[0;32m-> 4229\u001b[0;31m             \u001b[0;32mif\u001b[0m \u001b[0mshownotches\u001b[0m\u001b[0;34m:\u001b[0m\u001b[0;34m\u001b[0m\u001b[0;34m\u001b[0m\u001b[0m\n\u001b[0m\u001b[1;32m   4230\u001b[0m                 \u001b[0mnotch_left\u001b[0m \u001b[0;34m=\u001b[0m \u001b[0mpos\u001b[0m \u001b[0;34m-\u001b[0m \u001b[0mwidth\u001b[0m \u001b[0;34m*\u001b[0m \u001b[0;36m0.25\u001b[0m\u001b[0;34m\u001b[0m\u001b[0;34m\u001b[0m\u001b[0m\n\u001b[1;32m   4231\u001b[0m                 \u001b[0mnotch_right\u001b[0m \u001b[0;34m=\u001b[0m \u001b[0mpos\u001b[0m \u001b[0;34m+\u001b[0m \u001b[0mwidth\u001b[0m \u001b[0;34m*\u001b[0m \u001b[0;36m0.25\u001b[0m\u001b[0;34m\u001b[0m\u001b[0;34m\u001b[0m\u001b[0m\n",
            "\u001b[0;32m/usr/local/lib/python3.9/dist-packages/pandas/core/generic.py\u001b[0m in \u001b[0;36m__nonzero__\u001b[0;34m(self)\u001b[0m\n\u001b[1;32m   1525\u001b[0m     \u001b[0;34m@\u001b[0m\u001b[0mfinal\u001b[0m\u001b[0;34m\u001b[0m\u001b[0;34m\u001b[0m\u001b[0m\n\u001b[1;32m   1526\u001b[0m     \u001b[0;32mdef\u001b[0m \u001b[0m__nonzero__\u001b[0m\u001b[0;34m(\u001b[0m\u001b[0mself\u001b[0m\u001b[0;34m)\u001b[0m\u001b[0;34m:\u001b[0m\u001b[0;34m\u001b[0m\u001b[0;34m\u001b[0m\u001b[0m\n\u001b[0;32m-> 1527\u001b[0;31m         raise ValueError(\n\u001b[0m\u001b[1;32m   1528\u001b[0m             \u001b[0;34mf\"The truth value of a {type(self).__name__} is ambiguous. \"\u001b[0m\u001b[0;34m\u001b[0m\u001b[0;34m\u001b[0m\u001b[0m\n\u001b[1;32m   1529\u001b[0m             \u001b[0;34m\"Use a.empty, a.bool(), a.item(), a.any() or a.all().\"\u001b[0m\u001b[0;34m\u001b[0m\u001b[0;34m\u001b[0m\u001b[0m\n",
            "\u001b[0;31mValueError\u001b[0m: The truth value of a DataFrame is ambiguous. Use a.empty, a.bool(), a.item(), a.any() or a.all()."
          ]
        },
        {
          "output_type": "display_data",
          "data": {
            "text/plain": [
              "<Figure size 432x288 with 1 Axes>"
            ],
            "image/png": "[encoded data removed]"
          },
          "metadata": {
            "needs_background": "light"
          }
        }
      ]
    }
  ]
}